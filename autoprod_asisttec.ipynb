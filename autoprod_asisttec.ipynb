{
 "cells": [
  {
   "cell_type": "code",
   "outputs": [],
   "source": [
    "##Borrar datos del entorno\n",
    "rm(list=ls())"
   ],
   "metadata": {
    "collapsed": false,
    "ExecuteTime": {
     "end_time": "2024-05-10T17:39:25.606229Z",
     "start_time": "2024-05-10T17:39:25.581171Z"
    }
   },
   "id": "849c83c82a7cb245",
   "execution_count": 1
  },
  {
   "cell_type": "code",
   "outputs": [],
   "source": [
    "##Crear folders de almacenamiento\n",
    "dir.create(\"microdatos\", showWarnings = F)"
   ],
   "metadata": {
    "collapsed": false,
    "ExecuteTime": {
     "end_time": "2024-05-10T17:39:25.639990Z",
     "start_time": "2024-05-10T17:39:25.610532Z"
    }
   },
   "id": "585f8f0bdffef321",
   "execution_count": 2
  },
  {
   "cell_type": "code",
   "outputs": [],
   "source": [
    "if(!require('pacman')) install.packages('pacman')\n",
    "pacman::p_load(tidyverse,srvyr,googledrive,janitor,survey,\n",
    "               sf,httr,jsonlite,showtext)\n",
    "\n",
    "#Fuente para los gráficos\n",
    "font_add_google(\"Montserrat\", \"pop\")\n",
    "showtext_auto()"
   ],
   "metadata": {
    "collapsed": false,
    "ExecuteTime": {
     "end_time": "2024-05-10T19:07:46.708937Z",
     "start_time": "2024-05-10T19:07:44.668685Z"
    }
   },
   "id": "a884f81982a50afa",
   "execution_count": 41
  },
  {
   "cell_type": "code",
   "outputs": [],
   "source": [
    "# Función para descargar y descomprimir un archivo con timeout\n",
    "download_and_unzip <- function(url, destination=\"microdatos\") {\n",
    "  tryCatch({\n",
    "    # Descargar el archivo con timeout\n",
    "    download.file(url, destfile = paste0(destination, \"/\", basename(url)), mode = \"wb\", timeout = 10000)\n",
    "\n",
    "    # Descomprimir el archivo\n",
    "    unzip(paste0(destination, \"/\", basename(url)), exdir = destination)\n",
    "\n",
    "    # Eliminar el archivo comprimido después de descomprimirlo\n",
    "    unlink(paste0(destination, \"/\", basename(url)))\n",
    "\n",
    "    message(paste(\"Descarga y descompresión exitosas para\", basename(url)))\n",
    "  }, error = function(e) {\n",
    "    warning(paste(\"Error al descargar o descomprimir\", basename(url), \":\", conditionMessage(e)))\n",
    "  })\n",
    "}"
   ],
   "metadata": {
    "collapsed": false,
    "ExecuteTime": {
     "end_time": "2024-05-10T17:39:29.564488Z",
     "start_time": "2024-05-10T17:39:29.552933Z"
    }
   },
   "id": "807de06ada048e0c",
   "execution_count": 4
  },
  {
   "cell_type": "code",
   "outputs": [],
   "source": [
    "crea_grafbarra <- function(data, group_var) {\n",
    "  fill_color <- \"#235b4e\"\n",
    "\n",
    "  # Create the bar chart with the processed data\n",
    "  p <- ggplot(data, aes(x = {{group_var}}, y = porcentaje)) + \n",
    "    geom_bar(stat = \"identity\", position = position_dodge(width = 0.9), fill = fill_color) +\n",
    "    geom_text(aes(label = porcentaje), vjust = -0.5, position = position_dodge(width = 0.9), size = 5) +\n",
    "    labs(\n",
    "      title = \"Porcentaje de viviendas autoproducidas según asistencia técnica\",\n",
    "    x=\"\",\n",
    "      y = \"Porcentaje de Acciones\", \n",
    "        caption = \"Fuente: Elaborado por SEDATU. Dirección General de Desarrollo Urbano, Suelo y Vivienda con datos de\n",
    "INEGI. Encuesta Nacional de Vivienda 2020\",\n",
    "      fill = as.character(rlang::as_label(rlang::enquo(group_var)))\n",
    "    ) +\n",
    "    theme_minimal() +\n",
    "    theme(\n",
    "      plot.title = element_text(hjust = 0, size = 20, face = \"bold\"),\n",
    "      plot.subtitle = element_text(hjust = 0, size = 15, face = \"italic\"),\n",
    "      plot.caption = element_text(hjust = 0, size = 10),\n",
    "      legend.position = \"none\",\n",
    "      axis.ticks = element_blank(),\n",
    "      axis.title = element_text(size = 15),\n",
    "      axis.text.x = element_text(size = 12, angle = 0, hjust = 0.5, vjust = 0.5),\n",
    "      axis.text.y = element_text(size = 12),\n",
    "      text = element_text(family = \"pop\")\n",
    "    )\n",
    "  \n",
    "  return(p)\n",
    "}"
   ],
   "metadata": {
    "collapsed": false,
    "ExecuteTime": {
     "end_time": "2024-05-10T19:45:51.668798Z",
     "start_time": "2024-05-10T19:45:51.646898Z"
    }
   },
   "id": "c228458ee1b98059",
   "execution_count": 67
  },
  {
   "cell_type": "code",
   "outputs": [
    {
     "name": "stderr",
     "output_type": "stream",
     "text": [
      "Descarga y descompresión exitosas para envi_2020_base_de_datos_csv.zip\n",
      "\n"
     ]
    }
   ],
   "source": [
    "download_and_unzip(\"https://www.inegi.org.mx/contenidos/programas/envi/2020/microdatos/envi_2020_base_de_datos_csv.zip\")\n"
   ],
   "metadata": {
    "collapsed": false,
    "ExecuteTime": {
     "end_time": "2024-05-10T17:39:37.949661Z",
     "start_time": "2024-05-10T17:39:29.568176Z"
    }
   },
   "id": "cb6773f835ee6599",
   "execution_count": 5
  },
  {
   "cell_type": "code",
   "outputs": [],
   "source": [
    "envi2020<-read.csv(\"microdatos/Bases de datos/TVIVIENDA.csv\")%>%\n",
    "janitor::clean_names()\n"
   ],
   "metadata": {
    "collapsed": false,
    "ExecuteTime": {
     "end_time": "2024-05-10T17:39:41.551984Z",
     "start_time": "2024-05-10T17:39:37.953412Z"
    }
   },
   "id": "dd01ddc78109d523",
   "execution_count": 6
  },
  {
   "cell_type": "code",
   "outputs": [],
   "source": [
    "#Declaración del diseño muestral\n",
    "options(survey.lonely.psu=\"adjust\")\n",
    "dm_envi<-envi2020%>%\n",
    "as_survey(weights= factor, strata=est_dis, ids=upm_dis)"
   ],
   "metadata": {
    "collapsed": false,
    "ExecuteTime": {
     "end_time": "2024-05-10T17:39:41.732047Z",
     "start_time": "2024-05-10T17:39:41.555795Z"
    }
   },
   "id": "9c796c92208a0a11",
   "execution_count": 7
  },
  {
   "cell_type": "code",
   "outputs": [
    {
     "data": {
      "text/html": "<table class=\"dataframe\">\n<caption>A tabyl: 4 × 5</caption>\n<thead>\n\t<tr><th scope=col>p5_1</th><th scope=col>viviendas</th><th scope=col>viviendas_se</th><th scope=col>porcentaje</th><th scope=col>porcentaje_se</th></tr>\n\t<tr><th scope=col>&lt;chr&gt;</th><th scope=col>&lt;dbl&gt;</th><th scope=col>&lt;dbl&gt;</th><th scope=col>&lt;dbl&gt;</th><th scope=col>&lt;dbl&gt;</th></tr>\n</thead>\n<tbody>\n\t<tr><td>4    </td><td> 3760354</td><td>103113.21</td><td>0.15736612</td><td>0.004243843</td></tr>\n\t<tr><td>5    </td><td>19823188</td><td>209547.92</td><td>0.82957565</td><td>0.004268839</td></tr>\n\t<tr><td>6    </td><td>  312034</td><td> 20250.36</td><td>0.01305823</td><td>0.000845271</td></tr>\n\t<tr><td>Total</td><td>23895576</td><td>332911.49</td><td>1.00000000</td><td>0.009357953</td></tr>\n</tbody>\n</table>\n",
      "text/markdown": "\nA tabyl: 4 × 5\n\n| p5_1 &lt;chr&gt; | viviendas &lt;dbl&gt; | viviendas_se &lt;dbl&gt; | porcentaje &lt;dbl&gt; | porcentaje_se &lt;dbl&gt; |\n|---|---|---|---|---|\n| 4     |  3760354 | 103113.21 | 0.15736612 | 0.004243843 |\n| 5     | 19823188 | 209547.92 | 0.82957565 | 0.004268839 |\n| 6     |   312034 |  20250.36 | 0.01305823 | 0.000845271 |\n| Total | 23895576 | 332911.49 | 1.00000000 | 0.009357953 |\n\n",
      "text/latex": "A tabyl: 4 × 5\n\\begin{tabular}{lllll}\n p5\\_1 & viviendas & viviendas\\_se & porcentaje & porcentaje\\_se\\\\\n <chr> & <dbl> & <dbl> & <dbl> & <dbl>\\\\\n\\hline\n\t 4     &  3760354 & 103113.21 & 0.15736612 & 0.004243843\\\\\n\t 5     & 19823188 & 209547.92 & 0.82957565 & 0.004268839\\\\\n\t 6     &   312034 &  20250.36 & 0.01305823 & 0.000845271\\\\\n\t Total & 23895576 & 332911.49 & 1.00000000 & 0.009357953\\\\\n\\end{tabular}\n",
      "text/plain": "  p5_1  viviendas viviendas_se porcentaje porcentaje_se\n1 4      3760354  103113.21    0.15736612 0.004243843  \n2 5     19823188  209547.92    0.82957565 0.004268839  \n3 6       312034   20250.36    0.01305823 0.000845271  \n4 Total 23895576  332911.49    1.00000000 0.009357953  "
     },
     "metadata": {},
     "output_type": "display_data"
    }
   ],
   "source": [
    "dm_envi%>%\n",
    "filter(p5_1==4 | p5_1==5 |p5_1==6)%>%\n",
    "    group_by(p5_1)%>%\n",
    "    summarise(viviendas=survey_total(),\n",
    "                porcentaje=survey_prop())%>%\n",
    "    janitor::adorn_totals(\"row\")"
   ],
   "metadata": {
    "collapsed": false,
    "ExecuteTime": {
     "end_time": "2024-05-10T17:45:35.080074Z",
     "start_time": "2024-05-10T17:45:34.226881Z"
    }
   },
   "id": "4b2b1ac938fb80a1",
   "execution_count": 16
  },
  {
   "cell_type": "code",
   "outputs": [
    {
     "data": {
      "text/plain": "plot without title",
      "image/png": "[encoded data removed]"
     },
     "metadata": {
      "image/png": {
       "width": 420,
       "height": 420
      }
     },
     "output_type": "display_data"
    }
   ],
   "source": [
    "dm_envi%>%\n",
    "filter(!is.na(p5_12))%>%\n",
    "filter(p5_12==3 | p5_12==4 |p5_12==5 | p5_12==6)%>%\n",
    "mutate(asist_tec=\n",
    "case_when(p5_12==4 | p5_12==5 ~ \"Con asistencia técnica\",\n",
    "            TRUE ~ \"Sin asistencia técnica\"))%>%   \n",
    "    group_by(asist_tec)%>%\n",
    "    summarise(viviendas=survey_total(),\n",
    "                porcentaje=round(survey_prop()*100,2))%>%\n",
    "crea_grafbarra(asist_tec)\n",
    "\n",
    "ggsave(\"autoprod_asist_tec.png\", width = 10, height = 7, units = \"in\", dpi = 100, bg=\"white\")"
   ],
   "metadata": {
    "collapsed": false,
    "ExecuteTime": {
     "end_time": "2024-05-10T19:45:56.281233Z",
     "start_time": "2024-05-10T19:45:55.111367Z"
    }
   },
   "id": "2b53ad7f60422a48",
   "execution_count": 68
  }
 ],
 "metadata": {
  "kernelspec": {
   "name": "ir",
   "language": "R",
   "display_name": "R"
  },
  "language_info": {
   "codemirror_mode": {
    "name": "ipython",
    "version": 2
   },
   "file_extension": ".py",
   "mimetype": "text/x-python",
   "name": "python",
   "nbconvert_exporter": "python",
   "pygments_lexer": "ipython2",
   "version": "2.7.6"
  }
 },
 "nbformat": 4,
 "nbformat_minor": 5
}
