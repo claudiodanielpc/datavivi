{
  "cells": [
    {
      "cell_type": "markdown",
      "metadata": {
        "id": "view-in-github",
        "colab_type": "text"
      },
      "source": [
        "<a href=\"https://colab.research.google.com/github/coordanalisis-sedatu/datavivi/blob/main/siete_elementos_viv.ipynb\" target=\"_parent\"><img src=\"https://colab.research.google.com/assets/colab-badge.svg\" alt=\"Open In Colab\"/></a>"
      ]
    },
    {
      "cell_type": "markdown",
      "source": [
        "# Cálculo de indicadores de los 7 elementos de la vivienda adecuada\n",
        "\n",
        "Este notebook tiene como objetivo calcular indicadores que permitan caracterizar los 7 elementos de la vivienda adecuada. Esto, de acuerdo a un trabajo previo realizado en la SEDATU.\n",
        "\n",
        "Las fuentes de información que se utilizarán son:\n",
        "- Encuesta Nacional de Ingresos y Gastos de los Hogares (ENIGH) 2022\n",
        "- Encuesta Nacional de Vivienda (ENVI) 2020\n",
        "- Registro de vivienda del Sistema Nacional de Información e Indicadores de Vivienda (SNIIV) 2022"
      ],
      "metadata": {
        "collapsed": false,
        "id": "847977259f7a1121"
      },
      "id": "847977259f7a1121"
    },
    {
      "cell_type": "code",
      "outputs": [],
      "source": [
        "##Borrar datos del entorno\n",
        "rm(list=ls())"
      ],
      "metadata": {
        "ExecuteTime": {
          "end_time": "2024-03-13T13:37:34.020661Z",
          "start_time": "2024-03-13T13:37:34.009855Z"
        },
        "id": "62bcbb158c0ef2da"
      },
      "id": "62bcbb158c0ef2da",
      "execution_count": null
    },
    {
      "cell_type": "code",
      "outputs": [],
      "source": [
        "##Crear folders de almacenamiento\n",
        "dir.create(\"microdatos\", showWarnings = F)"
      ],
      "metadata": {
        "ExecuteTime": {
          "end_time": "2024-03-13T13:37:34.046854Z",
          "start_time": "2024-03-13T13:37:34.035928Z"
        },
        "id": "76c7a80b2da6d9ad"
      },
      "id": "76c7a80b2da6d9ad",
      "execution_count": null
    },
    {
      "cell_type": "code",
      "outputs": [],
      "source": [
        "if(!require('pacman')) install.packages('pacman')\n",
        "pacman::p_load(tidyverse,srvyr,googledrive,janitor,survey,\n",
        "               sf,httr,jsonlite)"
      ],
      "metadata": {
        "ExecuteTime": {
          "end_time": "2024-03-13T13:37:34.082304Z",
          "start_time": "2024-03-13T13:37:34.070410Z"
        },
        "id": "38c6693a64fc5266"
      },
      "id": "38c6693a64fc5266",
      "execution_count": null
    },
    {
      "cell_type": "code",
      "outputs": [],
      "source": [
        "# Función para descargar y descomprimir un archivo con timeout\n",
        "download_and_unzip <- function(url, destination=\"microdatos\") {\n",
        "  tryCatch({\n",
        "    # Descargar el archivo con timeout\n",
        "    download.file(url, destfile = paste0(destination, \"/\", basename(url)), mode = \"wb\", timeout = 10000)\n",
        "\n",
        "    # Descomprimir el archivo\n",
        "    unzip(paste0(destination, \"/\", basename(url)), exdir = destination)\n",
        "\n",
        "    # Eliminar el archivo comprimido después de descomprimirlo\n",
        "    unlink(paste0(destination, \"/\", basename(url)))\n",
        "\n",
        "    message(paste(\"Descarga y descompresión exitosas para\", basename(url)))\n",
        "  }, error = function(e) {\n",
        "    warning(paste(\"Error al descargar o descomprimir\", basename(url), \":\", conditionMessage(e)))\n",
        "  })\n",
        "}\n"
      ],
      "metadata": {
        "ExecuteTime": {
          "end_time": "2024-03-13T13:37:34.096743Z",
          "start_time": "2024-03-13T13:37:34.085771Z"
        },
        "id": "9c71cd43a03459c4"
      },
      "id": "9c71cd43a03459c4",
      "execution_count": null
    },
    {
      "cell_type": "markdown",
      "source": [
        "# Cálculos con datos de la ENIGH 2022"
      ],
      "metadata": {
        "collapsed": false,
        "id": "b3e69402355779ac"
      },
      "id": "b3e69402355779ac"
    },
    {
      "cell_type": "code",
      "outputs": [
        {
          "name": "stderr",
          "output_type": "stream",
          "text": [
            "Descarga y descompresión exitosas para enigh2022_ns_viviendas_csv.zip\n",
            "\n",
            "Descarga y descompresión exitosas para enigh2022_ns_hogares_csv.zip\n",
            "\n"
          ]
        }
      ],
      "source": [
        "download_and_unzip(\"https://www.inegi.org.mx/contenidos/programas/enigh/nc/2022/microdatos/enigh2022_ns_viviendas_csv.zip\")\n",
        "download_and_unzip(\"https://www.inegi.org.mx/contenidos/programas/enigh/nc/2022/microdatos/enigh2022_ns_hogares_csv.zip\")\n"
      ],
      "metadata": {
        "ExecuteTime": {
          "end_time": "2024-03-13T13:37:40.877856Z",
          "start_time": "2024-03-13T13:37:34.100497Z"
        },
        "id": "5850716406624efe",
        "outputId": "e1671af3-57b6-4c83-f6d8-efbe33e7175e"
      },
      "id": "5850716406624efe",
      "execution_count": null
    },
    {
      "cell_type": "code",
      "outputs": [
        {
          "name": "stderr",
          "output_type": "stream",
          "text": [
            "Warning message:\n",
            "\"\u001b[1m\u001b[22mThere was 1 warning in `mutate()`.\n",
            "\u001b[1m\u001b[22m\u001b[36mℹ\u001b[39m In argument: `mat_pisos = as.numeric(mat_pisos)`.\n",
            "Caused by warning:\n",
            "\u001b[33m!\u001b[39m NAs introduced by coercion\"\n"
          ]
        }
      ],
      "source": [
        "# Carga y limpia el conjunto de datos de viviendas para el año 2022\n",
        "enigh22 <- read.csv(\"microdatos/viviendas.csv\") %>%\n",
        "  janitor::clean_names() %>%  #Poner las variables en minusculas y quitar las variables\n",
        "  mutate(\n",
        "    mat_pared = as.numeric(mat_pared),\n",
        "    mat_pisos = as.numeric(mat_pisos),\n",
        "    mat_techos = as.numeric(mat_techos),\n",
        "#Crear variable de rezago habitacional\n",
        "    rezago = case_when(\n",
        "      (tot_resid / num_cuarto) > 2.5 |   # Hacinamiento\n",
        "        mat_pared %in% c(1, 2, 3, 4, 5, 6) |\n",
        "        mat_pisos %in% c(1) |\n",
        "        mat_techos %in% c(1, 2, 3, 4, 6, 7, 9) |\n",
        "        excusado == 2 ~ \"En rezago\",\n",
        "      TRUE ~ \"Fuera de rezago\"\n",
        "    )\n",
        "  )"
      ],
      "metadata": {
        "ExecuteTime": {
          "end_time": "2024-03-13T13:37:41.723469Z",
          "start_time": "2024-03-13T13:37:40.881597Z"
        },
        "id": "5abc8910c8b94965",
        "outputId": "0a074638-595c-496e-92b4-ad5d4bcb7a13"
      },
      "id": "5abc8910c8b94965",
      "execution_count": null
    },
    {
      "cell_type": "code",
      "outputs": [],
      "source": [
        "#Definir diseño muestral para ambos años\n",
        "dm<-enigh22%>%\n",
        "  #Diseño muestral\n",
        "  as_survey(weights=factor, strata=est_dis, ids=upm)"
      ],
      "metadata": {
        "ExecuteTime": {
          "end_time": "2024-03-13T13:37:41.936203Z",
          "start_time": "2024-03-13T13:37:41.727076Z"
        },
        "id": "bdcfa0e09eca0fba"
      },
      "id": "bdcfa0e09eca0fba",
      "execution_count": null
    },
    {
      "cell_type": "markdown",
      "source": [
        "###  Habitabilidad\n"
      ],
      "metadata": {
        "collapsed": false,
        "id": "251220b662b05891"
      },
      "id": "251220b662b05891"
    },
    {
      "cell_type": "code",
      "outputs": [
        {
          "name": "stdout",
          "output_type": "stream",
          "text": [
            "[1] \"Viviendas en rezago habitacional\"\n"
          ]
        },
        {
          "data": {
            "text/html": "<table class=\"dataframe\">\n<caption>A tibble: 1 × 3</caption>\n<thead>\n\t<tr><th scope=col>rezago</th><th scope=col>porcentaje</th><th scope=col>porcentaje_cv</th></tr>\n\t<tr><th scope=col>&lt;chr&gt;</th><th scope=col>&lt;dbl&gt;</th><th scope=col>&lt;dbl&gt;</th></tr>\n</thead>\n<tbody>\n\t<tr><td>En rezago</td><td>24.3</td><td>0.01054548</td></tr>\n</tbody>\n</table>\n",
            "text/markdown": "\nA tibble: 1 × 3\n\n| rezago &lt;chr&gt; | porcentaje &lt;dbl&gt; | porcentaje_cv &lt;dbl&gt; |\n|---|---|---|\n| En rezago | 24.3 | 0.01054548 |\n\n",
            "text/latex": "A tibble: 1 × 3\n\\begin{tabular}{lll}\n rezago & porcentaje & porcentaje\\_cv\\\\\n <chr> & <dbl> & <dbl>\\\\\n\\hline\n\t En rezago & 24.3 & 0.01054548\\\\\n\\end{tabular}\n",
            "text/plain": "  rezago    porcentaje porcentaje_cv\n1 En rezago 24.3       0.01054548   "
          },
          "metadata": {},
          "output_type": "display_data"
        }
      ],
      "source": [
        "print(\"Viviendas en rezago habitacional\")\n",
        "dm%>%\n",
        "  group_by(rezago)%>%\n",
        "  summarise(\n",
        "    porcentaje=survey_prop(vartype=\"cv\"))%>%\n",
        "    mutate(porcentaje=round(porcentaje*100,1))%>%\n",
        "filter(rezago %in% c(\"En rezago\"))"
      ],
      "metadata": {
        "ExecuteTime": {
          "end_time": "2024-03-13T15:01:02.689007Z",
          "start_time": "2024-03-13T15:01:02.085469Z"
        },
        "id": "127ad6d28e8bdcc8",
        "outputId": "323e1aaf-790a-4d93-e140-46e4027eb01d"
      },
      "id": "127ad6d28e8bdcc8",
      "execution_count": null
    },
    {
      "cell_type": "markdown",
      "source": [
        "### Seguridad de la tenencia"
      ],
      "metadata": {
        "collapsed": false,
        "id": "df2941beb2ea40e9"
      },
      "id": "df2941beb2ea40e9"
    },
    {
      "cell_type": "code",
      "outputs": [
        {
          "name": "stdout",
          "output_type": "stream",
          "text": [
            "[1] \"Viviendas propias y propias en proceso de pago sin escrituras\"\n"
          ]
        },
        {
          "data": {
            "text/html": "<table class=\"dataframe\">\n<caption>A tibble: 1 × 3</caption>\n<thead>\n\t<tr><th scope=col>escrituras</th><th scope=col>porcentaje</th><th scope=col>porcentaje_cv</th></tr>\n\t<tr><th scope=col>&lt;chr&gt;</th><th scope=col>&lt;dbl&gt;</th><th scope=col>&lt;dbl&gt;</th></tr>\n</thead>\n<tbody>\n\t<tr><td>No tiene escrituras</td><td>24.3</td><td>0.01473525</td></tr>\n</tbody>\n</table>\n",
            "text/markdown": "\nA tibble: 1 × 3\n\n| escrituras &lt;chr&gt; | porcentaje &lt;dbl&gt; | porcentaje_cv &lt;dbl&gt; |\n|---|---|---|\n| No tiene escrituras | 24.3 | 0.01473525 |\n\n",
            "text/latex": "A tibble: 1 × 3\n\\begin{tabular}{lll}\n escrituras & porcentaje & porcentaje\\_cv\\\\\n <chr> & <dbl> & <dbl>\\\\\n\\hline\n\t No tiene escrituras & 24.3 & 0.01473525\\\\\n\\end{tabular}\n",
            "text/plain": "  escrituras          porcentaje porcentaje_cv\n1 No tiene escrituras 24.3       0.01473525   "
          },
          "metadata": {},
          "output_type": "display_data"
        }
      ],
      "source": [
        "print(\"Viviendas propias y propias en proceso de pago sin escrituras\")\n",
        "\n",
        "dm%>%\n",
        "#Filtrar propias y propias se están pagando\n",
        "filter(tenencia == 3 | tenencia == 4)%>%\n",
        "mutate(escrituras=case_when(\n",
        "  escrituras==1~\"A nombre del dueño\",\n",
        "  escrituras==2~\"A nombre de otra persona\",\n",
        "    escrituras==3~\"No tiene escrituras\",\n",
        "    escrituras==4~\"No sabe si tiene escrituras\",\n",
        "))%>%\n",
        "group_by(escrituras)%>%\n",
        "  summarise(\n",
        "    porcentaje=survey_prop(vartype=\"cv\"))%>%\n",
        "    mutate(porcentaje=round(porcentaje*100,1))%>%\n",
        "    filter(escrituras %in% c(\"No tiene escrituras\"))"
      ],
      "metadata": {
        "ExecuteTime": {
          "end_time": "2024-03-13T15:01:20.956970Z",
          "start_time": "2024-03-13T15:01:19.884129Z"
        },
        "id": "47033e05be07d9bd",
        "outputId": "e8c28d58-2ce5-41b2-8df0-bbaeda6d8a22"
      },
      "id": "47033e05be07d9bd",
      "execution_count": null
    },
    {
      "cell_type": "markdown",
      "source": [],
      "metadata": {
        "collapsed": false,
        "id": "bdddb888ef152af0"
      },
      "id": "bdddb888ef152af0"
    },
    {
      "cell_type": "markdown",
      "source": [
        "### Disponibilidad de servicios, materiales, instalaciones e infraestructura\n",
        "\n",
        "Para evitar el cálculo del indicador, se hará un join con la tabla de pobreza del CONEVAL"
      ],
      "metadata": {
        "collapsed": false,
        "id": "64e92e8b08c4e561"
      },
      "id": "64e92e8b08c4e561"
    },
    {
      "cell_type": "code",
      "outputs": [
        {
          "name": "stderr",
          "output_type": "stream",
          "text": [
            "Warning message in value[[3L]](cond):\n",
            "\"Error al descargar o descomprimir R_MMP_2022.zip : invalid multibyte string at '<a0>lcu'\"\n"
          ]
        }
      ],
      "source": [
        "url_coneval<-\"https://www.coneval.org.mx/Medicion/MP/Documents/MMP_2022/Programas_calculo/R_MMP_2022.zip\"\n",
        "download_and_unzip(url_coneval)"
      ],
      "metadata": {
        "ExecuteTime": {
          "end_time": "2024-03-13T13:38:39.956084Z",
          "start_time": "2024-03-13T13:37:43.919570Z"
        },
        "id": "7d3fa3fad664ccdf",
        "outputId": "c8302249-b1a0-401c-a7b8-efa8e902a611"
      },
      "id": "7d3fa3fad664ccdf",
      "execution_count": null
    },
    {
      "cell_type": "code",
      "outputs": [
        {
          "name": "stdout",
          "output_type": "stream",
          "text": [
            "'data.frame':\t309534 obs. of  4 variables:\n",
            " $ folioviv: num  1e+08 1e+08 1e+08 1e+08 1e+08 ...\n",
            " $ foliohog: int  1 1 1 1 1 1 1 1 1 1 ...\n",
            " $ numren  : int  1 2 3 1 2 1 2 3 1 2 ...\n",
            " $ ic_sbv  : int  0 0 0 0 0 0 0 0 0 0 ...\n"
          ]
        }
      ],
      "source": [
        "pobreza<-read.csv(\"microdatos/Base final/pobreza_22.csv\")%>%\n",
        "select(folioviv, foliohog,numren,ic_sbv)\n",
        "\n",
        "str(pobreza)"
      ],
      "metadata": {
        "ExecuteTime": {
          "end_time": "2024-03-13T13:38:45.203834Z",
          "start_time": "2024-03-13T13:38:39.959302Z"
        },
        "id": "e83a87b461f9b23e",
        "outputId": "7e476e29-c385-49c6-da4a-79caa1c4c49b"
      },
      "id": "e83a87b461f9b23e",
      "execution_count": null
    },
    {
      "cell_type": "code",
      "outputs": [],
      "source": [
        "vivsb<-enigh22%>%\n",
        "  left_join(\n",
        "    pobreza %>%\n",
        "      group_by(folioviv) %>%\n",
        "      filter(row_number() == 1) %>%\n",
        "      select(folioviv,ic_sbv),\n",
        "    by = \"folioviv\"\n",
        "  )"
      ],
      "metadata": {
        "ExecuteTime": {
          "end_time": "2024-03-13T13:38:45.855082Z",
          "start_time": "2024-03-13T13:38:45.207391Z"
        },
        "id": "f51128a37ababeeb"
      },
      "id": "f51128a37ababeeb",
      "execution_count": null
    },
    {
      "cell_type": "code",
      "outputs": [],
      "source": [
        "#Definir diseño muestral\n",
        "dm_viv<-vivsb%>%\n",
        "  as_survey(weights=factor, strata=est_dis, ids=upm)"
      ],
      "metadata": {
        "ExecuteTime": {
          "end_time": "2024-03-13T17:32:32.309705Z",
          "start_time": "2024-03-13T17:32:32.109263Z"
        },
        "id": "4df24e63126964d2"
      },
      "id": "4df24e63126964d2",
      "execution_count": null
    },
    {
      "cell_type": "code",
      "outputs": [
        {
          "name": "stdout",
          "output_type": "stream",
          "text": [
            "[1] \"Viviendas con falta de acceso a servicios básicos\"\n"
          ]
        },
        {
          "data": {
            "text/html": "<table class=\"dataframe\">\n<caption>A tibble: 1 × 3</caption>\n<thead>\n\t<tr><th scope=col>ic_sbv</th><th scope=col>porcentaje</th><th scope=col>porcentaje_cv</th></tr>\n\t<tr><th scope=col>&lt;int&gt;</th><th scope=col>&lt;dbl&gt;</th><th scope=col>&lt;dbl&gt;</th></tr>\n</thead>\n<tbody>\n\t<tr><td>1</td><td>16.2</td><td>0.01616862</td></tr>\n</tbody>\n</table>\n",
            "text/markdown": "\nA tibble: 1 × 3\n\n| ic_sbv &lt;int&gt; | porcentaje &lt;dbl&gt; | porcentaje_cv &lt;dbl&gt; |\n|---|---|---|\n| 1 | 16.2 | 0.01616862 |\n\n",
            "text/latex": "A tibble: 1 × 3\n\\begin{tabular}{lll}\n ic\\_sbv & porcentaje & porcentaje\\_cv\\\\\n <int> & <dbl> & <dbl>\\\\\n\\hline\n\t 1 & 16.2 & 0.01616862\\\\\n\\end{tabular}\n",
            "text/plain": "  ic_sbv porcentaje porcentaje_cv\n1 1      16.2       0.01616862   "
          },
          "metadata": {},
          "output_type": "display_data"
        }
      ],
      "source": [
        "print(\"Viviendas con falta de acceso a servicios básicos\")\n",
        "dm_viv%>%\n",
        "group_by(ic_sbv)%>%\n",
        "    summarise(porcentaje=survey_prop(vartype=\"cv\"))%>%\n",
        "    mutate(porcentaje=round(porcentaje*100,1))%>%\n",
        "    filter(ic_sbv %in% c(1))"
      ],
      "metadata": {
        "ExecuteTime": {
          "end_time": "2024-03-13T15:01:38.480719Z",
          "start_time": "2024-03-13T15:01:37.441006Z"
        },
        "id": "53528f481f07282a",
        "outputId": "774cc387-02fa-42c4-da5a-3410b6c3fb85"
      },
      "id": "53528f481f07282a",
      "execution_count": null
    },
    {
      "cell_type": "markdown",
      "source": [
        "### Asequibilidad"
      ],
      "metadata": {
        "collapsed": false,
        "id": "af4593db954659d1"
      },
      "id": "af4593db954659d1"
    },
    {
      "cell_type": "code",
      "outputs": [
        {
          "data": {
            "text/html": "<table class=\"dataframe\">\n<caption>A data.frame: 6 × 3</caption>\n<thead>\n\t<tr><th></th><th scope=col>folioviv</th><th scope=col>tenencia</th><th scope=col>pago_viv</th></tr>\n\t<tr><th></th><th scope=col>&lt;dbl&gt;</th><th scope=col>&lt;int&gt;</th><th scope=col>&lt;int&gt;</th></tr>\n</thead>\n<tbody>\n\t<tr><th scope=row>1</th><td>100224706</td><td>3</td><td> 2700</td></tr>\n\t<tr><th scope=row>2</th><td>100336806</td><td>3</td><td> 2200</td></tr>\n\t<tr><th scope=row>3</th><td>100385904</td><td>3</td><td>20000</td></tr>\n\t<tr><th scope=row>4</th><td>100386703</td><td>3</td><td> 9000</td></tr>\n\t<tr><th scope=row>5</th><td>100386704</td><td>3</td><td>14000</td></tr>\n\t<tr><th scope=row>6</th><td>100404202</td><td>3</td><td>12000</td></tr>\n</tbody>\n</table>\n",
            "text/markdown": "\nA data.frame: 6 × 3\n\n| <!--/--> | folioviv &lt;dbl&gt; | tenencia &lt;int&gt; | pago_viv &lt;int&gt; |\n|---|---|---|---|\n| 1 | 100224706 | 3 |  2700 |\n| 2 | 100336806 | 3 |  2200 |\n| 3 | 100385904 | 3 | 20000 |\n| 4 | 100386703 | 3 |  9000 |\n| 5 | 100386704 | 3 | 14000 |\n| 6 | 100404202 | 3 | 12000 |\n\n",
            "text/latex": "A data.frame: 6 × 3\n\\begin{tabular}{r|lll}\n  & folioviv & tenencia & pago\\_viv\\\\\n  & <dbl> & <int> & <int>\\\\\n\\hline\n\t1 & 100224706 & 3 &  2700\\\\\n\t2 & 100336806 & 3 &  2200\\\\\n\t3 & 100385904 & 3 & 20000\\\\\n\t4 & 100386703 & 3 &  9000\\\\\n\t5 & 100386704 & 3 & 14000\\\\\n\t6 & 100404202 & 3 & 12000\\\\\n\\end{tabular}\n",
            "text/plain": "  folioviv  tenencia pago_viv\n1 100224706 3         2700   \n2 100336806 3         2200   \n3 100385904 3        20000   \n4 100386703 3         9000   \n5 100386704 3        14000   \n6 100404202 3        12000   "
          },
          "metadata": {},
          "output_type": "display_data"
        }
      ],
      "source": [
        "pago_vivienda<-enigh22%>%\n",
        "#Se considera únicamente información de aquellas viviendas propias que se están pagando\n",
        "filter(tenencia %in% c(3))%>%\n",
        "select(folioviv, tenencia, pago_viv)\n",
        "head(pago_vivienda)"
      ],
      "metadata": {
        "ExecuteTime": {
          "end_time": "2024-03-13T17:20:54.774470Z",
          "start_time": "2024-03-13T17:20:54.749600Z"
        },
        "id": "e049fd9b9bc31dbe",
        "outputId": "3833317e-fef2-4b31-bda0-deccb467e007"
      },
      "id": "e049fd9b9bc31dbe",
      "execution_count": null
    },
    {
      "cell_type": "code",
      "outputs": [
        {
          "name": "stderr",
          "output_type": "stream",
          "text": [
            "Descarga y descompresión exitosas para enigh2022_ns_concentradohogar_csv.zip\n",
            "\n"
          ]
        }
      ],
      "source": [
        "#Uilizar la tabla de concentrado hogar\n",
        "download_and_unzip(\"https://www.inegi.org.mx/contenidos/programas/enigh/nc/2022/microdatos/enigh2022_ns_concentradohogar_csv.zip\")"
      ],
      "metadata": {
        "ExecuteTime": {
          "end_time": "2024-03-13T17:23:29.217634Z",
          "start_time": "2024-03-13T17:23:18.073292Z"
        },
        "id": "47c244628e808456",
        "outputId": "7a85ceaa-cb4b-4ba1-8ffb-b2fbb1868735"
      },
      "id": "47c244628e808456",
      "execution_count": null
    },
    {
      "cell_type": "code",
      "outputs": [],
      "source": [
        "concentrado<-read.csv(\"microdatos/concentradohogar.csv\")%>%\n",
        "  janitor::clean_names()%>%\n",
        "#Ingreso trimestral a mensual\n",
        "mutate(\n",
        "  ing_cor_mensual=ing_cor/3\n",
        ")%>%\n",
        "#Pegar datos de pago de vivienda\n",
        "left_join(\n",
        "  pago_vivienda,\n",
        "  by=\"folioviv\"\n",
        ")%>%\n",
        "#Cálculo de porcentaje de ingreso destinado al pago de vivienda\n",
        "mutate(\n",
        "  porcentaje_pago=(pago_viv/ing_cor_mensual)*100\n",
        ")%>%\n",
        "#Hacer variable categórica de acuerdo a la proporción de ingreso destinado al pago de vivienda\n",
        "mutate(\n",
        "  asequibilidad=case_when(\n",
        "    porcentaje_pago<=30~\"Hasta el 30%\",\n",
        "    porcentaje_pago>30~\"Más del 30%\"\n",
        "  )\n",
        ")"
      ],
      "metadata": {
        "ExecuteTime": {
          "end_time": "2024-03-13T17:28:01.696482Z",
          "start_time": "2024-03-13T17:27:58.053097Z"
        },
        "id": "fa5f1a00349d74cb"
      },
      "id": "fa5f1a00349d74cb",
      "execution_count": null
    },
    {
      "cell_type": "code",
      "outputs": [],
      "source": [
        "#Definir diseño muestral\n",
        "dm_concentrado<-concentrado%>%\n",
        "  as_survey(weights=factor, strata=est_dis, ids=upm)"
      ],
      "metadata": {
        "ExecuteTime": {
          "end_time": "2024-03-13T17:30:29.880207Z",
          "start_time": "2024-03-13T17:30:29.631572Z"
        },
        "id": "fc10f6c238429bfb"
      },
      "id": "fc10f6c238429bfb",
      "execution_count": null
    },
    {
      "cell_type": "code",
      "outputs": [
        {
          "name": "stdout",
          "output_type": "stream",
          "text": [
            "[1] \"Porcentaje de hogares que destina hasta el 30% de su ingreso al pago de vivienda\"\n"
          ]
        },
        {
          "data": {
            "text/html": "<table class=\"dataframe\">\n<caption>A tibble: 1 × 3</caption>\n<thead>\n\t<tr><th scope=col>asequibilidad</th><th scope=col>porcentaje</th><th scope=col>porcentaje_cv</th></tr>\n\t<tr><th scope=col>&lt;chr&gt;</th><th scope=col>&lt;dbl&gt;</th><th scope=col>&lt;dbl&gt;</th></tr>\n</thead>\n<tbody>\n\t<tr><td>Hasta el 30%</td><td>7.4</td><td>0.02343417</td></tr>\n</tbody>\n</table>\n",
            "text/markdown": "\nA tibble: 1 × 3\n\n| asequibilidad &lt;chr&gt; | porcentaje &lt;dbl&gt; | porcentaje_cv &lt;dbl&gt; |\n|---|---|---|\n| Hasta el 30% | 7.4 | 0.02343417 |\n\n",
            "text/latex": "A tibble: 1 × 3\n\\begin{tabular}{lll}\n asequibilidad & porcentaje & porcentaje\\_cv\\\\\n <chr> & <dbl> & <dbl>\\\\\n\\hline\n\t Hasta el 30\\% & 7.4 & 0.02343417\\\\\n\\end{tabular}\n",
            "text/plain": "  asequibilidad porcentaje porcentaje_cv\n1 Hasta el 30%  7.4        0.02343417   "
          },
          "metadata": {},
          "output_type": "display_data"
        }
      ],
      "source": [
        "#Calcular porcentaje de hogares con más del 30% de ingreso destinado al pago de vivienda\n",
        "print(\"Porcentaje de hogares que destina hasta el 30% de su ingreso al pago de vivienda\")\n",
        "dm_concentrado%>%\n",
        "  group_by(asequibilidad)%>%\n",
        "  summarise(\n",
        "    porcentaje=survey_prop(vartype=\"cv\"))%>%\n",
        "    mutate(porcentaje=round(porcentaje*100,1))%>%\n",
        "    filter(asequibilidad %in% c(\"Hasta el 30%\"))"
      ],
      "metadata": {
        "ExecuteTime": {
          "end_time": "2024-03-13T17:34:51.322371Z",
          "start_time": "2024-03-13T17:34:50.308180Z"
        },
        "id": "9a66b1a50f1253ba",
        "outputId": "09e73e27-c2d9-475c-ddf2-5f5c328df211"
      },
      "id": "9a66b1a50f1253ba",
      "execution_count": null
    },
    {
      "cell_type": "markdown",
      "source": [
        "\n",
        "# Cálculos con datos de la ENVI 2020"
      ],
      "metadata": {
        "collapsed": false,
        "id": "55a2f294593ce70e"
      },
      "id": "55a2f294593ce70e"
    },
    {
      "cell_type": "code",
      "outputs": [
        {
          "name": "stderr",
          "output_type": "stream",
          "text": [
            "Descarga y descompresión exitosas para envi_2020_base_de_datos_csv.zip\n",
            "\n"
          ]
        }
      ],
      "source": [
        "download_and_unzip(\"https://www.inegi.org.mx/contenidos/programas/envi/2020/microdatos/envi_2020_base_de_datos_csv.zip\")"
      ],
      "metadata": {
        "ExecuteTime": {
          "end_time": "2024-03-13T16:41:29.448827Z",
          "start_time": "2024-03-13T16:41:16.229824Z"
        },
        "id": "96b2f5415a708a0c",
        "outputId": "7f8d1204-86fe-460e-ca9f-a8a794a1d7e4"
      },
      "id": "96b2f5415a708a0c",
      "execution_count": null
    },
    {
      "cell_type": "markdown",
      "source": [
        "### Adecuación cultural"
      ],
      "metadata": {
        "collapsed": false,
        "id": "f0aae4a5c8643905"
      },
      "id": "f0aae4a5c8643905"
    },
    {
      "cell_type": "code",
      "outputs": [],
      "source": [
        "#Carga de los datos\n",
        "\n",
        "envi2020<-read.csv(\"microdatos/Bases de datos/TVIVIENDA.csv\")%>%\n",
        "  janitor::clean_names()"
      ],
      "metadata": {
        "ExecuteTime": {
          "end_time": "2024-03-13T16:50:53.398119Z",
          "start_time": "2024-03-13T16:50:49.660540Z"
        },
        "id": "f281cc700baf6dd"
      },
      "id": "f281cc700baf6dd",
      "execution_count": null
    },
    {
      "cell_type": "code",
      "outputs": [],
      "source": [
        "#Declaración del diseño muestral\n",
        "options(survey.lonely.psu=\"adjust\")\n",
        "dm_envi<-envi2020%>%\n",
        "  as_survey(weights= factor, strata=est_dis, ids=upm_dis)"
      ],
      "metadata": {
        "ExecuteTime": {
          "end_time": "2024-03-13T16:52:36.193530Z",
          "start_time": "2024-03-13T16:52:35.995621Z"
        },
        "id": "7fc5d6242cdcf6b9"
      },
      "id": "7fc5d6242cdcf6b9",
      "execution_count": null
    },
    {
      "cell_type": "code",
      "outputs": [
        {
          "name": "stdout",
          "output_type": "stream",
          "text": [
            "[1] \"Satisfacción con la vivienda de acuerdo a adecuación cultural\"\n"
          ]
        },
        {
          "data": {
            "text/html": "<table class=\"dataframe\">\n<caption>A tibble: 1 × 3</caption>\n<thead>\n\t<tr><th scope=col>p6_6</th><th scope=col>porcentaje</th><th scope=col>porcentaje_cv</th></tr>\n\t<tr><th scope=col>&lt;chr&gt;</th><th scope=col>&lt;dbl&gt;</th><th scope=col>&lt;dbl&gt;</th></tr>\n</thead>\n<tbody>\n\t<tr><td>Mucho</td><td>51.2</td><td>0.006897074</td></tr>\n</tbody>\n</table>\n",
            "text/markdown": "\nA tibble: 1 × 3\n\n| p6_6 &lt;chr&gt; | porcentaje &lt;dbl&gt; | porcentaje_cv &lt;dbl&gt; |\n|---|---|---|\n| Mucho | 51.2 | 0.006897074 |\n\n",
            "text/latex": "A tibble: 1 × 3\n\\begin{tabular}{lll}\n p6\\_6 & porcentaje & porcentaje\\_cv\\\\\n <chr> & <dbl> & <dbl>\\\\\n\\hline\n\t Mucho & 51.2 & 0.006897074\\\\\n\\end{tabular}\n",
            "text/plain": "  p6_6  porcentaje porcentaje_cv\n1 Mucho 51.2       0.006897074  "
          },
          "metadata": {},
          "output_type": "display_data"
        }
      ],
      "source": [
        "print(\"Satisfacción con la vivienda de acuerdo a adecuación cultural\")\n",
        "dm_envi%>%\n",
        "  group_by(p6_6)%>%\n",
        "mutate(p6_6=case_when(\n",
        "    p6_6==1~\"Mucho\",\n",
        "    p6_6==2~\"Algo\",\n",
        "    p6_6==3~\"Poco\",\n",
        "    p6_6==4~\"Nada\",\n",
        "    p6_6==9~\"No especificado\"))%>%\n",
        "  summarise(porcentaje=survey_prop(vartype=\"cv\"))%>%\n",
        "  mutate(porcentaje=round(porcentaje*100,1))%>%\n",
        "    filter(p6_6 %in% c(\"Mucho\"))"
      ],
      "metadata": {
        "ExecuteTime": {
          "end_time": "2024-03-13T16:58:19.776839Z",
          "start_time": "2024-03-13T16:58:17.987534Z"
        },
        "id": "d3740211214df9cf",
        "outputId": "ecbf8ffb-8053-40cf-c163-292a1b2cd5ec"
      },
      "id": "d3740211214df9cf",
      "execution_count": null
    },
    {
      "cell_type": "markdown",
      "source": [
        "### Accesibilidad"
      ],
      "metadata": {
        "collapsed": false,
        "id": "4191acc641f17892"
      },
      "id": "4191acc641f17892"
    },
    {
      "cell_type": "code",
      "outputs": [
        {
          "name": "stdout",
          "output_type": "stream",
          "text": [
            "[1] \"Viviendas con necesidad de adecuaciones para personas con discapacidad\"\n"
          ]
        },
        {
          "data": {
            "text/html": "<table class=\"dataframe\">\n<caption>A tibble: 1 × 3</caption>\n<thead>\n\t<tr><th scope=col>discap</th><th scope=col>porcentaje</th><th scope=col>porcentaje_cv</th></tr>\n\t<tr><th scope=col>&lt;chr&gt;</th><th scope=col>&lt;dbl&gt;</th><th scope=col>&lt;dbl&gt;</th></tr>\n</thead>\n<tbody>\n\t<tr><td>Con necesidad de adecuación</td><td>16.9</td><td>0.0142452</td></tr>\n</tbody>\n</table>\n",
            "text/markdown": "\nA tibble: 1 × 3\n\n| discap &lt;chr&gt; | porcentaje &lt;dbl&gt; | porcentaje_cv &lt;dbl&gt; |\n|---|---|---|\n| Con necesidad de adecuación | 16.9 | 0.0142452 |\n\n",
            "text/latex": "A tibble: 1 × 3\n\\begin{tabular}{lll}\n discap & porcentaje & porcentaje\\_cv\\\\\n <chr> & <dbl> & <dbl>\\\\\n\\hline\n\t Con necesidad de adecuación & 16.9 & 0.0142452\\\\\n\\end{tabular}\n",
            "text/plain": "  discap                      porcentaje porcentaje_cv\n1 Con necesidad de adecuación 16.9       0.0142452    "
          },
          "metadata": {},
          "output_type": "display_data"
        }
      ],
      "source": [
        "print(\"Viviendas con necesidad de adecuaciones para personas con discapacidad\")\n",
        "dm_envi%>%\n",
        "  mutate(discap=\n",
        "case_when(\n",
        "  p6_7_1==1 |\n",
        "p6_7_2==1 |\n",
        "p6_7_3==1 |\n",
        "p6_7_4==1  ~\"Con necesidad de adecuación\",\n",
        "TRUE~\"Sin necesidad de adecuación\"\n",
        "  )\n",
        ")%>%\n",
        "group_by(discap)%>%\n",
        "  summarise(\n",
        "    porcentaje=survey_prop(vartype=\"cv\"))%>%\n",
        "    mutate(porcentaje=round(porcentaje*100,1))%>%\n",
        "    filter(discap %in% c(\"Con necesidad de adecuación\"))"
      ],
      "metadata": {
        "ExecuteTime": {
          "end_time": "2024-03-13T17:00:31.951446Z",
          "start_time": "2024-03-13T17:00:31.275522Z"
        },
        "id": "fcaeab3745409201",
        "outputId": "835ffa7a-ed86-4954-916b-c1e43a4203ee"
      },
      "id": "fcaeab3745409201",
      "execution_count": null
    },
    {
      "cell_type": "markdown",
      "source": [
        "# Cálculos con datos del SNIIV\n",
        "### Ubicación\n",
        "\n",
        "Para este indicador se utilizará la información del registro de vivienda que se publica en el Sistema Nacional de Información e Indicadores de Vivienda (SNIIV) de la Secretaría de Desarrollo Agrario, Territorial y Urbano (SEDATU)."
      ],
      "metadata": {
        "collapsed": false,
        "id": "77771f157070b5ce"
      },
      "id": "77771f157070b5ce"
    },
    {
      "cell_type": "code",
      "outputs": [
        {
          "name": "stdout",
          "output_type": "stream",
          "text": [
            "[1] \"Viviendas fuera de contorno\"\n"
          ]
        },
        {
          "data": {
            "text/html": "<table class=\"dataframe\">\n<caption>A data.frame: 1 × 4</caption>\n<thead>\n\t<tr><th scope=col>año</th><th scope=col>pcu</th><th scope=col>viviendas</th><th scope=col>porcentaje</th></tr>\n\t<tr><th scope=col>&lt;int&gt;</th><th scope=col>&lt;chr&gt;</th><th scope=col>&lt;dbl&gt;</th><th scope=col>&lt;dbl&gt;</th></tr>\n</thead>\n<tbody>\n\t<tr><td>2022</td><td>FC</td><td>21480</td><td>15</td></tr>\n</tbody>\n</table>\n",
            "text/markdown": "\nA data.frame: 1 × 4\n\n| año &lt;int&gt; | pcu &lt;chr&gt; | viviendas &lt;dbl&gt; | porcentaje &lt;dbl&gt; |\n|---|---|---|---|\n| 2022 | FC | 21480 | 15 |\n\n",
            "text/latex": "A data.frame: 1 × 4\n\\begin{tabular}{llll}\n año & pcu & viviendas & porcentaje\\\\\n <int> & <chr> & <dbl> & <dbl>\\\\\n\\hline\n\t 2022 & FC & 21480 & 15\\\\\n\\end{tabular}\n",
            "text/plain": "  año  pcu viviendas porcentaje\n1 2022 FC  21480     15        "
          },
          "metadata": {},
          "output_type": "display_data"
        }
      ],
      "source": [
        "print(\"Viviendas fuera de contorno\")\n",
        "\n",
        "url<-\"https://sniiv.sedatu.gob.mx/api/CuboAPI/GetRegistro/2022,2022/0/0/pcu,anio\"\n",
        "\n",
        "ubicacion<-GET(url)\n",
        "ubicacion<-content(ubicacion,as=\"text\")\n",
        "ubicacion<-fromJSON(ubicacion)%>%\n",
        "#Calcular porcentajes\n",
        "mutate(\n",
        "\n",
        "#Pcu numérico\n",
        "viviendas=as.numeric(viviendas),\n",
        "  porcentaje=round((viviendas/sum(viviendas))*100,1)\n",
        ")%>%\n",
        "filter(pcu %in% c(\"FC\"))\n",
        "\n",
        "ubicacion"
      ],
      "metadata": {
        "ExecuteTime": {
          "end_time": "2024-03-13T13:37:43.915935Z",
          "start_time": "2024-03-13T13:37:43.765324Z"
        },
        "id": "2849798bc5d380be",
        "outputId": "90bea7f0-9399-4f5f-83e0-eee3cb7bb5f6"
      },
      "id": "2849798bc5d380be",
      "execution_count": null
    }
  ],
  "metadata": {
    "kernelspec": {
      "name": "ir",
      "language": "R",
      "display_name": "R"
    },
    "language_info": {
      "codemirror_mode": {
        "name": "ipython",
        "version": 2
      },
      "file_extension": ".py",
      "mimetype": "text/x-python",
      "name": "python",
      "nbconvert_exporter": "python",
      "pygments_lexer": "ipython2",
      "version": "2.7.6"
    },
    "colab": {
      "provenance": [],
      "include_colab_link": true
    }
  },
  "nbformat": 4,
  "nbformat_minor": 5
}