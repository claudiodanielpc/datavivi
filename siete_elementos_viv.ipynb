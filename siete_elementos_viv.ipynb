{
 "cells": [
  {
   "cell_type": "markdown",
   "metadata": {
    "id": "view-in-github",
    "colab_type": "text"
   },
   "source": [
    "<a href=\"https://colab.research.google.com/github/coordanalisis-sedatu/datavivi/blob/main/siete_elementos_viv.ipynb\" target=\"_parent\"><img src=\"https://colab.research.google.com/assets/colab-badge.svg\" alt=\"Open In Colab\"/></a>"
   ],
   "id": "c8c0d51e2c06dc59"
  },
  {
   "cell_type": "markdown",
   "source": [
    "# Cálculo de indicadores de los 7 elementos de la vivienda adecuada\n",
    "\n",
    "Este notebook tiene como objetivo calcular indicadores que permitan caracterizar los 7 elementos de la vivienda adecuada. Esto, de acuerdo a un trabajo previo realizado en la SEDATU.\n",
    "\n",
    "Las fuentes de información que se utilizarán son:\n",
    "- Encuesta Nacional de Ingresos y Gastos de los Hogares (ENIGH) 2022\n",
    "- Encuesta Nacional de Vivienda (ENVI) 2020\n",
    "- Registro de vivienda del Sistema Nacional de Información e Indicadores de Vivienda (SNIIV) 2022"
   ],
   "metadata": {
    "collapsed": false,
    "id": "847977259f7a1121"
   },
   "id": "847977259f7a1121"
  },
  {
   "cell_type": "code",
   "outputs": [],
   "source": [
    "##Borrar datos del entorno\n",
    "rm(list=ls())"
   ],
   "metadata": {
    "id": "62bcbb158c0ef2da",
    "ExecuteTime": {
     "end_time": "2024-04-17T20:32:43.776196Z",
     "start_time": "2024-04-17T20:32:43.761729Z"
    }
   },
   "id": "62bcbb158c0ef2da",
   "execution_count": 6
  },
  {
   "cell_type": "code",
   "outputs": [],
   "source": [
    "##Crear folders de almacenamiento\n",
    "dir.create(\"microdatos\", showWarnings = F)\n",
    "dir.create(\"datos18\", showWarnings = F)"
   ],
   "metadata": {
    "id": "76c7a80b2da6d9ad",
    "ExecuteTime": {
     "end_time": "2024-04-17T20:32:43.867767Z",
     "start_time": "2024-04-17T20:32:43.852173Z"
    }
   },
   "id": "76c7a80b2da6d9ad",
   "execution_count": 7
  },
  {
   "cell_type": "code",
   "outputs": [],
   "source": [
    "if(!require('pacman')) install.packages('pacman')\n",
    "pacman::p_load(tidyverse,srvyr,googledrive,janitor,survey,\n",
    "               sf,httr,jsonlite)"
   ],
   "metadata": {
    "id": "38c6693a64fc5266",
    "ExecuteTime": {
     "end_time": "2024-04-17T20:32:43.886739Z",
     "start_time": "2024-04-17T20:32:43.872029Z"
    }
   },
   "id": "38c6693a64fc5266",
   "execution_count": 8
  },
  {
   "cell_type": "code",
   "outputs": [],
   "source": [
    "# Función para descargar y descomprimir un archivo con timeout\n",
    "download_and_unzip <- function(url, destination=\"microdatos\") {\n",
    "  tryCatch({\n",
    "    # Descargar el archivo con timeout\n",
    "    download.file(url, destfile = paste0(destination, \"/\", basename(url)), mode = \"wb\", timeout = 10000)\n",
    "\n",
    "    # Descomprimir el archivo\n",
    "    unzip(paste0(destination, \"/\", basename(url)), exdir = destination)\n",
    "\n",
    "    # Eliminar el archivo comprimido después de descomprimirlo\n",
    "    unlink(paste0(destination, \"/\", basename(url)))\n",
    "\n",
    "    message(paste(\"Descarga y descompresión exitosas para\", basename(url)))\n",
    "  }, error = function(e) {\n",
    "    warning(paste(\"Error al descargar o descomprimir\", basename(url), \":\", conditionMessage(e)))\n",
    "  })\n",
    "}\n"
   ],
   "metadata": {
    "id": "9c71cd43a03459c4",
    "ExecuteTime": {
     "end_time": "2024-04-17T20:56:24.839889Z",
     "start_time": "2024-04-17T20:56:24.827379Z"
    }
   },
   "id": "9c71cd43a03459c4",
   "execution_count": 48
  },
  {
   "cell_type": "markdown",
   "source": [
    "# Cálculos con datos de la ENIGH 2022"
   ],
   "metadata": {
    "collapsed": false,
    "id": "b3e69402355779ac"
   },
   "id": "b3e69402355779ac"
  },
  {
   "cell_type": "code",
   "outputs": [
    {
     "name": "stderr",
     "output_type": "stream",
     "text": [
      "Descarga y descompresión exitosas para enigh2022_ns_viviendas_csv.zip\n",
      "\n",
      "Descarga y descompresión exitosas para enigh2022_ns_hogares_csv.zip\n",
      "\n"
     ]
    }
   ],
   "source": [
    "download_and_unzip(\"https://www.inegi.org.mx/contenidos/programas/enigh/nc/2022/microdatos/enigh2022_ns_viviendas_csv.zip\")\n",
    "download_and_unzip(\"https://www.inegi.org.mx/contenidos/programas/enigh/nc/2022/microdatos/enigh2022_ns_hogares_csv.zip\")\n"
   ],
   "metadata": {
    "id": "5850716406624efe",
    "outputId": "e1671af3-57b6-4c83-f6d8-efbe33e7175e",
    "ExecuteTime": {
     "end_time": "2024-04-17T20:32:51.138274Z",
     "start_time": "2024-04-17T20:32:43.917557Z"
    }
   },
   "id": "5850716406624efe",
   "execution_count": 10
  },
  {
   "cell_type": "code",
   "outputs": [
    {
     "name": "stderr",
     "output_type": "stream",
     "text": [
      "Warning message:\n",
      "\"\u001B[1m\u001B[22mThere was 1 warning in `mutate()`.\n",
      "\u001B[1m\u001B[22m\u001B[36mℹ\u001B[39m In argument: `mat_pisos = as.numeric(mat_pisos)`.\n",
      "Caused by warning:\n",
      "\u001B[33m!\u001B[39m NAs introduced by coercion\"\n"
     ]
    }
   ],
   "source": [
    "# Carga y limpia el conjunto de datos de viviendas para el año 2022\n",
    "enigh22 <- read.csv(\"microdatos/viviendas.csv\") %>%\n",
    "  janitor::clean_names() %>%  #Poner las variables en minusculas y quitar las variables\n",
    "  mutate(\n",
    "    mat_pared = as.numeric(mat_pared),\n",
    "    mat_pisos = as.numeric(mat_pisos),\n",
    "    mat_techos = as.numeric(mat_techos),\n",
    "#Crear variable de rezago habitacional\n",
    "    rezago = case_when(\n",
    "      (tot_resid / num_cuarto) > 2.5 |   # Hacinamiento\n",
    "        mat_pared %in% c(1, 2, 3, 4, 5, 6) |\n",
    "        mat_pisos %in% c(1) |\n",
    "        mat_techos %in% c(1, 2, 3, 4, 6, 7, 9) |\n",
    "        excusado == 2 ~ \"En rezago\",\n",
    "      TRUE ~ \"Fuera de rezago\"\n",
    "    )\n",
    "  )"
   ],
   "metadata": {
    "id": "5abc8910c8b94965",
    "outputId": "0a074638-595c-496e-92b4-ad5d4bcb7a13",
    "ExecuteTime": {
     "end_time": "2024-04-17T20:32:52.781794Z",
     "start_time": "2024-04-17T20:32:51.142541Z"
    }
   },
   "id": "5abc8910c8b94965",
   "execution_count": 11
  },
  {
   "cell_type": "code",
   "outputs": [],
   "source": [
    "#Definir diseño muestral para ambos años\n",
    "dm<-enigh22%>%\n",
    "  #Diseño muestral\n",
    "  as_survey(weights=factor, strata=est_dis, ids=upm)"
   ],
   "metadata": {
    "id": "bdcfa0e09eca0fba",
    "ExecuteTime": {
     "end_time": "2024-04-17T20:32:53.246849Z",
     "start_time": "2024-04-17T20:32:52.786293Z"
    }
   },
   "id": "bdcfa0e09eca0fba",
   "execution_count": 12
  },
  {
   "cell_type": "markdown",
   "source": [
    "###  Habitabilidad\n"
   ],
   "metadata": {
    "collapsed": false,
    "id": "251220b662b05891"
   },
   "id": "251220b662b05891"
  },
  {
   "cell_type": "code",
   "outputs": [
    {
     "name": "stdout",
     "output_type": "stream",
     "text": [
      "[1] \"Viviendas en rezago habitacional\"\n"
     ]
    },
    {
     "data": {
      "text/html": "<table class=\"dataframe\">\n<caption>A tibble: 1 × 3</caption>\n<thead>\n\t<tr><th scope=col>rezago</th><th scope=col>porcentaje</th><th scope=col>porcentaje_cv</th></tr>\n\t<tr><th scope=col>&lt;chr&gt;</th><th scope=col>&lt;dbl&gt;</th><th scope=col>&lt;dbl&gt;</th></tr>\n</thead>\n<tbody>\n\t<tr><td>En rezago</td><td>24.3</td><td>0.01054548</td></tr>\n</tbody>\n</table>\n",
      "text/markdown": "\nA tibble: 1 × 3\n\n| rezago &lt;chr&gt; | porcentaje &lt;dbl&gt; | porcentaje_cv &lt;dbl&gt; |\n|---|---|---|\n| En rezago | 24.3 | 0.01054548 |\n\n",
      "text/latex": "A tibble: 1 × 3\n\\begin{tabular}{lll}\n rezago & porcentaje & porcentaje\\_cv\\\\\n <chr> & <dbl> & <dbl>\\\\\n\\hline\n\t En rezago & 24.3 & 0.01054548\\\\\n\\end{tabular}\n",
      "text/plain": "  rezago    porcentaje porcentaje_cv\n1 En rezago 24.3       0.01054548   "
     },
     "metadata": {},
     "output_type": "display_data"
    }
   ],
   "source": [
    "print(\"Viviendas en rezago habitacional\")\n",
    "dm%>%\n",
    "  group_by(rezago)%>%\n",
    "  summarise(\n",
    "    porcentaje=survey_prop(vartype=\"cv\"))%>%\n",
    "    mutate(porcentaje=round(porcentaje*100,1))%>%\n",
    "filter(rezago %in% c(\"En rezago\"))"
   ],
   "metadata": {
    "id": "127ad6d28e8bdcc8",
    "outputId": "323e1aaf-790a-4d93-e140-46e4027eb01d",
    "ExecuteTime": {
     "end_time": "2024-04-17T20:32:54.221576Z",
     "start_time": "2024-04-17T20:32:53.250981Z"
    }
   },
   "id": "127ad6d28e8bdcc8",
   "execution_count": 13
  },
  {
   "cell_type": "markdown",
   "source": [
    "### Seguridad de la tenencia"
   ],
   "metadata": {
    "collapsed": false,
    "id": "df2941beb2ea40e9"
   },
   "id": "df2941beb2ea40e9"
  },
  {
   "cell_type": "code",
   "outputs": [
    {
     "name": "stdout",
     "output_type": "stream",
     "text": [
      "[1] \"Viviendas propias y propias en proceso de pago sin escrituras\"\n"
     ]
    },
    {
     "data": {
      "text/html": "<table class=\"dataframe\">\n<caption>A tibble: 1 × 3</caption>\n<thead>\n\t<tr><th scope=col>escrituras</th><th scope=col>porcentaje</th><th scope=col>porcentaje_cv</th></tr>\n\t<tr><th scope=col>&lt;chr&gt;</th><th scope=col>&lt;dbl&gt;</th><th scope=col>&lt;dbl&gt;</th></tr>\n</thead>\n<tbody>\n\t<tr><td>No tiene escrituras</td><td>24.3</td><td>0.01473525</td></tr>\n</tbody>\n</table>\n",
      "text/markdown": "\nA tibble: 1 × 3\n\n| escrituras &lt;chr&gt; | porcentaje &lt;dbl&gt; | porcentaje_cv &lt;dbl&gt; |\n|---|---|---|\n| No tiene escrituras | 24.3 | 0.01473525 |\n\n",
      "text/latex": "A tibble: 1 × 3\n\\begin{tabular}{lll}\n escrituras & porcentaje & porcentaje\\_cv\\\\\n <chr> & <dbl> & <dbl>\\\\\n\\hline\n\t No tiene escrituras & 24.3 & 0.01473525\\\\\n\\end{tabular}\n",
      "text/plain": "  escrituras          porcentaje porcentaje_cv\n1 No tiene escrituras 24.3       0.01473525   "
     },
     "metadata": {},
     "output_type": "display_data"
    }
   ],
   "source": [
    "print(\"Viviendas propias y propias en proceso de pago sin escrituras\")\n",
    "\n",
    "dm%>%\n",
    "#Filtrar propias y propias se están pagando\n",
    "filter(tenencia == 3 | tenencia == 4)%>%\n",
    "mutate(escrituras=case_when(\n",
    "  escrituras==1~\"A nombre del dueño\",\n",
    "  escrituras==2~\"A nombre de otra persona\",\n",
    "    escrituras==3~\"No tiene escrituras\",\n",
    "    escrituras==4~\"No sabe si tiene escrituras\",\n",
    "))%>%\n",
    "group_by(escrituras)%>%\n",
    "  summarise(\n",
    "    porcentaje=survey_prop(vartype=\"cv\"))%>%\n",
    "    mutate(porcentaje=round(porcentaje*100,1))%>%\n",
    "    filter(escrituras %in% c(\"No tiene escrituras\"))"
   ],
   "metadata": {
    "id": "47033e05be07d9bd",
    "outputId": "e8c28d58-2ce5-41b2-8df0-bbaeda6d8a22",
    "ExecuteTime": {
     "end_time": "2024-04-17T20:32:55.609312Z",
     "start_time": "2024-04-17T20:32:54.225563Z"
    }
   },
   "id": "47033e05be07d9bd",
   "execution_count": 14
  },
  {
   "cell_type": "markdown",
   "source": [],
   "metadata": {
    "collapsed": false,
    "id": "bdddb888ef152af0"
   },
   "id": "bdddb888ef152af0"
  },
  {
   "cell_type": "markdown",
   "source": [
    "### Disponibilidad de servicios, materiales, instalaciones e infraestructura\n",
    "\n",
    "Para evitar el cálculo del indicador, se hará un join con la tabla de pobreza del CONEVAL"
   ],
   "metadata": {
    "collapsed": false,
    "id": "64e92e8b08c4e561"
   },
   "id": "64e92e8b08c4e561"
  },
  {
   "cell_type": "code",
   "outputs": [
    {
     "name": "stderr",
     "output_type": "stream",
     "text": [
      "Warning message in download.file(url, destfile = paste0(destination, \"/\", basename(url)), :\n",
      "\"URL 'https://www.coneval.org.mx/Medicion/MP/Documents/MMP_2022/Programas_calculo/R_MMP_2022.zip': status was 'SSL connect error'\"\n",
      "Warning message in value[[3L]](cond):\n",
      "\"Error al descargar o descomprimir R_MMP_2022.zip : cannot open URL 'https://www.coneval.org.mx/Medicion/MP/Documents/MMP_2022/Programas_calculo/R_MMP_2022.zip'\"\n"
     ]
    }
   ],
   "source": [
    "url_coneval<-\"https://www.coneval.org.mx/Medicion/MP/Documents/MMP_2022/Programas_calculo/R_MMP_2022.zip\"\n",
    "download_and_unzip(url_coneval)"
   ],
   "metadata": {
    "id": "7d3fa3fad664ccdf",
    "outputId": "c8302249-b1a0-401c-a7b8-efa8e902a611",
    "ExecuteTime": {
     "end_time": "2024-04-17T22:01:53.802623Z",
     "start_time": "2024-04-17T22:01:52.962049Z"
    }
   },
   "id": "7d3fa3fad664ccdf",
   "execution_count": 56
  },
  {
   "cell_type": "code",
   "outputs": [
    {
     "name": "stdout",
     "output_type": "stream",
     "text": [
      "'data.frame':\t309534 obs. of  4 variables:\n",
      " $ folioviv: num  1e+08 1e+08 1e+08 1e+08 1e+08 ...\n",
      " $ foliohog: int  1 1 1 1 1 1 1 1 1 1 ...\n",
      " $ numren  : int  1 2 3 1 2 1 2 3 1 2 ...\n",
      " $ ic_sbv  : int  0 0 0 0 0 0 0 0 0 0 ...\n"
     ]
    }
   ],
   "source": [
    "pobreza<-read.csv(\"microdatos/Base final/pobreza_22.csv\")%>%\n",
    "select(folioviv, foliohog,numren,ic_sbv)\n",
    "\n",
    "str(pobreza)"
   ],
   "metadata": {
    "id": "e83a87b461f9b23e",
    "outputId": "7e476e29-c385-49c6-da4a-79caa1c4c49b",
    "ExecuteTime": {
     "end_time": "2024-04-17T20:47:21.432842Z",
     "start_time": "2024-04-17T20:47:14.456640Z"
    }
   },
   "id": "e83a87b461f9b23e",
   "execution_count": 18
  },
  {
   "cell_type": "code",
   "outputs": [],
   "source": [
    "vivsb<-enigh22%>%\n",
    "  left_join(\n",
    "    pobreza %>%\n",
    "      group_by(folioviv) %>%\n",
    "      filter(row_number() == 1) %>%\n",
    "      select(folioviv,ic_sbv),\n",
    "    by = \"folioviv\"\n",
    "  )"
   ],
   "metadata": {
    "id": "f51128a37ababeeb",
    "ExecuteTime": {
     "end_time": "2024-04-17T20:47:46.879209Z",
     "start_time": "2024-04-17T20:47:45.623150Z"
    }
   },
   "id": "f51128a37ababeeb",
   "execution_count": 19
  },
  {
   "cell_type": "code",
   "outputs": [],
   "source": [
    "#Definir diseño muestral\n",
    "dm_viv<-vivsb%>%\n",
    "  as_survey(weights=factor, strata=est_dis, ids=upm)"
   ],
   "metadata": {
    "id": "4df24e63126964d2",
    "ExecuteTime": {
     "end_time": "2024-04-17T20:47:48.916471Z",
     "start_time": "2024-04-17T20:47:48.719825Z"
    }
   },
   "id": "4df24e63126964d2",
   "execution_count": 20
  },
  {
   "cell_type": "code",
   "outputs": [
    {
     "name": "stdout",
     "output_type": "stream",
     "text": [
      "[1] \"Viviendas con falta de acceso a servicios básicos\"\n"
     ]
    },
    {
     "data": {
      "text/html": "<table class=\"dataframe\">\n<caption>A tibble: 1 × 3</caption>\n<thead>\n\t<tr><th scope=col>ic_sbv</th><th scope=col>porcentaje</th><th scope=col>porcentaje_cv</th></tr>\n\t<tr><th scope=col>&lt;int&gt;</th><th scope=col>&lt;dbl&gt;</th><th scope=col>&lt;dbl&gt;</th></tr>\n</thead>\n<tbody>\n\t<tr><td>1</td><td>16.2</td><td>0.01616862</td></tr>\n</tbody>\n</table>\n",
      "text/markdown": "\nA tibble: 1 × 3\n\n| ic_sbv &lt;int&gt; | porcentaje &lt;dbl&gt; | porcentaje_cv &lt;dbl&gt; |\n|---|---|---|\n| 1 | 16.2 | 0.01616862 |\n\n",
      "text/latex": "A tibble: 1 × 3\n\\begin{tabular}{lll}\n ic\\_sbv & porcentaje & porcentaje\\_cv\\\\\n <int> & <dbl> & <dbl>\\\\\n\\hline\n\t 1 & 16.2 & 0.01616862\\\\\n\\end{tabular}\n",
      "text/plain": "  ic_sbv porcentaje porcentaje_cv\n1 1      16.2       0.01616862   "
     },
     "metadata": {},
     "output_type": "display_data"
    }
   ],
   "source": [
    "print(\"Viviendas con falta de acceso a servicios básicos\")\n",
    "dm_viv%>%\n",
    "group_by(ic_sbv)%>%\n",
    "    summarise(porcentaje=survey_prop(vartype=\"cv\"))%>%\n",
    "    mutate(porcentaje=round(porcentaje*100,1))%>%\n",
    "    filter(ic_sbv %in% c(1))"
   ],
   "metadata": {
    "id": "53528f481f07282a",
    "outputId": "774cc387-02fa-42c4-da5a-3410b6c3fb85",
    "ExecuteTime": {
     "end_time": "2024-04-17T20:47:52.279917Z",
     "start_time": "2024-04-17T20:47:51.036669Z"
    }
   },
   "id": "53528f481f07282a",
   "execution_count": 21
  },
  {
   "cell_type": "markdown",
   "source": [
    "### Asequibilidad"
   ],
   "metadata": {
    "collapsed": false,
    "id": "af4593db954659d1"
   },
   "id": "af4593db954659d1"
  },
  {
   "cell_type": "code",
   "outputs": [
    {
     "data": {
      "text/html": "<table class=\"dataframe\">\n<caption>A data.frame: 6 × 3</caption>\n<thead>\n\t<tr><th></th><th scope=col>folioviv</th><th scope=col>tenencia</th><th scope=col>pago_viv</th></tr>\n\t<tr><th></th><th scope=col>&lt;dbl&gt;</th><th scope=col>&lt;int&gt;</th><th scope=col>&lt;int&gt;</th></tr>\n</thead>\n<tbody>\n\t<tr><th scope=row>1</th><td>100224706</td><td>3</td><td> 2700</td></tr>\n\t<tr><th scope=row>2</th><td>100336806</td><td>3</td><td> 2200</td></tr>\n\t<tr><th scope=row>3</th><td>100385904</td><td>3</td><td>20000</td></tr>\n\t<tr><th scope=row>4</th><td>100386703</td><td>3</td><td> 9000</td></tr>\n\t<tr><th scope=row>5</th><td>100386704</td><td>3</td><td>14000</td></tr>\n\t<tr><th scope=row>6</th><td>100404202</td><td>3</td><td>12000</td></tr>\n</tbody>\n</table>\n",
      "text/markdown": "\nA data.frame: 6 × 3\n\n| <!--/--> | folioviv &lt;dbl&gt; | tenencia &lt;int&gt; | pago_viv &lt;int&gt; |\n|---|---|---|---|\n| 1 | 100224706 | 3 |  2700 |\n| 2 | 100336806 | 3 |  2200 |\n| 3 | 100385904 | 3 | 20000 |\n| 4 | 100386703 | 3 |  9000 |\n| 5 | 100386704 | 3 | 14000 |\n| 6 | 100404202 | 3 | 12000 |\n\n",
      "text/latex": "A data.frame: 6 × 3\n\\begin{tabular}{r|lll}\n  & folioviv & tenencia & pago\\_viv\\\\\n  & <dbl> & <int> & <int>\\\\\n\\hline\n\t1 & 100224706 & 3 &  2700\\\\\n\t2 & 100336806 & 3 &  2200\\\\\n\t3 & 100385904 & 3 & 20000\\\\\n\t4 & 100386703 & 3 &  9000\\\\\n\t5 & 100386704 & 3 & 14000\\\\\n\t6 & 100404202 & 3 & 12000\\\\\n\\end{tabular}\n",
      "text/plain": "  folioviv  tenencia pago_viv\n1 100224706 3         2700   \n2 100336806 3         2200   \n3 100385904 3        20000   \n4 100386703 3         9000   \n5 100386704 3        14000   \n6 100404202 3        12000   "
     },
     "metadata": {},
     "output_type": "display_data"
    }
   ],
   "source": [
    "pago_vivienda<-enigh22%>%\n",
    "#Se considera únicamente información de aquellas viviendas propias que se están pagando\n",
    "filter(tenencia %in% c(3))%>%\n",
    "select(folioviv, tenencia, pago_viv)\n",
    "head(pago_vivienda)"
   ],
   "metadata": {
    "id": "e049fd9b9bc31dbe",
    "outputId": "3833317e-fef2-4b31-bda0-deccb467e007",
    "ExecuteTime": {
     "end_time": "2024-04-17T20:47:54.747422Z",
     "start_time": "2024-04-17T20:47:54.724176Z"
    }
   },
   "id": "e049fd9b9bc31dbe",
   "execution_count": 22
  },
  {
   "cell_type": "code",
   "outputs": [
    {
     "name": "stderr",
     "output_type": "stream",
     "text": [
      "Descarga y descompresión exitosas para enigh2022_ns_concentradohogar_csv.zip\n",
      "\n"
     ]
    }
   ],
   "source": [
    "#Uilizar la tabla de concentrado hogar\n",
    "download_and_unzip(\"https://www.inegi.org.mx/contenidos/programas/enigh/nc/2022/microdatos/enigh2022_ns_concentradohogar_csv.zip\")"
   ],
   "metadata": {
    "id": "47c244628e808456",
    "outputId": "7a85ceaa-cb4b-4ba1-8ffb-b2fbb1868735",
    "ExecuteTime": {
     "end_time": "2024-04-17T20:48:33.659231Z",
     "start_time": "2024-04-17T20:48:22.928757Z"
    }
   },
   "id": "47c244628e808456",
   "execution_count": 23
  },
  {
   "cell_type": "code",
   "outputs": [],
   "source": [
    "concentrado<-read.csv(\"microdatos/concentradohogar.csv\")%>%\n",
    "  janitor::clean_names()%>%\n",
    "#Ingreso trimestral a mensual\n",
    "mutate(\n",
    "  ing_cor_mensual=ing_cor/3\n",
    ")%>%\n",
    "#Pegar datos de pago de vivienda\n",
    "left_join(\n",
    "  pago_vivienda,\n",
    "  by=\"folioviv\"\n",
    ")%>%\n",
    "#Cálculo de porcentaje de ingreso destinado al pago de vivienda\n",
    "mutate(\n",
    "  porcentaje_pago=(pago_viv/ing_cor_mensual)*100\n",
    ")%>%\n",
    "#Hacer variable categórica de acuerdo a la proporción de ingreso destinado al pago de vivienda\n",
    "mutate(\n",
    "  asequibilidad=case_when(\n",
    "    porcentaje_pago<=30~\"Hasta el 30%\",\n",
    "    porcentaje_pago>30~\"Más del 30%\"\n",
    "  )\n",
    ")"
   ],
   "metadata": {
    "id": "fa5f1a00349d74cb",
    "ExecuteTime": {
     "end_time": "2024-04-17T20:48:37.180141Z",
     "start_time": "2024-04-17T20:48:33.663172Z"
    }
   },
   "id": "fa5f1a00349d74cb",
   "execution_count": 24
  },
  {
   "cell_type": "code",
   "outputs": [],
   "source": [
    "#Definir diseño muestral\n",
    "dm_concentrado<-concentrado%>%\n",
    "  as_survey(weights=factor, strata=est_dis, ids=upm)"
   ],
   "metadata": {
    "id": "fc10f6c238429bfb",
    "ExecuteTime": {
     "end_time": "2024-04-17T20:48:37.434771Z",
     "start_time": "2024-04-17T20:48:37.183732Z"
    }
   },
   "id": "fc10f6c238429bfb",
   "execution_count": 25
  },
  {
   "cell_type": "code",
   "outputs": [
    {
     "name": "stdout",
     "output_type": "stream",
     "text": [
      "[1] \"Porcentaje de hogares que destina hasta el 30% de su ingreso al pago de vivienda\"\n"
     ]
    },
    {
     "data": {
      "text/html": "<table class=\"dataframe\">\n<caption>A tibble: 1 × 3</caption>\n<thead>\n\t<tr><th scope=col>asequibilidad</th><th scope=col>porcentaje</th><th scope=col>porcentaje_cv</th></tr>\n\t<tr><th scope=col>&lt;chr&gt;</th><th scope=col>&lt;dbl&gt;</th><th scope=col>&lt;dbl&gt;</th></tr>\n</thead>\n<tbody>\n\t<tr><td>Hasta el 30%</td><td>7.4</td><td>0.02343417</td></tr>\n</tbody>\n</table>\n",
      "text/markdown": "\nA tibble: 1 × 3\n\n| asequibilidad &lt;chr&gt; | porcentaje &lt;dbl&gt; | porcentaje_cv &lt;dbl&gt; |\n|---|---|---|\n| Hasta el 30% | 7.4 | 0.02343417 |\n\n",
      "text/latex": "A tibble: 1 × 3\n\\begin{tabular}{lll}\n asequibilidad & porcentaje & porcentaje\\_cv\\\\\n <chr> & <dbl> & <dbl>\\\\\n\\hline\n\t Hasta el 30\\% & 7.4 & 0.02343417\\\\\n\\end{tabular}\n",
      "text/plain": "  asequibilidad porcentaje porcentaje_cv\n1 Hasta el 30%  7.4        0.02343417   "
     },
     "metadata": {},
     "output_type": "display_data"
    }
   ],
   "source": [
    "#Calcular porcentaje de hogares con más del 30% de ingreso destinado al pago de vivienda\n",
    "print(\"Porcentaje de hogares que destina hasta el 30% de su ingreso al pago de vivienda\")\n",
    "dm_concentrado%>%\n",
    "  group_by(asequibilidad)%>%\n",
    "  summarise(\n",
    "    porcentaje=survey_prop(vartype=\"cv\"))%>%\n",
    "    mutate(porcentaje=round(porcentaje*100,1))%>%\n",
    "    filter(asequibilidad %in% c(\"Hasta el 30%\"))"
   ],
   "metadata": {
    "id": "9a66b1a50f1253ba",
    "outputId": "09e73e27-c2d9-475c-ddf2-5f5c328df211",
    "ExecuteTime": {
     "end_time": "2024-04-17T20:48:45.481009Z",
     "start_time": "2024-04-17T20:48:43.406148Z"
    }
   },
   "id": "9a66b1a50f1253ba",
   "execution_count": 26
  },
  {
   "cell_type": "markdown",
   "source": [
    "\n",
    "# Cálculos con datos de la ENVI 2020"
   ],
   "metadata": {
    "collapsed": false,
    "id": "55a2f294593ce70e"
   },
   "id": "55a2f294593ce70e"
  },
  {
   "cell_type": "code",
   "outputs": [
    {
     "name": "stderr",
     "output_type": "stream",
     "text": [
      "Descarga y descompresión exitosas para envi_2020_base_de_datos_csv.zip\n",
      "\n"
     ]
    }
   ],
   "source": [
    "download_and_unzip(\"https://www.inegi.org.mx/contenidos/programas/envi/2020/microdatos/envi_2020_base_de_datos_csv.zip\")"
   ],
   "metadata": {
    "id": "96b2f5415a708a0c",
    "outputId": "7f8d1204-86fe-460e-ca9f-a8a794a1d7e4",
    "ExecuteTime": {
     "end_time": "2024-04-17T20:48:53.680717Z",
     "start_time": "2024-04-17T20:48:47.731785Z"
    }
   },
   "id": "96b2f5415a708a0c",
   "execution_count": 27
  },
  {
   "cell_type": "markdown",
   "source": [
    "### Adecuación cultural"
   ],
   "metadata": {
    "collapsed": false,
    "id": "f0aae4a5c8643905"
   },
   "id": "f0aae4a5c8643905"
  },
  {
   "cell_type": "code",
   "outputs": [],
   "source": [
    "#Carga de los datos\n",
    "\n",
    "envi2020<-read.csv(\"microdatos/Bases de datos/TVIVIENDA.csv\")%>%\n",
    "  janitor::clean_names()"
   ],
   "metadata": {
    "id": "f281cc700baf6dd",
    "ExecuteTime": {
     "end_time": "2024-04-17T20:48:56.500958Z",
     "start_time": "2024-04-17T20:48:53.694394Z"
    }
   },
   "id": "f281cc700baf6dd",
   "execution_count": 28
  },
  {
   "cell_type": "code",
   "outputs": [],
   "source": [
    "#Declaración del diseño muestral\n",
    "options(survey.lonely.psu=\"adjust\")\n",
    "dm_envi<-envi2020%>%\n",
    "  as_survey(weights= factor, strata=est_dis, ids=upm_dis)"
   ],
   "metadata": {
    "id": "7fc5d6242cdcf6b9",
    "ExecuteTime": {
     "end_time": "2024-04-17T20:48:56.640285Z",
     "start_time": "2024-04-17T20:48:56.504420Z"
    }
   },
   "id": "7fc5d6242cdcf6b9",
   "execution_count": 29
  },
  {
   "cell_type": "code",
   "outputs": [
    {
     "name": "stdout",
     "output_type": "stream",
     "text": [
      "[1] \"Satisfacción con la vivienda de acuerdo a adecuación cultural\"\n"
     ]
    },
    {
     "data": {
      "text/html": "<table class=\"dataframe\">\n<caption>A tibble: 1 × 3</caption>\n<thead>\n\t<tr><th scope=col>p6_6</th><th scope=col>porcentaje</th><th scope=col>porcentaje_cv</th></tr>\n\t<tr><th scope=col>&lt;chr&gt;</th><th scope=col>&lt;dbl&gt;</th><th scope=col>&lt;dbl&gt;</th></tr>\n</thead>\n<tbody>\n\t<tr><td>Mucho</td><td>51.2</td><td>0.006897074</td></tr>\n</tbody>\n</table>\n",
      "text/markdown": "\nA tibble: 1 × 3\n\n| p6_6 &lt;chr&gt; | porcentaje &lt;dbl&gt; | porcentaje_cv &lt;dbl&gt; |\n|---|---|---|\n| Mucho | 51.2 | 0.006897074 |\n\n",
      "text/latex": "A tibble: 1 × 3\n\\begin{tabular}{lll}\n p6\\_6 & porcentaje & porcentaje\\_cv\\\\\n <chr> & <dbl> & <dbl>\\\\\n\\hline\n\t Mucho & 51.2 & 0.006897074\\\\\n\\end{tabular}\n",
      "text/plain": "  p6_6  porcentaje porcentaje_cv\n1 Mucho 51.2       0.006897074  "
     },
     "metadata": {},
     "output_type": "display_data"
    }
   ],
   "source": [
    "print(\"Satisfacción con la vivienda de acuerdo a adecuación cultural\")\n",
    "dm_envi%>%\n",
    "  group_by(p6_6)%>%\n",
    "mutate(p6_6=case_when(\n",
    "    p6_6==1~\"Mucho\",\n",
    "    p6_6==2~\"Algo\",\n",
    "    p6_6==3~\"Poco\",\n",
    "    p6_6==4~\"Nada\",\n",
    "    p6_6==9~\"No especificado\"))%>%\n",
    "  summarise(porcentaje=survey_prop(vartype=\"cv\"))%>%\n",
    "  mutate(porcentaje=round(porcentaje*100,1))%>%\n",
    "    filter(p6_6 %in% c(\"Mucho\"))"
   ],
   "metadata": {
    "id": "d3740211214df9cf",
    "outputId": "ecbf8ffb-8053-40cf-c163-292a1b2cd5ec",
    "ExecuteTime": {
     "end_time": "2024-04-17T20:48:58.177786Z",
     "start_time": "2024-04-17T20:48:56.655303Z"
    }
   },
   "id": "d3740211214df9cf",
   "execution_count": 30
  },
  {
   "cell_type": "markdown",
   "source": [
    "### Accesibilidad"
   ],
   "metadata": {
    "collapsed": false,
    "id": "4191acc641f17892"
   },
   "id": "4191acc641f17892"
  },
  {
   "cell_type": "code",
   "outputs": [
    {
     "name": "stdout",
     "output_type": "stream",
     "text": [
      "[1] \"Viviendas con necesidad de adecuaciones para personas con discapacidad\"\n"
     ]
    },
    {
     "data": {
      "text/html": "<table class=\"dataframe\">\n<caption>A tibble: 1 × 3</caption>\n<thead>\n\t<tr><th scope=col>discap</th><th scope=col>porcentaje</th><th scope=col>porcentaje_cv</th></tr>\n\t<tr><th scope=col>&lt;chr&gt;</th><th scope=col>&lt;dbl&gt;</th><th scope=col>&lt;dbl&gt;</th></tr>\n</thead>\n<tbody>\n\t<tr><td>Con necesidad de adecuación</td><td>16.9</td><td>0.0142452</td></tr>\n</tbody>\n</table>\n",
      "text/markdown": "\nA tibble: 1 × 3\n\n| discap &lt;chr&gt; | porcentaje &lt;dbl&gt; | porcentaje_cv &lt;dbl&gt; |\n|---|---|---|\n| Con necesidad de adecuación | 16.9 | 0.0142452 |\n\n",
      "text/latex": "A tibble: 1 × 3\n\\begin{tabular}{lll}\n discap & porcentaje & porcentaje\\_cv\\\\\n <chr> & <dbl> & <dbl>\\\\\n\\hline\n\t Con necesidad de adecuación & 16.9 & 0.0142452\\\\\n\\end{tabular}\n",
      "text/plain": "  discap                      porcentaje porcentaje_cv\n1 Con necesidad de adecuación 16.9       0.0142452    "
     },
     "metadata": {},
     "output_type": "display_data"
    }
   ],
   "source": [
    "print(\"Viviendas con necesidad de adecuaciones para personas con discapacidad\")\n",
    "dm_envi%>%\n",
    "  mutate(discap=\n",
    "case_when(\n",
    "  p6_7_1==1 |\n",
    "p6_7_2==1 |\n",
    "p6_7_3==1 |\n",
    "p6_7_4==1  ~\"Con necesidad de adecuación\",\n",
    "TRUE~\"Sin necesidad de adecuación\"\n",
    "  )\n",
    ")%>%\n",
    "group_by(discap)%>%\n",
    "  summarise(\n",
    "    porcentaje=survey_prop(vartype=\"cv\"))%>%\n",
    "    mutate(porcentaje=round(porcentaje*100,1))%>%\n",
    "    filter(discap %in% c(\"Con necesidad de adecuación\"))"
   ],
   "metadata": {
    "id": "fcaeab3745409201",
    "outputId": "835ffa7a-ed86-4954-916b-c1e43a4203ee",
    "ExecuteTime": {
     "end_time": "2024-04-17T20:49:07.675239Z",
     "start_time": "2024-04-17T20:49:06.752151Z"
    }
   },
   "id": "fcaeab3745409201",
   "execution_count": 31
  },
  {
   "cell_type": "markdown",
   "source": [
    "# Cálculos con datos del SNIIV\n",
    "### Ubicación\n",
    "\n",
    "Para este indicador se utilizará la información del registro de vivienda que se publica en el Sistema Nacional de Información e Indicadores de Vivienda (SNIIV) de la Secretaría de Desarrollo Agrario, Territorial y Urbano (SEDATU)."
   ],
   "metadata": {
    "collapsed": false,
    "id": "77771f157070b5ce"
   },
   "id": "77771f157070b5ce"
  },
  {
   "cell_type": "code",
   "outputs": [
    {
     "name": "stdout",
     "output_type": "stream",
     "text": [
      "[1] \"Viviendas fuera de contorno\"\n"
     ]
    },
    {
     "data": {
      "text/html": "<table class=\"dataframe\">\n<caption>A data.frame: 1 × 4</caption>\n<thead>\n\t<tr><th scope=col>año</th><th scope=col>pcu</th><th scope=col>viviendas</th><th scope=col>porcentaje</th></tr>\n\t<tr><th scope=col>&lt;int&gt;</th><th scope=col>&lt;chr&gt;</th><th scope=col>&lt;dbl&gt;</th><th scope=col>&lt;dbl&gt;</th></tr>\n</thead>\n<tbody>\n\t<tr><td>2022</td><td>FC</td><td>21480</td><td>15</td></tr>\n</tbody>\n</table>\n",
      "text/markdown": "\nA data.frame: 1 × 4\n\n| año &lt;int&gt; | pcu &lt;chr&gt; | viviendas &lt;dbl&gt; | porcentaje &lt;dbl&gt; |\n|---|---|---|---|\n| 2022 | FC | 21480 | 15 |\n\n",
      "text/latex": "A data.frame: 1 × 4\n\\begin{tabular}{llll}\n año & pcu & viviendas & porcentaje\\\\\n <int> & <chr> & <dbl> & <dbl>\\\\\n\\hline\n\t 2022 & FC & 21480 & 15\\\\\n\\end{tabular}\n",
      "text/plain": "  año  pcu viviendas porcentaje\n1 2022 FC  21480     15        "
     },
     "metadata": {},
     "output_type": "display_data"
    }
   ],
   "source": [
    "print(\"Viviendas fuera de contorno\")\n",
    "\n",
    "url<-\"https://sniiv.sedatu.gob.mx/api/CuboAPI/GetRegistro/2022,2022/0/0/pcu,anio\"\n",
    "\n",
    "ubicacion<-GET(url)\n",
    "ubicacion<-content(ubicacion,as=\"text\")\n",
    "ubicacion<-fromJSON(ubicacion)%>%\n",
    "#Calcular porcentajes\n",
    "mutate(\n",
    "\n",
    "#Pcu numérico\n",
    "viviendas=as.numeric(viviendas),\n",
    "  porcentaje=round((viviendas/sum(viviendas))*100,1)\n",
    ")%>%\n",
    "filter(pcu %in% c(\"FC\"))\n",
    "\n",
    "ubicacion"
   ],
   "metadata": {
    "id": "2849798bc5d380be",
    "outputId": "90bea7f0-9399-4f5f-83e0-eee3cb7bb5f6",
    "ExecuteTime": {
     "end_time": "2024-04-17T20:49:10.930579Z",
     "start_time": "2024-04-17T20:49:10.607876Z"
    }
   },
   "id": "2849798bc5d380be",
   "execution_count": 32
  },
  {
   "cell_type": "markdown",
   "source": [
    "## Cálculo de datos de principio de administración para hacer comparativa\n"
   ],
   "metadata": {
    "collapsed": false
   },
   "id": "8cb269ac5473072f"
  },
  {
   "cell_type": "code",
   "outputs": [
    {
     "name": "stderr",
     "output_type": "stream",
     "text": [
      "Descarga y descompresión exitosas para enigh2018_ns_viviendas_csv.zip\n",
      "\n",
      "Descarga y descompresión exitosas para enigh2018_ns_hogares_csv.zip\n",
      "\n"
     ]
    }
   ],
   "source": [
    "download_and_unzip(\"https://www.inegi.org.mx/contenidos/programas/enigh/nc/2018/microdatos/enigh2018_ns_viviendas_csv.zip\",\"datos18\")\n",
    "download_and_unzip(\"https://www.inegi.org.mx/contenidos/programas/enigh/nc/2018/microdatos/enigh2018_ns_hogares_csv.zip\",'datos18')"
   ],
   "metadata": {
    "collapsed": false,
    "ExecuteTime": {
     "end_time": "2024-04-17T20:57:17.783628Z",
     "start_time": "2024-04-17T20:57:14.160193Z"
    }
   },
   "id": "541612adb663d0f6",
   "execution_count": 50
  },
  {
   "cell_type": "markdown",
   "source": [],
   "metadata": {
    "collapsed": false
   },
   "id": "b5ec2074eefcbab9"
  },
  {
   "cell_type": "code",
   "outputs": [
    {
     "name": "stderr",
     "output_type": "stream",
     "text": [
      "Warning message:\n",
      "\"\u001B[1m\u001B[22mThere was 1 warning in `mutate()`.\n",
      "\u001B[1m\u001B[22m\u001B[36mℹ\u001B[39m In argument: `mat_pisos = as.numeric(mat_pisos)`.\n",
      "Caused by warning:\n",
      "\u001B[33m!\u001B[39m NAs introduced by coercion\"\n"
     ]
    }
   ],
   "source": [
    "# Carga y limpia el conjunto de datos de viviendas para el año 2022\n",
    "enigh18 <- read.csv(\"datos18/viviendas.csv\") %>%\n",
    "  janitor::clean_names() %>%  #Poner las variables en minusculas y quitar las variables\n",
    "  mutate(\n",
    "    mat_pared = as.numeric(mat_pared),\n",
    "    mat_pisos = as.numeric(mat_pisos),\n",
    "    mat_techos = as.numeric(mat_techos),\n",
    "#Crear variable de rezago habitacional\n",
    "    rezago = case_when(\n",
    "      (tot_resid / num_cuarto) > 2.5 |   # Hacinamiento\n",
    "        mat_pared %in% c(1, 2, 3, 4, 5, 6) |\n",
    "        mat_pisos %in% c(1) |\n",
    "        mat_techos %in% c(1, 2, 3, 4, 6, 7, 9) |\n",
    "        excusado == 2 ~ \"En rezago\",\n",
    "      TRUE ~ \"Fuera de rezago\"\n",
    "    )\n",
    "  )"
   ],
   "metadata": {
    "collapsed": false,
    "ExecuteTime": {
     "end_time": "2024-04-17T20:57:21.333743Z",
     "start_time": "2024-04-17T20:57:20.573601Z"
    }
   },
   "id": "df199aa053d48a9b",
   "execution_count": 51
  },
  {
   "cell_type": "code",
   "outputs": [],
   "source": [
    "#Definir diseño muestral para ambos años\n",
    "dm <-enigh18%>%\n",
    "#Diseño muestral\n",
    "as_survey(weights=factor, strata=est_dis, ids=upm)"
   ],
   "metadata": {
    "collapsed": false,
    "ExecuteTime": {
     "end_time": "2024-04-17T20:57:23.958929Z",
     "start_time": "2024-04-17T20:57:23.768825Z"
    }
   },
   "id": "a2dbcd840e91db11",
   "execution_count": 52
  },
  {
   "cell_type": "markdown",
   "source": [
    "###  Habitabilidad\n"
   ],
   "metadata": {
    "collapsed": false
   },
   "id": "357976d254fc2363"
  },
  {
   "cell_type": "code",
   "outputs": [
    {
     "name": "stdout",
     "output_type": "stream",
     "text": [
      "[1] \"Viviendas en rezago habitacional\"\n"
     ]
    },
    {
     "data": {
      "text/html": "<table class=\"dataframe\">\n<caption>A tibble: 1 × 3</caption>\n<thead>\n\t<tr><th scope=col>rezago</th><th scope=col>porcentaje</th><th scope=col>porcentaje_cv</th></tr>\n\t<tr><th scope=col>&lt;chr&gt;</th><th scope=col>&lt;dbl&gt;</th><th scope=col>&lt;dbl&gt;</th></tr>\n</thead>\n<tbody>\n\t<tr><td>En rezago</td><td>27.3</td><td>0.01169431</td></tr>\n</tbody>\n</table>\n",
      "text/markdown": "\nA tibble: 1 × 3\n\n| rezago &lt;chr&gt; | porcentaje &lt;dbl&gt; | porcentaje_cv &lt;dbl&gt; |\n|---|---|---|\n| En rezago | 27.3 | 0.01169431 |\n\n",
      "text/latex": "A tibble: 1 × 3\n\\begin{tabular}{lll}\n rezago & porcentaje & porcentaje\\_cv\\\\\n <chr> & <dbl> & <dbl>\\\\\n\\hline\n\t En rezago & 27.3 & 0.01169431\\\\\n\\end{tabular}\n",
      "text/plain": "  rezago    porcentaje porcentaje_cv\n1 En rezago 27.3       0.01169431   "
     },
     "metadata": {},
     "output_type": "display_data"
    }
   ],
   "source": [
    "print(\"Viviendas en rezago habitacional\")\n",
    "dm%>%\n",
    "  group_by(rezago)%>%\n",
    "  summarise(\n",
    "    porcentaje=survey_prop(vartype=\"cv\"))%>%\n",
    "    mutate(porcentaje=round(porcentaje*100,1))%>%\n",
    "filter(rezago %in% c(\"En rezago\"))"
   ],
   "metadata": {
    "collapsed": false,
    "ExecuteTime": {
     "end_time": "2024-04-17T20:57:26.451348Z",
     "start_time": "2024-04-17T20:57:25.710427Z"
    }
   },
   "id": "d138645f5c02cbe6",
   "execution_count": 53
  },
  {
   "cell_type": "markdown",
   "source": [
    "### Seguridad en la tenencia"
   ],
   "metadata": {
    "collapsed": false
   },
   "id": "7fdfe948d35d16d9"
  },
  {
   "cell_type": "code",
   "outputs": [
    {
     "name": "stdout",
     "output_type": "stream",
     "text": [
      "[1] \"Viviendas propias y propias en proceso de pago sin escrituras\"\n"
     ]
    },
    {
     "data": {
      "text/html": "<table class=\"dataframe\">\n<caption>A tibble: 1 × 3</caption>\n<thead>\n\t<tr><th scope=col>escrituras</th><th scope=col>porcentaje</th><th scope=col>porcentaje_cv</th></tr>\n\t<tr><th scope=col>&lt;chr&gt;</th><th scope=col>&lt;dbl&gt;</th><th scope=col>&lt;dbl&gt;</th></tr>\n</thead>\n<tbody>\n\t<tr><td>No tiene escrituras</td><td>26.8</td><td>0.01594783</td></tr>\n</tbody>\n</table>\n",
      "text/markdown": "\nA tibble: 1 × 3\n\n| escrituras &lt;chr&gt; | porcentaje &lt;dbl&gt; | porcentaje_cv &lt;dbl&gt; |\n|---|---|---|\n| No tiene escrituras | 26.8 | 0.01594783 |\n\n",
      "text/latex": "A tibble: 1 × 3\n\\begin{tabular}{lll}\n escrituras & porcentaje & porcentaje\\_cv\\\\\n <chr> & <dbl> & <dbl>\\\\\n\\hline\n\t No tiene escrituras & 26.8 & 0.01594783\\\\\n\\end{tabular}\n",
      "text/plain": "  escrituras          porcentaje porcentaje_cv\n1 No tiene escrituras 26.8       0.01594783   "
     },
     "metadata": {},
     "output_type": "display_data"
    }
   ],
   "source": [
    "print(\"Viviendas propias y propias en proceso de pago sin escrituras\")\n",
    "\n",
    "dm%>%\n",
    "#Filtrar propias y propias se están pagando\n",
    "filter(tenencia == 3 | tenencia == 4)%>%\n",
    "mutate(escrituras=case_when(\n",
    "  escrituras==1~\"A nombre del dueño\",\n",
    "  escrituras==2~\"A nombre de otra persona\",\n",
    "    escrituras==3~\"No tiene escrituras\",\n",
    "    escrituras==4~\"No sabe si tiene escrituras\",\n",
    "))%>%\n",
    "group_by(escrituras)%>%\n",
    "  summarise(\n",
    "    porcentaje=survey_prop(vartype=\"cv\"))%>%\n",
    "    mutate(porcentaje=round(porcentaje*100,1))%>%\n",
    "    filter(escrituras %in% c(\"No tiene escrituras\"))"
   ],
   "metadata": {
    "collapsed": false,
    "ExecuteTime": {
     "end_time": "2024-04-17T21:05:01.549631Z",
     "start_time": "2024-04-17T21:05:00.444113Z"
    }
   },
   "id": "8157e3ca5500516c",
   "execution_count": 54
  },
  {
   "cell_type": "markdown",
   "source": [
    "### Disponibilidad de servicios, materiales, instalaciones e infraestructura\n",
    "\n",
    "Para evitar el cálculo del indicador, se hará un join con la tabla de pobreza del CONEVAL"
   ],
   "metadata": {
    "collapsed": false
   },
   "id": "af1c21210571dd38"
  },
  {
   "cell_type": "code",
   "outputs": [
    {
     "name": "stdout",
     "output_type": "stream",
     "text": [
      "'data.frame':\t269065 obs. of  4 variables:\n",
      " $ folioviv: num  1e+08 1e+08 1e+08 1e+08 1e+08 ...\n",
      " $ foliohog: int  1 1 1 1 1 1 1 1 1 1 ...\n",
      " $ numren  : int  1 2 3 1 2 3 4 5 1 2 ...\n",
      " $ ic_sbv  : int  0 0 0 0 0 0 0 0 0 0 ...\n"
     ]
    }
   ],
   "source": [
    "pobreza<-read.csv(\"microdatos/2018/Base final/pobreza_18.csv\")%>%\n",
    "select(folioviv, foliohog,numren,ic_sbv)\n",
    "\n",
    "str(pobreza)"
   ],
   "metadata": {
    "collapsed": false,
    "ExecuteTime": {
     "end_time": "2024-04-17T22:08:17.608437Z",
     "start_time": "2024-04-17T22:08:12.156160Z"
    }
   },
   "id": "78676643559db66b",
   "execution_count": 57
  },
  {
   "cell_type": "code",
   "outputs": [],
   "source": [
    "vivsb<-enigh18%>%\n",
    "  left_join(\n",
    "    pobreza %>%\n",
    "      group_by(folioviv) %>%\n",
    "      filter(row_number() == 1) %>%\n",
    "      select(folioviv,ic_sbv),\n",
    "    by = \"folioviv\"\n",
    "  )"
   ],
   "metadata": {
    "collapsed": false,
    "ExecuteTime": {
     "end_time": "2024-04-17T22:09:05.296056Z",
     "start_time": "2024-04-17T22:09:04.555758Z"
    }
   },
   "id": "1bf916c807120fce",
   "execution_count": 58
  },
  {
   "cell_type": "code",
   "outputs": [
    {
     "name": "stdout",
     "output_type": "stream",
     "text": [
      "[1] \"Viviendas con falta de acceso a servicios básicos\"\n"
     ]
    },
    {
     "data": {
      "text/html": "<table class=\"dataframe\">\n<caption>A tibble: 1 × 3</caption>\n<thead>\n\t<tr><th scope=col>ic_sbv</th><th scope=col>porcentaje</th><th scope=col>porcentaje_cv</th></tr>\n\t<tr><th scope=col>&lt;int&gt;</th><th scope=col>&lt;dbl&gt;</th><th scope=col>&lt;dbl&gt;</th></tr>\n</thead>\n<tbody>\n\t<tr><td>1</td><td>18.1</td><td>0.01526945</td></tr>\n</tbody>\n</table>\n",
      "text/markdown": "\nA tibble: 1 × 3\n\n| ic_sbv &lt;int&gt; | porcentaje &lt;dbl&gt; | porcentaje_cv &lt;dbl&gt; |\n|---|---|---|\n| 1 | 18.1 | 0.01526945 |\n\n",
      "text/latex": "A tibble: 1 × 3\n\\begin{tabular}{lll}\n ic\\_sbv & porcentaje & porcentaje\\_cv\\\\\n <int> & <dbl> & <dbl>\\\\\n\\hline\n\t 1 & 18.1 & 0.01526945\\\\\n\\end{tabular}\n",
      "text/plain": "  ic_sbv porcentaje porcentaje_cv\n1 1      18.1       0.01526945   "
     },
     "metadata": {},
     "output_type": "display_data"
    }
   ],
   "source": [
    "#Definir diseño muestral\n",
    "dm_viv<-vivsb%>%\n",
    "as_survey(weights=factor, strata=est_dis, ids=upm)\n",
    "print(\"Viviendas con falta de acceso a servicios básicos\")\n",
    "dm_viv%>%\n",
    "group_by(ic_sbv)%>%\n",
    "summarise(porcentaje=survey_prop(vartype=\"cv\"))%>%\n",
    "mutate(porcentaje=round(porcentaje*100,1))%>%\n",
    "filter(ic_sbv %in% c(1))"
   ],
   "metadata": {
    "collapsed": false,
    "ExecuteTime": {
     "end_time": "2024-04-17T22:09:34.234941Z",
     "start_time": "2024-04-17T22:09:33.045252Z"
    }
   },
   "id": "67f76eedbb19ba1c",
   "execution_count": 59
  },
  {
   "cell_type": "markdown",
   "source": [
    "### Asequibilidad"
   ],
   "metadata": {
    "collapsed": false
   },
   "id": "3a3eb7a6fbd60ae1"
  },
  {
   "cell_type": "code",
   "outputs": [
    {
     "name": "stderr",
     "output_type": "stream",
     "text": [
      "Descarga y descompresión exitosas para enigh2018_ns_concentradohogar_csv.zip\n",
      "\n"
     ]
    },
    {
     "name": "stdout",
     "output_type": "stream",
     "text": [
      "[1] \"Porcentaje de hogares que destina hasta el 30% de su ingreso al pago de vivienda\"\n"
     ]
    },
    {
     "data": {
      "text/html": "<table class=\"dataframe\">\n<caption>A tibble: 1 × 3</caption>\n<thead>\n\t<tr><th scope=col>asequibilidad</th><th scope=col>porcentaje</th><th scope=col>porcentaje_cv</th></tr>\n\t<tr><th scope=col>&lt;chr&gt;</th><th scope=col>&lt;dbl&gt;</th><th scope=col>&lt;dbl&gt;</th></tr>\n</thead>\n<tbody>\n\t<tr><td>Hasta el 30%</td><td>8.4</td><td>0.02526001</td></tr>\n</tbody>\n</table>\n",
      "text/markdown": "\nA tibble: 1 × 3\n\n| asequibilidad &lt;chr&gt; | porcentaje &lt;dbl&gt; | porcentaje_cv &lt;dbl&gt; |\n|---|---|---|\n| Hasta el 30% | 8.4 | 0.02526001 |\n\n",
      "text/latex": "A tibble: 1 × 3\n\\begin{tabular}{lll}\n asequibilidad & porcentaje & porcentaje\\_cv\\\\\n <chr> & <dbl> & <dbl>\\\\\n\\hline\n\t Hasta el 30\\% & 8.4 & 0.02526001\\\\\n\\end{tabular}\n",
      "text/plain": "  asequibilidad porcentaje porcentaje_cv\n1 Hasta el 30%  8.4        0.02526001   "
     },
     "metadata": {},
     "output_type": "display_data"
    }
   ],
   "source": [
    "pago_vivienda<-enigh18%>%\n",
    "#Se considera únicamente información de aquellas viviendas propias que se están pagando\n",
    "filter(tenencia %in% c(3))%>%\n",
    "select(folioviv, tenencia, pago_viv)\n",
    "#Uilizar la tabla de concentrado hogar\n",
    "download_and_unzip(\"https://www.inegi.org.mx/contenidos/programas/enigh/nc/2018/microdatos/enigh2018_ns_concentradohogar_csv.zip\",\"datos18\")\n",
    "concentrado<-read.csv(\"datos18/concentradohogar.csv\")%>%\n",
    "janitor::clean_names()%>%\n",
    "#Ingreso trimestral a mensual\n",
    "mutate(\n",
    "ing_cor_mensual=ing_cor/3\n",
    ")%>%\n",
    "#Pegar datos de pago de vivienda\n",
    "left_join(\n",
    "pago_vivienda,\n",
    "by=\"folioviv\"\n",
    ")%>%\n",
    "#Cálculo de porcentaje de ingreso destinado al pago de vivienda\n",
    "mutate(\n",
    "porcentaje_pago=(pago_viv/ing_cor_mensual)*100\n",
    ")%>%\n",
    "#Hacer variable categórica de acuerdo a la proporción de ingreso destinado al pago de vivienda\n",
    "mutate(\n",
    "asequibilidad=case_when(\n",
    "porcentaje_pago<=30~\"Hasta el 30%\",\n",
    "porcentaje_pago>30~\"Más del 30%\"\n",
    ")\n",
    ")\n",
    "#Definir diseño muestral\n",
    "dm_concentrado<-concentrado%>%\n",
    "as_survey(weights=factor, strata=est_dis, ids=upm)\n",
    "#Calcular porcentaje de hogares con más del 30% de ingreso destinado al pago de vivienda\n",
    "print(\"Porcentaje de hogares que destina hasta el 30% de su ingreso al pago de vivienda\")\n",
    "dm_concentrado%>%\n",
    "group_by(asequibilidad)%>%\n",
    "summarise(\n",
    "porcentaje=survey_prop(vartype=\"cv\"))%>%\n",
    "mutate(porcentaje=round(porcentaje*100,1))%>%\n",
    "filter(asequibilidad %in% c(\"Hasta el 30%\"))"
   ],
   "metadata": {
    "collapsed": false,
    "ExecuteTime": {
     "end_time": "2024-04-17T22:12:01.798564Z",
     "start_time": "2024-04-17T22:11:48.086231Z"
    }
   },
   "id": "191f2cbdd7ea5328",
   "execution_count": 61
  },
  {
   "cell_type": "markdown",
   "source": [
    "# Cálculos con datos del SNIIV\n",
    "### Ubicación\n",
    "\n",
    "Para este indicador se utilizará la información del registro de vivienda que se publica en el Sistema Nacional de Información e Indicadores de Vivienda (SNIIV) de la Secretaría de Desarrollo Agrario, Territorial y Urbano (SEDATU)."
   ],
   "metadata": {
    "collapsed": false
   },
   "id": "56a6689303e406d0"
  },
  {
   "cell_type": "code",
   "outputs": [
    {
     "name": "stdout",
     "output_type": "stream",
     "text": [
      "[1] \"Viviendas fuera de contorno\"\n"
     ]
    },
    {
     "data": {
      "text/html": "<table class=\"dataframe\">\n<caption>A data.frame: 1 × 4</caption>\n<thead>\n\t<tr><th scope=col>año</th><th scope=col>pcu</th><th scope=col>viviendas</th><th scope=col>porcentaje</th></tr>\n\t<tr><th scope=col>&lt;int&gt;</th><th scope=col>&lt;chr&gt;</th><th scope=col>&lt;dbl&gt;</th><th scope=col>&lt;dbl&gt;</th></tr>\n</thead>\n<tbody>\n\t<tr><td>2018</td><td>FC</td><td>31800</td><td>12.1</td></tr>\n</tbody>\n</table>\n",
      "text/markdown": "\nA data.frame: 1 × 4\n\n| año &lt;int&gt; | pcu &lt;chr&gt; | viviendas &lt;dbl&gt; | porcentaje &lt;dbl&gt; |\n|---|---|---|---|\n| 2018 | FC | 31800 | 12.1 |\n\n",
      "text/latex": "A data.frame: 1 × 4\n\\begin{tabular}{llll}\n año & pcu & viviendas & porcentaje\\\\\n <int> & <chr> & <dbl> & <dbl>\\\\\n\\hline\n\t 2018 & FC & 31800 & 12.1\\\\\n\\end{tabular}\n",
      "text/plain": "  año  pcu viviendas porcentaje\n1 2018 FC  31800     12.1      "
     },
     "metadata": {},
     "output_type": "display_data"
    }
   ],
   "source": [
    "print(\"Viviendas fuera de contorno\")\n",
    "\n",
    "url<-\"https://sniiv.sedatu.gob.mx/api/CuboAPI/GetRegistro/2018,2018/0/0/pcu,anio\"\n",
    "\n",
    "ubicacion<-GET(url)\n",
    "ubicacion<-content(ubicacion,as=\"text\")\n",
    "ubicacion<-fromJSON(ubicacion)%>%\n",
    "#Calcular porcentajes\n",
    "mutate(\n",
    "\n",
    "#Pcu numérico\n",
    "viviendas=as.numeric(viviendas),\n",
    "  porcentaje=round((viviendas/sum(viviendas))*100,1)\n",
    ")%>%\n",
    "filter(pcu %in% c(\"FC\"))\n",
    "\n",
    "ubicacion"
   ],
   "metadata": {
    "collapsed": false,
    "ExecuteTime": {
     "end_time": "2024-04-17T22:15:12.152626Z",
     "start_time": "2024-04-17T22:15:12.055888Z"
    }
   },
   "id": "bc51b6771a8762f1",
   "execution_count": 62
  },
  {
   "cell_type": "markdown",
   "source": [],
   "metadata": {
    "collapsed": false
   },
   "id": "98e9dae476af2cf5"
  }
 ],
 "metadata": {
  "kernelspec": {
   "name": "ir",
   "language": "R",
   "display_name": "R"
  },
  "language_info": {
   "codemirror_mode": {
    "name": "ipython",
    "version": 2
   },
   "file_extension": ".py",
   "mimetype": "text/x-python",
   "name": "python",
   "nbconvert_exporter": "python",
   "pygments_lexer": "ipython2",
   "version": "2.7.6"
  },
  "colab": {
   "provenance": [],
   "include_colab_link": true
  }
 },
 "nbformat": 4,
 "nbformat_minor": 5
}
