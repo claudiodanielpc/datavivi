{
  "cells": [
    {
      "cell_type": "markdown",
      "metadata": {
        "id": "view-in-github",
        "colab_type": "text"
      },
      "source": [
        "<a href=\"https://colab.research.google.com/github/coordanalisis-sedatu/datavivi/blob/main/siete_elementos_viv.ipynb\" target=\"_parent\"><img src=\"https://colab.research.google.com/assets/colab-badge.svg\" alt=\"Open In Colab\"/></a>"
      ]
    },
    {
      "cell_type": "code",
      "outputs": [],
      "source": [
        "##Borrar datos del entorno\n",
        "rm(list=ls())"
      ],
      "metadata": {
        "ExecuteTime": {
          "end_time": "2024-03-13T13:19:44.002957Z",
          "start_time": "2024-03-13T13:19:43.990915Z"
        },
        "id": "62bcbb158c0ef2da"
      },
      "id": "62bcbb158c0ef2da",
      "execution_count": null
    },
    {
      "cell_type": "code",
      "outputs": [],
      "source": [
        "##Crear folders de almacenamiento\n",
        "dir.create(\"microdatos\", showWarnings = F)"
      ],
      "metadata": {
        "ExecuteTime": {
          "end_time": "2024-03-13T13:19:44.075880Z",
          "start_time": "2024-03-13T13:19:44.061140Z"
        },
        "id": "76c7a80b2da6d9ad"
      },
      "id": "76c7a80b2da6d9ad",
      "execution_count": null
    },
    {
      "cell_type": "code",
      "outputs": [
        {
          "name": "stderr",
          "output_type": "stream",
          "text": [
            "Loading required package: pacman\n",
            "\n"
          ]
        }
      ],
      "source": [
        "if(!require('pacman')) install.packages('pacman')\n",
        "pacman::p_load(tidyverse,srvyr,googledrive,janitor,survey,\n",
        "               sf,httr,jsonlite)"
      ],
      "metadata": {
        "ExecuteTime": {
          "end_time": "2024-03-13T13:19:47.201560Z",
          "start_time": "2024-03-13T13:19:44.079561Z"
        },
        "id": "38c6693a64fc5266",
        "outputId": "29080bf5-12ab-4167-b610-6a0b3981801b"
      },
      "id": "38c6693a64fc5266",
      "execution_count": null
    },
    {
      "cell_type": "code",
      "outputs": [],
      "source": [
        "options(timeout = 1000)\n"
      ],
      "metadata": {
        "ExecuteTime": {
          "end_time": "2024-03-13T13:19:47.215573Z",
          "start_time": "2024-03-13T13:19:47.204936Z"
        },
        "id": "e972fad08118c81a"
      },
      "id": "e972fad08118c81a",
      "execution_count": null
    },
    {
      "cell_type": "code",
      "outputs": [],
      "source": [
        "#Función para descargar y unzip\n",
        "download_and_unzip <- function(url, dir) {\n",
        "  # Crear directorio si no existe\n",
        "  if (!dir.exists(dir)) {\n",
        "    dir.create(dir, showWarnings = FALSE)\n",
        "  }\n",
        "\n",
        "  # Crear el archivo destino\n",
        "  destfile <- paste0(dir, \"/\", basename(url))\n",
        "\n",
        "  # Descarga\n",
        "  download.file(url, destfile, mode = \"wb\")\n",
        "\n",
        "  # Unzip\n",
        "  unzip(destfile, exdir = dir)\n",
        "}\n"
      ],
      "metadata": {
        "ExecuteTime": {
          "end_time": "2024-03-13T13:19:47.230285Z",
          "start_time": "2024-03-13T13:19:47.218738Z"
        },
        "id": "9c71cd43a03459c4"
      },
      "id": "9c71cd43a03459c4",
      "execution_count": null
    },
    {
      "cell_type": "code",
      "outputs": [],
      "source": [
        "download_and_unzip(\"https://www.inegi.org.mx/contenidos/programas/enigh/nc/2022/microdatos/enigh2022_ns_viviendas_csv.zip\", \"microdatos\")\n",
        "download_and_unzip(\"https://www.inegi.org.mx/contenidos/programas/enigh/nc/2022/microdatos/enigh2022_ns_hogares_csv.zip\", \"microdatos\")\n"
      ],
      "metadata": {
        "ExecuteTime": {
          "end_time": "2024-03-13T13:19:53.064374Z",
          "start_time": "2024-03-13T13:19:47.234172Z"
        },
        "id": "5850716406624efe"
      },
      "id": "5850716406624efe",
      "execution_count": null
    },
    {
      "cell_type": "code",
      "outputs": [
        {
          "name": "stderr",
          "output_type": "stream",
          "text": [
            "Warning message:\n",
            "\"\u001b[1m\u001b[22mThere was 1 warning in `mutate()`.\n",
            "\u001b[1m\u001b[22m\u001b[36mℹ\u001b[39m In argument: `mat_pisos = as.numeric(mat_pisos)`.\n",
            "Caused by warning:\n",
            "\u001b[33m!\u001b[39m NAs introduced by coercion\"\n"
          ]
        }
      ],
      "source": [
        "# Carga y limpia el conjunto de datos de viviendas para el año 2022\n",
        "enigh22 <- read.csv(\"microdatos/viviendas.csv\") %>%\n",
        "  janitor::clean_names() %>%  #Poner las variables en minusculas y quitar las variables\n",
        "  mutate(\n",
        "    mat_pared = as.numeric(mat_pared),\n",
        "    mat_pisos = as.numeric(mat_pisos),\n",
        "    mat_techos = as.numeric(mat_techos),\n",
        "    rezago = case_when(\n",
        "      (tot_resid / num_cuarto) > 2.5 |   # Hacinamiento\n",
        "        mat_pared %in% c(1, 2, 3, 4, 5, 6) |\n",
        "        mat_pisos %in% c(1) |\n",
        "        mat_techos %in% c(1, 2, 3, 4, 6, 7, 9) |\n",
        "        excusado == 2 ~ \"En rezago\",\n",
        "      TRUE ~ \"Fuera de rezago\"\n",
        "    )\n",
        "  )"
      ],
      "metadata": {
        "ExecuteTime": {
          "end_time": "2024-03-13T13:19:54.635217Z",
          "start_time": "2024-03-13T13:19:53.067648Z"
        },
        "id": "5abc8910c8b94965",
        "outputId": "9240a4c4-a2f3-4814-e1b3-b354316dcc86"
      },
      "id": "5abc8910c8b94965",
      "execution_count": null
    },
    {
      "cell_type": "code",
      "outputs": [],
      "source": [
        "#Definir diseño muestral para ambos años\n",
        "dm<-enigh22%>%\n",
        "  #Diseño muestral\n",
        "  as_survey(weights=factor, strata=est_dis, ids=upm)"
      ],
      "metadata": {
        "ExecuteTime": {
          "end_time": "2024-03-13T13:19:55.057751Z",
          "start_time": "2024-03-13T13:19:54.640431Z"
        },
        "id": "bdcfa0e09eca0fba"
      },
      "id": "bdcfa0e09eca0fba",
      "execution_count": null
    },
    {
      "cell_type": "markdown",
      "source": [
        "##  Habitabilidad"
      ],
      "metadata": {
        "collapsed": false,
        "id": "b3e69402355779ac"
      },
      "id": "b3e69402355779ac"
    },
    {
      "cell_type": "code",
      "outputs": [
        {
          "name": "stdout",
          "output_type": "stream",
          "text": [
            "[1] \"Viviendas en rezago habitacional\"\n"
          ]
        },
        {
          "data": {
            "text/html": "<table class=\"dataframe\">\n<caption>A tibble: 1 × 3</caption>\n<thead>\n\t<tr><th scope=col>rezago</th><th scope=col>viviendas</th><th scope=col>viviendas_cv</th></tr>\n\t<tr><th scope=col>&lt;chr&gt;</th><th scope=col>&lt;dbl&gt;</th><th scope=col>&lt;dbl&gt;</th></tr>\n</thead>\n<tbody>\n\t<tr><td>En rezago</td><td>24.3</td><td>0.01054548</td></tr>\n</tbody>\n</table>\n",
            "text/markdown": "\nA tibble: 1 × 3\n\n| rezago &lt;chr&gt; | viviendas &lt;dbl&gt; | viviendas_cv &lt;dbl&gt; |\n|---|---|---|\n| En rezago | 24.3 | 0.01054548 |\n\n",
            "text/latex": "A tibble: 1 × 3\n\\begin{tabular}{lll}\n rezago & viviendas & viviendas\\_cv\\\\\n <chr> & <dbl> & <dbl>\\\\\n\\hline\n\t En rezago & 24.3 & 0.01054548\\\\\n\\end{tabular}\n",
            "text/plain": "  rezago    viviendas viviendas_cv\n1 En rezago 24.3      0.01054548  "
          },
          "metadata": {},
          "output_type": "display_data"
        }
      ],
      "source": [
        "print(\"Viviendas en rezago habitacional\")\n",
        "dm%>%\n",
        "  group_by(rezago)%>%\n",
        "  summarise(\n",
        "    viviendas=survey_prop(vartype=\"cv\"))%>%\n",
        "    mutate(viviendas=round(viviendas*100,1))%>%\n",
        "filter(rezago %in% c(\"En rezago\"))"
      ],
      "metadata": {
        "ExecuteTime": {
          "end_time": "2024-03-13T13:19:56.004332Z",
          "start_time": "2024-03-13T13:19:55.061562Z"
        },
        "id": "127ad6d28e8bdcc8",
        "outputId": "cc6facd0-f7a3-4b06-b88e-ab491250c339"
      },
      "id": "127ad6d28e8bdcc8",
      "execution_count": null
    },
    {
      "cell_type": "markdown",
      "source": [
        "## Seguridad de la tenencia"
      ],
      "metadata": {
        "collapsed": false,
        "id": "df2941beb2ea40e9"
      },
      "id": "df2941beb2ea40e9"
    },
    {
      "cell_type": "code",
      "outputs": [
        {
          "name": "stdout",
          "output_type": "stream",
          "text": [
            "[1] \"Viviendas propias y propias en proceso de pago sin escrituras\"\n"
          ]
        },
        {
          "data": {
            "text/html": "<table class=\"dataframe\">\n<caption>A tibble: 1 × 3</caption>\n<thead>\n\t<tr><th scope=col>escrituras</th><th scope=col>viviendas</th><th scope=col>viviendas_cv</th></tr>\n\t<tr><th scope=col>&lt;chr&gt;</th><th scope=col>&lt;dbl&gt;</th><th scope=col>&lt;dbl&gt;</th></tr>\n</thead>\n<tbody>\n\t<tr><td>No tiene escrituras</td><td>24.3</td><td>0.01473525</td></tr>\n</tbody>\n</table>\n",
            "text/markdown": "\nA tibble: 1 × 3\n\n| escrituras &lt;chr&gt; | viviendas &lt;dbl&gt; | viviendas_cv &lt;dbl&gt; |\n|---|---|---|\n| No tiene escrituras | 24.3 | 0.01473525 |\n\n",
            "text/latex": "A tibble: 1 × 3\n\\begin{tabular}{lll}\n escrituras & viviendas & viviendas\\_cv\\\\\n <chr> & <dbl> & <dbl>\\\\\n\\hline\n\t No tiene escrituras & 24.3 & 0.01473525\\\\\n\\end{tabular}\n",
            "text/plain": "  escrituras          viviendas viviendas_cv\n1 No tiene escrituras 24.3      0.01473525  "
          },
          "metadata": {},
          "output_type": "display_data"
        }
      ],
      "source": [
        "print(\"Viviendas propias y propias en proceso de pago sin escrituras\")\n",
        "\n",
        "dm%>%\n",
        "#Filtrar propias y propias se están pagando\n",
        "filter(tenencia == 3 | tenencia == 4)%>%\n",
        "mutate(escrituras=case_when(\n",
        "  escrituras==1~\"A nombre del dueño\",\n",
        "  escrituras==2~\"A nombre de otra persona\",\n",
        "    escrituras==3~\"No tiene escrituras\",\n",
        "    escrituras==4~\"No sabe si tiene escrituras\",\n",
        "))%>%\n",
        "group_by(escrituras)%>%\n",
        "  summarise(\n",
        "    viviendas=survey_prop(vartype=\"cv\"))%>%\n",
        "    mutate(viviendas=round(viviendas*100,1))%>%\n",
        "    filter(escrituras %in% c(\"No tiene escrituras\"))"
      ],
      "metadata": {
        "ExecuteTime": {
          "end_time": "2024-03-13T13:19:57.356650Z",
          "start_time": "2024-03-13T13:19:56.009217Z"
        },
        "id": "47033e05be07d9bd",
        "outputId": "9c296f8d-6ce2-459d-944b-66e0a3630809"
      },
      "id": "47033e05be07d9bd",
      "execution_count": null
    },
    {
      "cell_type": "markdown",
      "source": [],
      "metadata": {
        "collapsed": false,
        "id": "bdddb888ef152af0"
      },
      "id": "bdddb888ef152af0"
    },
    {
      "cell_type": "markdown",
      "source": [
        "## Ubicación\n",
        "\n",
        "Para este indicador se utilizará la información del registro de vivienda que se publica en el Sistema Nacional de Información e Indicadores de Vivienda (SNIIV) de la Secretaría de Desarrollo Agrario, Territorial y Urbano (SEDATU)."
      ],
      "metadata": {
        "collapsed": false,
        "id": "77771f157070b5ce"
      },
      "id": "77771f157070b5ce"
    },
    {
      "cell_type": "code",
      "outputs": [
        {
          "name": "stdout",
          "output_type": "stream",
          "text": [
            "[1] \"Viviendas fuera de contorno\"\n"
          ]
        },
        {
          "data": {
            "text/html": "<table class=\"dataframe\">\n<caption>A data.frame: 1 × 4</caption>\n<thead>\n\t<tr><th scope=col>año</th><th scope=col>pcu</th><th scope=col>viviendas</th><th scope=col>porcentaje</th></tr>\n\t<tr><th scope=col>&lt;int&gt;</th><th scope=col>&lt;chr&gt;</th><th scope=col>&lt;dbl&gt;</th><th scope=col>&lt;dbl&gt;</th></tr>\n</thead>\n<tbody>\n\t<tr><td>2022</td><td>FC</td><td>21480</td><td>15</td></tr>\n</tbody>\n</table>\n",
            "text/markdown": "\nA data.frame: 1 × 4\n\n| año &lt;int&gt; | pcu &lt;chr&gt; | viviendas &lt;dbl&gt; | porcentaje &lt;dbl&gt; |\n|---|---|---|---|\n| 2022 | FC | 21480 | 15 |\n\n",
            "text/latex": "A data.frame: 1 × 4\n\\begin{tabular}{llll}\n año & pcu & viviendas & porcentaje\\\\\n <int> & <chr> & <dbl> & <dbl>\\\\\n\\hline\n\t 2022 & FC & 21480 & 15\\\\\n\\end{tabular}\n",
            "text/plain": "  año  pcu viviendas porcentaje\n1 2022 FC  21480     15        "
          },
          "metadata": {},
          "output_type": "display_data"
        }
      ],
      "source": [
        "print(\"Viviendas fuera de contorno\")\n",
        "\n",
        "url<-\"https://sniiv.sedatu.gob.mx/api/CuboAPI/GetRegistro/2022,2022/0/0/pcu,anio\"\n",
        "\n",
        "ubicacion<-GET(url)\n",
        "ubicacion<-content(ubicacion,as=\"text\")\n",
        "ubicacion<-fromJSON(ubicacion)%>%\n",
        "#Calcular porcentajes\n",
        "mutate(\n",
        "\n",
        "#Pcu numérico\n",
        "viviendas=as.numeric(viviendas),\n",
        "  porcentaje=round((viviendas/sum(viviendas))*100,1)\n",
        ")%>%\n",
        "filter(pcu %in% c(\"FC\"))\n",
        "\n",
        "ubicacion"
      ],
      "metadata": {
        "ExecuteTime": {
          "end_time": "2024-03-13T13:19:58.304497Z",
          "start_time": "2024-03-13T13:19:57.361114Z"
        },
        "id": "2849798bc5d380be",
        "outputId": "177c14ba-457f-4fa2-a002-38452c56cd1a"
      },
      "id": "2849798bc5d380be",
      "execution_count": null
    },
    {
      "cell_type": "markdown",
      "source": [
        "## Disponibilidad de servicios, materiales, instalaciones e infraestructura"
      ],
      "metadata": {
        "collapsed": false,
        "id": "64e92e8b08c4e561"
      },
      "id": "64e92e8b08c4e561"
    },
    {
      "cell_type": "code",
      "outputs": [
        {
          "data": {
            "text/html": "'LC_COLLATE=en_US.UTF-8;LC_CTYPE=en_US.UTF-8;LC_MONETARY=en_US.UTF-8;LC_NUMERIC=C;LC_TIME=en_US.UTF-8'",
            "text/markdown": "'LC_COLLATE=en_US.UTF-8;LC_CTYPE=en_US.UTF-8;LC_MONETARY=en_US.UTF-8;LC_NUMERIC=C;LC_TIME=en_US.UTF-8'",
            "text/latex": "'LC\\_COLLATE=en\\_US.UTF-8;LC\\_CTYPE=en\\_US.UTF-8;LC\\_MONETARY=en\\_US.UTF-8;LC\\_NUMERIC=C;LC\\_TIME=en\\_US.UTF-8'",
            "text/plain": "[1] \"LC_COLLATE=en_US.UTF-8;LC_CTYPE=en_US.UTF-8;LC_MONETARY=en_US.UTF-8;LC_NUMERIC=C;LC_TIME=en_US.UTF-8\""
          },
          "metadata": {},
          "output_type": "display_data"
        },
        {
          "ename": "ERROR",
          "evalue": "Error in unzip(destfile, exdir = dir): invalid multibyte string at '<a0>lcu'\n",
          "output_type": "error",
          "traceback": [
            "Error in unzip(destfile, exdir = dir): invalid multibyte string at '<a0>lcu'\nTraceback:\n",
            "1. download_and_unzip(url_coneval, \"microdatos\")",
            "2. unzip(destfile, exdir = dir)   # at line 15 of file <text>"
          ]
        }
      ],
      "source": [
        "Sys.setlocale(\"LC_ALL\", \"en_US.UTF-8\")\n",
        "\n",
        "url_coneval<-\"https://www.coneval.org.mx/Medicion/MP/Documents/MMP_2022/Programas_calculo/R_MMP_2022.zip\"\n",
        "download_and_unzip(url_coneval, \"microdatos\")"
      ],
      "metadata": {
        "ExecuteTime": {
          "end_time": "2024-03-13T13:20:55.459466Z",
          "start_time": "2024-03-13T13:19:58.309560Z"
        },
        "id": "7d3fa3fad664ccdf",
        "outputId": "80e48792-695c-4d0b-ad16-50962d3447fd"
      },
      "id": "7d3fa3fad664ccdf",
      "execution_count": null
    },
    {
      "cell_type": "code",
      "outputs": [
        {
          "name": "stdout",
          "output_type": "stream",
          "text": [
            "'data.frame':\t309534 obs. of  4 variables:\n",
            " $ folioviv: num  1e+08 1e+08 1e+08 1e+08 1e+08 ...\n",
            " $ foliohog: int  1 1 1 1 1 1 1 1 1 1 ...\n",
            " $ numren  : int  1 2 3 1 2 1 2 3 1 2 ...\n",
            " $ ic_sbv  : int  0 0 0 0 0 0 0 0 0 0 ...\n"
          ]
        }
      ],
      "source": [
        "pobreza<-read.csv(\"microdatos/Base final/pobreza_22.csv\")%>%\n",
        "select(folioviv, foliohog,numren,ic_sbv)\n",
        "\n",
        "str(pobreza)"
      ],
      "metadata": {
        "ExecuteTime": {
          "end_time": "2024-03-13T13:22:05.690412Z",
          "start_time": "2024-03-13T13:21:59.344665Z"
        },
        "id": "e83a87b461f9b23e",
        "outputId": "9eee3bb0-2b58-4b54-d4bf-3db3149dadff"
      },
      "id": "e83a87b461f9b23e",
      "execution_count": null
    },
    {
      "cell_type": "code",
      "outputs": [],
      "source": [
        "vivsb<-enigh22%>%\n",
        "  left_join(\n",
        "    pobreza %>%\n",
        "      group_by(folioviv) %>%\n",
        "      filter(row_number() == 1) %>%\n",
        "      select(folioviv,ic_sbv),\n",
        "    by = \"folioviv\"\n",
        "  )"
      ],
      "metadata": {
        "ExecuteTime": {
          "end_time": "2024-03-13T13:22:07.989219Z",
          "start_time": "2024-03-13T13:22:07.391416Z"
        },
        "id": "f51128a37ababeeb"
      },
      "id": "f51128a37ababeeb",
      "execution_count": null
    },
    {
      "cell_type": "code",
      "outputs": [],
      "source": [
        "dm_viv<-vivsb%>%\n",
        "  as_survey(weights=factor, strata=est_dis, ids=upm)"
      ],
      "metadata": {
        "ExecuteTime": {
          "end_time": "2024-03-13T13:22:09.214180Z",
          "start_time": "2024-03-13T13:22:09.008605Z"
        },
        "id": "4df24e63126964d2"
      },
      "id": "4df24e63126964d2",
      "execution_count": null
    },
    {
      "cell_type": "code",
      "outputs": [
        {
          "name": "stderr",
          "output_type": "stream",
          "text": [
            "When `proportion` is unspecified, `survey_prop()` now defaults to `proportion = TRUE`.\n",
            "\u001b[34mℹ\u001b[39m This should improve confidence interval coverage.\n",
            "\u001b[90mThis message is displayed once per session.\u001b[39m\n"
          ]
        },
        {
          "data": {
            "text/html": "<table class=\"dataframe\">\n<caption>A tibble: 1 × 4</caption>\n<thead>\n\t<tr><th scope=col>ic_sbv</th><th scope=col>hogares</th><th scope=col>hogares_low</th><th scope=col>hogares_upp</th></tr>\n\t<tr><th scope=col>&lt;int&gt;</th><th scope=col>&lt;dbl&gt;</th><th scope=col>&lt;dbl&gt;</th><th scope=col>&lt;dbl&gt;</th></tr>\n</thead>\n<tbody>\n\t<tr><td>1</td><td>16.2</td><td>0.1566695</td><td>0.1669217</td></tr>\n</tbody>\n</table>\n",
            "text/markdown": "\nA tibble: 1 × 4\n\n| ic_sbv &lt;int&gt; | hogares &lt;dbl&gt; | hogares_low &lt;dbl&gt; | hogares_upp &lt;dbl&gt; |\n|---|---|---|---|\n| 1 | 16.2 | 0.1566695 | 0.1669217 |\n\n",
            "text/latex": "A tibble: 1 × 4\n\\begin{tabular}{llll}\n ic\\_sbv & hogares & hogares\\_low & hogares\\_upp\\\\\n <int> & <dbl> & <dbl> & <dbl>\\\\\n\\hline\n\t 1 & 16.2 & 0.1566695 & 0.1669217\\\\\n\\end{tabular}\n",
            "text/plain": "  ic_sbv hogares hogares_low hogares_upp\n1 1      16.2    0.1566695   0.1669217  "
          },
          "metadata": {},
          "output_type": "display_data"
        }
      ],
      "source": [
        "dm_viv%>%\n",
        "group_by(ic_sbv)%>%\n",
        "    summarise(hogares=survey_prop(vartype=\"ci\"))%>%\n",
        "    mutate(hogares=round(hogares*100,1))%>%\n",
        "    filter(ic_sbv %in% c(1))"
      ],
      "metadata": {
        "ExecuteTime": {
          "end_time": "2024-03-13T13:22:11.693957Z",
          "start_time": "2024-03-13T13:22:10.501501Z"
        },
        "id": "53528f481f07282a",
        "outputId": "02000bb8-de2a-4034-db6c-d0e05f21d9d4"
      },
      "id": "53528f481f07282a",
      "execution_count": null
    }
  ],
  "metadata": {
    "kernelspec": {
      "name": "ir",
      "language": "R",
      "display_name": "R"
    },
    "language_info": {
      "codemirror_mode": {
        "name": "ipython",
        "version": 2
      },
      "file_extension": ".py",
      "mimetype": "text/x-python",
      "name": "python",
      "nbconvert_exporter": "python",
      "pygments_lexer": "ipython2",
      "version": "2.7.6"
    },
    "colab": {
      "provenance": [],
      "include_colab_link": true
    }
  },
  "nbformat": 4,
  "nbformat_minor": 5
}