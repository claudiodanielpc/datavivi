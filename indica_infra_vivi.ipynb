{
  "cells": [
    {
      "cell_type": "markdown",
      "metadata": {
        "id": "view-in-github",
        "colab_type": "text"
      },
      "source": [
        "<a href=\"https://colab.research.google.com/github/coordanalisis-sedatu/datavivi/blob/main/indica_infra_vivi.ipynb\" target=\"_parent\"><img src=\"https://colab.research.google.com/assets/colab-badge.svg\" alt=\"Open In Colab\"/></a>"
      ]
    },
    {
      "cell_type": "code",
      "execution_count": null,
      "id": "initial_id",
      "metadata": {
        "collapsed": true,
        "ExecuteTime": {
          "end_time": "2024-02-18T02:04:44.935234700Z",
          "start_time": "2024-02-18T02:04:41.705797Z"
        },
        "id": "initial_id"
      },
      "outputs": [],
      "source": [
        "#Importar librerías\n",
        "import pandas as pd\n",
        "import os\n",
        "import zipfile\n",
        "import shutil\n",
        "import requests\n",
        "import zipfile\n",
        "from sklearn.decomposition import PCA\n",
        "import matplotlib.pyplot as plt\n",
        "import numpy as np\n",
        "from matplotlib.ticker import PercentFormatter\n",
        "import geopandas as gpd\n",
        "import folium\n",
        "from branca.element import Template, MacroElement\n",
        "from scipy.stats import randint\n",
        "from tqdm import tqdm"
      ]
    },
    {
      "cell_type": "code",
      "outputs": [
        {
          "data": {
            "text/plain": "'C:\\\\users\\\\claud\\\\Documents\\\\GitHub\\\\datavivi'"
          },
          "execution_count": 2,
          "metadata": {},
          "output_type": "execute_result"
        }
      ],
      "source": [
        "#Directorio de trabajo\n",
        "try:\n",
        "    os.chdir('C:/users/claud/Documents/GitHub/datavivi')\n",
        "except:\n",
        "    os.chdir('C:/users/claudio.pacheco/Documents/Github/datavivi')\n",
        "\n",
        "os.getcwd()"
      ],
      "metadata": {
        "ExecuteTime": {
          "end_time": "2024-02-18T02:04:44.951272200Z",
          "start_time": "2024-02-18T02:04:44.935234700Z"
        },
        "id": "2b6d6d193ba5b525",
        "outputId": "23625935-120e-4866-9568-42c712b1c680"
      },
      "id": "2b6d6d193ba5b525",
      "execution_count": null
    },
    {
      "cell_type": "code",
      "outputs": [],
      "source": [
        "#Crear carpeta para descargar los datos\n",
        "if not os.path.exists('datos'):\n",
        "    os.makedirs('datos')"
      ],
      "metadata": {
        "ExecuteTime": {
          "end_time": "2024-02-18T02:04:45.006491800Z",
          "start_time": "2024-02-18T02:04:44.951272200Z"
        },
        "id": "5a21b907bf9943b3"
      },
      "id": "5a21b907bf9943b3",
      "execution_count": null
    },
    {
      "cell_type": "code",
      "outputs": [],
      "source": [
        "\n",
        "def download_and_extract(url, filename, check_file_path, extract_path):\n",
        "    # Check if the file already exists\n",
        "    if os.path.isfile(check_file_path):\n",
        "        print(f\"El archivo {filename} existe, no se descargará.\")\n",
        "    else:\n",
        "        print(f\"El archivo {filename} no existe. Descargando.\")\n",
        "        response = requests.get(url, stream=True)\n",
        "        total_size = int(response.headers.get('content-length', 0))\n",
        "        block_size = 1024  # 1 Kibibyte\n",
        "        progress_bar = tqdm(total=total_size, unit='iB', unit_scale=True)\n",
        "        with open(filename, \"wb\") as code:\n",
        "            for data in response.iter_content(block_size):\n",
        "                progress_bar.update(len(data))\n",
        "                code.write(data)\n",
        "        progress_bar.close()\n",
        "\n",
        "        if zipfile.is_zipfile(filename):\n",
        "            # Extract zip\n",
        "            with zipfile.ZipFile(filename, \"r\") as zip_ref:\n",
        "                zip_ref.extractall(extract_path)\n",
        "\n",
        "            # Remove zip\n",
        "            os.remove(filename)\n",
        "        else:\n",
        "            print(\"El archivo descargado no es un zip. Proceso terminado.\")\n"
      ],
      "metadata": {
        "ExecuteTime": {
          "end_time": "2024-02-18T02:04:45.007507900Z",
          "start_time": "2024-02-18T02:04:44.970828800Z"
        },
        "id": "8c14d31e73df75c5"
      },
      "id": "8c14d31e73df75c5",
      "execution_count": null
    },
    {
      "cell_type": "markdown",
      "source": [
        "### Descarga de datos de vivienda a nivel manzana"
      ],
      "metadata": {
        "collapsed": false,
        "id": "5eade25dd22dcfee"
      },
      "id": "5eade25dd22dcfee"
    },
    {
      "cell_type": "code",
      "outputs": [],
      "source": [
        "#Url de los archivos\n",
        "url_basica=\"https://www.inegi.org.mx/contenidos/programas/ccpv/2020/microdatos/ageb_manzana/RESAGEBURB_\""
      ],
      "metadata": {
        "ExecuteTime": {
          "end_time": "2024-02-18T02:04:45.038748800Z",
          "start_time": "2024-02-18T02:04:44.984376200Z"
        },
        "id": "fcd31ddb6def816c"
      },
      "id": "fcd31ddb6def816c",
      "execution_count": null
    },
    {
      "cell_type": "code",
      "outputs": [
        {
          "name": "stdout",
          "output_type": "stream",
          "text": [
            "El archivo datos/conjunto_de_datos_ageb_urbana_01_cpv2020.zip no existe. Descargando.\n"
          ]
        },
        {
          "name": "stderr",
          "output_type": "stream",
          "text": [
            "100%|██████████| 2.50M/2.50M [00:01<00:00, 2.39MiB/s]\n"
          ]
        },
        {
          "name": "stdout",
          "output_type": "stream",
          "text": [
            "El archivo datos/conjunto_de_datos_ageb_urbana_02_cpv2020.zip no existe. Descargando.\n"
          ]
        },
        {
          "name": "stderr",
          "output_type": "stream",
          "text": [
            "100%|██████████| 8.44M/8.44M [00:09<00:00, 886kiB/s] \n"
          ]
        },
        {
          "name": "stdout",
          "output_type": "stream",
          "text": [
            "El archivo datos/conjunto_de_datos_ageb_urbana_03_cpv2020.zip no existe. Descargando.\n"
          ]
        },
        {
          "name": "stderr",
          "output_type": "stream",
          "text": [
            "100%|██████████| 2.26M/2.26M [00:01<00:00, 1.38MiB/s]\n"
          ]
        },
        {
          "name": "stdout",
          "output_type": "stream",
          "text": [
            "El archivo datos/conjunto_de_datos_ageb_urbana_04_cpv2020.zip no existe. Descargando.\n"
          ]
        },
        {
          "name": "stderr",
          "output_type": "stream",
          "text": [
            "100%|██████████| 1.75M/1.75M [00:04<00:00, 397kiB/s]\n"
          ]
        },
        {
          "name": "stdout",
          "output_type": "stream",
          "text": [
            "El archivo datos/conjunto_de_datos_ageb_urbana_05_cpv2020.zip no existe. Descargando.\n"
          ]
        },
        {
          "name": "stderr",
          "output_type": "stream",
          "text": [
            "100%|██████████| 7.86M/7.86M [00:03<00:00, 2.44MiB/s]\n"
          ]
        },
        {
          "name": "stdout",
          "output_type": "stream",
          "text": [
            "El archivo datos/conjunto_de_datos_ageb_urbana_06_cpv2020.zip no existe. Descargando.\n"
          ]
        },
        {
          "name": "stderr",
          "output_type": "stream",
          "text": [
            "100%|██████████| 2.02M/2.02M [00:02<00:00, 725kiB/s] \n"
          ]
        },
        {
          "name": "stdout",
          "output_type": "stream",
          "text": [
            "El archivo datos/conjunto_de_datos_ageb_urbana_07_cpv2020.zip no existe. Descargando.\n"
          ]
        },
        {
          "name": "stderr",
          "output_type": "stream",
          "text": [
            "100%|██████████| 7.76M/7.76M [00:03<00:00, 2.44MiB/s]\n"
          ]
        },
        {
          "name": "stdout",
          "output_type": "stream",
          "text": [
            "El archivo datos/conjunto_de_datos_ageb_urbana_08_cpv2020.zip no existe. Descargando.\n"
          ]
        },
        {
          "name": "stderr",
          "output_type": "stream",
          "text": [
            "100%|██████████| 9.70M/9.70M [00:07<00:00, 1.26MiB/s]\n"
          ]
        },
        {
          "name": "stdout",
          "output_type": "stream",
          "text": [
            "El archivo datos/conjunto_de_datos_ageb_urbana_09_cpv2020.zip no existe. Descargando.\n"
          ]
        },
        {
          "name": "stderr",
          "output_type": "stream",
          "text": [
            "100%|██████████| 12.5M/12.5M [00:08<00:00, 1.49MiB/s]\n"
          ]
        },
        {
          "name": "stdout",
          "output_type": "stream",
          "text": [
            "El archivo datos/conjunto_de_datos_ageb_urbana_10_cpv2020.zip no existe. Descargando.\n"
          ]
        },
        {
          "name": "stderr",
          "output_type": "stream",
          "text": [
            "100%|██████████| 4.09M/4.09M [00:01<00:00, 2.44MiB/s]\n"
          ]
        },
        {
          "name": "stdout",
          "output_type": "stream",
          "text": [
            "El archivo datos/conjunto_de_datos_ageb_urbana_11_cpv2020.zip no existe. Descargando.\n"
          ]
        },
        {
          "name": "stderr",
          "output_type": "stream",
          "text": [
            "100%|██████████| 9.90M/9.90M [00:07<00:00, 1.41MiB/s]\n"
          ]
        },
        {
          "name": "stdout",
          "output_type": "stream",
          "text": [
            "El archivo datos/conjunto_de_datos_ageb_urbana_12_cpv2020.zip no existe. Descargando.\n"
          ]
        },
        {
          "name": "stderr",
          "output_type": "stream",
          "text": [
            "100%|██████████| 7.25M/7.25M [00:02<00:00, 2.55MiB/s]\n"
          ]
        },
        {
          "name": "stdout",
          "output_type": "stream",
          "text": [
            "El archivo datos/conjunto_de_datos_ageb_urbana_13_cpv2020.zip no existe. Descargando.\n"
          ]
        },
        {
          "name": "stderr",
          "output_type": "stream",
          "text": [
            "100%|██████████| 5.62M/5.62M [00:02<00:00, 2.51MiB/s]\n"
          ]
        },
        {
          "name": "stdout",
          "output_type": "stream",
          "text": [
            "El archivo datos/conjunto_de_datos_ageb_urbana_14_cpv2020.zip no existe. Descargando.\n"
          ]
        },
        {
          "name": "stderr",
          "output_type": "stream",
          "text": [
            "100%|██████████| 15.8M/15.8M [00:20<00:00, 758kiB/s] \n"
          ]
        },
        {
          "name": "stdout",
          "output_type": "stream",
          "text": [
            "El archivo datos/conjunto_de_datos_ageb_urbana_15_cpv2020.zip no existe. Descargando.\n"
          ]
        },
        {
          "name": "stderr",
          "output_type": "stream",
          "text": [
            "100%|██████████| 24.3M/24.3M [00:26<00:00, 929kiB/s] \n"
          ]
        },
        {
          "name": "stdout",
          "output_type": "stream",
          "text": [
            "El archivo datos/conjunto_de_datos_ageb_urbana_16_cpv2020.zip no existe. Descargando.\n"
          ]
        },
        {
          "name": "stderr",
          "output_type": "stream",
          "text": [
            "100%|██████████| 9.67M/9.67M [00:11<00:00, 853kiB/s] \n"
          ]
        },
        {
          "name": "stdout",
          "output_type": "stream",
          "text": [
            "El archivo datos/conjunto_de_datos_ageb_urbana_17_cpv2020.zip no existe. Descargando.\n"
          ]
        },
        {
          "name": "stderr",
          "output_type": "stream",
          "text": [
            "100%|██████████| 4.07M/4.07M [00:02<00:00, 1.51MiB/s]\n"
          ]
        },
        {
          "name": "stdout",
          "output_type": "stream",
          "text": [
            "El archivo datos/conjunto_de_datos_ageb_urbana_18_cpv2020.zip no existe. Descargando.\n"
          ]
        },
        {
          "name": "stderr",
          "output_type": "stream",
          "text": [
            "100%|██████████| 2.78M/2.78M [00:01<00:00, 2.28MiB/s]\n"
          ]
        },
        {
          "name": "stdout",
          "output_type": "stream",
          "text": [
            "El archivo datos/conjunto_de_datos_ageb_urbana_19_cpv2020.zip no existe. Descargando.\n"
          ]
        },
        {
          "name": "stderr",
          "output_type": "stream",
          "text": [
            "100%|██████████| 11.5M/11.5M [00:07<00:00, 1.51MiB/s]\n"
          ]
        },
        {
          "name": "stdout",
          "output_type": "stream",
          "text": [
            "El archivo datos/conjunto_de_datos_ageb_urbana_20_cpv2020.zip no existe. Descargando.\n"
          ]
        },
        {
          "name": "stderr",
          "output_type": "stream",
          "text": [
            "100%|██████████| 8.94M/8.94M [00:03<00:00, 2.27MiB/s]\n"
          ]
        },
        {
          "name": "stdout",
          "output_type": "stream",
          "text": [
            "El archivo datos/conjunto_de_datos_ageb_urbana_21_cpv2020.zip no existe. Descargando.\n"
          ]
        },
        {
          "name": "stderr",
          "output_type": "stream",
          "text": [
            "100%|██████████| 11.3M/11.3M [00:15<00:00, 729kiB/s] \n"
          ]
        },
        {
          "name": "stdout",
          "output_type": "stream",
          "text": [
            "El archivo datos/conjunto_de_datos_ageb_urbana_22_cpv2020.zip no existe. Descargando.\n"
          ]
        },
        {
          "name": "stderr",
          "output_type": "stream",
          "text": [
            "100%|██████████| 4.35M/4.35M [00:01<00:00, 2.26MiB/s]\n"
          ]
        },
        {
          "name": "stdout",
          "output_type": "stream",
          "text": [
            "El archivo datos/conjunto_de_datos_ageb_urbana_23_cpv2020.zip no existe. Descargando.\n"
          ]
        },
        {
          "name": "stderr",
          "output_type": "stream",
          "text": [
            "100%|██████████| 3.90M/3.90M [00:01<00:00, 2.51MiB/s]\n"
          ]
        },
        {
          "name": "stdout",
          "output_type": "stream",
          "text": [
            "El archivo datos/conjunto_de_datos_ageb_urbana_24_cpv2020.zip no existe. Descargando.\n"
          ]
        },
        {
          "name": "stderr",
          "output_type": "stream",
          "text": [
            "100%|██████████| 5.22M/5.22M [00:05<00:00, 911kiB/s] \n"
          ]
        },
        {
          "name": "stdout",
          "output_type": "stream",
          "text": [
            "El archivo datos/conjunto_de_datos_ageb_urbana_25_cpv2020.zip no existe. Descargando.\n"
          ]
        },
        {
          "name": "stderr",
          "output_type": "stream",
          "text": [
            "100%|██████████| 6.55M/6.55M [00:02<00:00, 2.31MiB/s]\n"
          ]
        },
        {
          "name": "stdout",
          "output_type": "stream",
          "text": [
            "El archivo datos/conjunto_de_datos_ageb_urbana_26_cpv2020.zip no existe. Descargando.\n"
          ]
        },
        {
          "name": "stderr",
          "output_type": "stream",
          "text": [
            "100%|██████████| 8.49M/8.49M [00:13<00:00, 622kiB/s] \n"
          ]
        },
        {
          "name": "stdout",
          "output_type": "stream",
          "text": [
            "El archivo datos/conjunto_de_datos_ageb_urbana_27_cpv2020.zip no existe. Descargando.\n"
          ]
        },
        {
          "name": "stderr",
          "output_type": "stream",
          "text": [
            "100%|██████████| 2.77M/2.77M [00:01<00:00, 2.44MiB/s]\n"
          ]
        },
        {
          "name": "stdout",
          "output_type": "stream",
          "text": [
            "El archivo datos/conjunto_de_datos_ageb_urbana_28_cpv2020.zip no existe. Descargando.\n"
          ]
        },
        {
          "name": "stderr",
          "output_type": "stream",
          "text": [
            "100%|██████████| 8.93M/8.93M [00:03<00:00, 2.43MiB/s]\n"
          ]
        },
        {
          "name": "stdout",
          "output_type": "stream",
          "text": [
            "El archivo datos/conjunto_de_datos_ageb_urbana_29_cpv2020.zip no existe. Descargando.\n"
          ]
        },
        {
          "name": "stderr",
          "output_type": "stream",
          "text": [
            "100%|██████████| 2.62M/2.62M [00:01<00:00, 2.18MiB/s]\n"
          ]
        },
        {
          "name": "stdout",
          "output_type": "stream",
          "text": [
            "El archivo datos/conjunto_de_datos_ageb_urbana_30_cpv2020.zip no existe. Descargando.\n"
          ]
        },
        {
          "name": "stderr",
          "output_type": "stream",
          "text": [
            "100%|██████████| 14.3M/14.3M [00:33<00:00, 422kiB/s]\n"
          ]
        },
        {
          "name": "stdout",
          "output_type": "stream",
          "text": [
            "El archivo datos/conjunto_de_datos_ageb_urbana_31_cpv2020.zip no existe. Descargando.\n"
          ]
        },
        {
          "name": "stderr",
          "output_type": "stream",
          "text": [
            "100%|██████████| 5.77M/5.77M [00:02<00:00, 2.47MiB/s]\n"
          ]
        },
        {
          "name": "stdout",
          "output_type": "stream",
          "text": [
            "El archivo datos/conjunto_de_datos_ageb_urbana_32_cpv2020.zip no existe. Descargando.\n"
          ]
        },
        {
          "name": "stderr",
          "output_type": "stream",
          "text": [
            "100%|██████████| 3.74M/3.74M [00:05<00:00, 684kiB/s] \n"
          ]
        }
      ],
      "source": [
        "#Ciclo para descargar y extraer los archivos\n",
        "for entidad in range(1,33):\n",
        "    if entidad<10:\n",
        "        url=url_basica+\"0\"+str(entidad)+\"_2020_csv.zip\"\n",
        "        filename=\"datos/conjunto_de_datos_ageb_urbana_\"+\"0\"+str(entidad)+\"_cpv2020.zip\"\n",
        "        check_file_path=\"datos/conjunto_de_datos_ageb_urbana_\"+\"0\"+str(entidad)+\"_cpv2020.csv\"\n",
        "        extract_path=\"datos\"\n",
        "        download_and_extract(url, filename, check_file_path, extract_path)\n",
        "    else:\n",
        "        url=url_basica+str(entidad)+\"_2020_csv.zip\"\n",
        "        filename=\"datos/conjunto_de_datos_ageb_urbana_\"+str(entidad)+\"_cpv2020.zip\"\n",
        "        check_file_path=\"datos/conjunto_de_datos_ageb_urbana_\"+str(entidad)+\"_cpv2020.csv\"\n",
        "        extract_path=\"datos\"\n",
        "        download_and_extract(url, filename, check_file_path, extract_path)"
      ],
      "metadata": {
        "ExecuteTime": {
          "end_time": "2024-02-18T02:08:41.768953500Z",
          "start_time": "2024-02-18T02:04:44.995118500Z"
        },
        "id": "e53f34633e0a3b4d",
        "outputId": "6b13a9dd-a271-4347-a207-201661529435"
      },
      "id": "e53f34633e0a3b4d",
      "execution_count": null
    },
    {
      "cell_type": "code",
      "outputs": [
        {
          "name": "stdout",
          "output_type": "stream",
          "text": [
            "Se ha agregado la entidad 1  a la dataframe\n",
            "Se ha agregado la entidad 2  a la dataframe\n",
            "Se ha agregado la entidad 3  a la dataframe\n",
            "Se ha agregado la entidad 4  a la dataframe\n",
            "Se ha agregado la entidad 5  a la dataframe\n",
            "Se ha agregado la entidad 6  a la dataframe\n",
            "Se ha agregado la entidad 7  a la dataframe\n",
            "Se ha agregado la entidad 8  a la dataframe\n",
            "Se ha agregado la entidad 9  a la dataframe\n",
            "Se ha agregado la entidad 10  a la dataframe\n",
            "Se ha agregado la entidad 11  a la dataframe\n",
            "Se ha agregado la entidad 12  a la dataframe\n",
            "Se ha agregado la entidad 13  a la dataframe\n",
            "Se ha agregado la entidad 14  a la dataframe\n",
            "Se ha agregado la entidad 15  a la dataframe\n",
            "Se ha agregado la entidad 16  a la dataframe\n",
            "Se ha agregado la entidad 17  a la dataframe\n",
            "Se ha agregado la entidad 18  a la dataframe\n",
            "Se ha agregado la entidad 19  a la dataframe\n",
            "Se ha agregado la entidad 20  a la dataframe\n",
            "Se ha agregado la entidad 21  a la dataframe\n",
            "Se ha agregado la entidad 22  a la dataframe\n",
            "Se ha agregado la entidad 23  a la dataframe\n",
            "Se ha agregado la entidad 24  a la dataframe\n",
            "Se ha agregado la entidad 25  a la dataframe\n",
            "Se ha agregado la entidad 26  a la dataframe\n",
            "Se ha agregado la entidad 27  a la dataframe\n",
            "Se ha agregado la entidad 28  a la dataframe\n",
            "Se ha agregado la entidad 29  a la dataframe\n",
            "Se ha agregado la entidad 30  a la dataframe\n",
            "Se ha agregado la entidad 31  a la dataframe\n",
            "Se ha agregado la entidad 32  a la dataframe\n",
            "Se concluyó la concatenación. El conjunto de datos cuenta con 230 columnas y 1,683,504 registros\n"
          ]
        }
      ],
      "source": [
        "#Pegar todos los archivos csv en una sola data frame\n",
        "df=pd.DataFrame()\n",
        "for entidad in range(1,33):\n",
        "    if entidad<10:\n",
        "        df_temp=pd.read_csv(\"datos/RESAGEBURB_\"+\"0\"+str(entidad)+\"CSV20.csv\",encoding='utf-8', low_memory=False)\n",
        "    else:\n",
        "        df_temp=pd.read_csv(\"datos/RESAGEBURB_\"+str(entidad)+\"CSV20.csv\",encoding='utf-8', low_memory=False)\n",
        "    df=pd.concat([df,df_temp],axis=0)\n",
        "    print(\"Se ha agregado la entidad \"+str(entidad),\" a la dataframe\")\n",
        "\n",
        "#Imprimir el número de registros con separadores de miles\n",
        "print(\"Se concluyó la concatenación. El conjunto de datos cuenta con \"+str(df.shape[1])+\" columnas y \"+str(\"{:,}\".format(df.shape[0]))+\" registros\")\n",
        "df.columns=df.columns.str.lower()"
      ],
      "metadata": {
        "ExecuteTime": {
          "end_time": "2024-02-18T02:09:40.876609500Z",
          "start_time": "2024-02-18T02:08:41.778578700Z"
        },
        "id": "7ca616c0dd750719",
        "outputId": "aff42063-19e2-45e5-a447-16096e312658"
      },
      "id": "7ca616c0dd750719",
      "execution_count": null
    },
    {
      "cell_type": "code",
      "outputs": [
        {
          "data": {
            "text/plain": "                 cvegeo  entidad         nom_ent  mun                nom_mun  \\\n4      0100100010017001        1  Aguascalientes    1         Aguascalientes   \n5      0100100010017002        1  Aguascalientes    1         Aguascalientes   \n6      0100100010017003        1  Aguascalientes    1         Aguascalientes   \n7      0100100010017004        1  Aguascalientes    1         Aguascalientes   \n8      0100100010017005        1  Aguascalientes    1         Aguascalientes   \n...                 ...      ...             ...  ...                    ...   \n33828  3205800010123007       32       Zacatecas   58  Santa María de la Paz   \n33831  3205800010123010       32       Zacatecas   58  Santa María de la Paz   \n33834  3205800010123013       32       Zacatecas   58  Santa María de la Paz   \n33838  3205800010123017       32       Zacatecas   58  Santa María de la Paz   \n33843  3205800010123800       32       Zacatecas   58  Santa María de la Paz   \n\n       loc                nom_loc  ageb  mza  pobtot  ...  vph_telef  vph_cel  \\\n4        1         Aguascalientes  0017    1     170  ...        0.0     53.0   \n5        1         Aguascalientes  0017    2     198  ...        0.0     52.0   \n6        1         Aguascalientes  0017    3     198  ...        0.0     53.0   \n7        1         Aguascalientes  0017    4     202  ...        0.0     55.0   \n8        1         Aguascalientes  0017    5     157  ...        0.0     45.0   \n...    ...                    ...   ...  ...     ...  ...        ...      ...   \n33828    1  Santa María de la Paz  0123    7      21  ...        0.0      6.0   \n33831    1  Santa María de la Paz  0123   10      15  ...        0.0      4.0   \n33834    1  Santa María de la Paz  0123   13      40  ...        0.0     11.0   \n33838    1  Santa María de la Paz  0123   17      11  ...        0.0      0.0   \n33843    1  Santa María de la Paz  0123  800      26  ...        0.0      6.0   \n\n       vph_inter  vph_stvp  vph_spmvpi  vph_cvj  vph_sinrtv  vph_sinltc  \\\n4           13.0      33.0         5.0      5.0         0.0         0.0   \n5           14.0      31.0         0.0      5.0         0.0         0.0   \n6           14.0      30.0         5.0      5.0         4.0         0.0   \n7           20.0      34.0         9.0      5.0         0.0         0.0   \n8           21.0      24.0         5.0      6.0         0.0         3.0   \n...          ...       ...         ...      ...         ...         ...   \n33828        0.0       0.0         0.0      0.0         0.0         0.0   \n33831        4.0       0.0         0.0      0.0         0.0         0.0   \n33834        0.0       8.0         0.0      0.0         0.0         0.0   \n33838        0.0       0.0         0.0      0.0         0.0         0.0   \n33843        0.0       0.0         0.0      0.0         0.0         0.0   \n\n       vph_sincint  vph_sintic  \n4             36.0         0.0  \n5             31.0         0.0  \n6             35.0         0.0  \n7             33.0         0.0  \n8             22.0         0.0  \n...            ...         ...  \n33828          4.0         0.0  \n33831          0.0         0.0  \n33834          9.0         0.0  \n33838          3.0         0.0  \n33843          5.0         0.0  \n\n[1305275 rows x 231 columns]",
            "text/html": "<div>\n<style scoped>\n    .dataframe tbody tr th:only-of-type {\n        vertical-align: middle;\n    }\n\n    .dataframe tbody tr th {\n        vertical-align: top;\n    }\n\n    .dataframe thead th {\n        text-align: right;\n    }\n</style>\n<table border=\"1\" class=\"dataframe\">\n  <thead>\n    <tr style=\"text-align: right;\">\n      <th></th>\n      <th>cvegeo</th>\n      <th>entidad</th>\n      <th>nom_ent</th>\n      <th>mun</th>\n      <th>nom_mun</th>\n      <th>loc</th>\n      <th>nom_loc</th>\n      <th>ageb</th>\n      <th>mza</th>\n      <th>pobtot</th>\n      <th>...</th>\n      <th>vph_telef</th>\n      <th>vph_cel</th>\n      <th>vph_inter</th>\n      <th>vph_stvp</th>\n      <th>vph_spmvpi</th>\n      <th>vph_cvj</th>\n      <th>vph_sinrtv</th>\n      <th>vph_sinltc</th>\n      <th>vph_sincint</th>\n      <th>vph_sintic</th>\n    </tr>\n  </thead>\n  <tbody>\n    <tr>\n      <th>4</th>\n      <td>0100100010017001</td>\n      <td>1</td>\n      <td>Aguascalientes</td>\n      <td>1</td>\n      <td>Aguascalientes</td>\n      <td>1</td>\n      <td>Aguascalientes</td>\n      <td>0017</td>\n      <td>1</td>\n      <td>170</td>\n      <td>...</td>\n      <td>0.0</td>\n      <td>53.0</td>\n      <td>13.0</td>\n      <td>33.0</td>\n      <td>5.0</td>\n      <td>5.0</td>\n      <td>0.0</td>\n      <td>0.0</td>\n      <td>36.0</td>\n      <td>0.0</td>\n    </tr>\n    <tr>\n      <th>5</th>\n      <td>0100100010017002</td>\n      <td>1</td>\n      <td>Aguascalientes</td>\n      <td>1</td>\n      <td>Aguascalientes</td>\n      <td>1</td>\n      <td>Aguascalientes</td>\n      <td>0017</td>\n      <td>2</td>\n      <td>198</td>\n      <td>...</td>\n      <td>0.0</td>\n      <td>52.0</td>\n      <td>14.0</td>\n      <td>31.0</td>\n      <td>0.0</td>\n      <td>5.0</td>\n      <td>0.0</td>\n      <td>0.0</td>\n      <td>31.0</td>\n      <td>0.0</td>\n    </tr>\n    <tr>\n      <th>6</th>\n      <td>0100100010017003</td>\n      <td>1</td>\n      <td>Aguascalientes</td>\n      <td>1</td>\n      <td>Aguascalientes</td>\n      <td>1</td>\n      <td>Aguascalientes</td>\n      <td>0017</td>\n      <td>3</td>\n      <td>198</td>\n      <td>...</td>\n      <td>0.0</td>\n      <td>53.0</td>\n      <td>14.0</td>\n      <td>30.0</td>\n      <td>5.0</td>\n      <td>5.0</td>\n      <td>4.0</td>\n      <td>0.0</td>\n      <td>35.0</td>\n      <td>0.0</td>\n    </tr>\n    <tr>\n      <th>7</th>\n      <td>0100100010017004</td>\n      <td>1</td>\n      <td>Aguascalientes</td>\n      <td>1</td>\n      <td>Aguascalientes</td>\n      <td>1</td>\n      <td>Aguascalientes</td>\n      <td>0017</td>\n      <td>4</td>\n      <td>202</td>\n      <td>...</td>\n      <td>0.0</td>\n      <td>55.0</td>\n      <td>20.0</td>\n      <td>34.0</td>\n      <td>9.0</td>\n      <td>5.0</td>\n      <td>0.0</td>\n      <td>0.0</td>\n      <td>33.0</td>\n      <td>0.0</td>\n    </tr>\n    <tr>\n      <th>8</th>\n      <td>0100100010017005</td>\n      <td>1</td>\n      <td>Aguascalientes</td>\n      <td>1</td>\n      <td>Aguascalientes</td>\n      <td>1</td>\n      <td>Aguascalientes</td>\n      <td>0017</td>\n      <td>5</td>\n      <td>157</td>\n      <td>...</td>\n      <td>0.0</td>\n      <td>45.0</td>\n      <td>21.0</td>\n      <td>24.0</td>\n      <td>5.0</td>\n      <td>6.0</td>\n      <td>0.0</td>\n      <td>3.0</td>\n      <td>22.0</td>\n      <td>0.0</td>\n    </tr>\n    <tr>\n      <th>...</th>\n      <td>...</td>\n      <td>...</td>\n      <td>...</td>\n      <td>...</td>\n      <td>...</td>\n      <td>...</td>\n      <td>...</td>\n      <td>...</td>\n      <td>...</td>\n      <td>...</td>\n      <td>...</td>\n      <td>...</td>\n      <td>...</td>\n      <td>...</td>\n      <td>...</td>\n      <td>...</td>\n      <td>...</td>\n      <td>...</td>\n      <td>...</td>\n      <td>...</td>\n      <td>...</td>\n    </tr>\n    <tr>\n      <th>33828</th>\n      <td>3205800010123007</td>\n      <td>32</td>\n      <td>Zacatecas</td>\n      <td>58</td>\n      <td>Santa María de la Paz</td>\n      <td>1</td>\n      <td>Santa María de la Paz</td>\n      <td>0123</td>\n      <td>7</td>\n      <td>21</td>\n      <td>...</td>\n      <td>0.0</td>\n      <td>6.0</td>\n      <td>0.0</td>\n      <td>0.0</td>\n      <td>0.0</td>\n      <td>0.0</td>\n      <td>0.0</td>\n      <td>0.0</td>\n      <td>4.0</td>\n      <td>0.0</td>\n    </tr>\n    <tr>\n      <th>33831</th>\n      <td>3205800010123010</td>\n      <td>32</td>\n      <td>Zacatecas</td>\n      <td>58</td>\n      <td>Santa María de la Paz</td>\n      <td>1</td>\n      <td>Santa María de la Paz</td>\n      <td>0123</td>\n      <td>10</td>\n      <td>15</td>\n      <td>...</td>\n      <td>0.0</td>\n      <td>4.0</td>\n      <td>4.0</td>\n      <td>0.0</td>\n      <td>0.0</td>\n      <td>0.0</td>\n      <td>0.0</td>\n      <td>0.0</td>\n      <td>0.0</td>\n      <td>0.0</td>\n    </tr>\n    <tr>\n      <th>33834</th>\n      <td>3205800010123013</td>\n      <td>32</td>\n      <td>Zacatecas</td>\n      <td>58</td>\n      <td>Santa María de la Paz</td>\n      <td>1</td>\n      <td>Santa María de la Paz</td>\n      <td>0123</td>\n      <td>13</td>\n      <td>40</td>\n      <td>...</td>\n      <td>0.0</td>\n      <td>11.0</td>\n      <td>0.0</td>\n      <td>8.0</td>\n      <td>0.0</td>\n      <td>0.0</td>\n      <td>0.0</td>\n      <td>0.0</td>\n      <td>9.0</td>\n      <td>0.0</td>\n    </tr>\n    <tr>\n      <th>33838</th>\n      <td>3205800010123017</td>\n      <td>32</td>\n      <td>Zacatecas</td>\n      <td>58</td>\n      <td>Santa María de la Paz</td>\n      <td>1</td>\n      <td>Santa María de la Paz</td>\n      <td>0123</td>\n      <td>17</td>\n      <td>11</td>\n      <td>...</td>\n      <td>0.0</td>\n      <td>0.0</td>\n      <td>0.0</td>\n      <td>0.0</td>\n      <td>0.0</td>\n      <td>0.0</td>\n      <td>0.0</td>\n      <td>0.0</td>\n      <td>3.0</td>\n      <td>0.0</td>\n    </tr>\n    <tr>\n      <th>33843</th>\n      <td>3205800010123800</td>\n      <td>32</td>\n      <td>Zacatecas</td>\n      <td>58</td>\n      <td>Santa María de la Paz</td>\n      <td>1</td>\n      <td>Santa María de la Paz</td>\n      <td>0123</td>\n      <td>800</td>\n      <td>26</td>\n      <td>...</td>\n      <td>0.0</td>\n      <td>6.0</td>\n      <td>0.0</td>\n      <td>0.0</td>\n      <td>0.0</td>\n      <td>0.0</td>\n      <td>0.0</td>\n      <td>0.0</td>\n      <td>5.0</td>\n      <td>0.0</td>\n    </tr>\n  </tbody>\n</table>\n<p>1305275 rows × 231 columns</p>\n</div>"
          },
          "execution_count": 8,
          "metadata": {},
          "output_type": "execute_result"
        }
      ],
      "source": [
        "df_limpia=df.copy()\n",
        "#Crear clave geoestadística\n",
        "df_limpia['cvegeo'] = df_limpia['entidad'].astype(str).str.zfill(2) + df_limpia['mun'].astype(str).str.zfill(3) + df_limpia['loc'].astype(str).str.zfill(4) + df_limpia['ageb'].astype(str).str.zfill(4) + df_limpia['mza'].astype(str).str.zfill(3)\n",
        "columnas = ['cvegeo'] + [col for col in df_limpia.columns if col != 'cvegeo']\n",
        "df_limpia = df_limpia[columnas]\n",
        "#Eliminar agregados de entidad.\n",
        "df_limpia=df_limpia[df_limpia['mun']!=0]\n",
        "#Eliminar agregados de municipio.\n",
        "df_limpia=df_limpia[df_limpia['loc']!=0]\n",
        "#Eliminar agregados de localidad.\n",
        "df_limpia=df_limpia[df_limpia['ageb']!='0000']\n",
        "#Eliminar agregados de manzana.\n",
        "df_limpia=df_limpia[df_limpia['mza']!=0]\n",
        "df_limpia.iloc[:,8:]=df_limpia.iloc[:,8:].apply(pd.to_numeric, errors='coerce')\n",
        "df_limpia=df_limpia[df_limpia['tvivparhab']!=0]\n",
        "df_limpia=df_limpia[df_limpia['tvivparhab'].notna()]\n",
        "#Transformar nans a ceros\n",
        "df_limpia=df_limpia.fillna(0)\n",
        "\n",
        "df_limpia"
      ],
      "metadata": {
        "ExecuteTime": {
          "end_time": "2024-02-18T02:20:12.620665Z",
          "start_time": "2024-02-18T02:09:40.888418300Z"
        },
        "id": "9464ef41061e2f30",
        "outputId": "5b27c59b-e54e-4108-90df-de11bdf149c8"
      },
      "id": "9464ef41061e2f30",
      "execution_count": null
    },
    {
      "cell_type": "markdown",
      "source": [
        "### Descarga información del entorno urbano\n",
        "Esta información servirá para identificar equipamiento en las manzanas."
      ],
      "metadata": {
        "collapsed": false,
        "id": "b270cae21d171c68"
      },
      "id": "b270cae21d171c68"
    },
    {
      "cell_type": "code",
      "outputs": [
        {
          "name": "stdout",
          "output_type": "stream",
          "text": [
            "El archivo datos/Censo2020_CEU_eum_csv.zip existe, no se descargará.\n"
          ]
        }
      ],
      "source": [
        "#Agregar variables del entorno\n",
        "url=\"https://www.inegi.org.mx/contenidos/programas/ccpv/2020/microdatos/ceu/Censo2020_CEU_eum_csv.zip\"\n",
        "download_and_extract(url, \"datos/Censo2020_CEU_eum_csv.zip\", \"datos/TI_MANZANA_EU_00.csv\", \"datos\")"
      ],
      "metadata": {
        "ExecuteTime": {
          "end_time": "2024-02-18T02:20:12.902698800Z",
          "start_time": "2024-02-18T02:20:12.492403300Z"
        },
        "id": "c92d2b18c38f47db",
        "outputId": "777ba81c-c30f-4e62-e217-41cfff7f54a6"
      },
      "id": "c92d2b18c38f47db",
      "execution_count": null
    },
    {
      "cell_type": "code",
      "outputs": [
        {
          "data": {
            "text/plain": "                   cvegeo  vialidad_sinrec\n0        0100100010017001              0.0\n1        0100100010017002              0.0\n2        0100100010017003              0.0\n3        0100100010017004              0.0\n4        0100100010017005              0.0\n...                   ...              ...\n1512862  3205800010123017             62.5\n1512863  3205800010123018            100.0\n1512864  3205800010123019            100.0\n1512865  3205800010123020            100.0\n1512866  3205800010123021              0.0\n\n[1512867 rows x 2 columns]",
            "text/html": "<div>\n<style scoped>\n    .dataframe tbody tr th:only-of-type {\n        vertical-align: middle;\n    }\n\n    .dataframe tbody tr th {\n        vertical-align: top;\n    }\n\n    .dataframe thead th {\n        text-align: right;\n    }\n</style>\n<table border=\"1\" class=\"dataframe\">\n  <thead>\n    <tr style=\"text-align: right;\">\n      <th></th>\n      <th>cvegeo</th>\n      <th>vialidad_sinrec</th>\n    </tr>\n  </thead>\n  <tbody>\n    <tr>\n      <th>0</th>\n      <td>0100100010017001</td>\n      <td>0.0</td>\n    </tr>\n    <tr>\n      <th>1</th>\n      <td>0100100010017002</td>\n      <td>0.0</td>\n    </tr>\n    <tr>\n      <th>2</th>\n      <td>0100100010017003</td>\n      <td>0.0</td>\n    </tr>\n    <tr>\n      <th>3</th>\n      <td>0100100010017004</td>\n      <td>0.0</td>\n    </tr>\n    <tr>\n      <th>4</th>\n      <td>0100100010017005</td>\n      <td>0.0</td>\n    </tr>\n    <tr>\n      <th>...</th>\n      <td>...</td>\n      <td>...</td>\n    </tr>\n    <tr>\n      <th>1512862</th>\n      <td>3205800010123017</td>\n      <td>62.5</td>\n    </tr>\n    <tr>\n      <th>1512863</th>\n      <td>3205800010123018</td>\n      <td>100.0</td>\n    </tr>\n    <tr>\n      <th>1512864</th>\n      <td>3205800010123019</td>\n      <td>100.0</td>\n    </tr>\n    <tr>\n      <th>1512865</th>\n      <td>3205800010123020</td>\n      <td>100.0</td>\n    </tr>\n    <tr>\n      <th>1512866</th>\n      <td>3205800010123021</td>\n      <td>0.0</td>\n    </tr>\n  </tbody>\n</table>\n<p>1512867 rows × 2 columns</p>\n</div>"
          },
          "execution_count": 10,
          "metadata": {},
          "output_type": "execute_result"
        }
      ],
      "source": [
        "entorno=pd.read_csv('datos/TI_MANZANA_EU_00.csv', encoding='latin-1')\n",
        "#Columnas en minúsculas\n",
        "entorno.columns=entorno.columns.str.lower()\n",
        "#Construir la clave de manzana\n",
        "entorno['cvegeo']=entorno[\"ent\"].astype(str).str.zfill(2)+entorno[\"mun\"].astype(str).str.zfill(3)+entorno[\"loc\"].astype(str).str.zfill(4)+entorno[\"ageb\"].astype(str).str.zfill(4)+entorno[\"mza\"].astype(str).str.zfill(3)\n",
        "entorno['vialidad_sinrec']=entorno['s_recu_n']/(entorno['totvial'])*100\n",
        "\n",
        "#Dejar solo cvegeo y porcentajes\n",
        "entorno=entorno[['cvegeo','vialidad_sinrec']]\n",
        "#Sustituir Nan por 0\n",
        "entorno=entorno.fillna(0)\n",
        "entorno"
      ],
      "metadata": {
        "ExecuteTime": {
          "end_time": "2024-02-18T02:20:20.483599900Z",
          "start_time": "2024-02-18T02:20:12.504814100Z"
        },
        "id": "fd7ebcc0e22dab5b",
        "outputId": "0a4a48f8-4399-4600-bc98-4a94d810d632"
      },
      "id": "fd7ebcc0e22dab5b",
      "execution_count": null
    },
    {
      "cell_type": "code",
      "outputs": [],
      "source": [
        "#Pegar la información del entorno a la base de datos\n",
        "df_limpia=pd.merge(df_limpia,entorno)"
      ],
      "metadata": {
        "ExecuteTime": {
          "end_time": "2024-02-18T02:20:39.069527700Z",
          "start_time": "2024-02-18T02:20:20.480636600Z"
        },
        "id": "2f4cb1f91688f853"
      },
      "id": "2f4cb1f91688f853",
      "execution_count": null
    },
    {
      "cell_type": "code",
      "outputs": [
        {
          "data": {
            "text/plain": "                   cvegeo  entidad         nom_ent  mun  \\\n0        0100100010017001        1  Aguascalientes    1   \n1        0100100010017002        1  Aguascalientes    1   \n2        0100100010017003        1  Aguascalientes    1   \n3        0100100010017004        1  Aguascalientes    1   \n4        0100100010017005        1  Aguascalientes    1   \n...                   ...      ...             ...  ...   \n1224778  3205800010123005       32       Zacatecas   58   \n1224779  3205800010123007       32       Zacatecas   58   \n1224780  3205800010123010       32       Zacatecas   58   \n1224781  3205800010123013       32       Zacatecas   58   \n1224782  3205800010123017       32       Zacatecas   58   \n\n                       nom_mun  loc                nom_loc  vialidad_sinrec  \\\n0               Aguascalientes    1         Aguascalientes              0.0   \n1               Aguascalientes    1         Aguascalientes              0.0   \n2               Aguascalientes    1         Aguascalientes              0.0   \n3               Aguascalientes    1         Aguascalientes              0.0   \n4               Aguascalientes    1         Aguascalientes              0.0   \n...                        ...  ...                    ...              ...   \n1224778  Santa María de la Paz    1  Santa María de la Paz              0.0   \n1224779  Santa María de la Paz    1  Santa María de la Paz              0.0   \n1224780  Santa María de la Paz    1  Santa María de la Paz             25.0   \n1224781  Santa María de la Paz    1  Santa María de la Paz              0.0   \n1224782  Santa María de la Paz    1  Santa María de la Paz             62.5   \n\n         p_viv_sndren  p_viv_sagua  p_viv_senergia  \n0                 0.0          0.0             0.0  \n1                 0.0          0.0             0.0  \n2                 0.0          0.0             0.0  \n3                 0.0          0.0             0.0  \n4                 0.0          0.0             0.0  \n...               ...          ...             ...  \n1224778           0.0          0.0             0.0  \n1224779           0.0          0.0             0.0  \n1224780           0.0          0.0             0.0  \n1224781           0.0          0.0             0.0  \n1224782           0.0          0.0             0.0  \n\n[1224783 rows x 11 columns]",
            "text/html": "<div>\n<style scoped>\n    .dataframe tbody tr th:only-of-type {\n        vertical-align: middle;\n    }\n\n    .dataframe tbody tr th {\n        vertical-align: top;\n    }\n\n    .dataframe thead th {\n        text-align: right;\n    }\n</style>\n<table border=\"1\" class=\"dataframe\">\n  <thead>\n    <tr style=\"text-align: right;\">\n      <th></th>\n      <th>cvegeo</th>\n      <th>entidad</th>\n      <th>nom_ent</th>\n      <th>mun</th>\n      <th>nom_mun</th>\n      <th>loc</th>\n      <th>nom_loc</th>\n      <th>vialidad_sinrec</th>\n      <th>p_viv_sndren</th>\n      <th>p_viv_sagua</th>\n      <th>p_viv_senergia</th>\n    </tr>\n  </thead>\n  <tbody>\n    <tr>\n      <th>0</th>\n      <td>0100100010017001</td>\n      <td>1</td>\n      <td>Aguascalientes</td>\n      <td>1</td>\n      <td>Aguascalientes</td>\n      <td>1</td>\n      <td>Aguascalientes</td>\n      <td>0.0</td>\n      <td>0.0</td>\n      <td>0.0</td>\n      <td>0.0</td>\n    </tr>\n    <tr>\n      <th>1</th>\n      <td>0100100010017002</td>\n      <td>1</td>\n      <td>Aguascalientes</td>\n      <td>1</td>\n      <td>Aguascalientes</td>\n      <td>1</td>\n      <td>Aguascalientes</td>\n      <td>0.0</td>\n      <td>0.0</td>\n      <td>0.0</td>\n      <td>0.0</td>\n    </tr>\n    <tr>\n      <th>2</th>\n      <td>0100100010017003</td>\n      <td>1</td>\n      <td>Aguascalientes</td>\n      <td>1</td>\n      <td>Aguascalientes</td>\n      <td>1</td>\n      <td>Aguascalientes</td>\n      <td>0.0</td>\n      <td>0.0</td>\n      <td>0.0</td>\n      <td>0.0</td>\n    </tr>\n    <tr>\n      <th>3</th>\n      <td>0100100010017004</td>\n      <td>1</td>\n      <td>Aguascalientes</td>\n      <td>1</td>\n      <td>Aguascalientes</td>\n      <td>1</td>\n      <td>Aguascalientes</td>\n      <td>0.0</td>\n      <td>0.0</td>\n      <td>0.0</td>\n      <td>0.0</td>\n    </tr>\n    <tr>\n      <th>4</th>\n      <td>0100100010017005</td>\n      <td>1</td>\n      <td>Aguascalientes</td>\n      <td>1</td>\n      <td>Aguascalientes</td>\n      <td>1</td>\n      <td>Aguascalientes</td>\n      <td>0.0</td>\n      <td>0.0</td>\n      <td>0.0</td>\n      <td>0.0</td>\n    </tr>\n    <tr>\n      <th>...</th>\n      <td>...</td>\n      <td>...</td>\n      <td>...</td>\n      <td>...</td>\n      <td>...</td>\n      <td>...</td>\n      <td>...</td>\n      <td>...</td>\n      <td>...</td>\n      <td>...</td>\n      <td>...</td>\n    </tr>\n    <tr>\n      <th>1224778</th>\n      <td>3205800010123005</td>\n      <td>32</td>\n      <td>Zacatecas</td>\n      <td>58</td>\n      <td>Santa María de la Paz</td>\n      <td>1</td>\n      <td>Santa María de la Paz</td>\n      <td>0.0</td>\n      <td>0.0</td>\n      <td>0.0</td>\n      <td>0.0</td>\n    </tr>\n    <tr>\n      <th>1224779</th>\n      <td>3205800010123007</td>\n      <td>32</td>\n      <td>Zacatecas</td>\n      <td>58</td>\n      <td>Santa María de la Paz</td>\n      <td>1</td>\n      <td>Santa María de la Paz</td>\n      <td>0.0</td>\n      <td>0.0</td>\n      <td>0.0</td>\n      <td>0.0</td>\n    </tr>\n    <tr>\n      <th>1224780</th>\n      <td>3205800010123010</td>\n      <td>32</td>\n      <td>Zacatecas</td>\n      <td>58</td>\n      <td>Santa María de la Paz</td>\n      <td>1</td>\n      <td>Santa María de la Paz</td>\n      <td>25.0</td>\n      <td>0.0</td>\n      <td>0.0</td>\n      <td>0.0</td>\n    </tr>\n    <tr>\n      <th>1224781</th>\n      <td>3205800010123013</td>\n      <td>32</td>\n      <td>Zacatecas</td>\n      <td>58</td>\n      <td>Santa María de la Paz</td>\n      <td>1</td>\n      <td>Santa María de la Paz</td>\n      <td>0.0</td>\n      <td>0.0</td>\n      <td>0.0</td>\n      <td>0.0</td>\n    </tr>\n    <tr>\n      <th>1224782</th>\n      <td>3205800010123017</td>\n      <td>32</td>\n      <td>Zacatecas</td>\n      <td>58</td>\n      <td>Santa María de la Paz</td>\n      <td>1</td>\n      <td>Santa María de la Paz</td>\n      <td>62.5</td>\n      <td>0.0</td>\n      <td>0.0</td>\n      <td>0.0</td>\n    </tr>\n  </tbody>\n</table>\n<p>1224783 rows × 11 columns</p>\n</div>"
          },
          "execution_count": 12,
          "metadata": {},
          "output_type": "execute_result"
        }
      ],
      "source": [
        "#Creación de indicadores\n",
        "#Crear indicador de viviendas que no disponen de drenaje\n",
        "df_limpia['p_viv_sndren']=df_limpia['vph_nodren']/df_limpia['tvivparhab']*100\n",
        "#Crear indicador de viviendas que no disponen de agua entubada\n",
        "df_limpia['p_viv_sagua']=df_limpia['vph_aguafv']/df_limpia['tvivparhab']*100\n",
        "#Crear indicador de viviendas que no disponen de energía eléctrica\n",
        "df_limpia['p_viv_senergia']=df_limpia['vph_s_elec']/df_limpia['tvivparhab']*100\n",
        "#Dejar solo los indicadores y las primeras 7 columnas\n",
        "df_limpia=df_limpia.iloc[:,0:7].join(df_limpia.iloc[:,-4:])\n",
        "df_limpia"
      ],
      "metadata": {
        "ExecuteTime": {
          "end_time": "2024-02-18T02:20:39.512075700Z",
          "start_time": "2024-02-18T02:20:39.081602700Z"
        },
        "id": "d3758e84db43a9b6",
        "outputId": "65348f08-9a19-4277-db3c-001a5f3d3d2b"
      },
      "id": "d3758e84db43a9b6",
      "execution_count": null
    },
    {
      "cell_type": "markdown",
      "source": [
        "## Cálculo de componentes principales para crear índice"
      ],
      "metadata": {
        "collapsed": false,
        "id": "8628e6bac809fe1c"
      },
      "id": "8628e6bac809fe1c"
    },
    {
      "cell_type": "code",
      "outputs": [
        {
          "name": "stdout",
          "output_type": "stream",
          "text": [
            "[0.88295944 0.06958368 0.04404914 0.00340774]\n"
          ]
        },
        {
          "data": {
            "text/plain": "Text(0.5, -0.2, 'Fuente: Elaboración propia con datos de INEGI. Censo de Población y Vivienda 2020.')"
          },
          "execution_count": 13,
          "metadata": {},
          "output_type": "execute_result"
        },
        {
          "data": {
            "text/plain": "<Figure size 640x480 with 1 Axes>",
            "image/png": "[encoded data removed]"
          },
          "metadata": {},
          "output_type": "display_data"
        }
      ],
      "source": [
        "dato_pca = df_limpia[\n",
        "    ['p_viv_sndren', 'p_viv_senergia', 'p_viv_sagua', 'vialidad_sinrec']]\n",
        "#Crear objeto PCA\n",
        "pca = PCA(n_components=4)\n",
        "#Entrenar PCA\n",
        "data = pca.fit_transform(dato_pca)\n",
        "#Porcentaje de varianza explicada por cada componente\n",
        "print(pca.explained_variance_ratio_)\n",
        "#Gráfica de barras de varianza explicada\n",
        "plt.bar(range(1, 5), pca.explained_variance_ratio_, color='#9d2449', align='center')\n",
        "plt.title('Porcentaje de varianza explicada por cada componente', fontsize=15, fontweight='bold')\n",
        "plt.xlabel('Componente principal')\n",
        "plt.ylabel('Porcentaje de varianza explicada')\n",
        "plt.xticks(range(1, 5))\n",
        "#etiquetas en la parte superior de las barras\n",
        "for x, y in zip(range(1, 5), pca.explained_variance_ratio_):\n",
        "    plt.text(x, y + 0.01, str(round(y * 100, 1)) + '%', color='black', ha='center', fontweight='bold')\n",
        "    #Eje y multiplicado por 100\n",
        "plt.gca().yaxis.set_major_formatter(PercentFormatter(1))\n",
        "#Eliminar borde derecho y superior\n",
        "plt.gca().spines['right'].set_visible(False)\n",
        "plt.gca().spines['top'].set_visible(False)\n",
        "plt.text(0.5, -0.2, 'Fuente: Elaboración propia con datos de INEGI. Censo de Población y Vivienda 2020.', fontsize=10,\n",
        "         ha='center', va='center', transform=plt.gca().transAxes)\n",
        "\n"
      ],
      "metadata": {
        "ExecuteTime": {
          "end_time": "2024-02-18T02:20:40.333444900Z",
          "start_time": "2024-02-18T02:20:39.514085300Z"
        },
        "id": "37788bafee182b7c",
        "outputId": "455ddef7-326d-440d-d7dd-62826444633d"
      },
      "id": "37788bafee182b7c",
      "execution_count": null
    },
    {
      "cell_type": "code",
      "outputs": [],
      "source": [
        "#Crear índice con la primera componente principal\n",
        "ind1=data[:,0]\n",
        "explained_variance=pca.explained_variance_ratio_\n",
        "indicador=ind1*explained_variance[0]\n",
        "\n",
        "#Normalizar el indicador\n",
        "indicador=(indicador-indicador.min())/(indicador.max()-indicador.min())\n",
        "#Agregar el indicador a la base de datos\n",
        "df_limpia['indicador']=indicador"
      ],
      "metadata": {
        "ExecuteTime": {
          "end_time": "2024-02-18T02:20:40.482458200Z",
          "start_time": "2024-02-18T02:20:40.335952900Z"
        },
        "id": "e47598d92dc8b188"
      },
      "id": "e47598d92dc8b188",
      "execution_count": null
    },
    {
      "cell_type": "code",
      "outputs": [
        {
          "data": {
            "text/plain": "<Figure size 640x480 with 1 Axes>",
            "image/png": "[encoded data removed]"
          },
          "metadata": {},
          "output_type": "display_data"
        }
      ],
      "source": [
        "#Graficar el índice de rezago habitacional\n",
        "plt.hist(indicador,bins=10,edgecolor='black', linewidth=1.2, color='#9d2449')\n",
        "plt.title(\"Histograma del índice\",fontsize=15, fontweight='bold')\n",
        "#Evitar que eje y tenga notación científica\n",
        "plt.ticklabel_format(style='plain', axis='y')\n",
        "#Eliminar borde derecho y superior\n",
        "plt.gca().spines['right'].set_visible(False)\n",
        "plt.gca().spines['top'].set_visible(False)\n",
        "plt.text(0.5, -0.2, 'Fuente: Elaboración propia con datos de INEGI. Censo de Población y Vivienda 2020.', fontsize=10, ha='center', va='center', transform=plt.gca().transAxes)\n",
        "plt.show()"
      ],
      "metadata": {
        "ExecuteTime": {
          "end_time": "2024-02-18T02:20:40.763239600Z",
          "start_time": "2024-02-18T02:20:40.358176100Z"
        },
        "id": "5fccb4e22d47f878",
        "outputId": "7cd2cc8c-6764-48ef-9c78-78e45db92d91"
      },
      "id": "5fccb4e22d47f878",
      "execution_count": null
    },
    {
      "cell_type": "code",
      "outputs": [],
      "source": [
        "min_values = df_limpia[['p_viv_sndren', 'p_viv_senergia', 'p_viv_sagua', 'vialidad_sinrec']].min()\n",
        "range_values = df_limpia[['p_viv_sndren', 'p_viv_senergia', 'p_viv_sagua', 'vialidad_sinrec']].max() - min_values\n",
        "df_limpia_norm = (df_limpia[['p_viv_sndren', 'p_viv_senergia', 'p_viv_sagua', 'vialidad_sinrec']] - min_values) / range_values\n",
        "\n",
        "# Suponiendo pesos iguales para cada indicador\n",
        "weights = [1/4] * 4\n",
        "\n",
        "# Cálculo del índice como el promedio ponderado de los indicadores normalizados\n",
        "df_limpia['slum_severity_index'] = df_limpia_norm.dot(weights)"
      ],
      "metadata": {
        "ExecuteTime": {
          "end_time": "2024-02-18T02:20:40.860171500Z",
          "start_time": "2024-02-18T02:20:40.763239600Z"
        },
        "id": "66ce78f0f616f5f3"
      },
      "id": "66ce78f0f616f5f3",
      "execution_count": null
    },
    {
      "cell_type": "code",
      "outputs": [
        {
          "data": {
            "text/plain": "                   cvegeo  entidad         nom_ent  mun  \\\n0        0100100010017001        1  Aguascalientes    1   \n1        0100100010017002        1  Aguascalientes    1   \n2        0100100010017003        1  Aguascalientes    1   \n3        0100100010017004        1  Aguascalientes    1   \n4        0100100010017005        1  Aguascalientes    1   \n...                   ...      ...             ...  ...   \n1224778  3205800010123005       32       Zacatecas   58   \n1224779  3205800010123007       32       Zacatecas   58   \n1224780  3205800010123010       32       Zacatecas   58   \n1224781  3205800010123013       32       Zacatecas   58   \n1224782  3205800010123017       32       Zacatecas   58   \n\n                       nom_mun  loc                nom_loc  vialidad_sinrec  \\\n0               Aguascalientes    1         Aguascalientes              0.0   \n1               Aguascalientes    1         Aguascalientes              0.0   \n2               Aguascalientes    1         Aguascalientes              0.0   \n3               Aguascalientes    1         Aguascalientes              0.0   \n4               Aguascalientes    1         Aguascalientes              0.0   \n...                        ...  ...                    ...              ...   \n1224778  Santa María de la Paz    1  Santa María de la Paz              0.0   \n1224779  Santa María de la Paz    1  Santa María de la Paz              0.0   \n1224780  Santa María de la Paz    1  Santa María de la Paz             25.0   \n1224781  Santa María de la Paz    1  Santa María de la Paz              0.0   \n1224782  Santa María de la Paz    1  Santa María de la Paz             62.5   \n\n         p_viv_sndren  p_viv_sagua  p_viv_senergia     indicador  \\\n0                 0.0          0.0             0.0  7.811263e-12   \n1                 0.0          0.0             0.0  0.000000e+00   \n2                 0.0          0.0             0.0  3.576350e-12   \n3                 0.0          0.0             0.0  3.203590e-12   \n4                 0.0          0.0             0.0  3.153833e-12   \n...               ...          ...             ...           ...   \n1224778           0.0          0.0             0.0  3.153833e-12   \n1224779           0.0          0.0             0.0  3.153833e-12   \n1224780           0.0          0.0             0.0  2.269186e-01   \n1224781           0.0          0.0             0.0  3.153833e-12   \n1224782           0.0          0.0             0.0  5.672966e-01   \n\n         slum_severity_index  \n0                    0.00000  \n1                    0.00000  \n2                    0.00000  \n3                    0.00000  \n4                    0.00000  \n...                      ...  \n1224778              0.00000  \n1224779              0.00000  \n1224780              0.06250  \n1224781              0.00000  \n1224782              0.15625  \n\n[1224783 rows x 13 columns]",
            "text/html": "<div>\n<style scoped>\n    .dataframe tbody tr th:only-of-type {\n        vertical-align: middle;\n    }\n\n    .dataframe tbody tr th {\n        vertical-align: top;\n    }\n\n    .dataframe thead th {\n        text-align: right;\n    }\n</style>\n<table border=\"1\" class=\"dataframe\">\n  <thead>\n    <tr style=\"text-align: right;\">\n      <th></th>\n      <th>cvegeo</th>\n      <th>entidad</th>\n      <th>nom_ent</th>\n      <th>mun</th>\n      <th>nom_mun</th>\n      <th>loc</th>\n      <th>nom_loc</th>\n      <th>vialidad_sinrec</th>\n      <th>p_viv_sndren</th>\n      <th>p_viv_sagua</th>\n      <th>p_viv_senergia</th>\n      <th>indicador</th>\n      <th>slum_severity_index</th>\n    </tr>\n  </thead>\n  <tbody>\n    <tr>\n      <th>0</th>\n      <td>0100100010017001</td>\n      <td>1</td>\n      <td>Aguascalientes</td>\n      <td>1</td>\n      <td>Aguascalientes</td>\n      <td>1</td>\n      <td>Aguascalientes</td>\n      <td>0.0</td>\n      <td>0.0</td>\n      <td>0.0</td>\n      <td>0.0</td>\n      <td>7.811263e-12</td>\n      <td>0.00000</td>\n    </tr>\n    <tr>\n      <th>1</th>\n      <td>0100100010017002</td>\n      <td>1</td>\n      <td>Aguascalientes</td>\n      <td>1</td>\n      <td>Aguascalientes</td>\n      <td>1</td>\n      <td>Aguascalientes</td>\n      <td>0.0</td>\n      <td>0.0</td>\n      <td>0.0</td>\n      <td>0.0</td>\n      <td>0.000000e+00</td>\n      <td>0.00000</td>\n    </tr>\n    <tr>\n      <th>2</th>\n      <td>0100100010017003</td>\n      <td>1</td>\n      <td>Aguascalientes</td>\n      <td>1</td>\n      <td>Aguascalientes</td>\n      <td>1</td>\n      <td>Aguascalientes</td>\n      <td>0.0</td>\n      <td>0.0</td>\n      <td>0.0</td>\n      <td>0.0</td>\n      <td>3.576350e-12</td>\n      <td>0.00000</td>\n    </tr>\n    <tr>\n      <th>3</th>\n      <td>0100100010017004</td>\n      <td>1</td>\n      <td>Aguascalientes</td>\n      <td>1</td>\n      <td>Aguascalientes</td>\n      <td>1</td>\n      <td>Aguascalientes</td>\n      <td>0.0</td>\n      <td>0.0</td>\n      <td>0.0</td>\n      <td>0.0</td>\n      <td>3.203590e-12</td>\n      <td>0.00000</td>\n    </tr>\n    <tr>\n      <th>4</th>\n      <td>0100100010017005</td>\n      <td>1</td>\n      <td>Aguascalientes</td>\n      <td>1</td>\n      <td>Aguascalientes</td>\n      <td>1</td>\n      <td>Aguascalientes</td>\n      <td>0.0</td>\n      <td>0.0</td>\n      <td>0.0</td>\n      <td>0.0</td>\n      <td>3.153833e-12</td>\n      <td>0.00000</td>\n    </tr>\n    <tr>\n      <th>...</th>\n      <td>...</td>\n      <td>...</td>\n      <td>...</td>\n      <td>...</td>\n      <td>...</td>\n      <td>...</td>\n      <td>...</td>\n      <td>...</td>\n      <td>...</td>\n      <td>...</td>\n      <td>...</td>\n      <td>...</td>\n      <td>...</td>\n    </tr>\n    <tr>\n      <th>1224778</th>\n      <td>3205800010123005</td>\n      <td>32</td>\n      <td>Zacatecas</td>\n      <td>58</td>\n      <td>Santa María de la Paz</td>\n      <td>1</td>\n      <td>Santa María de la Paz</td>\n      <td>0.0</td>\n      <td>0.0</td>\n      <td>0.0</td>\n      <td>0.0</td>\n      <td>3.153833e-12</td>\n      <td>0.00000</td>\n    </tr>\n    <tr>\n      <th>1224779</th>\n      <td>3205800010123007</td>\n      <td>32</td>\n      <td>Zacatecas</td>\n      <td>58</td>\n      <td>Santa María de la Paz</td>\n      <td>1</td>\n      <td>Santa María de la Paz</td>\n      <td>0.0</td>\n      <td>0.0</td>\n      <td>0.0</td>\n      <td>0.0</td>\n      <td>3.153833e-12</td>\n      <td>0.00000</td>\n    </tr>\n    <tr>\n      <th>1224780</th>\n      <td>3205800010123010</td>\n      <td>32</td>\n      <td>Zacatecas</td>\n      <td>58</td>\n      <td>Santa María de la Paz</td>\n      <td>1</td>\n      <td>Santa María de la Paz</td>\n      <td>25.0</td>\n      <td>0.0</td>\n      <td>0.0</td>\n      <td>0.0</td>\n      <td>2.269186e-01</td>\n      <td>0.06250</td>\n    </tr>\n    <tr>\n      <th>1224781</th>\n      <td>3205800010123013</td>\n      <td>32</td>\n      <td>Zacatecas</td>\n      <td>58</td>\n      <td>Santa María de la Paz</td>\n      <td>1</td>\n      <td>Santa María de la Paz</td>\n      <td>0.0</td>\n      <td>0.0</td>\n      <td>0.0</td>\n      <td>0.0</td>\n      <td>3.153833e-12</td>\n      <td>0.00000</td>\n    </tr>\n    <tr>\n      <th>1224782</th>\n      <td>3205800010123017</td>\n      <td>32</td>\n      <td>Zacatecas</td>\n      <td>58</td>\n      <td>Santa María de la Paz</td>\n      <td>1</td>\n      <td>Santa María de la Paz</td>\n      <td>62.5</td>\n      <td>0.0</td>\n      <td>0.0</td>\n      <td>0.0</td>\n      <td>5.672966e-01</td>\n      <td>0.15625</td>\n    </tr>\n  </tbody>\n</table>\n<p>1224783 rows × 13 columns</p>\n</div>"
          },
          "execution_count": 17,
          "metadata": {},
          "output_type": "execute_result"
        }
      ],
      "source": [
        "df_limpia"
      ],
      "metadata": {
        "ExecuteTime": {
          "end_time": "2024-02-18T02:20:40.877781500Z",
          "start_time": "2024-02-18T02:20:40.855045600Z"
        },
        "id": "c75e29c369501abe",
        "outputId": "fd78184d-a632-4796-d3e4-b92f72c007f6"
      },
      "id": "c75e29c369501abe",
      "execution_count": null
    },
    {
      "cell_type": "code",
      "outputs": [],
      "source": [
        "#Hacer 5 grupos para clasificar el índice\n",
        "df_limpia['indica_cat']=pd.qcut(df_limpia['indicador'],5,labels=False, duplicates='drop')"
      ],
      "metadata": {
        "ExecuteTime": {
          "end_time": "2024-02-18T02:20:40.994384800Z",
          "start_time": "2024-02-18T02:20:40.870703Z"
        },
        "id": "19be49040473cc8d"
      },
      "id": "19be49040473cc8d",
      "execution_count": null
    },
    {
      "cell_type": "code",
      "outputs": [],
      "source": [
        "#Etiquetar los grupos\n",
        "df_limpia['indica_cat']=df_limpia['indica_cat'].replace({0:'Muy bajo',1:'Bajo',2:'Medio',3:'Alto',4:'Muy alto'})"
      ],
      "metadata": {
        "ExecuteTime": {
          "end_time": "2024-02-18T02:20:41.055409900Z",
          "start_time": "2024-02-18T02:20:40.934881800Z"
        },
        "id": "fbd2a27213d17e92"
      },
      "id": "fbd2a27213d17e92",
      "execution_count": null
    },
    {
      "cell_type": "code",
      "outputs": [
        {
          "data": {
            "text/plain": "                   cvegeo  entidad         nom_ent  mun  \\\n0        0100100010017001        1  Aguascalientes    1   \n1        0100100010017002        1  Aguascalientes    1   \n2        0100100010017003        1  Aguascalientes    1   \n3        0100100010017004        1  Aguascalientes    1   \n4        0100100010017005        1  Aguascalientes    1   \n...                   ...      ...             ...  ...   \n1224778  3205800010123005       32       Zacatecas   58   \n1224779  3205800010123007       32       Zacatecas   58   \n1224780  3205800010123010       32       Zacatecas   58   \n1224781  3205800010123013       32       Zacatecas   58   \n1224782  3205800010123017       32       Zacatecas   58   \n\n                       nom_mun  loc                nom_loc  vialidad_sinrec  \\\n0               Aguascalientes    1         Aguascalientes              0.0   \n1               Aguascalientes    1         Aguascalientes              0.0   \n2               Aguascalientes    1         Aguascalientes              0.0   \n3               Aguascalientes    1         Aguascalientes              0.0   \n4               Aguascalientes    1         Aguascalientes              0.0   \n...                        ...  ...                    ...              ...   \n1224778  Santa María de la Paz    1  Santa María de la Paz              0.0   \n1224779  Santa María de la Paz    1  Santa María de la Paz              0.0   \n1224780  Santa María de la Paz    1  Santa María de la Paz             25.0   \n1224781  Santa María de la Paz    1  Santa María de la Paz              0.0   \n1224782  Santa María de la Paz    1  Santa María de la Paz             62.5   \n\n         p_viv_sndren  p_viv_sagua  p_viv_senergia     indicador  \\\n0                 0.0          0.0             0.0  7.811263e-12   \n1                 0.0          0.0             0.0  0.000000e+00   \n2                 0.0          0.0             0.0  3.576350e-12   \n3                 0.0          0.0             0.0  3.203590e-12   \n4                 0.0          0.0             0.0  3.153833e-12   \n...               ...          ...             ...           ...   \n1224778           0.0          0.0             0.0  3.153833e-12   \n1224779           0.0          0.0             0.0  3.153833e-12   \n1224780           0.0          0.0             0.0  2.269186e-01   \n1224781           0.0          0.0             0.0  3.153833e-12   \n1224782           0.0          0.0             0.0  5.672966e-01   \n\n         slum_severity_index indica_cat  \n0                    0.00000       Bajo  \n1                    0.00000   Muy bajo  \n2                    0.00000       Bajo  \n3                    0.00000       Bajo  \n4                    0.00000   Muy bajo  \n...                      ...        ...  \n1224778              0.00000   Muy bajo  \n1224779              0.00000   Muy bajo  \n1224780              0.06250       Bajo  \n1224781              0.00000   Muy bajo  \n1224782              0.15625      Medio  \n\n[1224783 rows x 14 columns]",
            "text/html": "<div>\n<style scoped>\n    .dataframe tbody tr th:only-of-type {\n        vertical-align: middle;\n    }\n\n    .dataframe tbody tr th {\n        vertical-align: top;\n    }\n\n    .dataframe thead th {\n        text-align: right;\n    }\n</style>\n<table border=\"1\" class=\"dataframe\">\n  <thead>\n    <tr style=\"text-align: right;\">\n      <th></th>\n      <th>cvegeo</th>\n      <th>entidad</th>\n      <th>nom_ent</th>\n      <th>mun</th>\n      <th>nom_mun</th>\n      <th>loc</th>\n      <th>nom_loc</th>\n      <th>vialidad_sinrec</th>\n      <th>p_viv_sndren</th>\n      <th>p_viv_sagua</th>\n      <th>p_viv_senergia</th>\n      <th>indicador</th>\n      <th>slum_severity_index</th>\n      <th>indica_cat</th>\n    </tr>\n  </thead>\n  <tbody>\n    <tr>\n      <th>0</th>\n      <td>0100100010017001</td>\n      <td>1</td>\n      <td>Aguascalientes</td>\n      <td>1</td>\n      <td>Aguascalientes</td>\n      <td>1</td>\n      <td>Aguascalientes</td>\n      <td>0.0</td>\n      <td>0.0</td>\n      <td>0.0</td>\n      <td>0.0</td>\n      <td>7.811263e-12</td>\n      <td>0.00000</td>\n      <td>Bajo</td>\n    </tr>\n    <tr>\n      <th>1</th>\n      <td>0100100010017002</td>\n      <td>1</td>\n      <td>Aguascalientes</td>\n      <td>1</td>\n      <td>Aguascalientes</td>\n      <td>1</td>\n      <td>Aguascalientes</td>\n      <td>0.0</td>\n      <td>0.0</td>\n      <td>0.0</td>\n      <td>0.0</td>\n      <td>0.000000e+00</td>\n      <td>0.00000</td>\n      <td>Muy bajo</td>\n    </tr>\n    <tr>\n      <th>2</th>\n      <td>0100100010017003</td>\n      <td>1</td>\n      <td>Aguascalientes</td>\n      <td>1</td>\n      <td>Aguascalientes</td>\n      <td>1</td>\n      <td>Aguascalientes</td>\n      <td>0.0</td>\n      <td>0.0</td>\n      <td>0.0</td>\n      <td>0.0</td>\n      <td>3.576350e-12</td>\n      <td>0.00000</td>\n      <td>Bajo</td>\n    </tr>\n    <tr>\n      <th>3</th>\n      <td>0100100010017004</td>\n      <td>1</td>\n      <td>Aguascalientes</td>\n      <td>1</td>\n      <td>Aguascalientes</td>\n      <td>1</td>\n      <td>Aguascalientes</td>\n      <td>0.0</td>\n      <td>0.0</td>\n      <td>0.0</td>\n      <td>0.0</td>\n      <td>3.203590e-12</td>\n      <td>0.00000</td>\n      <td>Bajo</td>\n    </tr>\n    <tr>\n      <th>4</th>\n      <td>0100100010017005</td>\n      <td>1</td>\n      <td>Aguascalientes</td>\n      <td>1</td>\n      <td>Aguascalientes</td>\n      <td>1</td>\n      <td>Aguascalientes</td>\n      <td>0.0</td>\n      <td>0.0</td>\n      <td>0.0</td>\n      <td>0.0</td>\n      <td>3.153833e-12</td>\n      <td>0.00000</td>\n      <td>Muy bajo</td>\n    </tr>\n    <tr>\n      <th>...</th>\n      <td>...</td>\n      <td>...</td>\n      <td>...</td>\n      <td>...</td>\n      <td>...</td>\n      <td>...</td>\n      <td>...</td>\n      <td>...</td>\n      <td>...</td>\n      <td>...</td>\n      <td>...</td>\n      <td>...</td>\n      <td>...</td>\n      <td>...</td>\n    </tr>\n    <tr>\n      <th>1224778</th>\n      <td>3205800010123005</td>\n      <td>32</td>\n      <td>Zacatecas</td>\n      <td>58</td>\n      <td>Santa María de la Paz</td>\n      <td>1</td>\n      <td>Santa María de la Paz</td>\n      <td>0.0</td>\n      <td>0.0</td>\n      <td>0.0</td>\n      <td>0.0</td>\n      <td>3.153833e-12</td>\n      <td>0.00000</td>\n      <td>Muy bajo</td>\n    </tr>\n    <tr>\n      <th>1224779</th>\n      <td>3205800010123007</td>\n      <td>32</td>\n      <td>Zacatecas</td>\n      <td>58</td>\n      <td>Santa María de la Paz</td>\n      <td>1</td>\n      <td>Santa María de la Paz</td>\n      <td>0.0</td>\n      <td>0.0</td>\n      <td>0.0</td>\n      <td>0.0</td>\n      <td>3.153833e-12</td>\n      <td>0.00000</td>\n      <td>Muy bajo</td>\n    </tr>\n    <tr>\n      <th>1224780</th>\n      <td>3205800010123010</td>\n      <td>32</td>\n      <td>Zacatecas</td>\n      <td>58</td>\n      <td>Santa María de la Paz</td>\n      <td>1</td>\n      <td>Santa María de la Paz</td>\n      <td>25.0</td>\n      <td>0.0</td>\n      <td>0.0</td>\n      <td>0.0</td>\n      <td>2.269186e-01</td>\n      <td>0.06250</td>\n      <td>Bajo</td>\n    </tr>\n    <tr>\n      <th>1224781</th>\n      <td>3205800010123013</td>\n      <td>32</td>\n      <td>Zacatecas</td>\n      <td>58</td>\n      <td>Santa María de la Paz</td>\n      <td>1</td>\n      <td>Santa María de la Paz</td>\n      <td>0.0</td>\n      <td>0.0</td>\n      <td>0.0</td>\n      <td>0.0</td>\n      <td>3.153833e-12</td>\n      <td>0.00000</td>\n      <td>Muy bajo</td>\n    </tr>\n    <tr>\n      <th>1224782</th>\n      <td>3205800010123017</td>\n      <td>32</td>\n      <td>Zacatecas</td>\n      <td>58</td>\n      <td>Santa María de la Paz</td>\n      <td>1</td>\n      <td>Santa María de la Paz</td>\n      <td>62.5</td>\n      <td>0.0</td>\n      <td>0.0</td>\n      <td>0.0</td>\n      <td>5.672966e-01</td>\n      <td>0.15625</td>\n      <td>Medio</td>\n    </tr>\n  </tbody>\n</table>\n<p>1224783 rows × 14 columns</p>\n</div>"
          },
          "execution_count": 20,
          "metadata": {},
          "output_type": "execute_result"
        }
      ],
      "source": [
        "df_limpia"
      ],
      "metadata": {
        "ExecuteTime": {
          "end_time": "2024-02-18T02:20:41.118727200Z",
          "start_time": "2024-02-18T02:20:41.029354Z"
        },
        "id": "52a4addeb647911a",
        "outputId": "c590ad45-a237-4fb3-cf5d-f9d5a20d17fa"
      },
      "id": "52a4addeb647911a",
      "execution_count": null
    },
    {
      "cell_type": "code",
      "outputs": [
        {
          "data": {
            "text/plain": "(array([122084., 685731.,      0., 236168., 180800.]),\n array([0. , 0.6, 1.2, 1.8, 2.4, 3. ]),\n <BarContainer object of 5 artists>)"
          },
          "execution_count": 21,
          "metadata": {},
          "output_type": "execute_result"
        },
        {
          "data": {
            "text/plain": "<Figure size 640x480 with 1 Axes>",
            "image/png": "[encoded data removed]"
          },
          "metadata": {},
          "output_type": "display_data"
        }
      ],
      "source": [
        "#Histograma de grupos\n",
        "plt.hist(df_limpia['indica_cat'],bins=5,edgecolor='black', linewidth=1.2, color='#9d2449')"
      ],
      "metadata": {
        "ExecuteTime": {
          "end_time": "2024-02-18T02:20:41.328422100Z",
          "start_time": "2024-02-18T02:20:41.059499200Z"
        },
        "id": "b7753d3300c1e597",
        "outputId": "3534e7a5-fc5f-4f66-a712-efd12da156c9"
      },
      "id": "b7753d3300c1e597",
      "execution_count": null
    },
    {
      "cell_type": "code",
      "outputs": [
        {
          "data": {
            "text/plain": "Text(0.5, 1.0, 'Histograma del índice')"
          },
          "execution_count": 27,
          "metadata": {},
          "output_type": "execute_result"
        },
        {
          "data": {
            "text/plain": "<Figure size 640x480 with 1 Axes>",
            "image/png": "[encoded data removed]"
          },
          "metadata": {},
          "output_type": "display_data"
        }
      ],
      "source": [
        "#Histograma del slum severity index\n",
        "plt.hist(df_limpia['slum_severity_index'],bins=10,edgecolor='black', linewidth=1.2, color='#9d2449')\n",
        "plt.title(\"Histograma del índice\",fontsize=15, fontweight='bold')"
      ],
      "metadata": {
        "ExecuteTime": {
          "end_time": "2024-02-18T02:33:47.001497300Z",
          "start_time": "2024-02-18T02:33:46.822807900Z"
        },
        "id": "8f89fe4eaff0ffed",
        "outputId": "ed204963-6010-463f-aa16-b48f437f129e"
      },
      "id": "8f89fe4eaff0ffed",
      "execution_count": null
    },
    {
      "cell_type": "code",
      "outputs": [
        {
          "data": {
            "text/plain": "685734"
          },
          "execution_count": 28,
          "metadata": {},
          "output_type": "execute_result"
        }
      ],
      "source": [
        "#Número de ceros en el slum severity index\n",
        "df_limpia[df_limpia['slum_severity_index']==0].shape[0]"
      ],
      "metadata": {
        "ExecuteTime": {
          "end_time": "2024-02-18T02:34:15.476706Z",
          "start_time": "2024-02-18T02:34:15.378177800Z"
        },
        "id": "852a374e9af5c24",
        "outputId": "c9adae19-9737-4fbd-8bfd-ee81d3fc734e"
      },
      "id": "852a374e9af5c24",
      "execution_count": null
    },
    {
      "cell_type": "code",
      "outputs": [],
      "source": [
        "#Salvar excel\n",
        "df_limpia.to_csv('datos/indicadores_manzanas.csv',index=False)"
      ],
      "metadata": {
        "ExecuteTime": {
          "end_time": "2024-02-18T02:20:46.209657Z",
          "start_time": "2024-02-18T02:20:41.326363500Z"
        },
        "id": "5fe1aeab9999f543"
      },
      "id": "5fe1aeab9999f543",
      "execution_count": null
    },
    {
      "cell_type": "code",
      "outputs": [],
      "source": [
        "# descarga_manzanas=[{\"url\": \"https://www.inegi.org.mx/contenidos/masiva/indicadores/inv/00_Manzanas_INV2020_shp.zip\",\n",
        "#                         \"filename\": \"datos/00_Manzanas_INV2020_shp.zip\",\n",
        "#                         \"check_file_path\": \"datos/00_Manzanas_INV2020_shp\",\n",
        "#                         \"extract_path\": \"datos\"}]\n"
      ],
      "metadata": {
        "ExecuteTime": {
          "end_time": "2024-02-18T02:20:46.224531800Z",
          "start_time": "2024-02-18T02:20:46.209657Z"
        },
        "id": "17cb972af09b7896"
      },
      "id": "17cb972af09b7896",
      "execution_count": null
    },
    {
      "cell_type": "code",
      "outputs": [],
      "source": [
        "# for file in descarga_manzanas:\n",
        "#     download_and_extract(file[\"url\"], file[\"filename\"], file[\"check_file_path\"], file[\"extract_path\"])"
      ],
      "metadata": {
        "ExecuteTime": {
          "end_time": "2024-02-18T02:20:46.256110100Z",
          "start_time": "2024-02-18T02:20:46.226071600Z"
        },
        "id": "fc1d85fd7516e1d6"
      },
      "id": "fc1d85fd7516e1d6",
      "execution_count": null
    },
    {
      "cell_type": "code",
      "outputs": [],
      "source": [
        "# #Identificar todos los zips y descomprimirlos\n",
        "# zips = [f for f in os.listdir('datos/00_Manzanas_INV2020_shp') if f.endswith('.zip')]\n",
        "# print(zips)\n",
        "# for zip_file in zips:\n",
        "#     with zipfile.ZipFile('datos/00_Manzanas_INV2020_shp/'+zip_file, 'r') as zip_ref:\n",
        "#         zip_ref.extractall('datos/00_Manzanas_INV2020_shp')\n",
        "#\n",
        "# #Eliminar zips\n",
        "# for zip_file in zips:\n",
        "#     os.remove('datos/00_Manzanas_INV2020_shp/'+zip_file)"
      ],
      "metadata": {
        "ExecuteTime": {
          "end_time": "2024-02-18T02:20:46.257130800Z",
          "start_time": "2024-02-18T02:20:46.241068Z"
        },
        "id": "e5c0401c8fe1dda0"
      },
      "id": "e5c0401c8fe1dda0",
      "execution_count": null
    },
    {
      "cell_type": "code",
      "outputs": [],
      "source": [
        "# #Identificar todos los archivos shp\n",
        "# carpeta_inicio=\"datos/00_Manzanas_INV2020_shp/\"\n",
        "# carpeta_fin=\"_Manzanas_INV2020_shp\"\n",
        "#\n",
        "#\n",
        "# manzanas=gpd.GeoDataFrame()\n",
        "# for entidad in range(1,33):\n",
        "#     if entidad<10:\n",
        "#         carpeta=carpeta_inicio+\"0\"+str(entidad)+carpeta_fin\n",
        "#     else:\n",
        "#         carpeta=carpeta_inicio+str(entidad)+carpeta_fin\n",
        "#     archivos = [f for f in os.listdir(carpeta) if f.endswith('.shp')]\n",
        "#\n",
        "#     for archivo in archivos:\n",
        "#         manzanas_temp=gpd.read_file(carpeta+\"/\"+archivo\n",
        "#         )\n",
        "#         #Concatenar\n",
        "#         manzanas=gpd.GeoDataFrame(pd.concat([manzanas,manzanas_temp],axis=0))\n",
        "#\n",
        ""
      ],
      "metadata": {
        "ExecuteTime": {
          "end_time": "2024-02-18T02:20:46.278056300Z",
          "start_time": "2024-02-18T02:20:46.256110100Z"
        },
        "id": "d70f735eb6713f40"
      },
      "id": "d70f735eb6713f40",
      "execution_count": null
    }
  ],
  "metadata": {
    "kernelspec": {
      "display_name": "Python 3",
      "language": "python",
      "name": "python3"
    },
    "language_info": {
      "codemirror_mode": {
        "name": "ipython",
        "version": 2
      },
      "file_extension": ".py",
      "mimetype": "text/x-python",
      "name": "python",
      "nbconvert_exporter": "python",
      "pygments_lexer": "ipython2",
      "version": "2.7.6"
    },
    "colab": {
      "provenance": [],
      "include_colab_link": true
    }
  },
  "nbformat": 4,
  "nbformat_minor": 5
}