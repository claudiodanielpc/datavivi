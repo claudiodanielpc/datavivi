{
 "cells": [
  {
   "cell_type": "code",
   "execution_count": 6,
   "id": "initial_id",
   "metadata": {
    "collapsed": true,
    "ExecuteTime": {
     "end_time": "2024-02-06T19:20:31.640778500Z",
     "start_time": "2024-02-06T19:20:29.861772500Z"
    }
   },
   "outputs": [],
   "source": [
    "#Importar librerías\n",
    "import pandas as pd\n",
    "import os\n",
    "import zipfile\n",
    "import shutil\n",
    "import requests\n",
    "import zipfile\n",
    "from sklearn.decomposition import PCA\n",
    "import matplotlib.pyplot as plt\n",
    "import numpy as np\n",
    "from matplotlib.ticker import PercentFormatter\n",
    "import geopandas as gpd\n",
    "import folium\n",
    "from branca.element import Template, MacroElement\n",
    "from scipy.stats import randint"
   ]
  },
  {
   "cell_type": "code",
   "outputs": [
    {
     "data": {
      "text/plain": "'C:\\\\users\\\\claud\\\\Documents\\\\GitHub\\\\datavivi'"
     },
     "execution_count": 12,
     "metadata": {},
     "output_type": "execute_result"
    }
   ],
   "source": [
    "#Directorio de trabajo\n",
    "try:\n",
    "    os.chdir('C:/users/claud/Documents/GitHub/datavivi')\n",
    "except:\n",
    "    os.chdir('C:/users/claudio.pacheco/Documents/Github/datavivi')\n",
    "\n",
    "os.getcwd()"
   ],
   "metadata": {
    "collapsed": false,
    "ExecuteTime": {
     "end_time": "2024-02-06T19:22:07.161981100Z",
     "start_time": "2024-02-06T19:22:07.125428900Z"
    }
   },
   "id": "2b6d6d193ba5b525",
   "execution_count": 12
  },
  {
   "cell_type": "code",
   "outputs": [],
   "source": [
    "#Crear carpeta para descargar los datos\n",
    "if not os.path.exists('datos'):\n",
    "    os.makedirs('datos')"
   ],
   "metadata": {
    "collapsed": false,
    "ExecuteTime": {
     "end_time": "2024-02-06T19:22:09.104772100Z",
     "start_time": "2024-02-06T19:22:09.089998900Z"
    }
   },
   "id": "5a21b907bf9943b3",
   "execution_count": 13
  },
  {
   "cell_type": "code",
   "outputs": [],
   "source": [
    "#Función para descargar y extraer archivos\n",
    "def download_and_extract(url, filename, check_file_path, extract_path):\n",
    "    # Checar si el archivo ya existe\n",
    "    if os.path.isfile(check_file_path):\n",
    "        print(f\"El archivo {filename} existe, no se descargará.\")\n",
    "    else:\n",
    "        print(f\"El archivo {filename} no existe. Descargando.\")\n",
    "        response = requests.get(url)\n",
    "        with open(filename, \"wb\") as code:\n",
    "            code.write(response.content)\n",
    "        if zipfile.is_zipfile(filename):\n",
    "            # extraer zip\n",
    "            with zipfile.ZipFile(filename, \"r\") as zip_ref:\n",
    "                zip_ref.extractall(extract_path)\n",
    "        \n",
    "        # Eliminar zip\n",
    "            os.remove(filename)\n",
    "        else:\n",
    "            print(\"El archivo descargado no es un zip. Proceso terminado.\")"
   ],
   "metadata": {
    "collapsed": false,
    "ExecuteTime": {
     "end_time": "2024-02-06T19:22:10.210688Z",
     "start_time": "2024-02-06T19:22:10.203490600Z"
    }
   },
   "id": "8c14d31e73df75c5",
   "execution_count": 14
  },
  {
   "cell_type": "code",
   "outputs": [],
   "source": [
    "#Url de los archivos\n",
    "url_basica=\"https://www.inegi.org.mx/contenidos/programas/ccpv/2020/microdatos/ageb_manzana/RESAGEBURB_\""
   ],
   "metadata": {
    "collapsed": false,
    "ExecuteTime": {
     "end_time": "2024-02-06T19:32:12.254381200Z",
     "start_time": "2024-02-06T19:32:12.238374800Z"
    }
   },
   "id": "fcd31ddb6def816c",
   "execution_count": 27
  },
  {
   "cell_type": "code",
   "outputs": [
    {
     "name": "stdout",
     "output_type": "stream",
     "text": [
      "El archivo datos/conjunto_de_datos_ageb_urbana_01_cpv2020.zip no existe. Descargando.\n",
      "El archivo datos/conjunto_de_datos_ageb_urbana_02_cpv2020.zip no existe. Descargando.\n",
      "El archivo datos/conjunto_de_datos_ageb_urbana_03_cpv2020.zip no existe. Descargando.\n",
      "El archivo datos/conjunto_de_datos_ageb_urbana_04_cpv2020.zip no existe. Descargando.\n",
      "El archivo datos/conjunto_de_datos_ageb_urbana_05_cpv2020.zip no existe. Descargando.\n",
      "El archivo datos/conjunto_de_datos_ageb_urbana_06_cpv2020.zip no existe. Descargando.\n",
      "El archivo datos/conjunto_de_datos_ageb_urbana_07_cpv2020.zip no existe. Descargando.\n",
      "El archivo datos/conjunto_de_datos_ageb_urbana_08_cpv2020.zip no existe. Descargando.\n",
      "El archivo datos/conjunto_de_datos_ageb_urbana_09_cpv2020.zip no existe. Descargando.\n",
      "El archivo datos/conjunto_de_datos_ageb_urbana_10_cpv2020.zip no existe. Descargando.\n",
      "El archivo datos/conjunto_de_datos_ageb_urbana_11_cpv2020.zip no existe. Descargando.\n",
      "El archivo datos/conjunto_de_datos_ageb_urbana_12_cpv2020.zip no existe. Descargando.\n",
      "El archivo datos/conjunto_de_datos_ageb_urbana_13_cpv2020.zip no existe. Descargando.\n",
      "El archivo datos/conjunto_de_datos_ageb_urbana_14_cpv2020.zip no existe. Descargando.\n",
      "El archivo datos/conjunto_de_datos_ageb_urbana_15_cpv2020.zip no existe. Descargando.\n",
      "El archivo datos/conjunto_de_datos_ageb_urbana_16_cpv2020.zip no existe. Descargando.\n",
      "El archivo datos/conjunto_de_datos_ageb_urbana_17_cpv2020.zip no existe. Descargando.\n",
      "El archivo datos/conjunto_de_datos_ageb_urbana_18_cpv2020.zip no existe. Descargando.\n",
      "El archivo datos/conjunto_de_datos_ageb_urbana_19_cpv2020.zip no existe. Descargando.\n",
      "El archivo datos/conjunto_de_datos_ageb_urbana_20_cpv2020.zip no existe. Descargando.\n",
      "El archivo datos/conjunto_de_datos_ageb_urbana_21_cpv2020.zip no existe. Descargando.\n",
      "El archivo datos/conjunto_de_datos_ageb_urbana_22_cpv2020.zip no existe. Descargando.\n",
      "El archivo datos/conjunto_de_datos_ageb_urbana_23_cpv2020.zip no existe. Descargando.\n",
      "El archivo datos/conjunto_de_datos_ageb_urbana_24_cpv2020.zip no existe. Descargando.\n",
      "El archivo datos/conjunto_de_datos_ageb_urbana_25_cpv2020.zip no existe. Descargando.\n",
      "El archivo datos/conjunto_de_datos_ageb_urbana_26_cpv2020.zip no existe. Descargando.\n",
      "El archivo datos/conjunto_de_datos_ageb_urbana_27_cpv2020.zip no existe. Descargando.\n",
      "El archivo datos/conjunto_de_datos_ageb_urbana_28_cpv2020.zip no existe. Descargando.\n",
      "El archivo datos/conjunto_de_datos_ageb_urbana_29_cpv2020.zip no existe. Descargando.\n",
      "El archivo datos/conjunto_de_datos_ageb_urbana_30_cpv2020.zip no existe. Descargando.\n",
      "El archivo datos/conjunto_de_datos_ageb_urbana_31_cpv2020.zip no existe. Descargando.\n",
      "El archivo datos/conjunto_de_datos_ageb_urbana_32_cpv2020.zip no existe. Descargando.\n"
     ]
    }
   ],
   "source": [
    "#Ciclo para descargar y extraer los archivos\n",
    "for entidad in range(1,33):\n",
    "    if entidad<10:\n",
    "        url=url_basica+\"0\"+str(entidad)+\"_2020_csv.zip\"\n",
    "        filename=\"datos/conjunto_de_datos_ageb_urbana_\"+\"0\"+str(entidad)+\"_cpv2020.zip\"\n",
    "        check_file_path=\"datos/conjunto_de_datos_ageb_urbana_\"+\"0\"+str(entidad)+\"_cpv2020.csv\"\n",
    "        extract_path=\"datos\"\n",
    "        download_and_extract(url, filename, check_file_path, extract_path)\n",
    "    else:\n",
    "        url=url_basica+str(entidad)+\"_2020_csv.zip\"\n",
    "        filename=\"datos/conjunto_de_datos_ageb_urbana_\"+str(entidad)+\"_cpv2020.zip\"\n",
    "        check_file_path=\"datos/conjunto_de_datos_ageb_urbana_\"+str(entidad)+\"_cpv2020.csv\"\n",
    "        extract_path=\"datos\"\n",
    "        download_and_extract(url, filename, check_file_path, extract_path)"
   ],
   "metadata": {
    "collapsed": false,
    "ExecuteTime": {
     "end_time": "2024-02-06T19:36:50.443167200Z",
     "start_time": "2024-02-06T19:32:13.307521800Z"
    }
   },
   "id": "e53f34633e0a3b4d",
   "execution_count": 28
  },
  {
   "cell_type": "code",
   "outputs": [
    {
     "name": "stdout",
     "output_type": "stream",
     "text": [
      "Se ha agregado la entidad 1  a la dataframe\n",
      "Se ha agregado la entidad 2  a la dataframe\n",
      "Se ha agregado la entidad 3  a la dataframe\n",
      "Se ha agregado la entidad 4  a la dataframe\n",
      "Se ha agregado la entidad 5  a la dataframe\n",
      "Se ha agregado la entidad 6  a la dataframe\n",
      "Se ha agregado la entidad 7  a la dataframe\n",
      "Se ha agregado la entidad 8  a la dataframe\n",
      "Se ha agregado la entidad 9  a la dataframe\n",
      "Se ha agregado la entidad 10  a la dataframe\n",
      "Se ha agregado la entidad 11  a la dataframe\n",
      "Se ha agregado la entidad 12  a la dataframe\n",
      "Se ha agregado la entidad 13  a la dataframe\n",
      "Se ha agregado la entidad 14  a la dataframe\n",
      "Se ha agregado la entidad 15  a la dataframe\n",
      "Se ha agregado la entidad 16  a la dataframe\n",
      "Se ha agregado la entidad 17  a la dataframe\n",
      "Se ha agregado la entidad 18  a la dataframe\n",
      "Se ha agregado la entidad 19  a la dataframe\n",
      "Se ha agregado la entidad 20  a la dataframe\n",
      "Se ha agregado la entidad 21  a la dataframe\n",
      "Se ha agregado la entidad 22  a la dataframe\n",
      "Se ha agregado la entidad 23  a la dataframe\n",
      "Se ha agregado la entidad 24  a la dataframe\n",
      "Se ha agregado la entidad 25  a la dataframe\n",
      "Se ha agregado la entidad 26  a la dataframe\n",
      "Se ha agregado la entidad 27  a la dataframe\n",
      "Se ha agregado la entidad 28  a la dataframe\n",
      "Se ha agregado la entidad 29  a la dataframe\n",
      "Se ha agregado la entidad 30  a la dataframe\n",
      "Se ha agregado la entidad 31  a la dataframe\n",
      "Se ha agregado la entidad 32  a la dataframe\n",
      "Se concluyó la concatenación. El conjunto de datos cuenta con 230 columnas y 1,683,504 registros\n"
     ]
    },
    {
     "data": {
      "text/plain": "       entidad         nom_ent  mun                             nom_mun  loc  \\\n0            1  Aguascalientes    0  Total de la entidad Aguascalientes    0   \n1            1  Aguascalientes    1                      Aguascalientes    0   \n2            1  Aguascalientes    1                      Aguascalientes    1   \n3            1  Aguascalientes    1                      Aguascalientes    1   \n4            1  Aguascalientes    1                      Aguascalientes    1   \n...        ...             ...  ...                                 ...  ...   \n33839       32       Zacatecas   58               Santa María de la Paz    1   \n33840       32       Zacatecas   58               Santa María de la Paz    1   \n33841       32       Zacatecas   58               Santa María de la Paz    1   \n33842       32       Zacatecas   58               Santa María de la Paz    1   \n33843       32       Zacatecas   58               Santa María de la Paz    1   \n\n                            nom_loc  ageb  mza   pobtot  pobfem  ...  \\\n0               Total de la entidad  0000    0  1425607  728924  ...   \n1               Total del municipio  0000    0   948990  486917  ...   \n2      Total de la localidad urbana  0000    0   863893  444725  ...   \n3                 Total AGEB urbana  0017    0     2237    1137  ...   \n4                    Aguascalientes  0017    1      170      87  ...   \n...                             ...   ...  ...      ...     ...  ...   \n33839         Santa María de la Paz  0123   18        2       *  ...   \n33840         Santa María de la Paz  0123   19        0       0  ...   \n33841         Santa María de la Paz  0123   20        0       0  ...   \n33842         Santa María de la Paz  0123   21        2       *  ...   \n33843         Santa María de la Paz  0123  800       26      11  ...   \n\n      vph_telef vph_cel vph_inter vph_stvp vph_spmvpi vph_cvj vph_sinrtv  \\\n0        147818  359895    236003   174089      98724   70126       6021   \n1        116647  251719    178619   130290      80951   56131       3299   \n2        112002  232793    169675   123670      77719   53589       2995   \n3            11     625       189      352         46      74         15   \n4             *      53        13       33          5       5          0   \n...         ...     ...       ...      ...        ...     ...        ...   \n33839         *       *         *        *          *       *          *   \n33840         0       0         0        0          0       0          0   \n33841         0       0         0        0          0       0          0   \n33842         *       *         *        *          *       *          *   \n33843         *       6         *        *          0       0          0   \n\n      vph_sinltc vph_sincint vph_sintic  \n0          15323      128996       1711  \n1           7293       74227        731  \n2           5984       63661        595  \n3             23         391          *  \n4              *          36          0  \n...          ...         ...        ...  \n33839          *           *          *  \n33840          0           0          0  \n33841          0           0          0  \n33842          *           *          *  \n33843          0           5          0  \n\n[1683504 rows x 230 columns]",
      "text/html": "<div>\n<style scoped>\n    .dataframe tbody tr th:only-of-type {\n        vertical-align: middle;\n    }\n\n    .dataframe tbody tr th {\n        vertical-align: top;\n    }\n\n    .dataframe thead th {\n        text-align: right;\n    }\n</style>\n<table border=\"1\" class=\"dataframe\">\n  <thead>\n    <tr style=\"text-align: right;\">\n      <th></th>\n      <th>entidad</th>\n      <th>nom_ent</th>\n      <th>mun</th>\n      <th>nom_mun</th>\n      <th>loc</th>\n      <th>nom_loc</th>\n      <th>ageb</th>\n      <th>mza</th>\n      <th>pobtot</th>\n      <th>pobfem</th>\n      <th>...</th>\n      <th>vph_telef</th>\n      <th>vph_cel</th>\n      <th>vph_inter</th>\n      <th>vph_stvp</th>\n      <th>vph_spmvpi</th>\n      <th>vph_cvj</th>\n      <th>vph_sinrtv</th>\n      <th>vph_sinltc</th>\n      <th>vph_sincint</th>\n      <th>vph_sintic</th>\n    </tr>\n  </thead>\n  <tbody>\n    <tr>\n      <th>0</th>\n      <td>1</td>\n      <td>Aguascalientes</td>\n      <td>0</td>\n      <td>Total de la entidad Aguascalientes</td>\n      <td>0</td>\n      <td>Total de la entidad</td>\n      <td>0000</td>\n      <td>0</td>\n      <td>1425607</td>\n      <td>728924</td>\n      <td>...</td>\n      <td>147818</td>\n      <td>359895</td>\n      <td>236003</td>\n      <td>174089</td>\n      <td>98724</td>\n      <td>70126</td>\n      <td>6021</td>\n      <td>15323</td>\n      <td>128996</td>\n      <td>1711</td>\n    </tr>\n    <tr>\n      <th>1</th>\n      <td>1</td>\n      <td>Aguascalientes</td>\n      <td>1</td>\n      <td>Aguascalientes</td>\n      <td>0</td>\n      <td>Total del municipio</td>\n      <td>0000</td>\n      <td>0</td>\n      <td>948990</td>\n      <td>486917</td>\n      <td>...</td>\n      <td>116647</td>\n      <td>251719</td>\n      <td>178619</td>\n      <td>130290</td>\n      <td>80951</td>\n      <td>56131</td>\n      <td>3299</td>\n      <td>7293</td>\n      <td>74227</td>\n      <td>731</td>\n    </tr>\n    <tr>\n      <th>2</th>\n      <td>1</td>\n      <td>Aguascalientes</td>\n      <td>1</td>\n      <td>Aguascalientes</td>\n      <td>1</td>\n      <td>Total de la localidad urbana</td>\n      <td>0000</td>\n      <td>0</td>\n      <td>863893</td>\n      <td>444725</td>\n      <td>...</td>\n      <td>112002</td>\n      <td>232793</td>\n      <td>169675</td>\n      <td>123670</td>\n      <td>77719</td>\n      <td>53589</td>\n      <td>2995</td>\n      <td>5984</td>\n      <td>63661</td>\n      <td>595</td>\n    </tr>\n    <tr>\n      <th>3</th>\n      <td>1</td>\n      <td>Aguascalientes</td>\n      <td>1</td>\n      <td>Aguascalientes</td>\n      <td>1</td>\n      <td>Total AGEB urbana</td>\n      <td>0017</td>\n      <td>0</td>\n      <td>2237</td>\n      <td>1137</td>\n      <td>...</td>\n      <td>11</td>\n      <td>625</td>\n      <td>189</td>\n      <td>352</td>\n      <td>46</td>\n      <td>74</td>\n      <td>15</td>\n      <td>23</td>\n      <td>391</td>\n      <td>*</td>\n    </tr>\n    <tr>\n      <th>4</th>\n      <td>1</td>\n      <td>Aguascalientes</td>\n      <td>1</td>\n      <td>Aguascalientes</td>\n      <td>1</td>\n      <td>Aguascalientes</td>\n      <td>0017</td>\n      <td>1</td>\n      <td>170</td>\n      <td>87</td>\n      <td>...</td>\n      <td>*</td>\n      <td>53</td>\n      <td>13</td>\n      <td>33</td>\n      <td>5</td>\n      <td>5</td>\n      <td>0</td>\n      <td>*</td>\n      <td>36</td>\n      <td>0</td>\n    </tr>\n    <tr>\n      <th>...</th>\n      <td>...</td>\n      <td>...</td>\n      <td>...</td>\n      <td>...</td>\n      <td>...</td>\n      <td>...</td>\n      <td>...</td>\n      <td>...</td>\n      <td>...</td>\n      <td>...</td>\n      <td>...</td>\n      <td>...</td>\n      <td>...</td>\n      <td>...</td>\n      <td>...</td>\n      <td>...</td>\n      <td>...</td>\n      <td>...</td>\n      <td>...</td>\n      <td>...</td>\n      <td>...</td>\n    </tr>\n    <tr>\n      <th>33839</th>\n      <td>32</td>\n      <td>Zacatecas</td>\n      <td>58</td>\n      <td>Santa María de la Paz</td>\n      <td>1</td>\n      <td>Santa María de la Paz</td>\n      <td>0123</td>\n      <td>18</td>\n      <td>2</td>\n      <td>*</td>\n      <td>...</td>\n      <td>*</td>\n      <td>*</td>\n      <td>*</td>\n      <td>*</td>\n      <td>*</td>\n      <td>*</td>\n      <td>*</td>\n      <td>*</td>\n      <td>*</td>\n      <td>*</td>\n    </tr>\n    <tr>\n      <th>33840</th>\n      <td>32</td>\n      <td>Zacatecas</td>\n      <td>58</td>\n      <td>Santa María de la Paz</td>\n      <td>1</td>\n      <td>Santa María de la Paz</td>\n      <td>0123</td>\n      <td>19</td>\n      <td>0</td>\n      <td>0</td>\n      <td>...</td>\n      <td>0</td>\n      <td>0</td>\n      <td>0</td>\n      <td>0</td>\n      <td>0</td>\n      <td>0</td>\n      <td>0</td>\n      <td>0</td>\n      <td>0</td>\n      <td>0</td>\n    </tr>\n    <tr>\n      <th>33841</th>\n      <td>32</td>\n      <td>Zacatecas</td>\n      <td>58</td>\n      <td>Santa María de la Paz</td>\n      <td>1</td>\n      <td>Santa María de la Paz</td>\n      <td>0123</td>\n      <td>20</td>\n      <td>0</td>\n      <td>0</td>\n      <td>...</td>\n      <td>0</td>\n      <td>0</td>\n      <td>0</td>\n      <td>0</td>\n      <td>0</td>\n      <td>0</td>\n      <td>0</td>\n      <td>0</td>\n      <td>0</td>\n      <td>0</td>\n    </tr>\n    <tr>\n      <th>33842</th>\n      <td>32</td>\n      <td>Zacatecas</td>\n      <td>58</td>\n      <td>Santa María de la Paz</td>\n      <td>1</td>\n      <td>Santa María de la Paz</td>\n      <td>0123</td>\n      <td>21</td>\n      <td>2</td>\n      <td>*</td>\n      <td>...</td>\n      <td>*</td>\n      <td>*</td>\n      <td>*</td>\n      <td>*</td>\n      <td>*</td>\n      <td>*</td>\n      <td>*</td>\n      <td>*</td>\n      <td>*</td>\n      <td>*</td>\n    </tr>\n    <tr>\n      <th>33843</th>\n      <td>32</td>\n      <td>Zacatecas</td>\n      <td>58</td>\n      <td>Santa María de la Paz</td>\n      <td>1</td>\n      <td>Santa María de la Paz</td>\n      <td>0123</td>\n      <td>800</td>\n      <td>26</td>\n      <td>11</td>\n      <td>...</td>\n      <td>*</td>\n      <td>6</td>\n      <td>*</td>\n      <td>*</td>\n      <td>0</td>\n      <td>0</td>\n      <td>0</td>\n      <td>0</td>\n      <td>5</td>\n      <td>0</td>\n    </tr>\n  </tbody>\n</table>\n<p>1683504 rows × 230 columns</p>\n</div>"
     },
     "execution_count": 30,
     "metadata": {},
     "output_type": "execute_result"
    }
   ],
   "source": [
    "#Pegar todos los archivos csv en una sola data frame\n",
    "df=pd.DataFrame()\n",
    "for entidad in range(1,33):\n",
    "    if entidad<10:\n",
    "        df_temp=pd.read_csv(\"datos/RESAGEBURB_\"+\"0\"+str(entidad)+\"CSV20.csv\",encoding='utf-8', low_memory=False)\n",
    "    else:\n",
    "        df_temp=pd.read_csv(\"datos/RESAGEBURB_\"+str(entidad)+\"CSV20.csv\",encoding='utf-8', low_memory=False)\n",
    "    df=pd.concat([df,df_temp],axis=0)\n",
    "    print(\"Se ha agregado la entidad \"+str(entidad),\" a la dataframe\")\n",
    "\n",
    "#Imprimir el número de registros con separadores de miles\n",
    "print(\"Se concluyó la concatenación. El conjunto de datos cuenta con \"+str(df.shape[1])+\" columnas y \"+str(\"{:,}\".format(df.shape[0]))+\" registros\")\n",
    "df.columns=df.columns.str.lower() \n",
    "df"
   ],
   "metadata": {
    "collapsed": false,
    "ExecuteTime": {
     "end_time": "2024-02-06T19:39:15.697465100Z",
     "start_time": "2024-02-06T19:38:17.440936200Z"
    }
   },
   "id": "7ca616c0dd750719",
   "execution_count": 30
  }
 ],
 "metadata": {
  "kernelspec": {
   "display_name": "Python 3",
   "language": "python",
   "name": "python3"
  },
  "language_info": {
   "codemirror_mode": {
    "name": "ipython",
    "version": 2
   },
   "file_extension": ".py",
   "mimetype": "text/x-python",
   "name": "python",
   "nbconvert_exporter": "python",
   "pygments_lexer": "ipython2",
   "version": "2.7.6"
  }
 },
 "nbformat": 4,
 "nbformat_minor": 5
}
