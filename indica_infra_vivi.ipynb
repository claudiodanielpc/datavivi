{
 "cells": [
  {
   "cell_type": "code",
   "execution_count": 4,
   "id": "initial_id",
   "metadata": {
    "collapsed": true,
    "ExecuteTime": {
     "end_time": "2024-02-06T19:46:32.920539100Z",
     "start_time": "2024-02-06T19:46:29.991888700Z"
    }
   },
   "outputs": [],
   "source": [
    "#Importar librerías\n",
    "import pandas as pd\n",
    "import os\n",
    "import zipfile\n",
    "import shutil\n",
    "import requests\n",
    "import zipfile\n",
    "from sklearn.decomposition import PCA\n",
    "import matplotlib.pyplot as plt\n",
    "import numpy as np\n",
    "from matplotlib.ticker import PercentFormatter\n",
    "import geopandas as gpd\n",
    "import folium\n",
    "from branca.element import Template, MacroElement\n",
    "from scipy.stats import randint"
   ]
  },
  {
   "cell_type": "code",
   "outputs": [
    {
     "data": {
      "text/plain": "'C:\\\\users\\\\claud\\\\Documents\\\\GitHub\\\\datavivi'"
     },
     "execution_count": 5,
     "metadata": {},
     "output_type": "execute_result"
    }
   ],
   "source": [
    "#Directorio de trabajo\n",
    "try:\n",
    "    os.chdir('C:/users/claud/Documents/GitHub/datavivi')\n",
    "except:\n",
    "    os.chdir('C:/users/claudio.pacheco/Documents/Github/datavivi')\n",
    "\n",
    "os.getcwd()"
   ],
   "metadata": {
    "collapsed": false,
    "ExecuteTime": {
     "end_time": "2024-02-06T19:46:32.948957300Z",
     "start_time": "2024-02-06T19:46:32.921693500Z"
    }
   },
   "id": "2b6d6d193ba5b525",
   "execution_count": 5
  },
  {
   "cell_type": "code",
   "outputs": [],
   "source": [
    "#Crear carpeta para descargar los datos\n",
    "if not os.path.exists('datos'):\n",
    "    os.makedirs('datos')"
   ],
   "metadata": {
    "collapsed": false,
    "ExecuteTime": {
     "end_time": "2024-02-06T19:46:34.537491Z",
     "start_time": "2024-02-06T19:46:34.528454600Z"
    }
   },
   "id": "5a21b907bf9943b3",
   "execution_count": 6
  },
  {
   "cell_type": "code",
   "outputs": [],
   "source": [
    "#Función para descargar y extraer archivos\n",
    "def download_and_extract(url, filename, check_file_path, extract_path):\n",
    "    # Checar si el archivo ya existe\n",
    "    if os.path.isfile(check_file_path):\n",
    "        print(f\"El archivo {filename} existe, no se descargará.\")\n",
    "    else:\n",
    "        print(f\"El archivo {filename} no existe. Descargando.\")\n",
    "        response = requests.get(url)\n",
    "        with open(filename, \"wb\") as code:\n",
    "            code.write(response.content)\n",
    "        if zipfile.is_zipfile(filename):\n",
    "            # extraer zip\n",
    "            with zipfile.ZipFile(filename, \"r\") as zip_ref:\n",
    "                zip_ref.extractall(extract_path)\n",
    "        \n",
    "        # Eliminar zip\n",
    "            os.remove(filename)\n",
    "        else:\n",
    "            print(\"El archivo descargado no es un zip. Proceso terminado.\")"
   ],
   "metadata": {
    "collapsed": false,
    "ExecuteTime": {
     "end_time": "2024-02-06T19:46:36.881955300Z",
     "start_time": "2024-02-06T19:46:36.868410600Z"
    }
   },
   "id": "8c14d31e73df75c5",
   "execution_count": 7
  },
  {
   "cell_type": "code",
   "outputs": [],
   "source": [
    "#Url de los archivos\n",
    "url_basica=\"https://www.inegi.org.mx/contenidos/programas/ccpv/2020/microdatos/ageb_manzana/RESAGEBURB_\""
   ],
   "metadata": {
    "collapsed": false,
    "ExecuteTime": {
     "end_time": "2024-02-06T19:32:12.254381200Z",
     "start_time": "2024-02-06T19:32:12.238374800Z"
    }
   },
   "id": "fcd31ddb6def816c",
   "execution_count": 27
  },
  {
   "cell_type": "code",
   "outputs": [
    {
     "name": "stdout",
     "output_type": "stream",
     "text": [
      "El archivo datos/conjunto_de_datos_ageb_urbana_01_cpv2020.zip no existe. Descargando.\n",
      "El archivo datos/conjunto_de_datos_ageb_urbana_02_cpv2020.zip no existe. Descargando.\n",
      "El archivo datos/conjunto_de_datos_ageb_urbana_03_cpv2020.zip no existe. Descargando.\n",
      "El archivo datos/conjunto_de_datos_ageb_urbana_04_cpv2020.zip no existe. Descargando.\n",
      "El archivo datos/conjunto_de_datos_ageb_urbana_05_cpv2020.zip no existe. Descargando.\n",
      "El archivo datos/conjunto_de_datos_ageb_urbana_06_cpv2020.zip no existe. Descargando.\n",
      "El archivo datos/conjunto_de_datos_ageb_urbana_07_cpv2020.zip no existe. Descargando.\n",
      "El archivo datos/conjunto_de_datos_ageb_urbana_08_cpv2020.zip no existe. Descargando.\n",
      "El archivo datos/conjunto_de_datos_ageb_urbana_09_cpv2020.zip no existe. Descargando.\n",
      "El archivo datos/conjunto_de_datos_ageb_urbana_10_cpv2020.zip no existe. Descargando.\n",
      "El archivo datos/conjunto_de_datos_ageb_urbana_11_cpv2020.zip no existe. Descargando.\n",
      "El archivo datos/conjunto_de_datos_ageb_urbana_12_cpv2020.zip no existe. Descargando.\n",
      "El archivo datos/conjunto_de_datos_ageb_urbana_13_cpv2020.zip no existe. Descargando.\n",
      "El archivo datos/conjunto_de_datos_ageb_urbana_14_cpv2020.zip no existe. Descargando.\n",
      "El archivo datos/conjunto_de_datos_ageb_urbana_15_cpv2020.zip no existe. Descargando.\n",
      "El archivo datos/conjunto_de_datos_ageb_urbana_16_cpv2020.zip no existe. Descargando.\n",
      "El archivo datos/conjunto_de_datos_ageb_urbana_17_cpv2020.zip no existe. Descargando.\n",
      "El archivo datos/conjunto_de_datos_ageb_urbana_18_cpv2020.zip no existe. Descargando.\n",
      "El archivo datos/conjunto_de_datos_ageb_urbana_19_cpv2020.zip no existe. Descargando.\n",
      "El archivo datos/conjunto_de_datos_ageb_urbana_20_cpv2020.zip no existe. Descargando.\n",
      "El archivo datos/conjunto_de_datos_ageb_urbana_21_cpv2020.zip no existe. Descargando.\n",
      "El archivo datos/conjunto_de_datos_ageb_urbana_22_cpv2020.zip no existe. Descargando.\n",
      "El archivo datos/conjunto_de_datos_ageb_urbana_23_cpv2020.zip no existe. Descargando.\n",
      "El archivo datos/conjunto_de_datos_ageb_urbana_24_cpv2020.zip no existe. Descargando.\n",
      "El archivo datos/conjunto_de_datos_ageb_urbana_25_cpv2020.zip no existe. Descargando.\n",
      "El archivo datos/conjunto_de_datos_ageb_urbana_26_cpv2020.zip no existe. Descargando.\n",
      "El archivo datos/conjunto_de_datos_ageb_urbana_27_cpv2020.zip no existe. Descargando.\n",
      "El archivo datos/conjunto_de_datos_ageb_urbana_28_cpv2020.zip no existe. Descargando.\n",
      "El archivo datos/conjunto_de_datos_ageb_urbana_29_cpv2020.zip no existe. Descargando.\n",
      "El archivo datos/conjunto_de_datos_ageb_urbana_30_cpv2020.zip no existe. Descargando.\n",
      "El archivo datos/conjunto_de_datos_ageb_urbana_31_cpv2020.zip no existe. Descargando.\n",
      "El archivo datos/conjunto_de_datos_ageb_urbana_32_cpv2020.zip no existe. Descargando.\n"
     ]
    }
   ],
   "source": [
    "#Ciclo para descargar y extraer los archivos\n",
    "for entidad in range(1,33):\n",
    "    if entidad<10:\n",
    "        url=url_basica+\"0\"+str(entidad)+\"_2020_csv.zip\"\n",
    "        filename=\"datos/conjunto_de_datos_ageb_urbana_\"+\"0\"+str(entidad)+\"_cpv2020.zip\"\n",
    "        check_file_path=\"datos/conjunto_de_datos_ageb_urbana_\"+\"0\"+str(entidad)+\"_cpv2020.csv\"\n",
    "        extract_path=\"datos\"\n",
    "        download_and_extract(url, filename, check_file_path, extract_path)\n",
    "    else:\n",
    "        url=url_basica+str(entidad)+\"_2020_csv.zip\"\n",
    "        filename=\"datos/conjunto_de_datos_ageb_urbana_\"+str(entidad)+\"_cpv2020.zip\"\n",
    "        check_file_path=\"datos/conjunto_de_datos_ageb_urbana_\"+str(entidad)+\"_cpv2020.csv\"\n",
    "        extract_path=\"datos\"\n",
    "        download_and_extract(url, filename, check_file_path, extract_path)"
   ],
   "metadata": {
    "collapsed": false,
    "ExecuteTime": {
     "end_time": "2024-02-06T19:36:50.443167200Z",
     "start_time": "2024-02-06T19:32:13.307521800Z"
    }
   },
   "id": "e53f34633e0a3b4d",
   "execution_count": 28
  },
  {
   "cell_type": "code",
   "outputs": [
    {
     "name": "stdout",
     "output_type": "stream",
     "text": [
      "Se ha agregado la entidad 1  a la dataframe\n",
      "Se ha agregado la entidad 2  a la dataframe\n",
      "Se ha agregado la entidad 3  a la dataframe\n",
      "Se ha agregado la entidad 4  a la dataframe\n",
      "Se ha agregado la entidad 5  a la dataframe\n",
      "Se ha agregado la entidad 6  a la dataframe\n",
      "Se ha agregado la entidad 7  a la dataframe\n",
      "Se ha agregado la entidad 8  a la dataframe\n",
      "Se ha agregado la entidad 9  a la dataframe\n",
      "Se ha agregado la entidad 10  a la dataframe\n",
      "Se ha agregado la entidad 11  a la dataframe\n",
      "Se ha agregado la entidad 12  a la dataframe\n",
      "Se ha agregado la entidad 13  a la dataframe\n",
      "Se ha agregado la entidad 14  a la dataframe\n",
      "Se ha agregado la entidad 15  a la dataframe\n",
      "Se ha agregado la entidad 16  a la dataframe\n",
      "Se ha agregado la entidad 17  a la dataframe\n",
      "Se ha agregado la entidad 18  a la dataframe\n",
      "Se ha agregado la entidad 19  a la dataframe\n",
      "Se ha agregado la entidad 20  a la dataframe\n",
      "Se ha agregado la entidad 21  a la dataframe\n",
      "Se ha agregado la entidad 22  a la dataframe\n",
      "Se ha agregado la entidad 23  a la dataframe\n",
      "Se ha agregado la entidad 24  a la dataframe\n",
      "Se ha agregado la entidad 25  a la dataframe\n",
      "Se ha agregado la entidad 26  a la dataframe\n",
      "Se ha agregado la entidad 27  a la dataframe\n",
      "Se ha agregado la entidad 28  a la dataframe\n",
      "Se ha agregado la entidad 29  a la dataframe\n",
      "Se ha agregado la entidad 30  a la dataframe\n",
      "Se ha agregado la entidad 31  a la dataframe\n",
      "Se ha agregado la entidad 32  a la dataframe\n",
      "Se concluyó la concatenación. El conjunto de datos cuenta con 230 columnas y 1,683,504 registros\n"
     ]
    }
   ],
   "source": [
    "#Pegar todos los archivos csv en una sola data frame\n",
    "df=pd.DataFrame()\n",
    "for entidad in range(1,33):\n",
    "    if entidad<10:\n",
    "        df_temp=pd.read_csv(\"datos/RESAGEBURB_\"+\"0\"+str(entidad)+\"CSV20.csv\",encoding='utf-8', low_memory=False)\n",
    "    else:\n",
    "        df_temp=pd.read_csv(\"datos/RESAGEBURB_\"+str(entidad)+\"CSV20.csv\",encoding='utf-8', low_memory=False)\n",
    "    df=pd.concat([df,df_temp],axis=0)\n",
    "    print(\"Se ha agregado la entidad \"+str(entidad),\" a la dataframe\")\n",
    "\n",
    "#Imprimir el número de registros con separadores de miles\n",
    "print(\"Se concluyó la concatenación. El conjunto de datos cuenta con \"+str(df.shape[1])+\" columnas y \"+str(\"{:,}\".format(df.shape[0]))+\" registros\")\n",
    "df.columns=df.columns.str.lower() "
   ],
   "metadata": {
    "collapsed": false,
    "ExecuteTime": {
     "end_time": "2024-02-06T19:47:28.390178Z",
     "start_time": "2024-02-06T19:46:39.057068300Z"
    }
   },
   "id": "7ca616c0dd750719",
   "execution_count": 8
  },
  {
   "cell_type": "code",
   "outputs": [
    {
     "data": {
      "text/plain": "                 cvegeo  entidad         nom_ent  mun                nom_mun  \\\n4      0100100010017001        1  Aguascalientes    1         Aguascalientes   \n5      0100100010017002        1  Aguascalientes    1         Aguascalientes   \n6      0100100010017003        1  Aguascalientes    1         Aguascalientes   \n7      0100100010017004        1  Aguascalientes    1         Aguascalientes   \n8      0100100010017005        1  Aguascalientes    1         Aguascalientes   \n...                 ...      ...             ...  ...                    ...   \n33839  3205800010123018       32       Zacatecas   58  Santa María de la Paz   \n33840  3205800010123019       32       Zacatecas   58  Santa María de la Paz   \n33841  3205800010123020       32       Zacatecas   58  Santa María de la Paz   \n33842  3205800010123021       32       Zacatecas   58  Santa María de la Paz   \n33843  3205800010123800       32       Zacatecas   58  Santa María de la Paz   \n\n       loc                nom_loc  ageb  mza  pobtot  ... vph_telef vph_cel  \\\n4        1         Aguascalientes  0017    1     170  ...         *      53   \n5        1         Aguascalientes  0017    2     198  ...         *      52   \n6        1         Aguascalientes  0017    3     198  ...         *      53   \n7        1         Aguascalientes  0017    4     202  ...         *      55   \n8        1         Aguascalientes  0017    5     157  ...         0      45   \n...    ...                    ...   ...  ...     ...  ...       ...     ...   \n33839    1  Santa María de la Paz  0123   18       2  ...         *       *   \n33840    1  Santa María de la Paz  0123   19       0  ...         0       0   \n33841    1  Santa María de la Paz  0123   20       0  ...         0       0   \n33842    1  Santa María de la Paz  0123   21       2  ...         *       *   \n33843    1  Santa María de la Paz  0123  800      26  ...         *       6   \n\n      vph_inter vph_stvp vph_spmvpi vph_cvj vph_sinrtv vph_sinltc vph_sincint  \\\n4            13       33          5       5          0          *          36   \n5            14       31          *       5          0          0          31   \n6            14       30          5       5          4          *          35   \n7            20       34          9       5          *          *          33   \n8            21       24          5       6          *          3          22   \n...         ...      ...        ...     ...        ...        ...         ...   \n33839         *        *          *       *          *          *           *   \n33840         0        0          0       0          0          0           0   \n33841         0        0          0       0          0          0           0   \n33842         *        *          *       *          *          *           *   \n33843         *        *          0       0          0          0           5   \n\n      vph_sintic  \n4              0  \n5              0  \n6              0  \n7              0  \n8              0  \n...          ...  \n33839          *  \n33840          0  \n33841          0  \n33842          *  \n33843          0  \n\n[1611448 rows x 231 columns]",
      "text/html": "<div>\n<style scoped>\n    .dataframe tbody tr th:only-of-type {\n        vertical-align: middle;\n    }\n\n    .dataframe tbody tr th {\n        vertical-align: top;\n    }\n\n    .dataframe thead th {\n        text-align: right;\n    }\n</style>\n<table border=\"1\" class=\"dataframe\">\n  <thead>\n    <tr style=\"text-align: right;\">\n      <th></th>\n      <th>cvegeo</th>\n      <th>entidad</th>\n      <th>nom_ent</th>\n      <th>mun</th>\n      <th>nom_mun</th>\n      <th>loc</th>\n      <th>nom_loc</th>\n      <th>ageb</th>\n      <th>mza</th>\n      <th>pobtot</th>\n      <th>...</th>\n      <th>vph_telef</th>\n      <th>vph_cel</th>\n      <th>vph_inter</th>\n      <th>vph_stvp</th>\n      <th>vph_spmvpi</th>\n      <th>vph_cvj</th>\n      <th>vph_sinrtv</th>\n      <th>vph_sinltc</th>\n      <th>vph_sincint</th>\n      <th>vph_sintic</th>\n    </tr>\n  </thead>\n  <tbody>\n    <tr>\n      <th>4</th>\n      <td>0100100010017001</td>\n      <td>1</td>\n      <td>Aguascalientes</td>\n      <td>1</td>\n      <td>Aguascalientes</td>\n      <td>1</td>\n      <td>Aguascalientes</td>\n      <td>0017</td>\n      <td>1</td>\n      <td>170</td>\n      <td>...</td>\n      <td>*</td>\n      <td>53</td>\n      <td>13</td>\n      <td>33</td>\n      <td>5</td>\n      <td>5</td>\n      <td>0</td>\n      <td>*</td>\n      <td>36</td>\n      <td>0</td>\n    </tr>\n    <tr>\n      <th>5</th>\n      <td>0100100010017002</td>\n      <td>1</td>\n      <td>Aguascalientes</td>\n      <td>1</td>\n      <td>Aguascalientes</td>\n      <td>1</td>\n      <td>Aguascalientes</td>\n      <td>0017</td>\n      <td>2</td>\n      <td>198</td>\n      <td>...</td>\n      <td>*</td>\n      <td>52</td>\n      <td>14</td>\n      <td>31</td>\n      <td>*</td>\n      <td>5</td>\n      <td>0</td>\n      <td>0</td>\n      <td>31</td>\n      <td>0</td>\n    </tr>\n    <tr>\n      <th>6</th>\n      <td>0100100010017003</td>\n      <td>1</td>\n      <td>Aguascalientes</td>\n      <td>1</td>\n      <td>Aguascalientes</td>\n      <td>1</td>\n      <td>Aguascalientes</td>\n      <td>0017</td>\n      <td>3</td>\n      <td>198</td>\n      <td>...</td>\n      <td>*</td>\n      <td>53</td>\n      <td>14</td>\n      <td>30</td>\n      <td>5</td>\n      <td>5</td>\n      <td>4</td>\n      <td>*</td>\n      <td>35</td>\n      <td>0</td>\n    </tr>\n    <tr>\n      <th>7</th>\n      <td>0100100010017004</td>\n      <td>1</td>\n      <td>Aguascalientes</td>\n      <td>1</td>\n      <td>Aguascalientes</td>\n      <td>1</td>\n      <td>Aguascalientes</td>\n      <td>0017</td>\n      <td>4</td>\n      <td>202</td>\n      <td>...</td>\n      <td>*</td>\n      <td>55</td>\n      <td>20</td>\n      <td>34</td>\n      <td>9</td>\n      <td>5</td>\n      <td>*</td>\n      <td>*</td>\n      <td>33</td>\n      <td>0</td>\n    </tr>\n    <tr>\n      <th>8</th>\n      <td>0100100010017005</td>\n      <td>1</td>\n      <td>Aguascalientes</td>\n      <td>1</td>\n      <td>Aguascalientes</td>\n      <td>1</td>\n      <td>Aguascalientes</td>\n      <td>0017</td>\n      <td>5</td>\n      <td>157</td>\n      <td>...</td>\n      <td>0</td>\n      <td>45</td>\n      <td>21</td>\n      <td>24</td>\n      <td>5</td>\n      <td>6</td>\n      <td>*</td>\n      <td>3</td>\n      <td>22</td>\n      <td>0</td>\n    </tr>\n    <tr>\n      <th>...</th>\n      <td>...</td>\n      <td>...</td>\n      <td>...</td>\n      <td>...</td>\n      <td>...</td>\n      <td>...</td>\n      <td>...</td>\n      <td>...</td>\n      <td>...</td>\n      <td>...</td>\n      <td>...</td>\n      <td>...</td>\n      <td>...</td>\n      <td>...</td>\n      <td>...</td>\n      <td>...</td>\n      <td>...</td>\n      <td>...</td>\n      <td>...</td>\n      <td>...</td>\n      <td>...</td>\n    </tr>\n    <tr>\n      <th>33839</th>\n      <td>3205800010123018</td>\n      <td>32</td>\n      <td>Zacatecas</td>\n      <td>58</td>\n      <td>Santa María de la Paz</td>\n      <td>1</td>\n      <td>Santa María de la Paz</td>\n      <td>0123</td>\n      <td>18</td>\n      <td>2</td>\n      <td>...</td>\n      <td>*</td>\n      <td>*</td>\n      <td>*</td>\n      <td>*</td>\n      <td>*</td>\n      <td>*</td>\n      <td>*</td>\n      <td>*</td>\n      <td>*</td>\n      <td>*</td>\n    </tr>\n    <tr>\n      <th>33840</th>\n      <td>3205800010123019</td>\n      <td>32</td>\n      <td>Zacatecas</td>\n      <td>58</td>\n      <td>Santa María de la Paz</td>\n      <td>1</td>\n      <td>Santa María de la Paz</td>\n      <td>0123</td>\n      <td>19</td>\n      <td>0</td>\n      <td>...</td>\n      <td>0</td>\n      <td>0</td>\n      <td>0</td>\n      <td>0</td>\n      <td>0</td>\n      <td>0</td>\n      <td>0</td>\n      <td>0</td>\n      <td>0</td>\n      <td>0</td>\n    </tr>\n    <tr>\n      <th>33841</th>\n      <td>3205800010123020</td>\n      <td>32</td>\n      <td>Zacatecas</td>\n      <td>58</td>\n      <td>Santa María de la Paz</td>\n      <td>1</td>\n      <td>Santa María de la Paz</td>\n      <td>0123</td>\n      <td>20</td>\n      <td>0</td>\n      <td>...</td>\n      <td>0</td>\n      <td>0</td>\n      <td>0</td>\n      <td>0</td>\n      <td>0</td>\n      <td>0</td>\n      <td>0</td>\n      <td>0</td>\n      <td>0</td>\n      <td>0</td>\n    </tr>\n    <tr>\n      <th>33842</th>\n      <td>3205800010123021</td>\n      <td>32</td>\n      <td>Zacatecas</td>\n      <td>58</td>\n      <td>Santa María de la Paz</td>\n      <td>1</td>\n      <td>Santa María de la Paz</td>\n      <td>0123</td>\n      <td>21</td>\n      <td>2</td>\n      <td>...</td>\n      <td>*</td>\n      <td>*</td>\n      <td>*</td>\n      <td>*</td>\n      <td>*</td>\n      <td>*</td>\n      <td>*</td>\n      <td>*</td>\n      <td>*</td>\n      <td>*</td>\n    </tr>\n    <tr>\n      <th>33843</th>\n      <td>3205800010123800</td>\n      <td>32</td>\n      <td>Zacatecas</td>\n      <td>58</td>\n      <td>Santa María de la Paz</td>\n      <td>1</td>\n      <td>Santa María de la Paz</td>\n      <td>0123</td>\n      <td>800</td>\n      <td>26</td>\n      <td>...</td>\n      <td>*</td>\n      <td>6</td>\n      <td>*</td>\n      <td>*</td>\n      <td>0</td>\n      <td>0</td>\n      <td>0</td>\n      <td>0</td>\n      <td>5</td>\n      <td>0</td>\n    </tr>\n  </tbody>\n</table>\n<p>1611448 rows × 231 columns</p>\n</div>"
     },
     "execution_count": 9,
     "metadata": {},
     "output_type": "execute_result"
    }
   ],
   "source": [
    "df_limpia=df.copy()\n",
    "#Crear clave geoestadística\n",
    "df_limpia['cvegeo'] = df_limpia['entidad'].astype(str).str.zfill(2) + df_limpia['mun'].astype(str).str.zfill(3) + df_limpia['loc'].astype(str).str.zfill(4) + df_limpia['ageb'].astype(str).str.zfill(4) + df_limpia['mza'].astype(str).str.zfill(3)\n",
    "columnas = ['cvegeo'] + [col for col in df_limpia.columns if col != 'cvegeo']\n",
    "df_limpia = df_limpia[columnas]\n",
    "#Eliminar agregados de entidad. \n",
    "df_limpia=df_limpia[df_limpia['mun']!=0]\n",
    "#Eliminar agregados de municipio. \n",
    "df_limpia=df_limpia[df_limpia['loc']!=0]\n",
    "#Eliminar agregados de localidad.\n",
    "df_limpia=df_limpia[df_limpia['ageb']!='0000']\n",
    "#Eliminar agregados de manzana.\n",
    "df_limpia=df_limpia[df_limpia['mza']!=0]\n",
    "\n",
    "df_limpia"
   ],
   "metadata": {
    "collapsed": false,
    "ExecuteTime": {
     "end_time": "2024-02-06T19:48:00.410087800Z",
     "start_time": "2024-02-06T19:47:28.402658300Z"
    }
   },
   "id": "9464ef41061e2f30",
   "execution_count": 9
  }
 ],
 "metadata": {
  "kernelspec": {
   "display_name": "Python 3",
   "language": "python",
   "name": "python3"
  },
  "language_info": {
   "codemirror_mode": {
    "name": "ipython",
    "version": 2
   },
   "file_extension": ".py",
   "mimetype": "text/x-python",
   "name": "python",
   "nbconvert_exporter": "python",
   "pygments_lexer": "ipython2",
   "version": "2.7.6"
  }
 },
 "nbformat": 4,
 "nbformat_minor": 5
}
