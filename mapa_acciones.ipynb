{
  "nbformat": 4,
  "nbformat_minor": 0,
  "metadata": {
    "colab": {
      "provenance": [],
      "authorship_tag": "ABX9TyNJOtDXvZQuLEE1QHkHhGnG",
      "include_colab_link": true
    },
    "kernelspec": {
      "name": "ir",
      "display_name": "R"
    },
    "language_info": {
      "name": "R"
    }
  },
  "cells": [
    {
      "cell_type": "markdown",
      "metadata": {
        "id": "view-in-github",
        "colab_type": "text"
      },
      "source": [
        "<a href=\"https://colab.research.google.com/github/coordanalisis-sedatu/datavivi/blob/main/mapa_acciones.ipynb\" target=\"_parent\"><img src=\"https://colab.research.google.com/assets/colab-badge.svg\" alt=\"Open In Colab\"/></a>"
      ]
    },
    {
      "cell_type": "code",
      "execution_count": 27,
      "metadata": {
        "id": "5I8RIkndP9UD"
      },
      "outputs": [],
      "source": [
        "#Borrar los datos del entorno\n",
        "rm(list=ls())"
      ]
    },
    {
      "cell_type": "code",
      "source": [
        "# Librerías\n",
        "if (!require('pacman')) install.packages('pacman')\n",
        "pacman::p_load(tidyverse, srvyr, janitor,googledrive, openxlsx,showtext,sf)\n",
        "font_add_google(\"Poppins\", \"pop\")\n",
        "showtext_auto()"
      ],
      "metadata": {
        "id": "jS9GqmX_QAaD"
      },
      "execution_count": 28,
      "outputs": []
    },
    {
      "cell_type": "code",
      "source": [
        "  #Conectar a google drive\n",
        "drive_auth(email = \"coordanalisis.sedatu@gmail.com\",cache = FALSE)"
      ],
      "metadata": {
        "id": "ERI32UgTQpyM",
        "colab": {
          "base_uri": "https://localhost:8080/"
        },
        "outputId": "b13a1718-e7c7-46fe-de96-53febd393282"
      },
      "execution_count": 29,
      "outputs": [
        {
          "output_type": "stream",
          "name": "stderr",
          "text": [
            "Please point your browser to the following url: \n",
            "\n",
            "https://accounts.google.com/o/oauth2/v2/auth?client_id=603366585132-frjlouoa3s2ono25d2l9ukvhlsrlnr7k.apps.googleusercontent.com&scope=https%3A%2F%2Fwww.googleapis.com%2Fauth%2Fdrive%20https%3A%2F%2Fwww.googleapis.com%2Fauth%2Fuserinfo.email&redirect_uri=https%3A%2F%2Fwww.tidyverse.org%2Fgoogle-callback%2F&response_type=code&state=9d293ea922c14f2fb3961d8b2156d9c8&login_hint=coordanalisis.sedatu%40gmail.com&access_type=offline&prompt=consent\n",
            "\n"
          ]
        },
        {
          "name": "stdout",
          "output_type": "stream",
          "text": [
            "Enter authorization code: eyJjb2RlIjoiNC8wQWVhWVNIQnlDNGVOc1pjNEc1QTFnZV9RZmRoeDd4TnBZWTZ0NHJkWk1VemVaR3h1VGNtUV9FR0RNcDQ0endOQzFXa2RSZyIsInN0YXRlIjoiOWQyOTNlYTkyMmMxNGYyZmIzOTYxZDhiMjE1NmQ5YzgifQ==\n"
          ]
        }
      ]
    },
    {
      "cell_type": "code",
      "source": [
        "#Carpeta de trabajo\n",
        "carpeta<-as_id(drive_get(\"https://drive.google.com/drive/folders/10p-Z2li6q_bU_dcTJwLfWKuNP5NL89R1\"))\n",
        "#Mostrar archivos en carpeta de trabajo\n",
        "archivos<-drive_ls(carpeta)\n",
        "print(archivos)\n"
      ],
      "metadata": {
        "id": "LpUF05P3Quqm",
        "colab": {
          "base_uri": "https://localhost:8080/"
        },
        "outputId": "6bd12d0a-1ffb-4ecc-88e3-68a3409c33b1"
      },
      "execution_count": 30,
      "outputs": [
        {
          "output_type": "stream",
          "name": "stdout",
          "text": [
            "\u001b[90m# A dribble: 1 × 3\u001b[39m\n",
            "  name                                  id       drive_resource   \n",
            "  \u001b[3m\u001b[90m<chr>\u001b[39m\u001b[23m                                 \u001b[3m\u001b[90m<drv_id>\u001b[39m\u001b[23m \u001b[3m\u001b[90m<list>\u001b[39m\u001b[23m           \n",
            "\u001b[90m1\u001b[39m Base para mapa 4to trim 2023 PNV.xlsx 10qFoAb… \u001b[90m<named list [43]>\u001b[39m\n"
          ]
        }
      ]
    },
    {
      "cell_type": "code",
      "source": [
        "ids<-archivos$id[1]\n",
        "ids"
      ],
      "metadata": {
        "colab": {
          "base_uri": "https://localhost:8080/",
          "height": 34
        },
        "id": "qEEhdEuIYwnA",
        "outputId": "453396e8-de13-4c0d-c0ac-18e101c5dca8"
      },
      "execution_count": 31,
      "outputs": [
        {
          "output_type": "display_data",
          "data": {
            "text/html": [
              "'10qFoAb7rubFrx9jm_Ab2NaRNFRi0W3wi'"
            ],
            "text/markdown": "'10qFoAb7rubFrx9jm_Ab2NaRNFRi0W3wi'",
            "text/latex": "'10qFoAb7rubFrx9jm\\_Ab2NaRNFRi0W3wi'",
            "text/plain": [
              "<drive_id[1]>\n",
              "[1] 10qFoAb7rubFrx9jm_Ab2NaRNFRi0W3wi"
            ]
          },
          "metadata": {}
        }
      ]
    },
    {
      "cell_type": "code",
      "source": [
        "leer_archivo <- function(id_archivo) {\n",
        "  # Descarga el archivo a una ubicación local temporal\n",
        "  archivo_local <- tempfile()\n",
        "  drive_download(id_archivo, archivo_local)\n",
        "\n",
        "  # Lee el archivo CSV desde la ubicación local\n",
        "  datos <- readxl::read_xlsx(archivo_local)%>%\n",
        "    janitor::clean_names()\n",
        "  unlink(archivo_local)\n",
        "\n",
        "  # Devuelve el dataframe\n",
        "  return(datos)\n",
        "\n",
        "}"
      ],
      "metadata": {
        "id": "X5Cjl-8BZCvZ"
      },
      "execution_count": 32,
      "outputs": []
    },
    {
      "cell_type": "code",
      "source": [
        "df<-leer_archivo(ids)\n",
        "df"
      ],
      "metadata": {
        "colab": {
          "base_uri": "https://localhost:8080/",
          "height": 1000
        },
        "id": "iSvCqlhvXDzf",
        "outputId": "ecb85351-575f-4eeb-c194-218b1d8e0fef"
      },
      "execution_count": 40,
      "outputs": [
        {
          "output_type": "stream",
          "name": "stderr",
          "text": [
            "File downloaded:\n",
            "\n",
            "• \u001b[36mBase para mapa 4to trim 2023 PNV.xlsx\u001b[39m \u001b[90m<id: 10qFoAb7rubFrx9jm_Ab2NaRNFRi0W3wi>\u001b[39m\n",
            "\n",
            "Saved locally as:\n",
            "\n",
            "• \u001b[34m/tmp/RtmpRjX9ev/file7e109131f6\u001b[39m\n",
            "\n"
          ]
        },
        {
          "output_type": "display_data",
          "data": {
            "text/html": [
              "<table class=\"dataframe\">\n",
              "<caption>A tibble: 33 × 8</caption>\n",
              "<thead>\n",
              "\t<tr><th scope=col>no</th><th scope=col>entidad</th><th scope=col>infonavit</th><th scope=col>conavi</th><th scope=col>fovissste</th><th scope=col>shf</th><th scope=col>insus</th><th scope=col>total</th></tr>\n",
              "\t<tr><th scope=col>&lt;dbl&gt;</th><th scope=col>&lt;chr&gt;</th><th scope=col>&lt;dbl&gt;</th><th scope=col>&lt;dbl&gt;</th><th scope=col>&lt;dbl&gt;</th><th scope=col>&lt;dbl&gt;</th><th scope=col>&lt;dbl&gt;</th><th scope=col>&lt;dbl&gt;</th></tr>\n",
              "</thead>\n",
              "<tbody>\n",
              "\t<tr><td>15</td><td>México                         </td><td>26474</td><td>14233</td><td>3073</td><td> 6686</td><td>252</td><td>50718</td></tr>\n",
              "\t<tr><td>19</td><td>Nuevo León                     </td><td>44418</td><td>    0</td><td> 752</td><td> 3473</td><td> 32</td><td>48675</td></tr>\n",
              "\t<tr><td> 7</td><td>Chiapas                        </td><td>13432</td><td>11661</td><td>1704</td><td>13576</td><td>235</td><td>40608</td></tr>\n",
              "\t<tr><td>14</td><td>Jalisco                        </td><td>32680</td><td> 1232</td><td> 900</td><td> 4946</td><td>206</td><td>39964</td></tr>\n",
              "\t<tr><td>30</td><td>Veracruz de Ignacio de la Llave</td><td>12691</td><td> 7501</td><td>2722</td><td> 2577</td><td>459</td><td>25950</td></tr>\n",
              "\t<tr><td> 2</td><td>Baja California                </td><td>18201</td><td> 1918</td><td> 348</td><td> 2617</td><td>246</td><td>23330</td></tr>\n",
              "\t<tr><td> 6</td><td>Colima                         </td><td>21210</td><td>  805</td><td> 556</td><td>  357</td><td> 15</td><td>22943</td></tr>\n",
              "\t<tr><td>28</td><td>Tamaulipas                     </td><td>19824</td><td>  804</td><td> 958</td><td>  580</td><td>297</td><td>22463</td></tr>\n",
              "\t<tr><td>11</td><td>Guanajuato                     </td><td>18936</td><td>    1</td><td>1019</td><td> 2356</td><td>133</td><td>22445</td></tr>\n",
              "\t<tr><td> 8</td><td>Chihuahua                      </td><td>18691</td><td>  713</td><td> 988</td><td> 1440</td><td> 31</td><td>21863</td></tr>\n",
              "\t<tr><td>26</td><td>Sonora                         </td><td>12109</td><td> 2056</td><td> 802</td><td> 2822</td><td>420</td><td>18209</td></tr>\n",
              "\t<tr><td>23</td><td>Quintana Roo                   </td><td>11799</td><td> 1211</td><td>1343</td><td> 3689</td><td> 61</td><td>18103</td></tr>\n",
              "\t<tr><td>27</td><td>Tabasco                        </td><td> 3523</td><td> 9754</td><td>1034</td><td> 1785</td><td> 92</td><td>16188</td></tr>\n",
              "\t<tr><td>21</td><td>Puebla                         </td><td> 9041</td><td>  910</td><td>1351</td><td> 2968</td><td>545</td><td>14815</td></tr>\n",
              "\t<tr><td> 9</td><td>Ciudad de México               </td><td> 3177</td><td>  655</td><td>2335</td><td> 7682</td><td> 40</td><td>13889</td></tr>\n",
              "\t<tr><td>24</td><td>San Luis Potosí                </td><td> 9108</td><td>  412</td><td>1041</td><td> 2570</td><td>110</td><td>13241</td></tr>\n",
              "\t<tr><td>25</td><td>Sinaloa                        </td><td> 8750</td><td> 1130</td><td>1217</td><td> 1775</td><td>316</td><td>13188</td></tr>\n",
              "\t<tr><td>22</td><td>Querétaro                      </td><td>10926</td><td>   13</td><td> 668</td><td> 1427</td><td> 91</td><td>13125</td></tr>\n",
              "\t<tr><td>13</td><td>Hidalgo                        </td><td> 8639</td><td>  212</td><td>2776</td><td> 1391</td><td> 95</td><td>13113</td></tr>\n",
              "\t<tr><td>31</td><td>Yucatán                        </td><td> 7476</td><td>  531</td><td> 901</td><td> 2708</td><td> 48</td><td>11664</td></tr>\n",
              "\t<tr><td> 1</td><td>Aguascalientes                 </td><td> 8491</td><td>    0</td><td> 639</td><td> 1316</td><td>  0</td><td>10446</td></tr>\n",
              "\t<tr><td>10</td><td>Durango                        </td><td> 8475</td><td>  665</td><td> 805</td><td>  190</td><td>163</td><td>10298</td></tr>\n",
              "\t<tr><td>16</td><td>Michoacán de Ocampo            </td><td> 5402</td><td> 1194</td><td>1271</td><td> 1492</td><td>590</td><td> 9949</td></tr>\n",
              "\t<tr><td>12</td><td>Guerrero                       </td><td> 1773</td><td> 4216</td><td>1024</td><td> 1576</td><td>329</td><td> 8918</td></tr>\n",
              "\t<tr><td>17</td><td>Morelos                        </td><td> 3318</td><td> 1695</td><td>1442</td><td> 1112</td><td>142</td><td> 7709</td></tr>\n",
              "\t<tr><td>20</td><td>Oaxaca                         </td><td> 1092</td><td> 4212</td><td> 913</td><td> 1197</td><td> 38</td><td> 7452</td></tr>\n",
              "\t<tr><td> 4</td><td>Campeche                       </td><td> 1798</td><td> 2301</td><td> 517</td><td> 1241</td><td>224</td><td> 6081</td></tr>\n",
              "\t<tr><td> 5</td><td>Coahuila de Zaragoza           </td><td> 3771</td><td>    4</td><td> 953</td><td>  964</td><td> 95</td><td> 5787</td></tr>\n",
              "\t<tr><td> 3</td><td>Baja California Sur            </td><td> 2537</td><td>  466</td><td> 632</td><td>  216</td><td>  0</td><td> 3851</td></tr>\n",
              "\t<tr><td>18</td><td>Nayarit                        </td><td> 2309</td><td>  418</td><td> 446</td><td>  588</td><td> 39</td><td> 3800</td></tr>\n",
              "\t<tr><td>32</td><td>Zacatecas                      </td><td> 2391</td><td>    1</td><td> 546</td><td>  419</td><td> 85</td><td> 3442</td></tr>\n",
              "\t<tr><td>29</td><td>Tlaxcala                       </td><td> 1979</td><td>    1</td><td> 662</td><td>  349</td><td>110</td><td> 3101</td></tr>\n",
              "\t<tr><td> 0</td><td>No Distribuible Geograficamente</td><td>    0</td><td>    0</td><td>   0</td><td>  126</td><td>  0</td><td>  126</td></tr>\n",
              "</tbody>\n",
              "</table>\n"
            ],
            "text/markdown": "\nA tibble: 33 × 8\n\n| no &lt;dbl&gt; | entidad &lt;chr&gt; | infonavit &lt;dbl&gt; | conavi &lt;dbl&gt; | fovissste &lt;dbl&gt; | shf &lt;dbl&gt; | insus &lt;dbl&gt; | total &lt;dbl&gt; |\n|---|---|---|---|---|---|---|---|\n| 15 | México                          | 26474 | 14233 | 3073 |  6686 | 252 | 50718 |\n| 19 | Nuevo León                      | 44418 |     0 |  752 |  3473 |  32 | 48675 |\n|  7 | Chiapas                         | 13432 | 11661 | 1704 | 13576 | 235 | 40608 |\n| 14 | Jalisco                         | 32680 |  1232 |  900 |  4946 | 206 | 39964 |\n| 30 | Veracruz de Ignacio de la Llave | 12691 |  7501 | 2722 |  2577 | 459 | 25950 |\n|  2 | Baja California                 | 18201 |  1918 |  348 |  2617 | 246 | 23330 |\n|  6 | Colima                          | 21210 |   805 |  556 |   357 |  15 | 22943 |\n| 28 | Tamaulipas                      | 19824 |   804 |  958 |   580 | 297 | 22463 |\n| 11 | Guanajuato                      | 18936 |     1 | 1019 |  2356 | 133 | 22445 |\n|  8 | Chihuahua                       | 18691 |   713 |  988 |  1440 |  31 | 21863 |\n| 26 | Sonora                          | 12109 |  2056 |  802 |  2822 | 420 | 18209 |\n| 23 | Quintana Roo                    | 11799 |  1211 | 1343 |  3689 |  61 | 18103 |\n| 27 | Tabasco                         |  3523 |  9754 | 1034 |  1785 |  92 | 16188 |\n| 21 | Puebla                          |  9041 |   910 | 1351 |  2968 | 545 | 14815 |\n|  9 | Ciudad de México                |  3177 |   655 | 2335 |  7682 |  40 | 13889 |\n| 24 | San Luis Potosí                 |  9108 |   412 | 1041 |  2570 | 110 | 13241 |\n| 25 | Sinaloa                         |  8750 |  1130 | 1217 |  1775 | 316 | 13188 |\n| 22 | Querétaro                       | 10926 |    13 |  668 |  1427 |  91 | 13125 |\n| 13 | Hidalgo                         |  8639 |   212 | 2776 |  1391 |  95 | 13113 |\n| 31 | Yucatán                         |  7476 |   531 |  901 |  2708 |  48 | 11664 |\n|  1 | Aguascalientes                  |  8491 |     0 |  639 |  1316 |   0 | 10446 |\n| 10 | Durango                         |  8475 |   665 |  805 |   190 | 163 | 10298 |\n| 16 | Michoacán de Ocampo             |  5402 |  1194 | 1271 |  1492 | 590 |  9949 |\n| 12 | Guerrero                        |  1773 |  4216 | 1024 |  1576 | 329 |  8918 |\n| 17 | Morelos                         |  3318 |  1695 | 1442 |  1112 | 142 |  7709 |\n| 20 | Oaxaca                          |  1092 |  4212 |  913 |  1197 |  38 |  7452 |\n|  4 | Campeche                        |  1798 |  2301 |  517 |  1241 | 224 |  6081 |\n|  5 | Coahuila de Zaragoza            |  3771 |     4 |  953 |   964 |  95 |  5787 |\n|  3 | Baja California Sur             |  2537 |   466 |  632 |   216 |   0 |  3851 |\n| 18 | Nayarit                         |  2309 |   418 |  446 |   588 |  39 |  3800 |\n| 32 | Zacatecas                       |  2391 |     1 |  546 |   419 |  85 |  3442 |\n| 29 | Tlaxcala                        |  1979 |     1 |  662 |   349 | 110 |  3101 |\n|  0 | No Distribuible Geograficamente |     0 |     0 |    0 |   126 |   0 |   126 |\n\n",
            "text/latex": "A tibble: 33 × 8\n\\begin{tabular}{llllllll}\n no & entidad & infonavit & conavi & fovissste & shf & insus & total\\\\\n <dbl> & <chr> & <dbl> & <dbl> & <dbl> & <dbl> & <dbl> & <dbl>\\\\\n\\hline\n\t 15 & México                          & 26474 & 14233 & 3073 &  6686 & 252 & 50718\\\\\n\t 19 & Nuevo León                      & 44418 &     0 &  752 &  3473 &  32 & 48675\\\\\n\t  7 & Chiapas                         & 13432 & 11661 & 1704 & 13576 & 235 & 40608\\\\\n\t 14 & Jalisco                         & 32680 &  1232 &  900 &  4946 & 206 & 39964\\\\\n\t 30 & Veracruz de Ignacio de la Llave & 12691 &  7501 & 2722 &  2577 & 459 & 25950\\\\\n\t  2 & Baja California                 & 18201 &  1918 &  348 &  2617 & 246 & 23330\\\\\n\t  6 & Colima                          & 21210 &   805 &  556 &   357 &  15 & 22943\\\\\n\t 28 & Tamaulipas                      & 19824 &   804 &  958 &   580 & 297 & 22463\\\\\n\t 11 & Guanajuato                      & 18936 &     1 & 1019 &  2356 & 133 & 22445\\\\\n\t  8 & Chihuahua                       & 18691 &   713 &  988 &  1440 &  31 & 21863\\\\\n\t 26 & Sonora                          & 12109 &  2056 &  802 &  2822 & 420 & 18209\\\\\n\t 23 & Quintana Roo                    & 11799 &  1211 & 1343 &  3689 &  61 & 18103\\\\\n\t 27 & Tabasco                         &  3523 &  9754 & 1034 &  1785 &  92 & 16188\\\\\n\t 21 & Puebla                          &  9041 &   910 & 1351 &  2968 & 545 & 14815\\\\\n\t  9 & Ciudad de México                &  3177 &   655 & 2335 &  7682 &  40 & 13889\\\\\n\t 24 & San Luis Potosí                 &  9108 &   412 & 1041 &  2570 & 110 & 13241\\\\\n\t 25 & Sinaloa                         &  8750 &  1130 & 1217 &  1775 & 316 & 13188\\\\\n\t 22 & Querétaro                       & 10926 &    13 &  668 &  1427 &  91 & 13125\\\\\n\t 13 & Hidalgo                         &  8639 &   212 & 2776 &  1391 &  95 & 13113\\\\\n\t 31 & Yucatán                         &  7476 &   531 &  901 &  2708 &  48 & 11664\\\\\n\t  1 & Aguascalientes                  &  8491 &     0 &  639 &  1316 &   0 & 10446\\\\\n\t 10 & Durango                         &  8475 &   665 &  805 &   190 & 163 & 10298\\\\\n\t 16 & Michoacán de Ocampo             &  5402 &  1194 & 1271 &  1492 & 590 &  9949\\\\\n\t 12 & Guerrero                        &  1773 &  4216 & 1024 &  1576 & 329 &  8918\\\\\n\t 17 & Morelos                         &  3318 &  1695 & 1442 &  1112 & 142 &  7709\\\\\n\t 20 & Oaxaca                          &  1092 &  4212 &  913 &  1197 &  38 &  7452\\\\\n\t  4 & Campeche                        &  1798 &  2301 &  517 &  1241 & 224 &  6081\\\\\n\t  5 & Coahuila de Zaragoza            &  3771 &     4 &  953 &   964 &  95 &  5787\\\\\n\t  3 & Baja California Sur             &  2537 &   466 &  632 &   216 &   0 &  3851\\\\\n\t 18 & Nayarit                         &  2309 &   418 &  446 &   588 &  39 &  3800\\\\\n\t 32 & Zacatecas                       &  2391 &     1 &  546 &   419 &  85 &  3442\\\\\n\t 29 & Tlaxcala                        &  1979 &     1 &  662 &   349 & 110 &  3101\\\\\n\t  0 & No Distribuible Geograficamente &     0 &     0 &    0 &   126 &   0 &   126\\\\\n\\end{tabular}\n",
            "text/plain": [
              "   no entidad                         infonavit conavi fovissste shf   insus\n",
              "1  15 México                          26474     14233  3073       6686 252  \n",
              "2  19 Nuevo León                      44418         0   752       3473  32  \n",
              "3   7 Chiapas                         13432     11661  1704      13576 235  \n",
              "4  14 Jalisco                         32680      1232   900       4946 206  \n",
              "5  30 Veracruz de Ignacio de la Llave 12691      7501  2722       2577 459  \n",
              "6   2 Baja California                 18201      1918   348       2617 246  \n",
              "7   6 Colima                          21210       805   556        357  15  \n",
              "8  28 Tamaulipas                      19824       804   958        580 297  \n",
              "9  11 Guanajuato                      18936         1  1019       2356 133  \n",
              "10  8 Chihuahua                       18691       713   988       1440  31  \n",
              "11 26 Sonora                          12109      2056   802       2822 420  \n",
              "12 23 Quintana Roo                    11799      1211  1343       3689  61  \n",
              "13 27 Tabasco                          3523      9754  1034       1785  92  \n",
              "14 21 Puebla                           9041       910  1351       2968 545  \n",
              "15  9 Ciudad de México                 3177       655  2335       7682  40  \n",
              "16 24 San Luis Potosí                  9108       412  1041       2570 110  \n",
              "17 25 Sinaloa                          8750      1130  1217       1775 316  \n",
              "18 22 Querétaro                       10926        13   668       1427  91  \n",
              "19 13 Hidalgo                          8639       212  2776       1391  95  \n",
              "20 31 Yucatán                          7476       531   901       2708  48  \n",
              "21  1 Aguascalientes                   8491         0   639       1316   0  \n",
              "22 10 Durango                          8475       665   805        190 163  \n",
              "23 16 Michoacán de Ocampo              5402      1194  1271       1492 590  \n",
              "24 12 Guerrero                         1773      4216  1024       1576 329  \n",
              "25 17 Morelos                          3318      1695  1442       1112 142  \n",
              "26 20 Oaxaca                           1092      4212   913       1197  38  \n",
              "27  4 Campeche                         1798      2301   517       1241 224  \n",
              "28  5 Coahuila de Zaragoza             3771         4   953        964  95  \n",
              "29  3 Baja California Sur              2537       466   632        216   0  \n",
              "30 18 Nayarit                          2309       418   446        588  39  \n",
              "31 32 Zacatecas                        2391         1   546        419  85  \n",
              "32 29 Tlaxcala                         1979         1   662        349 110  \n",
              "33  0 No Distribuible Geograficamente     0         0     0        126   0  \n",
              "   total\n",
              "1  50718\n",
              "2  48675\n",
              "3  40608\n",
              "4  39964\n",
              "5  25950\n",
              "6  23330\n",
              "7  22943\n",
              "8  22463\n",
              "9  22445\n",
              "10 21863\n",
              "11 18209\n",
              "12 18103\n",
              "13 16188\n",
              "14 14815\n",
              "15 13889\n",
              "16 13241\n",
              "17 13188\n",
              "18 13125\n",
              "19 13113\n",
              "20 11664\n",
              "21 10446\n",
              "22 10298\n",
              "23  9949\n",
              "24  8918\n",
              "25  7709\n",
              "26  7452\n",
              "27  6081\n",
              "28  5787\n",
              "29  3851\n",
              "30  3800\n",
              "31  3442\n",
              "32  3101\n",
              "33   126"
            ]
          },
          "metadata": {}
        }
      ]
    },
    {
      "cell_type": "code",
      "source": [
        "ent<-st_read(\"https://raw.githubusercontent.com/strotgen/mexico-leaflet/master/states.geojson\")%>%\n",
        "  #Renombrar Distrito Federal como Ciudad de México\n",
        "mutate(state_name=case_when(state_name==\"Distrito Federal\" ~ \"Ciudad de México\",\n",
        "TRUE ~ state_name))\n",
        "ent\n"
      ],
      "metadata": {
        "colab": {
          "base_uri": "https://localhost:8080/",
          "height": 1000
        },
        "id": "uEmNo3I_QTYX",
        "outputId": "dc5e4638-a384-4248-edb4-d3aec61f4936"
      },
      "execution_count": 46,
      "outputs": [
        {
          "output_type": "stream",
          "name": "stdout",
          "text": [
            "Reading layer `states' from data source \n",
            "  `https://raw.githubusercontent.com/strotgen/mexico-leaflet/master/states.geojson' \n",
            "  using driver `GeoJSON'\n",
            "Simple feature collection with 32 features and 3 fields\n",
            "Geometry type: MULTIPOLYGON\n",
            "Dimension:     XY\n",
            "Bounding box:  xmin: -118.4 ymin: 14.5321 xmax: -86.72404 ymax: 32.71865\n",
            "Geodetic CRS:  WGS 84\n"
          ]
        },
        {
          "output_type": "stream",
          "name": "stderr",
          "text": [
            "ERROR while rich displaying an object: Error in loadNamespace(x): there is no package called ‘geojsonio’\n",
            "\n",
            "Traceback:\n",
            "1. tryCatch(withCallingHandlers({\n",
            " .     if (!mime %in% names(repr::mime2repr)) \n",
            " .         stop(\"No repr_* for mimetype \", mime, \" in repr::mime2repr\")\n",
            " .     rpr <- repr::mime2repr[[mime]](obj)\n",
            " .     if (is.null(rpr)) \n",
            " .         return(NULL)\n",
            " .     prepare_content(is.raw(rpr), rpr)\n",
            " . }, error = error_handler), error = outer_handler)\n",
            "2. tryCatchList(expr, classes, parentenv, handlers)\n",
            "3. tryCatchOne(expr, names, parentenv, handlers[[1L]])\n",
            "4. doTryCatch(return(expr), name, parentenv, handler)\n",
            "5. withCallingHandlers({\n",
            " .     if (!mime %in% names(repr::mime2repr)) \n",
            " .         stop(\"No repr_* for mimetype \", mime, \" in repr::mime2repr\")\n",
            " .     rpr <- repr::mime2repr[[mime]](obj)\n",
            " .     if (is.null(rpr)) \n",
            " .         return(NULL)\n",
            " .     prepare_content(is.raw(rpr), rpr)\n",
            " . }, error = error_handler)\n",
            "6. repr::mime2repr[[mime]](obj)\n",
            "7. repr_geojson.sf(obj)\n",
            "8. repr_geojson(geojsonio::geojson_list(obj), ...)\n",
            "9. loadNamespace(x)\n",
            "10. withRestarts(stop(cond), retry_loadNamespace = function() NULL)\n",
            "11. withOneRestart(expr, restarts[[1L]])\n",
            "12. doWithOneRestart(return(expr), restart)\n"
          ]
        },
        {
          "output_type": "display_data",
          "data": {
            "text/html": [
              "<table class=\"dataframe\">\n",
              "<caption>A sf: 32 × 4</caption>\n",
              "<thead>\n",
              "\t<tr><th></th><th scope=col>id</th><th scope=col>state_code</th><th scope=col>state_name</th><th scope=col>geometry</th></tr>\n",
              "\t<tr><th></th><th scope=col>&lt;chr&gt;</th><th scope=col>&lt;int&gt;</th><th scope=col>&lt;chr&gt;</th><th scope=col>&lt;MULTIPOLYGON [°]&gt;</th></tr>\n",
              "</thead>\n",
              "<tbody>\n",
              "\t<tr><th scope=row>1</th><td>NA</td><td> 9</td><td>Ciudad de México               </td><td>MULTIPOLYGON (((-99.09052 1...</td></tr>\n",
              "\t<tr><th scope=row>2</th><td>NA</td><td>12</td><td>Guerrero                       </td><td>MULTIPOLYGON (((-100.5388 1...</td></tr>\n",
              "\t<tr><th scope=row>3</th><td>NA</td><td>15</td><td>México                         </td><td>MULTIPOLYGON (((-99.85919 2...</td></tr>\n",
              "\t<tr><th scope=row>4</th><td>NA</td><td>17</td><td>Morelos                        </td><td>MULTIPOLYGON (((-99.06199 1...</td></tr>\n",
              "\t<tr><th scope=row>5</th><td>NA</td><td>25</td><td>Sinaloa                        </td><td>MULTIPOLYGON (((-108.4705 2...</td></tr>\n",
              "\t<tr><th scope=row>6</th><td>NA</td><td> 2</td><td>Baja California                </td><td>MULTIPOLYGON (((-115.2138 2...</td></tr>\n",
              "\t<tr><th scope=row>7</th><td>NA</td><td>26</td><td>Sonora                         </td><td>MULTIPOLYGON (((-112.5544 2...</td></tr>\n",
              "\t<tr><th scope=row>8</th><td>NA</td><td> 3</td><td>Baja California Sur            </td><td>MULTIPOLYGON (((-109.8005 2...</td></tr>\n",
              "\t<tr><th scope=row>9</th><td>NA</td><td>32</td><td>Zacatecas                      </td><td>MULTIPOLYGON (((-101.6003 2...</td></tr>\n",
              "\t<tr><th scope=row>10</th><td>NA</td><td>10</td><td>Durango                        </td><td>MULTIPOLYGON (((-105.9318 2...</td></tr>\n",
              "\t<tr><th scope=row>11</th><td>NA</td><td> 8</td><td>Chihuahua                      </td><td>MULTIPOLYGON (((-106.8678 3...</td></tr>\n",
              "\t<tr><th scope=row>12</th><td>NA</td><td> 6</td><td>Colima                         </td><td>MULTIPOLYGON (((-114.7266 1...</td></tr>\n",
              "\t<tr><th scope=row>13</th><td>NA</td><td>18</td><td>Nayarit                        </td><td>MULTIPOLYGON (((-106.2282 2...</td></tr>\n",
              "\t<tr><th scope=row>14</th><td>NA</td><td>16</td><td>Michoacán de Ocampo            </td><td>MULTIPOLYGON (((-101.9465 2...</td></tr>\n",
              "\t<tr><th scope=row>15</th><td>NA</td><td>14</td><td>Jalisco                        </td><td>MULTIPOLYGON (((-103.926 22...</td></tr>\n",
              "\t<tr><th scope=row>16</th><td>NA</td><td> 7</td><td>Chiapas                        </td><td>MULTIPOLYGON (((-91.81435 1...</td></tr>\n",
              "\t<tr><th scope=row>17</th><td>NA</td><td>27</td><td>Tabasco                        </td><td>MULTIPOLYGON (((-92.33165 1...</td></tr>\n",
              "\t<tr><th scope=row>18</th><td>NA</td><td>20</td><td>Oaxaca                         </td><td>MULTIPOLYGON (((-96.62826 1...</td></tr>\n",
              "\t<tr><th scope=row>19</th><td>NA</td><td>11</td><td>Guanajuato                     </td><td>MULTIPOLYGON (((-101.2171 2...</td></tr>\n",
              "\t<tr><th scope=row>20</th><td>NA</td><td> 1</td><td>Aguascalientes                 </td><td>MULTIPOLYGON (((-102.2533 2...</td></tr>\n",
              "\t<tr><th scope=row>21</th><td>NA</td><td>22</td><td>Querétaro                      </td><td>MULTIPOLYGON (((-99.18847 2...</td></tr>\n",
              "\t<tr><th scope=row>22</th><td>NA</td><td>24</td><td>San Luis Potosí                </td><td>MULTIPOLYGON (((-100.6038 2...</td></tr>\n",
              "\t<tr><th scope=row>23</th><td>NA</td><td>29</td><td>Tlaxcala                       </td><td>MULTIPOLYGON (((-98.04006 1...</td></tr>\n",
              "\t<tr><th scope=row>24</th><td>NA</td><td>21</td><td>Puebla                         </td><td>MULTIPOLYGON (((-97.75035 2...</td></tr>\n",
              "\t<tr><th scope=row>25</th><td>NA</td><td>13</td><td>Hidalgo                        </td><td>MULTIPOLYGON (((-98.46735 2...</td></tr>\n",
              "\t<tr><th scope=row>26</th><td>NA</td><td>30</td><td>Veracruz de Ignacio de la Llave</td><td>MULTIPOLYGON (((-97.97033 2...</td></tr>\n",
              "\t<tr><th scope=row>27</th><td>NA</td><td>19</td><td>Nuevo León                     </td><td>MULTIPOLYGON (((-99.84334 2...</td></tr>\n",
              "\t<tr><th scope=row>28</th><td>NA</td><td> 5</td><td>Coahuila de Zaragoza           </td><td>MULTIPOLYGON (((-100.8795 2...</td></tr>\n",
              "\t<tr><th scope=row>29</th><td>NA</td><td>28</td><td>Tamaulipas                     </td><td>MULTIPOLYGON (((-99.49657 2...</td></tr>\n",
              "\t<tr><th scope=row>30</th><td>NA</td><td>31</td><td>Yucatán                        </td><td>MULTIPOLYGON (((-87.86198 2...</td></tr>\n",
              "\t<tr><th scope=row>31</th><td>NA</td><td> 4</td><td>Campeche                       </td><td>MULTIPOLYGON (((-90.38193 2...</td></tr>\n",
              "\t<tr><th scope=row>32</th><td>NA</td><td>23</td><td>Quintana Roo                   </td><td>MULTIPOLYGON (((-87.36211 1...</td></tr>\n",
              "</tbody>\n",
              "</table>\n"
            ],
            "text/markdown": "\nA sf: 32 × 4\n\n| <!--/--> | id &lt;chr&gt; | state_code &lt;int&gt; | state_name &lt;chr&gt; | geometry &lt;MULTIPOLYGON [°]&gt; |\n|---|---|---|---|---|\n| 1 | NA |  9 | Ciudad de México                | MULTIPOLYGON (((-99.09052 1... |\n| 2 | NA | 12 | Guerrero                        | MULTIPOLYGON (((-100.5388 1... |\n| 3 | NA | 15 | México                          | MULTIPOLYGON (((-99.85919 2... |\n| 4 | NA | 17 | Morelos                         | MULTIPOLYGON (((-99.06199 1... |\n| 5 | NA | 25 | Sinaloa                         | MULTIPOLYGON (((-108.4705 2... |\n| 6 | NA |  2 | Baja California                 | MULTIPOLYGON (((-115.2138 2... |\n| 7 | NA | 26 | Sonora                          | MULTIPOLYGON (((-112.5544 2... |\n| 8 | NA |  3 | Baja California Sur             | MULTIPOLYGON (((-109.8005 2... |\n| 9 | NA | 32 | Zacatecas                       | MULTIPOLYGON (((-101.6003 2... |\n| 10 | NA | 10 | Durango                         | MULTIPOLYGON (((-105.9318 2... |\n| 11 | NA |  8 | Chihuahua                       | MULTIPOLYGON (((-106.8678 3... |\n| 12 | NA |  6 | Colima                          | MULTIPOLYGON (((-114.7266 1... |\n| 13 | NA | 18 | Nayarit                         | MULTIPOLYGON (((-106.2282 2... |\n| 14 | NA | 16 | Michoacán de Ocampo             | MULTIPOLYGON (((-101.9465 2... |\n| 15 | NA | 14 | Jalisco                         | MULTIPOLYGON (((-103.926 22... |\n| 16 | NA |  7 | Chiapas                         | MULTIPOLYGON (((-91.81435 1... |\n| 17 | NA | 27 | Tabasco                         | MULTIPOLYGON (((-92.33165 1... |\n| 18 | NA | 20 | Oaxaca                          | MULTIPOLYGON (((-96.62826 1... |\n| 19 | NA | 11 | Guanajuato                      | MULTIPOLYGON (((-101.2171 2... |\n| 20 | NA |  1 | Aguascalientes                  | MULTIPOLYGON (((-102.2533 2... |\n| 21 | NA | 22 | Querétaro                       | MULTIPOLYGON (((-99.18847 2... |\n| 22 | NA | 24 | San Luis Potosí                 | MULTIPOLYGON (((-100.6038 2... |\n| 23 | NA | 29 | Tlaxcala                        | MULTIPOLYGON (((-98.04006 1... |\n| 24 | NA | 21 | Puebla                          | MULTIPOLYGON (((-97.75035 2... |\n| 25 | NA | 13 | Hidalgo                         | MULTIPOLYGON (((-98.46735 2... |\n| 26 | NA | 30 | Veracruz de Ignacio de la Llave | MULTIPOLYGON (((-97.97033 2... |\n| 27 | NA | 19 | Nuevo León                      | MULTIPOLYGON (((-99.84334 2... |\n| 28 | NA |  5 | Coahuila de Zaragoza            | MULTIPOLYGON (((-100.8795 2... |\n| 29 | NA | 28 | Tamaulipas                      | MULTIPOLYGON (((-99.49657 2... |\n| 30 | NA | 31 | Yucatán                         | MULTIPOLYGON (((-87.86198 2... |\n| 31 | NA |  4 | Campeche                        | MULTIPOLYGON (((-90.38193 2... |\n| 32 | NA | 23 | Quintana Roo                    | MULTIPOLYGON (((-87.36211 1... |\n\n",
            "text/latex": "A sf: 32 × 4\n\\begin{tabular}{r|llll}\n  & id & state\\_code & state\\_name & geometry\\\\\n  & <chr> & <int> & <chr> & <MULTIPOLYGON {[}°{]}>\\\\\n\\hline\n\t1 & NA &  9 & Ciudad de México                & MULTIPOLYGON (((-99.09052 1...\\\\\n\t2 & NA & 12 & Guerrero                        & MULTIPOLYGON (((-100.5388 1...\\\\\n\t3 & NA & 15 & México                          & MULTIPOLYGON (((-99.85919 2...\\\\\n\t4 & NA & 17 & Morelos                         & MULTIPOLYGON (((-99.06199 1...\\\\\n\t5 & NA & 25 & Sinaloa                         & MULTIPOLYGON (((-108.4705 2...\\\\\n\t6 & NA &  2 & Baja California                 & MULTIPOLYGON (((-115.2138 2...\\\\\n\t7 & NA & 26 & Sonora                          & MULTIPOLYGON (((-112.5544 2...\\\\\n\t8 & NA &  3 & Baja California Sur             & MULTIPOLYGON (((-109.8005 2...\\\\\n\t9 & NA & 32 & Zacatecas                       & MULTIPOLYGON (((-101.6003 2...\\\\\n\t10 & NA & 10 & Durango                         & MULTIPOLYGON (((-105.9318 2...\\\\\n\t11 & NA &  8 & Chihuahua                       & MULTIPOLYGON (((-106.8678 3...\\\\\n\t12 & NA &  6 & Colima                          & MULTIPOLYGON (((-114.7266 1...\\\\\n\t13 & NA & 18 & Nayarit                         & MULTIPOLYGON (((-106.2282 2...\\\\\n\t14 & NA & 16 & Michoacán de Ocampo             & MULTIPOLYGON (((-101.9465 2...\\\\\n\t15 & NA & 14 & Jalisco                         & MULTIPOLYGON (((-103.926 22...\\\\\n\t16 & NA &  7 & Chiapas                         & MULTIPOLYGON (((-91.81435 1...\\\\\n\t17 & NA & 27 & Tabasco                         & MULTIPOLYGON (((-92.33165 1...\\\\\n\t18 & NA & 20 & Oaxaca                          & MULTIPOLYGON (((-96.62826 1...\\\\\n\t19 & NA & 11 & Guanajuato                      & MULTIPOLYGON (((-101.2171 2...\\\\\n\t20 & NA &  1 & Aguascalientes                  & MULTIPOLYGON (((-102.2533 2...\\\\\n\t21 & NA & 22 & Querétaro                       & MULTIPOLYGON (((-99.18847 2...\\\\\n\t22 & NA & 24 & San Luis Potosí                 & MULTIPOLYGON (((-100.6038 2...\\\\\n\t23 & NA & 29 & Tlaxcala                        & MULTIPOLYGON (((-98.04006 1...\\\\\n\t24 & NA & 21 & Puebla                          & MULTIPOLYGON (((-97.75035 2...\\\\\n\t25 & NA & 13 & Hidalgo                         & MULTIPOLYGON (((-98.46735 2...\\\\\n\t26 & NA & 30 & Veracruz de Ignacio de la Llave & MULTIPOLYGON (((-97.97033 2...\\\\\n\t27 & NA & 19 & Nuevo León                      & MULTIPOLYGON (((-99.84334 2...\\\\\n\t28 & NA &  5 & Coahuila de Zaragoza            & MULTIPOLYGON (((-100.8795 2...\\\\\n\t29 & NA & 28 & Tamaulipas                      & MULTIPOLYGON (((-99.49657 2...\\\\\n\t30 & NA & 31 & Yucatán                         & MULTIPOLYGON (((-87.86198 2...\\\\\n\t31 & NA &  4 & Campeche                        & MULTIPOLYGON (((-90.38193 2...\\\\\n\t32 & NA & 23 & Quintana Roo                    & MULTIPOLYGON (((-87.36211 1...\\\\\n\\end{tabular}\n",
            "text/plain": [
              "   id state_code state_name                      geometry                      \n",
              "1  NA  9         Ciudad de México                MULTIPOLYGON (((-99.09052 1...\n",
              "2  NA 12         Guerrero                        MULTIPOLYGON (((-100.5388 1...\n",
              "3  NA 15         México                          MULTIPOLYGON (((-99.85919 2...\n",
              "4  NA 17         Morelos                         MULTIPOLYGON (((-99.06199 1...\n",
              "5  NA 25         Sinaloa                         MULTIPOLYGON (((-108.4705 2...\n",
              "6  NA  2         Baja California                 MULTIPOLYGON (((-115.2138 2...\n",
              "7  NA 26         Sonora                          MULTIPOLYGON (((-112.5544 2...\n",
              "8  NA  3         Baja California Sur             MULTIPOLYGON (((-109.8005 2...\n",
              "9  NA 32         Zacatecas                       MULTIPOLYGON (((-101.6003 2...\n",
              "10 NA 10         Durango                         MULTIPOLYGON (((-105.9318 2...\n",
              "11 NA  8         Chihuahua                       MULTIPOLYGON (((-106.8678 3...\n",
              "12 NA  6         Colima                          MULTIPOLYGON (((-114.7266 1...\n",
              "13 NA 18         Nayarit                         MULTIPOLYGON (((-106.2282 2...\n",
              "14 NA 16         Michoacán de Ocampo             MULTIPOLYGON (((-101.9465 2...\n",
              "15 NA 14         Jalisco                         MULTIPOLYGON (((-103.926 22...\n",
              "16 NA  7         Chiapas                         MULTIPOLYGON (((-91.81435 1...\n",
              "17 NA 27         Tabasco                         MULTIPOLYGON (((-92.33165 1...\n",
              "18 NA 20         Oaxaca                          MULTIPOLYGON (((-96.62826 1...\n",
              "19 NA 11         Guanajuato                      MULTIPOLYGON (((-101.2171 2...\n",
              "20 NA  1         Aguascalientes                  MULTIPOLYGON (((-102.2533 2...\n",
              "21 NA 22         Querétaro                       MULTIPOLYGON (((-99.18847 2...\n",
              "22 NA 24         San Luis Potosí                 MULTIPOLYGON (((-100.6038 2...\n",
              "23 NA 29         Tlaxcala                        MULTIPOLYGON (((-98.04006 1...\n",
              "24 NA 21         Puebla                          MULTIPOLYGON (((-97.75035 2...\n",
              "25 NA 13         Hidalgo                         MULTIPOLYGON (((-98.46735 2...\n",
              "26 NA 30         Veracruz de Ignacio de la Llave MULTIPOLYGON (((-97.97033 2...\n",
              "27 NA 19         Nuevo León                      MULTIPOLYGON (((-99.84334 2...\n",
              "28 NA  5         Coahuila de Zaragoza            MULTIPOLYGON (((-100.8795 2...\n",
              "29 NA 28         Tamaulipas                      MULTIPOLYGON (((-99.49657 2...\n",
              "30 NA 31         Yucatán                         MULTIPOLYGON (((-87.86198 2...\n",
              "31 NA  4         Campeche                        MULTIPOLYGON (((-90.38193 2...\n",
              "32 NA 23         Quintana Roo                    MULTIPOLYGON (((-87.36211 1..."
            ]
          },
          "metadata": {}
        }
      ]
    },
    {
      "cell_type": "code",
      "source": [
        "ent<-ent%>%\n",
        "  left_join(df,by=c(\"state_name\"=\"entidad\"))%>%\n",
        "  mutate(total=total/1000)\n",
        "\n",
        "ent"
      ],
      "metadata": {
        "colab": {
          "base_uri": "https://localhost:8080/",
          "height": 1000
        },
        "id": "TZQPnrjYacQL",
        "outputId": "977fa4c8-fb0b-43d2-8f4f-b7490fbd0441"
      },
      "execution_count": 47,
      "outputs": [
        {
          "output_type": "stream",
          "name": "stderr",
          "text": [
            "ERROR while rich displaying an object: Error in loadNamespace(x): there is no package called ‘geojsonio’\n",
            "\n",
            "Traceback:\n",
            "1. tryCatch(withCallingHandlers({\n",
            " .     if (!mime %in% names(repr::mime2repr)) \n",
            " .         stop(\"No repr_* for mimetype \", mime, \" in repr::mime2repr\")\n",
            " .     rpr <- repr::mime2repr[[mime]](obj)\n",
            " .     if (is.null(rpr)) \n",
            " .         return(NULL)\n",
            " .     prepare_content(is.raw(rpr), rpr)\n",
            " . }, error = error_handler), error = outer_handler)\n",
            "2. tryCatchList(expr, classes, parentenv, handlers)\n",
            "3. tryCatchOne(expr, names, parentenv, handlers[[1L]])\n",
            "4. doTryCatch(return(expr), name, parentenv, handler)\n",
            "5. withCallingHandlers({\n",
            " .     if (!mime %in% names(repr::mime2repr)) \n",
            " .         stop(\"No repr_* for mimetype \", mime, \" in repr::mime2repr\")\n",
            " .     rpr <- repr::mime2repr[[mime]](obj)\n",
            " .     if (is.null(rpr)) \n",
            " .         return(NULL)\n",
            " .     prepare_content(is.raw(rpr), rpr)\n",
            " . }, error = error_handler)\n",
            "6. repr::mime2repr[[mime]](obj)\n",
            "7. repr_geojson.sf(obj)\n",
            "8. repr_geojson(geojsonio::geojson_list(obj), ...)\n",
            "9. loadNamespace(x)\n",
            "10. withRestarts(stop(cond), retry_loadNamespace = function() NULL)\n",
            "11. withOneRestart(expr, restarts[[1L]])\n",
            "12. doWithOneRestart(return(expr), restart)\n"
          ]
        },
        {
          "output_type": "display_data",
          "data": {
            "text/html": [
              "<table class=\"dataframe\">\n",
              "<caption>A sf: 32 × 11</caption>\n",
              "<thead>\n",
              "\t<tr><th></th><th scope=col>id</th><th scope=col>state_code</th><th scope=col>state_name</th><th scope=col>no</th><th scope=col>infonavit</th><th scope=col>conavi</th><th scope=col>fovissste</th><th scope=col>shf</th><th scope=col>insus</th><th scope=col>total</th><th scope=col>geometry</th></tr>\n",
              "\t<tr><th></th><th scope=col>&lt;chr&gt;</th><th scope=col>&lt;int&gt;</th><th scope=col>&lt;chr&gt;</th><th scope=col>&lt;dbl&gt;</th><th scope=col>&lt;dbl&gt;</th><th scope=col>&lt;dbl&gt;</th><th scope=col>&lt;dbl&gt;</th><th scope=col>&lt;dbl&gt;</th><th scope=col>&lt;dbl&gt;</th><th scope=col>&lt;dbl&gt;</th><th scope=col>&lt;MULTIPOLYGON [°]&gt;</th></tr>\n",
              "</thead>\n",
              "<tbody>\n",
              "\t<tr><th scope=row>1</th><td>NA</td><td> 9</td><td>Ciudad de México               </td><td> 9</td><td> 3177</td><td>  655</td><td>2335</td><td> 7682</td><td> 40</td><td>13.889</td><td>MULTIPOLYGON (((-99.09052 1...</td></tr>\n",
              "\t<tr><th scope=row>2</th><td>NA</td><td>12</td><td>Guerrero                       </td><td>12</td><td> 1773</td><td> 4216</td><td>1024</td><td> 1576</td><td>329</td><td> 8.918</td><td>MULTIPOLYGON (((-100.5388 1...</td></tr>\n",
              "\t<tr><th scope=row>3</th><td>NA</td><td>15</td><td>México                         </td><td>15</td><td>26474</td><td>14233</td><td>3073</td><td> 6686</td><td>252</td><td>50.718</td><td>MULTIPOLYGON (((-99.85919 2...</td></tr>\n",
              "\t<tr><th scope=row>4</th><td>NA</td><td>17</td><td>Morelos                        </td><td>17</td><td> 3318</td><td> 1695</td><td>1442</td><td> 1112</td><td>142</td><td> 7.709</td><td>MULTIPOLYGON (((-99.06199 1...</td></tr>\n",
              "\t<tr><th scope=row>5</th><td>NA</td><td>25</td><td>Sinaloa                        </td><td>25</td><td> 8750</td><td> 1130</td><td>1217</td><td> 1775</td><td>316</td><td>13.188</td><td>MULTIPOLYGON (((-108.4705 2...</td></tr>\n",
              "\t<tr><th scope=row>6</th><td>NA</td><td> 2</td><td>Baja California                </td><td> 2</td><td>18201</td><td> 1918</td><td> 348</td><td> 2617</td><td>246</td><td>23.330</td><td>MULTIPOLYGON (((-115.2138 2...</td></tr>\n",
              "\t<tr><th scope=row>7</th><td>NA</td><td>26</td><td>Sonora                         </td><td>26</td><td>12109</td><td> 2056</td><td> 802</td><td> 2822</td><td>420</td><td>18.209</td><td>MULTIPOLYGON (((-112.5544 2...</td></tr>\n",
              "\t<tr><th scope=row>8</th><td>NA</td><td> 3</td><td>Baja California Sur            </td><td> 3</td><td> 2537</td><td>  466</td><td> 632</td><td>  216</td><td>  0</td><td> 3.851</td><td>MULTIPOLYGON (((-109.8005 2...</td></tr>\n",
              "\t<tr><th scope=row>9</th><td>NA</td><td>32</td><td>Zacatecas                      </td><td>32</td><td> 2391</td><td>    1</td><td> 546</td><td>  419</td><td> 85</td><td> 3.442</td><td>MULTIPOLYGON (((-101.6003 2...</td></tr>\n",
              "\t<tr><th scope=row>10</th><td>NA</td><td>10</td><td>Durango                        </td><td>10</td><td> 8475</td><td>  665</td><td> 805</td><td>  190</td><td>163</td><td>10.298</td><td>MULTIPOLYGON (((-105.9318 2...</td></tr>\n",
              "\t<tr><th scope=row>11</th><td>NA</td><td> 8</td><td>Chihuahua                      </td><td> 8</td><td>18691</td><td>  713</td><td> 988</td><td> 1440</td><td> 31</td><td>21.863</td><td>MULTIPOLYGON (((-106.8678 3...</td></tr>\n",
              "\t<tr><th scope=row>12</th><td>NA</td><td> 6</td><td>Colima                         </td><td> 6</td><td>21210</td><td>  805</td><td> 556</td><td>  357</td><td> 15</td><td>22.943</td><td>MULTIPOLYGON (((-114.7266 1...</td></tr>\n",
              "\t<tr><th scope=row>13</th><td>NA</td><td>18</td><td>Nayarit                        </td><td>18</td><td> 2309</td><td>  418</td><td> 446</td><td>  588</td><td> 39</td><td> 3.800</td><td>MULTIPOLYGON (((-106.2282 2...</td></tr>\n",
              "\t<tr><th scope=row>14</th><td>NA</td><td>16</td><td>Michoacán de Ocampo            </td><td>16</td><td> 5402</td><td> 1194</td><td>1271</td><td> 1492</td><td>590</td><td> 9.949</td><td>MULTIPOLYGON (((-101.9465 2...</td></tr>\n",
              "\t<tr><th scope=row>15</th><td>NA</td><td>14</td><td>Jalisco                        </td><td>14</td><td>32680</td><td> 1232</td><td> 900</td><td> 4946</td><td>206</td><td>39.964</td><td>MULTIPOLYGON (((-103.926 22...</td></tr>\n",
              "\t<tr><th scope=row>16</th><td>NA</td><td> 7</td><td>Chiapas                        </td><td> 7</td><td>13432</td><td>11661</td><td>1704</td><td>13576</td><td>235</td><td>40.608</td><td>MULTIPOLYGON (((-91.81435 1...</td></tr>\n",
              "\t<tr><th scope=row>17</th><td>NA</td><td>27</td><td>Tabasco                        </td><td>27</td><td> 3523</td><td> 9754</td><td>1034</td><td> 1785</td><td> 92</td><td>16.188</td><td>MULTIPOLYGON (((-92.33165 1...</td></tr>\n",
              "\t<tr><th scope=row>18</th><td>NA</td><td>20</td><td>Oaxaca                         </td><td>20</td><td> 1092</td><td> 4212</td><td> 913</td><td> 1197</td><td> 38</td><td> 7.452</td><td>MULTIPOLYGON (((-96.62826 1...</td></tr>\n",
              "\t<tr><th scope=row>19</th><td>NA</td><td>11</td><td>Guanajuato                     </td><td>11</td><td>18936</td><td>    1</td><td>1019</td><td> 2356</td><td>133</td><td>22.445</td><td>MULTIPOLYGON (((-101.2171 2...</td></tr>\n",
              "\t<tr><th scope=row>20</th><td>NA</td><td> 1</td><td>Aguascalientes                 </td><td> 1</td><td> 8491</td><td>    0</td><td> 639</td><td> 1316</td><td>  0</td><td>10.446</td><td>MULTIPOLYGON (((-102.2533 2...</td></tr>\n",
              "\t<tr><th scope=row>21</th><td>NA</td><td>22</td><td>Querétaro                      </td><td>22</td><td>10926</td><td>   13</td><td> 668</td><td> 1427</td><td> 91</td><td>13.125</td><td>MULTIPOLYGON (((-99.18847 2...</td></tr>\n",
              "\t<tr><th scope=row>22</th><td>NA</td><td>24</td><td>San Luis Potosí                </td><td>24</td><td> 9108</td><td>  412</td><td>1041</td><td> 2570</td><td>110</td><td>13.241</td><td>MULTIPOLYGON (((-100.6038 2...</td></tr>\n",
              "\t<tr><th scope=row>23</th><td>NA</td><td>29</td><td>Tlaxcala                       </td><td>29</td><td> 1979</td><td>    1</td><td> 662</td><td>  349</td><td>110</td><td> 3.101</td><td>MULTIPOLYGON (((-98.04006 1...</td></tr>\n",
              "\t<tr><th scope=row>24</th><td>NA</td><td>21</td><td>Puebla                         </td><td>21</td><td> 9041</td><td>  910</td><td>1351</td><td> 2968</td><td>545</td><td>14.815</td><td>MULTIPOLYGON (((-97.75035 2...</td></tr>\n",
              "\t<tr><th scope=row>25</th><td>NA</td><td>13</td><td>Hidalgo                        </td><td>13</td><td> 8639</td><td>  212</td><td>2776</td><td> 1391</td><td> 95</td><td>13.113</td><td>MULTIPOLYGON (((-98.46735 2...</td></tr>\n",
              "\t<tr><th scope=row>26</th><td>NA</td><td>30</td><td>Veracruz de Ignacio de la Llave</td><td>30</td><td>12691</td><td> 7501</td><td>2722</td><td> 2577</td><td>459</td><td>25.950</td><td>MULTIPOLYGON (((-97.97033 2...</td></tr>\n",
              "\t<tr><th scope=row>27</th><td>NA</td><td>19</td><td>Nuevo León                     </td><td>19</td><td>44418</td><td>    0</td><td> 752</td><td> 3473</td><td> 32</td><td>48.675</td><td>MULTIPOLYGON (((-99.84334 2...</td></tr>\n",
              "\t<tr><th scope=row>28</th><td>NA</td><td> 5</td><td>Coahuila de Zaragoza           </td><td> 5</td><td> 3771</td><td>    4</td><td> 953</td><td>  964</td><td> 95</td><td> 5.787</td><td>MULTIPOLYGON (((-100.8795 2...</td></tr>\n",
              "\t<tr><th scope=row>29</th><td>NA</td><td>28</td><td>Tamaulipas                     </td><td>28</td><td>19824</td><td>  804</td><td> 958</td><td>  580</td><td>297</td><td>22.463</td><td>MULTIPOLYGON (((-99.49657 2...</td></tr>\n",
              "\t<tr><th scope=row>30</th><td>NA</td><td>31</td><td>Yucatán                        </td><td>31</td><td> 7476</td><td>  531</td><td> 901</td><td> 2708</td><td> 48</td><td>11.664</td><td>MULTIPOLYGON (((-87.86198 2...</td></tr>\n",
              "\t<tr><th scope=row>31</th><td>NA</td><td> 4</td><td>Campeche                       </td><td> 4</td><td> 1798</td><td> 2301</td><td> 517</td><td> 1241</td><td>224</td><td> 6.081</td><td>MULTIPOLYGON (((-90.38193 2...</td></tr>\n",
              "\t<tr><th scope=row>32</th><td>NA</td><td>23</td><td>Quintana Roo                   </td><td>23</td><td>11799</td><td> 1211</td><td>1343</td><td> 3689</td><td> 61</td><td>18.103</td><td>MULTIPOLYGON (((-87.36211 1...</td></tr>\n",
              "</tbody>\n",
              "</table>\n"
            ],
            "text/markdown": "\nA sf: 32 × 11\n\n| <!--/--> | id &lt;chr&gt; | state_code &lt;int&gt; | state_name &lt;chr&gt; | no &lt;dbl&gt; | infonavit &lt;dbl&gt; | conavi &lt;dbl&gt; | fovissste &lt;dbl&gt; | shf &lt;dbl&gt; | insus &lt;dbl&gt; | total &lt;dbl&gt; | geometry &lt;MULTIPOLYGON [°]&gt; |\n|---|---|---|---|---|---|---|---|---|---|---|---|\n| 1 | NA |  9 | Ciudad de México                |  9 |  3177 |   655 | 2335 |  7682 |  40 | 13.889 | MULTIPOLYGON (((-99.09052 1... |\n| 2 | NA | 12 | Guerrero                        | 12 |  1773 |  4216 | 1024 |  1576 | 329 |  8.918 | MULTIPOLYGON (((-100.5388 1... |\n| 3 | NA | 15 | México                          | 15 | 26474 | 14233 | 3073 |  6686 | 252 | 50.718 | MULTIPOLYGON (((-99.85919 2... |\n| 4 | NA | 17 | Morelos                         | 17 |  3318 |  1695 | 1442 |  1112 | 142 |  7.709 | MULTIPOLYGON (((-99.06199 1... |\n| 5 | NA | 25 | Sinaloa                         | 25 |  8750 |  1130 | 1217 |  1775 | 316 | 13.188 | MULTIPOLYGON (((-108.4705 2... |\n| 6 | NA |  2 | Baja California                 |  2 | 18201 |  1918 |  348 |  2617 | 246 | 23.330 | MULTIPOLYGON (((-115.2138 2... |\n| 7 | NA | 26 | Sonora                          | 26 | 12109 |  2056 |  802 |  2822 | 420 | 18.209 | MULTIPOLYGON (((-112.5544 2... |\n| 8 | NA |  3 | Baja California Sur             |  3 |  2537 |   466 |  632 |   216 |   0 |  3.851 | MULTIPOLYGON (((-109.8005 2... |\n| 9 | NA | 32 | Zacatecas                       | 32 |  2391 |     1 |  546 |   419 |  85 |  3.442 | MULTIPOLYGON (((-101.6003 2... |\n| 10 | NA | 10 | Durango                         | 10 |  8475 |   665 |  805 |   190 | 163 | 10.298 | MULTIPOLYGON (((-105.9318 2... |\n| 11 | NA |  8 | Chihuahua                       |  8 | 18691 |   713 |  988 |  1440 |  31 | 21.863 | MULTIPOLYGON (((-106.8678 3... |\n| 12 | NA |  6 | Colima                          |  6 | 21210 |   805 |  556 |   357 |  15 | 22.943 | MULTIPOLYGON (((-114.7266 1... |\n| 13 | NA | 18 | Nayarit                         | 18 |  2309 |   418 |  446 |   588 |  39 |  3.800 | MULTIPOLYGON (((-106.2282 2... |\n| 14 | NA | 16 | Michoacán de Ocampo             | 16 |  5402 |  1194 | 1271 |  1492 | 590 |  9.949 | MULTIPOLYGON (((-101.9465 2... |\n| 15 | NA | 14 | Jalisco                         | 14 | 32680 |  1232 |  900 |  4946 | 206 | 39.964 | MULTIPOLYGON (((-103.926 22... |\n| 16 | NA |  7 | Chiapas                         |  7 | 13432 | 11661 | 1704 | 13576 | 235 | 40.608 | MULTIPOLYGON (((-91.81435 1... |\n| 17 | NA | 27 | Tabasco                         | 27 |  3523 |  9754 | 1034 |  1785 |  92 | 16.188 | MULTIPOLYGON (((-92.33165 1... |\n| 18 | NA | 20 | Oaxaca                          | 20 |  1092 |  4212 |  913 |  1197 |  38 |  7.452 | MULTIPOLYGON (((-96.62826 1... |\n| 19 | NA | 11 | Guanajuato                      | 11 | 18936 |     1 | 1019 |  2356 | 133 | 22.445 | MULTIPOLYGON (((-101.2171 2... |\n| 20 | NA |  1 | Aguascalientes                  |  1 |  8491 |     0 |  639 |  1316 |   0 | 10.446 | MULTIPOLYGON (((-102.2533 2... |\n| 21 | NA | 22 | Querétaro                       | 22 | 10926 |    13 |  668 |  1427 |  91 | 13.125 | MULTIPOLYGON (((-99.18847 2... |\n| 22 | NA | 24 | San Luis Potosí                 | 24 |  9108 |   412 | 1041 |  2570 | 110 | 13.241 | MULTIPOLYGON (((-100.6038 2... |\n| 23 | NA | 29 | Tlaxcala                        | 29 |  1979 |     1 |  662 |   349 | 110 |  3.101 | MULTIPOLYGON (((-98.04006 1... |\n| 24 | NA | 21 | Puebla                          | 21 |  9041 |   910 | 1351 |  2968 | 545 | 14.815 | MULTIPOLYGON (((-97.75035 2... |\n| 25 | NA | 13 | Hidalgo                         | 13 |  8639 |   212 | 2776 |  1391 |  95 | 13.113 | MULTIPOLYGON (((-98.46735 2... |\n| 26 | NA | 30 | Veracruz de Ignacio de la Llave | 30 | 12691 |  7501 | 2722 |  2577 | 459 | 25.950 | MULTIPOLYGON (((-97.97033 2... |\n| 27 | NA | 19 | Nuevo León                      | 19 | 44418 |     0 |  752 |  3473 |  32 | 48.675 | MULTIPOLYGON (((-99.84334 2... |\n| 28 | NA |  5 | Coahuila de Zaragoza            |  5 |  3771 |     4 |  953 |   964 |  95 |  5.787 | MULTIPOLYGON (((-100.8795 2... |\n| 29 | NA | 28 | Tamaulipas                      | 28 | 19824 |   804 |  958 |   580 | 297 | 22.463 | MULTIPOLYGON (((-99.49657 2... |\n| 30 | NA | 31 | Yucatán                         | 31 |  7476 |   531 |  901 |  2708 |  48 | 11.664 | MULTIPOLYGON (((-87.86198 2... |\n| 31 | NA |  4 | Campeche                        |  4 |  1798 |  2301 |  517 |  1241 | 224 |  6.081 | MULTIPOLYGON (((-90.38193 2... |\n| 32 | NA | 23 | Quintana Roo                    | 23 | 11799 |  1211 | 1343 |  3689 |  61 | 18.103 | MULTIPOLYGON (((-87.36211 1... |\n\n",
            "text/latex": "A sf: 32 × 11\n\\begin{tabular}{r|lllllllllll}\n  & id & state\\_code & state\\_name & no & infonavit & conavi & fovissste & shf & insus & total & geometry\\\\\n  & <chr> & <int> & <chr> & <dbl> & <dbl> & <dbl> & <dbl> & <dbl> & <dbl> & <dbl> & <MULTIPOLYGON {[}°{]}>\\\\\n\\hline\n\t1 & NA &  9 & Ciudad de México                &  9 &  3177 &   655 & 2335 &  7682 &  40 & 13.889 & MULTIPOLYGON (((-99.09052 1...\\\\\n\t2 & NA & 12 & Guerrero                        & 12 &  1773 &  4216 & 1024 &  1576 & 329 &  8.918 & MULTIPOLYGON (((-100.5388 1...\\\\\n\t3 & NA & 15 & México                          & 15 & 26474 & 14233 & 3073 &  6686 & 252 & 50.718 & MULTIPOLYGON (((-99.85919 2...\\\\\n\t4 & NA & 17 & Morelos                         & 17 &  3318 &  1695 & 1442 &  1112 & 142 &  7.709 & MULTIPOLYGON (((-99.06199 1...\\\\\n\t5 & NA & 25 & Sinaloa                         & 25 &  8750 &  1130 & 1217 &  1775 & 316 & 13.188 & MULTIPOLYGON (((-108.4705 2...\\\\\n\t6 & NA &  2 & Baja California                 &  2 & 18201 &  1918 &  348 &  2617 & 246 & 23.330 & MULTIPOLYGON (((-115.2138 2...\\\\\n\t7 & NA & 26 & Sonora                          & 26 & 12109 &  2056 &  802 &  2822 & 420 & 18.209 & MULTIPOLYGON (((-112.5544 2...\\\\\n\t8 & NA &  3 & Baja California Sur             &  3 &  2537 &   466 &  632 &   216 &   0 &  3.851 & MULTIPOLYGON (((-109.8005 2...\\\\\n\t9 & NA & 32 & Zacatecas                       & 32 &  2391 &     1 &  546 &   419 &  85 &  3.442 & MULTIPOLYGON (((-101.6003 2...\\\\\n\t10 & NA & 10 & Durango                         & 10 &  8475 &   665 &  805 &   190 & 163 & 10.298 & MULTIPOLYGON (((-105.9318 2...\\\\\n\t11 & NA &  8 & Chihuahua                       &  8 & 18691 &   713 &  988 &  1440 &  31 & 21.863 & MULTIPOLYGON (((-106.8678 3...\\\\\n\t12 & NA &  6 & Colima                          &  6 & 21210 &   805 &  556 &   357 &  15 & 22.943 & MULTIPOLYGON (((-114.7266 1...\\\\\n\t13 & NA & 18 & Nayarit                         & 18 &  2309 &   418 &  446 &   588 &  39 &  3.800 & MULTIPOLYGON (((-106.2282 2...\\\\\n\t14 & NA & 16 & Michoacán de Ocampo             & 16 &  5402 &  1194 & 1271 &  1492 & 590 &  9.949 & MULTIPOLYGON (((-101.9465 2...\\\\\n\t15 & NA & 14 & Jalisco                         & 14 & 32680 &  1232 &  900 &  4946 & 206 & 39.964 & MULTIPOLYGON (((-103.926 22...\\\\\n\t16 & NA &  7 & Chiapas                         &  7 & 13432 & 11661 & 1704 & 13576 & 235 & 40.608 & MULTIPOLYGON (((-91.81435 1...\\\\\n\t17 & NA & 27 & Tabasco                         & 27 &  3523 &  9754 & 1034 &  1785 &  92 & 16.188 & MULTIPOLYGON (((-92.33165 1...\\\\\n\t18 & NA & 20 & Oaxaca                          & 20 &  1092 &  4212 &  913 &  1197 &  38 &  7.452 & MULTIPOLYGON (((-96.62826 1...\\\\\n\t19 & NA & 11 & Guanajuato                      & 11 & 18936 &     1 & 1019 &  2356 & 133 & 22.445 & MULTIPOLYGON (((-101.2171 2...\\\\\n\t20 & NA &  1 & Aguascalientes                  &  1 &  8491 &     0 &  639 &  1316 &   0 & 10.446 & MULTIPOLYGON (((-102.2533 2...\\\\\n\t21 & NA & 22 & Querétaro                       & 22 & 10926 &    13 &  668 &  1427 &  91 & 13.125 & MULTIPOLYGON (((-99.18847 2...\\\\\n\t22 & NA & 24 & San Luis Potosí                 & 24 &  9108 &   412 & 1041 &  2570 & 110 & 13.241 & MULTIPOLYGON (((-100.6038 2...\\\\\n\t23 & NA & 29 & Tlaxcala                        & 29 &  1979 &     1 &  662 &   349 & 110 &  3.101 & MULTIPOLYGON (((-98.04006 1...\\\\\n\t24 & NA & 21 & Puebla                          & 21 &  9041 &   910 & 1351 &  2968 & 545 & 14.815 & MULTIPOLYGON (((-97.75035 2...\\\\\n\t25 & NA & 13 & Hidalgo                         & 13 &  8639 &   212 & 2776 &  1391 &  95 & 13.113 & MULTIPOLYGON (((-98.46735 2...\\\\\n\t26 & NA & 30 & Veracruz de Ignacio de la Llave & 30 & 12691 &  7501 & 2722 &  2577 & 459 & 25.950 & MULTIPOLYGON (((-97.97033 2...\\\\\n\t27 & NA & 19 & Nuevo León                      & 19 & 44418 &     0 &  752 &  3473 &  32 & 48.675 & MULTIPOLYGON (((-99.84334 2...\\\\\n\t28 & NA &  5 & Coahuila de Zaragoza            &  5 &  3771 &     4 &  953 &   964 &  95 &  5.787 & MULTIPOLYGON (((-100.8795 2...\\\\\n\t29 & NA & 28 & Tamaulipas                      & 28 & 19824 &   804 &  958 &   580 & 297 & 22.463 & MULTIPOLYGON (((-99.49657 2...\\\\\n\t30 & NA & 31 & Yucatán                         & 31 &  7476 &   531 &  901 &  2708 &  48 & 11.664 & MULTIPOLYGON (((-87.86198 2...\\\\\n\t31 & NA &  4 & Campeche                        &  4 &  1798 &  2301 &  517 &  1241 & 224 &  6.081 & MULTIPOLYGON (((-90.38193 2...\\\\\n\t32 & NA & 23 & Quintana Roo                    & 23 & 11799 &  1211 & 1343 &  3689 &  61 & 18.103 & MULTIPOLYGON (((-87.36211 1...\\\\\n\\end{tabular}\n",
            "text/plain": [
              "   id state_code state_name                      no infonavit conavi fovissste\n",
              "1  NA  9         Ciudad de México                 9  3177       655  2335     \n",
              "2  NA 12         Guerrero                        12  1773      4216  1024     \n",
              "3  NA 15         México                          15 26474     14233  3073     \n",
              "4  NA 17         Morelos                         17  3318      1695  1442     \n",
              "5  NA 25         Sinaloa                         25  8750      1130  1217     \n",
              "6  NA  2         Baja California                  2 18201      1918   348     \n",
              "7  NA 26         Sonora                          26 12109      2056   802     \n",
              "8  NA  3         Baja California Sur              3  2537       466   632     \n",
              "9  NA 32         Zacatecas                       32  2391         1   546     \n",
              "10 NA 10         Durango                         10  8475       665   805     \n",
              "11 NA  8         Chihuahua                        8 18691       713   988     \n",
              "12 NA  6         Colima                           6 21210       805   556     \n",
              "13 NA 18         Nayarit                         18  2309       418   446     \n",
              "14 NA 16         Michoacán de Ocampo             16  5402      1194  1271     \n",
              "15 NA 14         Jalisco                         14 32680      1232   900     \n",
              "16 NA  7         Chiapas                          7 13432     11661  1704     \n",
              "17 NA 27         Tabasco                         27  3523      9754  1034     \n",
              "18 NA 20         Oaxaca                          20  1092      4212   913     \n",
              "19 NA 11         Guanajuato                      11 18936         1  1019     \n",
              "20 NA  1         Aguascalientes                   1  8491         0   639     \n",
              "21 NA 22         Querétaro                       22 10926        13   668     \n",
              "22 NA 24         San Luis Potosí                 24  9108       412  1041     \n",
              "23 NA 29         Tlaxcala                        29  1979         1   662     \n",
              "24 NA 21         Puebla                          21  9041       910  1351     \n",
              "25 NA 13         Hidalgo                         13  8639       212  2776     \n",
              "26 NA 30         Veracruz de Ignacio de la Llave 30 12691      7501  2722     \n",
              "27 NA 19         Nuevo León                      19 44418         0   752     \n",
              "28 NA  5         Coahuila de Zaragoza             5  3771         4   953     \n",
              "29 NA 28         Tamaulipas                      28 19824       804   958     \n",
              "30 NA 31         Yucatán                         31  7476       531   901     \n",
              "31 NA  4         Campeche                         4  1798      2301   517     \n",
              "32 NA 23         Quintana Roo                    23 11799      1211  1343     \n",
              "   shf   insus total  geometry                      \n",
              "1   7682  40   13.889 MULTIPOLYGON (((-99.09052 1...\n",
              "2   1576 329    8.918 MULTIPOLYGON (((-100.5388 1...\n",
              "3   6686 252   50.718 MULTIPOLYGON (((-99.85919 2...\n",
              "4   1112 142    7.709 MULTIPOLYGON (((-99.06199 1...\n",
              "5   1775 316   13.188 MULTIPOLYGON (((-108.4705 2...\n",
              "6   2617 246   23.330 MULTIPOLYGON (((-115.2138 2...\n",
              "7   2822 420   18.209 MULTIPOLYGON (((-112.5544 2...\n",
              "8    216   0    3.851 MULTIPOLYGON (((-109.8005 2...\n",
              "9    419  85    3.442 MULTIPOLYGON (((-101.6003 2...\n",
              "10   190 163   10.298 MULTIPOLYGON (((-105.9318 2...\n",
              "11  1440  31   21.863 MULTIPOLYGON (((-106.8678 3...\n",
              "12   357  15   22.943 MULTIPOLYGON (((-114.7266 1...\n",
              "13   588  39    3.800 MULTIPOLYGON (((-106.2282 2...\n",
              "14  1492 590    9.949 MULTIPOLYGON (((-101.9465 2...\n",
              "15  4946 206   39.964 MULTIPOLYGON (((-103.926 22...\n",
              "16 13576 235   40.608 MULTIPOLYGON (((-91.81435 1...\n",
              "17  1785  92   16.188 MULTIPOLYGON (((-92.33165 1...\n",
              "18  1197  38    7.452 MULTIPOLYGON (((-96.62826 1...\n",
              "19  2356 133   22.445 MULTIPOLYGON (((-101.2171 2...\n",
              "20  1316   0   10.446 MULTIPOLYGON (((-102.2533 2...\n",
              "21  1427  91   13.125 MULTIPOLYGON (((-99.18847 2...\n",
              "22  2570 110   13.241 MULTIPOLYGON (((-100.6038 2...\n",
              "23   349 110    3.101 MULTIPOLYGON (((-98.04006 1...\n",
              "24  2968 545   14.815 MULTIPOLYGON (((-97.75035 2...\n",
              "25  1391  95   13.113 MULTIPOLYGON (((-98.46735 2...\n",
              "26  2577 459   25.950 MULTIPOLYGON (((-97.97033 2...\n",
              "27  3473  32   48.675 MULTIPOLYGON (((-99.84334 2...\n",
              "28   964  95    5.787 MULTIPOLYGON (((-100.8795 2...\n",
              "29   580 297   22.463 MULTIPOLYGON (((-99.49657 2...\n",
              "30  2708  48   11.664 MULTIPOLYGON (((-87.86198 2...\n",
              "31  1241 224    6.081 MULTIPOLYGON (((-90.38193 2...\n",
              "32  3689  61   18.103 MULTIPOLYGON (((-87.36211 1..."
            ]
          },
          "metadata": {}
        }
      ]
    },
    {
      "cell_type": "code",
      "source": [
        "custom_palette <- rev(c(\"#7e5f33\",\"#a27b42\",\"#bc955c\",\"#caac80\",\"#d9c4a4\"))\n",
        "# Create bins for the continuous variable 'acciones'\n",
        "ent$acciones_cat <- cut(ent$total, breaks = 5)"
      ],
      "metadata": {
        "id": "1Rf4gBqpaHG7"
      },
      "execution_count": 48,
      "outputs": []
    },
    {
      "cell_type": "code",
      "source": [
        "ent%>%\n",
        "  ggplot() +\n",
        "  # Capa con datos de los municipios\n",
        "  geom_sf(data=ent,aes(fill = acciones_cat),\n",
        "          colour = \"#1C00ff00\", size = 0.07) +\n",
        "  # Agrega título, subtítulo y fuente\n",
        "  labs(title = \"Acciones otorgadas por los Organismos Nacionales de Vivienda, 2023\",\n",
        "       subtitle=\"(Miles de acciones al cuarto trimestre)\",\n",
        "       caption = \"\n",
        "Fuente: Reporte de acciones de vivienda de ONAVIS e INSUS.\") +\n",
        "  scale_fill_manual(\"Acciones (miles)\",values = custom_palette)+\n",
        "  guides(fill = guide_legend(reverse = TRUE)) +\n",
        "    theme_void()+\n",
        "  theme(plot.title = element_text(hjust = 0, size=30,face=\"bold\"),\n",
        "        plot.subtitle = element_text(hjust = 0, size=20, face=\"italic\"),\n",
        "        plot.caption = element_text(hjust = 0,size=15),\n",
        "        legend.position=\"right\",\n",
        "        #Fuente y tamaño\n",
        "        text=element_text(\"pop\",\n",
        "                          size=20))\n",
        "\n",
        "#Salvar mapa\n",
        "\n",
        "ggsave(\"mapa_acciones.png\",height = 10,width = 20, units=\"in\",dpi=100, bg='white')\n"
      ],
      "metadata": {
        "colab": {
          "base_uri": "https://localhost:8080/",
          "height": 437
        },
        "id": "ieJyzy5zaGVa",
        "outputId": "0ec9a4fd-6d1d-4253-cc76-b9c36d10ddce"
      },
      "execution_count": 51,
      "outputs": [
        {
          "output_type": "display_data",
          "data": {
            "text/plain": [
              "plot without title"
            ],
            "image/png": "[encoded data removed]"
          },
          "metadata": {
            "image/png": {
              "width": 420,
              "height": 420
            }
          }
        }
      ]
    }
  ]
}