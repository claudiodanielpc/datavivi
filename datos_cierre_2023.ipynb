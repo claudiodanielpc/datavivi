{
  "cells": [
    {
      "cell_type": "markdown",
      "metadata": {
        "id": "view-in-github",
        "colab_type": "text"
      },
      "source": [
        "<a href=\"https://colab.research.google.com/github/coordanalisis-sedatu/datavivi/blob/main/datos_cierre_2023.ipynb\" target=\"_parent\"><img src=\"https://colab.research.google.com/assets/colab-badge.svg\" alt=\"Open In Colab\"/></a>"
      ]
    },
    {
      "cell_type": "code",
      "execution_count": 255,
      "metadata": {
        "collapsed": true,
        "id": "initial_id",
        "colab": {
          "base_uri": "https://localhost:8080/"
        },
        "outputId": "7938a7d2-7981-4834-c7b4-8aacf7b4091a"
      },
      "outputs": [
        {
          "output_type": "stream",
          "name": "stderr",
          "text": [
            "Installing package into ‘/usr/local/lib/R/site-library’\n",
            "(as ‘lib’ is unspecified)\n",
            "\n",
            "Warning message in utils::install.packages(package, ...):\n",
            "“installation of package ‘magick’ had non-zero exit status”\n",
            "Warning message in p_install(package, character.only = TRUE, ...):\n",
            "“”\n",
            "Warning message in library(package, lib.loc = lib.loc, character.only = TRUE, logical.return = TRUE, :\n",
            "“there is no package called ‘magick’”\n",
            "Warning message in pacman::p_load(tidyverse, srvyr, googledrive, janitor, survey, :\n",
            "“Failed to install/load:\n",
            "magick”\n"
          ]
        }
      ],
      "source": [
        "    ##Borrar datos del entorno\n",
        "rm(list=ls())\n",
        "\n",
        "\n",
        "#Se utiliza pacman para instalar y cargar paquetes\n",
        "if(!require('pacman')) install.packages('pacman')\n",
        "pacman::p_load(tidyverse,srvyr,googledrive,janitor,survey,webshot2,\n",
        "               showtext,sf, httr,jsonlite,gt,ggrepel,magick,gt)\n",
        "#Fuente para los gráficos\n",
        "font_add_google(\"Montserrat\", \"pop\")\n",
        "showtext_auto()"
      ],
      "id": "initial_id"
    },
    {
      "cell_type": "markdown",
      "metadata": {
        "collapsed": false,
        "id": "cd72c0efc07aaab9"
      },
      "source": [
        "## Funciones para ahorrar código"
      ],
      "id": "cd72c0efc07aaab9"
    },
    {
      "cell_type": "code",
      "execution_count": 256,
      "metadata": {
        "id": "26b241788cac95ed"
      },
      "outputs": [],
      "source": [
        "#Función para consultar la api\n",
        "\n",
        "consulta_api<-function(url){\n",
        "  r <- GET(url, timeout(10000))\n",
        "  df <- fromJSON(rawToChar(r$content))\n",
        "  return(df)\n",
        "}"
      ],
      "id": "26b241788cac95ed"
    },
    {
      "cell_type": "code",
      "execution_count": 257,
      "metadata": {
        "id": "12b49fbd5f043515"
      },
      "outputs": [],
      "source": [
        "#Función para crear mapas\n",
        "crea_mapa <- function(df, custom_palette, titulo, geodataframe) {\n",
        "  library(tidyverse)\n",
        "  library(sf)\n",
        "\n",
        "\n",
        "  datos_planos<-df%>%\n",
        "    #Crear periodos\n",
        "    mutate(periodo=case_when(año>=2013 & año<=2018~\"2013-2018\",\n",
        "                             año>=2019 & año<=2023~\"2019-2023\"))%>%\n",
        "    group_by(periodo,estado)%>%\n",
        "    summarise(acciones=sum(acciones),monto=sum(monto))%>%\n",
        "    ungroup()%>%\n",
        "    #Crear distribución porcentual\n",
        "    group_by(periodo)%>%\n",
        "    mutate(porcentaje=round(acciones/sum(acciones)*100,2))%>%\n",
        "    ungroup()%>%\n",
        "    #Crear cortes para la distribución\n",
        "    mutate(acciones_cat=cut(porcentaje,breaks=5, dig.lab=2))%>%\n",
        "    #Formato de etiquetas\n",
        "    mutate(\n",
        "      etiquetas = if_else(\n",
        "        str_detect(acciones_cat, \"^\\\\([-]\"),\n",
        "        str_replace(as.character(acciones_cat), \"^\\\\(\\\\-\", \"(\"),\n",
        "        as.character(acciones_cat)\n",
        "      ),\n",
        "      #Guión en lugar de coma\n",
        "      etiquetas = str_replace(etiquetas, \",\", \"-\"),\n",
        "      etiquetas = str_replace(etiquetas, \"\\\\]$\", \")\")\n",
        "    )%>%\n",
        "    #Unir con geodataframe\n",
        "    left_join(geodataframe, by = c(\"estado\" = \"state_name\"))\n",
        "\n",
        "  geodata<-datos_planos%>%\n",
        "    st_as_sf()\n",
        "\n",
        "  #Crear mapa\n",
        "  ggplot() +\n",
        "    # Capa con datos de los municipios\n",
        "    geom_sf(data=geodata,aes(fill = etiquetas),\n",
        "            colour = \"#ffffff\", size = 0.07) +\n",
        "    # Agrega título, subtítulo y fuente\n",
        "    labs(title = titulo,\n",
        "         subtitle=\"(Porcentaje)\",\n",
        "         caption = \"\n",
        "Fuente: SEDATU. Sistema Nacional de Información e Indicadores de Vivienda (SNIIV).\") +\n",
        "    scale_fill_manual(\"%\",values = custom_palette)+\n",
        "    guides(fill = guide_legend(reverse = TRUE)) +\n",
        "    theme_void()+\n",
        "    theme(plot.title = element_text(hjust = 0, size=25,face=\"bold\"),\n",
        "          plot.subtitle = element_text(hjust = 0, size=20, face=\"italic\"),\n",
        "          plot.caption = element_text(hjust = 0,size=15),\n",
        "          legend.position=\"right\",\n",
        "          #Fuente y tamaño\n",
        "          text=element_text(\"pop\",\n",
        "                            size=20))+\n",
        "    facet_wrap(~periodo)\n",
        "\n",
        "}\n"
      ],
      "id": "12b49fbd5f043515"
    },
    {
      "cell_type": "code",
      "execution_count": 258,
      "metadata": {
        "id": "ec1969cc9efdc62c"
      },
      "outputs": [],
      "source": [
        "\n",
        "#Función para crear tabla\n",
        "crea_tabla <- function(df, titulo, subtitulo,nota=\"\",nombre_archivo){\n",
        "\n",
        "  # Format the numeric columns with commas\n",
        "  formatted_df <- df %>%\n",
        "    mutate(across(where(is.numeric), ~scales::comma(.)))\n",
        "\n",
        "  # Checa si existe la columna \"Organismo\" para agrupar la tabla\n",
        "  if(\"Organismo\" %in% names(df)) {\n",
        "    gt_table <- formatted_df %>%\n",
        "      gt(rowname_col = \"Organismo\",\n",
        "         groupname_col = \"Año\",\n",
        "         row_group_as_column = TRUE)\n",
        "  } else {\n",
        "    gt_table <- formatted_df %>%\n",
        "      gt()\n",
        "  }\n",
        "\n",
        "  gt_table <- gt_table %>%\n",
        "    tab_options(\n",
        "      column_labels.font.weight = \"bold\",\n",
        "    ) %>%\n",
        "    tab_header(\n",
        "      title = md(paste0(\"**\", titulo, \"**\")),\n",
        "      subtitle=md(paste0(\"*\", subtitulo, \"*\"))\n",
        "    ) %>%\n",
        "    tab_options(\n",
        "      table.font.names = 'Poppins',\n",
        "      source_notes.font.size = 8,\n",
        "      table.border.top.width = px(0),\n",
        "      table.border.bottom.width = px(0),\n",
        "      column_labels.background.color = \"#235b4eff\",\n",
        "      column_labels.font.size = 10,\n",
        "    ) %>%\n",
        "    cols_align(\n",
        "      align = \"center\"\n",
        "    ) %>%\n",
        "    tab_source_note(\n",
        "      source_note = md(\"Nota: Cifras preliminares.\")\n",
        "    ) %>%\n",
        "    tab_source_note(\n",
        "      source_note = md(nota)\n",
        "    ) %>%\n",
        "    tab_source_note(\n",
        "      source_note = md(\"Fuente: SEDATU. Sistema Nacional de Información e Indicadores de Vivienda (SNIIV).\")\n",
        "    )%>%\n",
        "    cols_width(\n",
        "      everything() ~ px(80)\n",
        "    )\n",
        "\n",
        "  # Salva la tabla\n",
        "  gtsave(gt_table, filename = nombre_archivo)\n",
        "\n",
        "  # Muestra la imagen\n",
        "  img <- image_read(nombre_archivo)\n",
        "  return(img)\n",
        "}\n"
      ],
      "id": "ec1969cc9efdc62c"
    },
    {
      "cell_type": "code",
      "execution_count": 259,
      "metadata": {
        "id": "8a298c1157374638"
      },
      "outputs": [],
      "source": [
        "\n",
        "#Función para agrupar datos de manera anual\n",
        "agrupa_dato_anual <- function(df, columna_tipo_dato) {\n",
        "  library(dplyr)\n",
        "  #Condición de agrupación\n",
        "  if(\"organismo\" %in% names(df)) {\n",
        "    grouped_df <- df %>%\n",
        "      group_by(año, organismo)\n",
        "  } else {\n",
        "    grouped_df <- df %>%\n",
        "      group_by(año)\n",
        "  }\n",
        "\n",
        "  result_df <- grouped_df %>%\n",
        "    summarise(\n",
        "      monto = round(sum(monto) / 1000000, 1),\n",
        "      acciones = sum(acciones),\n",
        "      .groups = 'drop'\n",
        "    ) %>%\n",
        "    mutate(año = as.character(año)) %>%\n",
        "    rename(\n",
        "      \"Año\" = año,\n",
        "      \"Monto (millones de pesos)\" = monto,\n",
        "      !!columna_tipo_dato := acciones\n",
        "    )\n",
        "\n",
        "\n",
        "  #Renombrar organismo\n",
        "  if(\"organismo\" %in% names(df)) {\n",
        "    result_df <- result_df %>%\n",
        "      rename(\"Organismo\" = organismo)\n",
        "  }\n",
        "\n",
        "  return(result_df)\n",
        "}\n",
        "\n"
      ],
      "id": "8a298c1157374638"
    },
    {
      "cell_type": "code",
      "execution_count": 260,
      "metadata": {
        "id": "b630272debd95884"
      },
      "outputs": [],
      "source": [
        "#Función para actualizar los precios\n",
        "\n",
        "actualiza_precios<-function(df,tabla_inpc){\n",
        "\n",
        "  df<-df%>%\n",
        "    #Pegar con tabla de inpc\n",
        "    left_join(tabla_inpc, by = c(\"año\" = \"año\"))%>%\n",
        "    #Calcular precios actualizados\n",
        "    #Utilizar columna Monto (millones de pesos) y multiplicar por el inpc correspondiente\n",
        "    mutate(monto_actualizado=round(monto*inpc23/100,2))\n",
        "\n",
        "  return(df)\n",
        "\n",
        "}"
      ],
      "id": "b630272debd95884"
    },
    {
      "cell_type": "code",
      "execution_count": 261,
      "metadata": {
        "id": "8abc1748314638d8"
      },
      "outputs": [],
      "source": [
        "paleta<-rev(c(\"#691c32ff\", \"#901d3dff\",\"#ac2540ff\",\"#c88f80ff\",\"#e3c8a6ff\"))"
      ],
      "id": "8abc1748314638d8"
    },
    {
      "cell_type": "markdown",
      "metadata": {
        "collapsed": false,
        "id": "8783d08e5ffc54c3"
      },
      "source": [
        "## Cartografía para generar los mapas"
      ],
      "id": "8783d08e5ffc54c3"
    },
    {
      "cell_type": "code",
      "execution_count": 262,
      "metadata": {
        "id": "a7d849da53ef0ce4",
        "outputId": "eb3f2f8a-2a14-4893-97da-adc93037415b",
        "colab": {
          "base_uri": "https://localhost:8080/",
          "height": 1000
        }
      },
      "outputs": [
        {
          "output_type": "stream",
          "name": "stdout",
          "text": [
            "Reading layer `states' from data source \n",
            "  `https://raw.githubusercontent.com/strotgen/mexico-leaflet/master/states.geojson' \n",
            "  using driver `GeoJSON'\n",
            "Simple feature collection with 32 features and 3 fields\n",
            "Geometry type: MULTIPOLYGON\n",
            "Dimension:     XY\n",
            "Bounding box:  xmin: -118.4 ymin: 14.5321 xmax: -86.72404 ymax: 32.71865\n",
            "Geodetic CRS:  WGS 84\n"
          ]
        },
        {
          "output_type": "stream",
          "name": "stderr",
          "text": [
            "ERROR while rich displaying an object: Error in loadNamespace(x): there is no package called ‘geojsonio’\n",
            "\n",
            "Traceback:\n",
            "1. tryCatch(withCallingHandlers({\n",
            " .     if (!mime %in% names(repr::mime2repr)) \n",
            " .         stop(\"No repr_* for mimetype \", mime, \" in repr::mime2repr\")\n",
            " .     rpr <- repr::mime2repr[[mime]](obj)\n",
            " .     if (is.null(rpr)) \n",
            " .         return(NULL)\n",
            " .     prepare_content(is.raw(rpr), rpr)\n",
            " . }, error = error_handler), error = outer_handler)\n",
            "2. tryCatchList(expr, classes, parentenv, handlers)\n",
            "3. tryCatchOne(expr, names, parentenv, handlers[[1L]])\n",
            "4. doTryCatch(return(expr), name, parentenv, handler)\n",
            "5. withCallingHandlers({\n",
            " .     if (!mime %in% names(repr::mime2repr)) \n",
            " .         stop(\"No repr_* for mimetype \", mime, \" in repr::mime2repr\")\n",
            " .     rpr <- repr::mime2repr[[mime]](obj)\n",
            " .     if (is.null(rpr)) \n",
            " .         return(NULL)\n",
            " .     prepare_content(is.raw(rpr), rpr)\n",
            " . }, error = error_handler)\n",
            "6. repr::mime2repr[[mime]](obj)\n",
            "7. repr_geojson.sf(obj)\n",
            "8. repr_geojson(geojsonio::geojson_list(obj), ...)\n",
            "9. loadNamespace(x)\n",
            "10. withRestarts(stop(cond), retry_loadNamespace = function() NULL)\n",
            "11. withOneRestart(expr, restarts[[1L]])\n",
            "12. doWithOneRestart(return(expr), restart)\n"
          ]
        },
        {
          "output_type": "display_data",
          "data": {
            "text/html": [
              "<table class=\"dataframe\">\n",
              "<caption>A sf: 32 × 4</caption>\n",
              "<thead>\n",
              "\t<tr><th></th><th scope=col>id</th><th scope=col>state_code</th><th scope=col>state_name</th><th scope=col>geometry</th></tr>\n",
              "\t<tr><th></th><th scope=col>&lt;chr&gt;</th><th scope=col>&lt;int&gt;</th><th scope=col>&lt;chr&gt;</th><th scope=col>&lt;MULTIPOLYGON [°]&gt;</th></tr>\n",
              "</thead>\n",
              "<tbody>\n",
              "\t<tr><th scope=row>1</th><td>NA</td><td> 9</td><td>Ciudad de México               </td><td>MULTIPOLYGON (((-99.09052 1...</td></tr>\n",
              "\t<tr><th scope=row>2</th><td>NA</td><td>12</td><td>Guerrero                       </td><td>MULTIPOLYGON (((-100.5388 1...</td></tr>\n",
              "\t<tr><th scope=row>3</th><td>NA</td><td>15</td><td>México                         </td><td>MULTIPOLYGON (((-99.85919 2...</td></tr>\n",
              "\t<tr><th scope=row>4</th><td>NA</td><td>17</td><td>Morelos                        </td><td>MULTIPOLYGON (((-99.06199 1...</td></tr>\n",
              "\t<tr><th scope=row>5</th><td>NA</td><td>25</td><td>Sinaloa                        </td><td>MULTIPOLYGON (((-108.4705 2...</td></tr>\n",
              "\t<tr><th scope=row>6</th><td>NA</td><td> 2</td><td>Baja California                </td><td>MULTIPOLYGON (((-115.2138 2...</td></tr>\n",
              "\t<tr><th scope=row>7</th><td>NA</td><td>26</td><td>Sonora                         </td><td>MULTIPOLYGON (((-112.5544 2...</td></tr>\n",
              "\t<tr><th scope=row>8</th><td>NA</td><td> 3</td><td>Baja California Sur            </td><td>MULTIPOLYGON (((-109.8005 2...</td></tr>\n",
              "\t<tr><th scope=row>9</th><td>NA</td><td>32</td><td>Zacatecas                      </td><td>MULTIPOLYGON (((-101.6003 2...</td></tr>\n",
              "\t<tr><th scope=row>10</th><td>NA</td><td>10</td><td>Durango                        </td><td>MULTIPOLYGON (((-105.9318 2...</td></tr>\n",
              "\t<tr><th scope=row>11</th><td>NA</td><td> 8</td><td>Chihuahua                      </td><td>MULTIPOLYGON (((-106.8678 3...</td></tr>\n",
              "\t<tr><th scope=row>12</th><td>NA</td><td> 6</td><td>Colima                         </td><td>MULTIPOLYGON (((-114.7266 1...</td></tr>\n",
              "\t<tr><th scope=row>13</th><td>NA</td><td>18</td><td>Nayarit                        </td><td>MULTIPOLYGON (((-106.2282 2...</td></tr>\n",
              "\t<tr><th scope=row>14</th><td>NA</td><td>16</td><td>Michoacán de Ocampo            </td><td>MULTIPOLYGON (((-101.9465 2...</td></tr>\n",
              "\t<tr><th scope=row>15</th><td>NA</td><td>14</td><td>Jalisco                        </td><td>MULTIPOLYGON (((-103.926 22...</td></tr>\n",
              "\t<tr><th scope=row>16</th><td>NA</td><td> 7</td><td>Chiapas                        </td><td>MULTIPOLYGON (((-91.81435 1...</td></tr>\n",
              "\t<tr><th scope=row>17</th><td>NA</td><td>27</td><td>Tabasco                        </td><td>MULTIPOLYGON (((-92.33165 1...</td></tr>\n",
              "\t<tr><th scope=row>18</th><td>NA</td><td>20</td><td>Oaxaca                         </td><td>MULTIPOLYGON (((-96.62826 1...</td></tr>\n",
              "\t<tr><th scope=row>19</th><td>NA</td><td>11</td><td>Guanajuato                     </td><td>MULTIPOLYGON (((-101.2171 2...</td></tr>\n",
              "\t<tr><th scope=row>20</th><td>NA</td><td> 1</td><td>Aguascalientes                 </td><td>MULTIPOLYGON (((-102.2533 2...</td></tr>\n",
              "\t<tr><th scope=row>21</th><td>NA</td><td>22</td><td>Querétaro                      </td><td>MULTIPOLYGON (((-99.18847 2...</td></tr>\n",
              "\t<tr><th scope=row>22</th><td>NA</td><td>24</td><td>San Luis Potosí                </td><td>MULTIPOLYGON (((-100.6038 2...</td></tr>\n",
              "\t<tr><th scope=row>23</th><td>NA</td><td>29</td><td>Tlaxcala                       </td><td>MULTIPOLYGON (((-98.04006 1...</td></tr>\n",
              "\t<tr><th scope=row>24</th><td>NA</td><td>21</td><td>Puebla                         </td><td>MULTIPOLYGON (((-97.75035 2...</td></tr>\n",
              "\t<tr><th scope=row>25</th><td>NA</td><td>13</td><td>Hidalgo                        </td><td>MULTIPOLYGON (((-98.46735 2...</td></tr>\n",
              "\t<tr><th scope=row>26</th><td>NA</td><td>30</td><td>Veracruz de Ignacio de la Llave</td><td>MULTIPOLYGON (((-97.97033 2...</td></tr>\n",
              "\t<tr><th scope=row>27</th><td>NA</td><td>19</td><td>Nuevo León                     </td><td>MULTIPOLYGON (((-99.84334 2...</td></tr>\n",
              "\t<tr><th scope=row>28</th><td>NA</td><td> 5</td><td>Coahuila de Zaragoza           </td><td>MULTIPOLYGON (((-100.8795 2...</td></tr>\n",
              "\t<tr><th scope=row>29</th><td>NA</td><td>28</td><td>Tamaulipas                     </td><td>MULTIPOLYGON (((-99.49657 2...</td></tr>\n",
              "\t<tr><th scope=row>30</th><td>NA</td><td>31</td><td>Yucatán                        </td><td>MULTIPOLYGON (((-87.86198 2...</td></tr>\n",
              "\t<tr><th scope=row>31</th><td>NA</td><td> 4</td><td>Campeche                       </td><td>MULTIPOLYGON (((-90.38193 2...</td></tr>\n",
              "\t<tr><th scope=row>32</th><td>NA</td><td>23</td><td>Quintana Roo                   </td><td>MULTIPOLYGON (((-87.36211 1...</td></tr>\n",
              "</tbody>\n",
              "</table>\n"
            ],
            "text/markdown": "\nA sf: 32 × 4\n\n| <!--/--> | id &lt;chr&gt; | state_code &lt;int&gt; | state_name &lt;chr&gt; | geometry &lt;MULTIPOLYGON [°]&gt; |\n|---|---|---|---|---|\n| 1 | NA |  9 | Ciudad de México                | MULTIPOLYGON (((-99.09052 1... |\n| 2 | NA | 12 | Guerrero                        | MULTIPOLYGON (((-100.5388 1... |\n| 3 | NA | 15 | México                          | MULTIPOLYGON (((-99.85919 2... |\n| 4 | NA | 17 | Morelos                         | MULTIPOLYGON (((-99.06199 1... |\n| 5 | NA | 25 | Sinaloa                         | MULTIPOLYGON (((-108.4705 2... |\n| 6 | NA |  2 | Baja California                 | MULTIPOLYGON (((-115.2138 2... |\n| 7 | NA | 26 | Sonora                          | MULTIPOLYGON (((-112.5544 2... |\n| 8 | NA |  3 | Baja California Sur             | MULTIPOLYGON (((-109.8005 2... |\n| 9 | NA | 32 | Zacatecas                       | MULTIPOLYGON (((-101.6003 2... |\n| 10 | NA | 10 | Durango                         | MULTIPOLYGON (((-105.9318 2... |\n| 11 | NA |  8 | Chihuahua                       | MULTIPOLYGON (((-106.8678 3... |\n| 12 | NA |  6 | Colima                          | MULTIPOLYGON (((-114.7266 1... |\n| 13 | NA | 18 | Nayarit                         | MULTIPOLYGON (((-106.2282 2... |\n| 14 | NA | 16 | Michoacán de Ocampo             | MULTIPOLYGON (((-101.9465 2... |\n| 15 | NA | 14 | Jalisco                         | MULTIPOLYGON (((-103.926 22... |\n| 16 | NA |  7 | Chiapas                         | MULTIPOLYGON (((-91.81435 1... |\n| 17 | NA | 27 | Tabasco                         | MULTIPOLYGON (((-92.33165 1... |\n| 18 | NA | 20 | Oaxaca                          | MULTIPOLYGON (((-96.62826 1... |\n| 19 | NA | 11 | Guanajuato                      | MULTIPOLYGON (((-101.2171 2... |\n| 20 | NA |  1 | Aguascalientes                  | MULTIPOLYGON (((-102.2533 2... |\n| 21 | NA | 22 | Querétaro                       | MULTIPOLYGON (((-99.18847 2... |\n| 22 | NA | 24 | San Luis Potosí                 | MULTIPOLYGON (((-100.6038 2... |\n| 23 | NA | 29 | Tlaxcala                        | MULTIPOLYGON (((-98.04006 1... |\n| 24 | NA | 21 | Puebla                          | MULTIPOLYGON (((-97.75035 2... |\n| 25 | NA | 13 | Hidalgo                         | MULTIPOLYGON (((-98.46735 2... |\n| 26 | NA | 30 | Veracruz de Ignacio de la Llave | MULTIPOLYGON (((-97.97033 2... |\n| 27 | NA | 19 | Nuevo León                      | MULTIPOLYGON (((-99.84334 2... |\n| 28 | NA |  5 | Coahuila de Zaragoza            | MULTIPOLYGON (((-100.8795 2... |\n| 29 | NA | 28 | Tamaulipas                      | MULTIPOLYGON (((-99.49657 2... |\n| 30 | NA | 31 | Yucatán                         | MULTIPOLYGON (((-87.86198 2... |\n| 31 | NA |  4 | Campeche                        | MULTIPOLYGON (((-90.38193 2... |\n| 32 | NA | 23 | Quintana Roo                    | MULTIPOLYGON (((-87.36211 1... |\n\n",
            "text/latex": "A sf: 32 × 4\n\\begin{tabular}{r|llll}\n  & id & state\\_code & state\\_name & geometry\\\\\n  & <chr> & <int> & <chr> & <MULTIPOLYGON {[}°{]}>\\\\\n\\hline\n\t1 & NA &  9 & Ciudad de México                & MULTIPOLYGON (((-99.09052 1...\\\\\n\t2 & NA & 12 & Guerrero                        & MULTIPOLYGON (((-100.5388 1...\\\\\n\t3 & NA & 15 & México                          & MULTIPOLYGON (((-99.85919 2...\\\\\n\t4 & NA & 17 & Morelos                         & MULTIPOLYGON (((-99.06199 1...\\\\\n\t5 & NA & 25 & Sinaloa                         & MULTIPOLYGON (((-108.4705 2...\\\\\n\t6 & NA &  2 & Baja California                 & MULTIPOLYGON (((-115.2138 2...\\\\\n\t7 & NA & 26 & Sonora                          & MULTIPOLYGON (((-112.5544 2...\\\\\n\t8 & NA &  3 & Baja California Sur             & MULTIPOLYGON (((-109.8005 2...\\\\\n\t9 & NA & 32 & Zacatecas                       & MULTIPOLYGON (((-101.6003 2...\\\\\n\t10 & NA & 10 & Durango                         & MULTIPOLYGON (((-105.9318 2...\\\\\n\t11 & NA &  8 & Chihuahua                       & MULTIPOLYGON (((-106.8678 3...\\\\\n\t12 & NA &  6 & Colima                          & MULTIPOLYGON (((-114.7266 1...\\\\\n\t13 & NA & 18 & Nayarit                         & MULTIPOLYGON (((-106.2282 2...\\\\\n\t14 & NA & 16 & Michoacán de Ocampo             & MULTIPOLYGON (((-101.9465 2...\\\\\n\t15 & NA & 14 & Jalisco                         & MULTIPOLYGON (((-103.926 22...\\\\\n\t16 & NA &  7 & Chiapas                         & MULTIPOLYGON (((-91.81435 1...\\\\\n\t17 & NA & 27 & Tabasco                         & MULTIPOLYGON (((-92.33165 1...\\\\\n\t18 & NA & 20 & Oaxaca                          & MULTIPOLYGON (((-96.62826 1...\\\\\n\t19 & NA & 11 & Guanajuato                      & MULTIPOLYGON (((-101.2171 2...\\\\\n\t20 & NA &  1 & Aguascalientes                  & MULTIPOLYGON (((-102.2533 2...\\\\\n\t21 & NA & 22 & Querétaro                       & MULTIPOLYGON (((-99.18847 2...\\\\\n\t22 & NA & 24 & San Luis Potosí                 & MULTIPOLYGON (((-100.6038 2...\\\\\n\t23 & NA & 29 & Tlaxcala                        & MULTIPOLYGON (((-98.04006 1...\\\\\n\t24 & NA & 21 & Puebla                          & MULTIPOLYGON (((-97.75035 2...\\\\\n\t25 & NA & 13 & Hidalgo                         & MULTIPOLYGON (((-98.46735 2...\\\\\n\t26 & NA & 30 & Veracruz de Ignacio de la Llave & MULTIPOLYGON (((-97.97033 2...\\\\\n\t27 & NA & 19 & Nuevo León                      & MULTIPOLYGON (((-99.84334 2...\\\\\n\t28 & NA &  5 & Coahuila de Zaragoza            & MULTIPOLYGON (((-100.8795 2...\\\\\n\t29 & NA & 28 & Tamaulipas                      & MULTIPOLYGON (((-99.49657 2...\\\\\n\t30 & NA & 31 & Yucatán                         & MULTIPOLYGON (((-87.86198 2...\\\\\n\t31 & NA &  4 & Campeche                        & MULTIPOLYGON (((-90.38193 2...\\\\\n\t32 & NA & 23 & Quintana Roo                    & MULTIPOLYGON (((-87.36211 1...\\\\\n\\end{tabular}\n",
            "text/plain": [
              "   id state_code state_name                      geometry                      \n",
              "1  NA  9         Ciudad de México                MULTIPOLYGON (((-99.09052 1...\n",
              "2  NA 12         Guerrero                        MULTIPOLYGON (((-100.5388 1...\n",
              "3  NA 15         México                          MULTIPOLYGON (((-99.85919 2...\n",
              "4  NA 17         Morelos                         MULTIPOLYGON (((-99.06199 1...\n",
              "5  NA 25         Sinaloa                         MULTIPOLYGON (((-108.4705 2...\n",
              "6  NA  2         Baja California                 MULTIPOLYGON (((-115.2138 2...\n",
              "7  NA 26         Sonora                          MULTIPOLYGON (((-112.5544 2...\n",
              "8  NA  3         Baja California Sur             MULTIPOLYGON (((-109.8005 2...\n",
              "9  NA 32         Zacatecas                       MULTIPOLYGON (((-101.6003 2...\n",
              "10 NA 10         Durango                         MULTIPOLYGON (((-105.9318 2...\n",
              "11 NA  8         Chihuahua                       MULTIPOLYGON (((-106.8678 3...\n",
              "12 NA  6         Colima                          MULTIPOLYGON (((-114.7266 1...\n",
              "13 NA 18         Nayarit                         MULTIPOLYGON (((-106.2282 2...\n",
              "14 NA 16         Michoacán de Ocampo             MULTIPOLYGON (((-101.9465 2...\n",
              "15 NA 14         Jalisco                         MULTIPOLYGON (((-103.926 22...\n",
              "16 NA  7         Chiapas                         MULTIPOLYGON (((-91.81435 1...\n",
              "17 NA 27         Tabasco                         MULTIPOLYGON (((-92.33165 1...\n",
              "18 NA 20         Oaxaca                          MULTIPOLYGON (((-96.62826 1...\n",
              "19 NA 11         Guanajuato                      MULTIPOLYGON (((-101.2171 2...\n",
              "20 NA  1         Aguascalientes                  MULTIPOLYGON (((-102.2533 2...\n",
              "21 NA 22         Querétaro                       MULTIPOLYGON (((-99.18847 2...\n",
              "22 NA 24         San Luis Potosí                 MULTIPOLYGON (((-100.6038 2...\n",
              "23 NA 29         Tlaxcala                        MULTIPOLYGON (((-98.04006 1...\n",
              "24 NA 21         Puebla                          MULTIPOLYGON (((-97.75035 2...\n",
              "25 NA 13         Hidalgo                         MULTIPOLYGON (((-98.46735 2...\n",
              "26 NA 30         Veracruz de Ignacio de la Llave MULTIPOLYGON (((-97.97033 2...\n",
              "27 NA 19         Nuevo León                      MULTIPOLYGON (((-99.84334 2...\n",
              "28 NA  5         Coahuila de Zaragoza            MULTIPOLYGON (((-100.8795 2...\n",
              "29 NA 28         Tamaulipas                      MULTIPOLYGON (((-99.49657 2...\n",
              "30 NA 31         Yucatán                         MULTIPOLYGON (((-87.86198 2...\n",
              "31 NA  4         Campeche                        MULTIPOLYGON (((-90.38193 2...\n",
              "32 NA 23         Quintana Roo                    MULTIPOLYGON (((-87.36211 1..."
            ]
          },
          "metadata": {}
        }
      ],
      "source": [
        "estados<-st_read(\"https://raw.githubusercontent.com/strotgen/mexico-leaflet/master/states.geojson\")%>%\n",
        "  #Renombrar Distrito Federal como Ciudad de México\n",
        "mutate(state_name=case_when(state_name==\"Distrito Federal\" ~ \"Ciudad de México\",\n",
        "TRUE ~ state_name))\n",
        "estados"
      ],
      "id": "a7d849da53ef0ce4"
    },
    {
      "cell_type": "markdown",
      "metadata": {
        "collapsed": false,
        "id": "36640a6fdee7cce5"
      },
      "source": [
        "### Índice Nacional de Precios al Consumidor"
      ],
      "id": "36640a6fdee7cce5"
    },
    {
      "cell_type": "code",
      "execution_count": 263,
      "metadata": {
        "id": "44fa2cc009f8974e"
      },
      "outputs": [],
      "source": [
        "url_inegi<-\"https://www.inegi.org.mx/app/api/indicadores/desarrolladores/jsonxml/INDICATOR/628194/es/0700/false/BIE/2.0/ef8c858c-1f87-6408-5630-fb5496f609bf/?type=json\""
      ],
      "id": "44fa2cc009f8974e"
    },
    {
      "cell_type": "code",
      "execution_count": 264,
      "metadata": {
        "id": "e3c9432e5618ce1f",
        "outputId": "7bd7a200-f145-4aa7-bcec-d6a8ed68e4a3",
        "colab": {
          "base_uri": "https://localhost:8080/",
          "height": 443
        }
      },
      "outputs": [
        {
          "output_type": "display_data",
          "data": {
            "text/html": [
              "<table class=\"dataframe\">\n",
              "<caption>A data.frame: 11 × 4</caption>\n",
              "<thead>\n",
              "\t<tr><th scope=col>año</th><th scope=col>mes</th><th scope=col>obs_value</th><th scope=col>inpc23</th></tr>\n",
              "\t<tr><th scope=col>&lt;int&gt;</th><th scope=col>&lt;chr&gt;</th><th scope=col>&lt;dbl&gt;</th><th scope=col>&lt;dbl&gt;</th></tr>\n",
              "</thead>\n",
              "<tbody>\n",
              "\t<tr><td>2013</td><td>12</td><td> 83.77006</td><td> 63.28334</td></tr>\n",
              "\t<tr><td>2014</td><td>12</td><td> 87.18898</td><td> 65.86614</td></tr>\n",
              "\t<tr><td>2015</td><td>12</td><td> 89.04682</td><td> 67.26962</td></tr>\n",
              "\t<tr><td>2016</td><td>12</td><td> 92.03903</td><td> 69.53007</td></tr>\n",
              "\t<tr><td>2017</td><td>12</td><td> 98.27288</td><td> 74.23937</td></tr>\n",
              "\t<tr><td>2018</td><td>12</td><td>103.02000</td><td> 77.82554</td></tr>\n",
              "\t<tr><td>2019</td><td>12</td><td>105.93400</td><td> 80.02689</td></tr>\n",
              "\t<tr><td>2020</td><td>12</td><td>109.27100</td><td> 82.54780</td></tr>\n",
              "\t<tr><td>2021</td><td>12</td><td>117.30800</td><td> 88.61928</td></tr>\n",
              "\t<tr><td>2022</td><td>12</td><td>126.47800</td><td> 95.54667</td></tr>\n",
              "\t<tr><td>2023</td><td>12</td><td>132.37300</td><td>100.00000</td></tr>\n",
              "</tbody>\n",
              "</table>\n"
            ],
            "text/markdown": "\nA data.frame: 11 × 4\n\n| año &lt;int&gt; | mes &lt;chr&gt; | obs_value &lt;dbl&gt; | inpc23 &lt;dbl&gt; |\n|---|---|---|---|\n| 2013 | 12 |  83.77006 |  63.28334 |\n| 2014 | 12 |  87.18898 |  65.86614 |\n| 2015 | 12 |  89.04682 |  67.26962 |\n| 2016 | 12 |  92.03903 |  69.53007 |\n| 2017 | 12 |  98.27288 |  74.23937 |\n| 2018 | 12 | 103.02000 |  77.82554 |\n| 2019 | 12 | 105.93400 |  80.02689 |\n| 2020 | 12 | 109.27100 |  82.54780 |\n| 2021 | 12 | 117.30800 |  88.61928 |\n| 2022 | 12 | 126.47800 |  95.54667 |\n| 2023 | 12 | 132.37300 | 100.00000 |\n\n",
            "text/latex": "A data.frame: 11 × 4\n\\begin{tabular}{llll}\n año & mes & obs\\_value & inpc23\\\\\n <int> & <chr> & <dbl> & <dbl>\\\\\n\\hline\n\t 2013 & 12 &  83.77006 &  63.28334\\\\\n\t 2014 & 12 &  87.18898 &  65.86614\\\\\n\t 2015 & 12 &  89.04682 &  67.26962\\\\\n\t 2016 & 12 &  92.03903 &  69.53007\\\\\n\t 2017 & 12 &  98.27288 &  74.23937\\\\\n\t 2018 & 12 & 103.02000 &  77.82554\\\\\n\t 2019 & 12 & 105.93400 &  80.02689\\\\\n\t 2020 & 12 & 109.27100 &  82.54780\\\\\n\t 2021 & 12 & 117.30800 &  88.61928\\\\\n\t 2022 & 12 & 126.47800 &  95.54667\\\\\n\t 2023 & 12 & 132.37300 & 100.00000\\\\\n\\end{tabular}\n",
            "text/plain": [
              "   año  mes obs_value inpc23   \n",
              "1  2013 12   83.77006  63.28334\n",
              "2  2014 12   87.18898  65.86614\n",
              "3  2015 12   89.04682  67.26962\n",
              "4  2016 12   92.03903  69.53007\n",
              "5  2017 12   98.27288  74.23937\n",
              "6  2018 12  103.02000  77.82554\n",
              "7  2019 12  105.93400  80.02689\n",
              "8  2020 12  109.27100  82.54780\n",
              "9  2021 12  117.30800  88.61928\n",
              "10 2022 12  126.47800  95.54667\n",
              "11 2023 12  132.37300 100.00000"
            ]
          },
          "metadata": {}
        }
      ],
      "source": [
        "inpc<-consulta_api(url_inegi)%>%\n",
        "pluck(\"Series\")%>%\n",
        "pluck(\"OBSERVATIONS\")%>%\n",
        "as.data.frame()%>%\n",
        "janitor::clean_names()%>%\n",
        "#Filtrar fecha\n",
        "filter(time_period >= \"2013/01\" & time_period <= \"2023/12\")%>%\n",
        "mutate(obs_value=as.numeric(obs_value))%>%\n",
        "#Extrar mes y año de la variable time_period\n",
        "separate(time_period, into = c(\"año\", \"mes\"), sep = \"/\")%>%\n",
        "#Dejar solo los datos de diciembre\n",
        "filter(mes==\"12\")%>%\n",
        "arrange(año)%>%\n",
        "select(año,mes,obs_value)%>%\n",
        "mutate(\n",
        "#Cambiar base a 2023\n",
        "inpc23=obs_value/obs_value[11]*100)%>%\n",
        "  mutate(año=as.integer(año))\n",
        "inpc"
      ],
      "id": "e3c9432e5618ce1f"
    },
    {
      "cell_type": "code",
      "source": [
        "#leer datos de la solicitud\n",
        "\n",
        "data<-read.csv(\"https://raw.githubusercontent.com/coordanalisis-sedatu/datavivi/main/solicitud.csv\")%>%\n",
        "  #Construir clavegeostadística\n",
        "  ##Agregar cero a entidad\n",
        "  mutate(cve_ent=ifelse(nchar(cve_ent)==1,\n",
        "                        paste0(\"0\",cve_ent),\n",
        "                    cve_ent))%>%\n",
        "  ##Agregar ceros a municipio\n",
        "  mutate(cve_mun=ifelse(nchar(cve_mun)==1,\n",
        "                        paste0(\"00\",cve_mun),\n",
        "                        ifelse(nchar(cve_mun)==2,\n",
        "                               paste0(\"0\",cve_mun),\n",
        "                               cve_mun)))%>%\n",
        "  ##Crear clave geoestadística\n",
        "  mutate(cvegeo=paste0(cve_ent,cve_mun))%>%\n",
        "      mutate(estado = case_when(\n",
        "    cve_ent == \"01\" ~ \"Aguascalientes\",\n",
        "    cve_ent == \"02\" ~ \"Baja California\",\n",
        "    cve_ent == \"03\" ~ \"Baja California Sur\",\n",
        "    cve_ent == \"04\" ~ \"Campeche\",\n",
        "    cve_ent == \"05\" ~ \"Coahuila de Zaragoza\",\n",
        "    cve_ent == \"06\" ~ \"Colima\",\n",
        "    cve_ent == \"07\" ~ \"Chiapas\",\n",
        "    cve_ent == \"08\" ~ \"Chihuahua\",\n",
        "    cve_ent == \"09\" ~ \"Ciudad de México\",\n",
        "    cve_ent == \"10\" ~ \"Durango\",\n",
        "    cve_ent == \"11\" ~ \"Guanajuato\",\n",
        "    cve_ent == \"12\" ~ \"Guerrero\",\n",
        "    cve_ent == \"13\" ~ \"Hidalgo\",\n",
        "    cve_ent == \"14\" ~ \"Jalisco\",\n",
        "    cve_ent == \"15\" ~ \"México\",\n",
        "    cve_ent == \"16\" ~ \"Michoacán de Ocampo\",\n",
        "    cve_ent == \"17\" ~ \"Morelos\",\n",
        "    cve_ent == \"18\" ~ \"Nayarit\",\n",
        "    cve_ent == \"19\" ~ \"Nuevo León\",\n",
        "    cve_ent == \"20\" ~ \"Oaxaca\",\n",
        "    cve_ent == \"21\" ~ \"Puebla\",\n",
        "    cve_ent == \"22\" ~ \"Querétaro\",\n",
        "    cve_ent == \"23\" ~ \"Quintana Roo\",\n",
        "    cve_ent == \"24\" ~ \"San Luis Potosí\",\n",
        "    cve_ent == \"25\" ~ \"Sinaloa\",\n",
        "    cve_ent == \"26\" ~ \"Sonora\",\n",
        "    cve_ent == \"27\" ~ \"Tabasco\",\n",
        "    cve_ent == \"28\" ~ \"Tamaulipas\",\n",
        "    cve_ent == \"29\" ~ \"Tlaxcala\",\n",
        "    cve_ent == \"30\" ~ \"Veracruz de Ignacio de la Llave\",\n",
        "    cve_ent == \"31\" ~ \"Yucatán\",\n",
        "    cve_ent == \"32\" ~ \"Zacatecas\",\n",
        "    TRUE ~ NA_character_\n",
        "  ))\n",
        "data"
      ],
      "metadata": {
        "colab": {
          "base_uri": "https://localhost:8080/",
          "height": 1000
        },
        "id": "q17BsaEBPpaJ",
        "outputId": "9a527335-801f-4088-eea9-19283995306a"
      },
      "id": "q17BsaEBPpaJ",
      "execution_count": 265,
      "outputs": [
        {
          "output_type": "display_data",
          "data": {
            "text/html": [
              "<table class=\"dataframe\">\n",
              "<caption>A data.frame: 665194 × 12</caption>\n",
              "<thead>\n",
              "\t<tr><th scope=col>año</th><th scope=col>organismo</th><th scope=col>cve_ent</th><th scope=col>cve_mun</th><th scope=col>destino</th><th scope=col>nivel_salarial</th><th scope=col>sexo</th><th scope=col>edad</th><th scope=col>creditos</th><th scope=col>monto</th><th scope=col>cvegeo</th><th scope=col>estado</th></tr>\n",
              "\t<tr><th scope=col>&lt;int&gt;</th><th scope=col>&lt;chr&gt;</th><th scope=col>&lt;chr&gt;</th><th scope=col>&lt;chr&gt;</th><th scope=col>&lt;chr&gt;</th><th scope=col>&lt;chr&gt;</th><th scope=col>&lt;chr&gt;</th><th scope=col>&lt;chr&gt;</th><th scope=col>&lt;int&gt;</th><th scope=col>&lt;dbl&gt;</th><th scope=col>&lt;chr&gt;</th><th scope=col>&lt;chr&gt;</th></tr>\n",
              "</thead>\n",
              "<tbody>\n",
              "\t<tr><td>2013</td><td>CONAVI</td><td>01</td><td>001</td><td>Mejoramientos     </td><td>2.61 a 4.00</td><td>Hombre</td><td>30 a 59   </td><td>  2</td><td>   22400.00</td><td>01001</td><td>Aguascalientes</td></tr>\n",
              "\t<tr><td>2013</td><td>CONAVI</td><td>01</td><td>001</td><td>Mejoramientos     </td><td>2.61 a 4.00</td><td>Mujer </td><td>29 o menos</td><td>  1</td><td>    4800.00</td><td>01001</td><td>Aguascalientes</td></tr>\n",
              "\t<tr><td>2013</td><td>CONAVI</td><td>01</td><td>001</td><td>Mejoramientos     </td><td>2.61 a 4.00</td><td>Mujer </td><td>30 a 59   </td><td>  2</td><td>   22400.00</td><td>01001</td><td>Aguascalientes</td></tr>\n",
              "\t<tr><td>2013</td><td>CONAVI</td><td>01</td><td>001</td><td>Mejoramientos     </td><td>2.6 o menos</td><td>Hombre</td><td>30 a 59   </td><td>  1</td><td>    6000.00</td><td>01001</td><td>Aguascalientes</td></tr>\n",
              "\t<tr><td>2013</td><td>CONAVI</td><td>01</td><td>001</td><td>Mejoramientos     </td><td>2.6 o menos</td><td>Mujer </td><td>30 a 59   </td><td>  1</td><td>    6000.00</td><td>01001</td><td>Aguascalientes</td></tr>\n",
              "\t<tr><td>2013</td><td>CONAVI</td><td>01</td><td>001</td><td>Mejoramientos     </td><td>4.01 a 6.00</td><td>Hombre</td><td>29 o menos</td><td>  1</td><td>    8000.00</td><td>01001</td><td>Aguascalientes</td></tr>\n",
              "\t<tr><td>2013</td><td>CONAVI</td><td>01</td><td>001</td><td>Vivienda existente</td><td>2.61 a 4.00</td><td>Hombre</td><td>29 o menos</td><td>  3</td><td>  188995.56</td><td>01001</td><td>Aguascalientes</td></tr>\n",
              "\t<tr><td>2013</td><td>CONAVI</td><td>01</td><td>001</td><td>Vivienda existente</td><td>2.61 a 4.00</td><td>Hombre</td><td>30 a 59   </td><td>  8</td><td>  503988.16</td><td>01001</td><td>Aguascalientes</td></tr>\n",
              "\t<tr><td>2013</td><td>CONAVI</td><td>01</td><td>001</td><td>Vivienda existente</td><td>2.61 a 4.00</td><td>Hombre</td><td>60 o más  </td><td>  1</td><td>   62998.52</td><td>01001</td><td>Aguascalientes</td></tr>\n",
              "\t<tr><td>2013</td><td>CONAVI</td><td>01</td><td>001</td><td>Vivienda existente</td><td>2.61 a 4.00</td><td>Mujer </td><td>29 o menos</td><td>  1</td><td>   62998.52</td><td>01001</td><td>Aguascalientes</td></tr>\n",
              "\t<tr><td>2013</td><td>CONAVI</td><td>01</td><td>001</td><td>Vivienda existente</td><td>2.61 a 4.00</td><td>Mujer </td><td>30 a 59   </td><td> 14</td><td>  881979.29</td><td>01001</td><td>Aguascalientes</td></tr>\n",
              "\t<tr><td>2013</td><td>CONAVI</td><td>01</td><td>001</td><td>Vivienda existente</td><td>2.61 a 4.00</td><td>Mujer </td><td>60 o más  </td><td>  1</td><td>   62998.52</td><td>01001</td><td>Aguascalientes</td></tr>\n",
              "\t<tr><td>2013</td><td>CONAVI</td><td>01</td><td>001</td><td>Vivienda existente</td><td>2.6 o menos</td><td>Hombre</td><td>29 o menos</td><td> 68</td><td> 3886774.11</td><td>01001</td><td>Aguascalientes</td></tr>\n",
              "\t<tr><td>2013</td><td>CONAVI</td><td>01</td><td>001</td><td>Vivienda existente</td><td>2.6 o menos</td><td>Hombre</td><td>30 a 59   </td><td> 70</td><td> 3837700.43</td><td>01001</td><td>Aguascalientes</td></tr>\n",
              "\t<tr><td>2013</td><td>CONAVI</td><td>01</td><td>001</td><td>Vivienda existente</td><td>2.6 o menos</td><td>Mujer </td><td>29 o menos</td><td> 26</td><td> 1353007.07</td><td>01001</td><td>Aguascalientes</td></tr>\n",
              "\t<tr><td>2013</td><td>CONAVI</td><td>01</td><td>001</td><td>Vivienda existente</td><td>2.6 o menos</td><td>Mujer </td><td>30 a 59   </td><td> 51</td><td> 2951706.99</td><td>01001</td><td>Aguascalientes</td></tr>\n",
              "\t<tr><td>2013</td><td>CONAVI</td><td>01</td><td>001</td><td>Vivienda existente</td><td>4.01 a 6.00</td><td>Hombre</td><td>29 o menos</td><td>  1</td><td>   62998.52</td><td>01001</td><td>Aguascalientes</td></tr>\n",
              "\t<tr><td>2013</td><td>CONAVI</td><td>01</td><td>001</td><td>Vivienda existente</td><td>4.01 a 6.00</td><td>Hombre</td><td>30 a 59   </td><td>  6</td><td>  377991.12</td><td>01001</td><td>Aguascalientes</td></tr>\n",
              "\t<tr><td>2013</td><td>CONAVI</td><td>01</td><td>001</td><td>Vivienda existente</td><td>4.01 a 6.00</td><td>Mujer </td><td>29 o menos</td><td>  2</td><td>  125997.04</td><td>01001</td><td>Aguascalientes</td></tr>\n",
              "\t<tr><td>2013</td><td>CONAVI</td><td>01</td><td>001</td><td>Vivienda existente</td><td>4.01 a 6.00</td><td>Mujer </td><td>30 a 59   </td><td>  1</td><td>   62998.52</td><td>01001</td><td>Aguascalientes</td></tr>\n",
              "\t<tr><td>2013</td><td>CONAVI</td><td>01</td><td>001</td><td>Vivienda nueva    </td><td>2.61 a 4.00</td><td>Hombre</td><td>29 o menos</td><td>  3</td><td>  188995.56</td><td>01001</td><td>Aguascalientes</td></tr>\n",
              "\t<tr><td>2013</td><td>CONAVI</td><td>01</td><td>001</td><td>Vivienda nueva    </td><td>2.61 a 4.00</td><td>Hombre</td><td>30 a 59   </td><td>  4</td><td>  259868.92</td><td>01001</td><td>Aguascalientes</td></tr>\n",
              "\t<tr><td>2013</td><td>CONAVI</td><td>01</td><td>001</td><td>Vivienda nueva    </td><td>2.61 a 4.00</td><td>Mujer </td><td>30 a 59   </td><td>  1</td><td>   64967.23</td><td>01001</td><td>Aguascalientes</td></tr>\n",
              "\t<tr><td>2013</td><td>CONAVI</td><td>01</td><td>001</td><td>Vivienda nueva    </td><td>2.6 o menos</td><td>Hombre</td><td>29 o menos</td><td>389</td><td>21091120.64</td><td>01001</td><td>Aguascalientes</td></tr>\n",
              "\t<tr><td>2013</td><td>CONAVI</td><td>01</td><td>001</td><td>Vivienda nueva    </td><td>2.6 o menos</td><td>Hombre</td><td>30 a 59   </td><td>395</td><td>22052448.38</td><td>01001</td><td>Aguascalientes</td></tr>\n",
              "\t<tr><td>2013</td><td>CONAVI</td><td>01</td><td>001</td><td>Vivienda nueva    </td><td>2.6 o menos</td><td>Hombre</td><td>60 o más  </td><td>  1</td><td>   32431.99</td><td>01001</td><td>Aguascalientes</td></tr>\n",
              "\t<tr><td>2013</td><td>CONAVI</td><td>01</td><td>001</td><td>Vivienda nueva    </td><td>2.6 o menos</td><td>Mujer </td><td>29 o menos</td><td>232</td><td>12514432.08</td><td>01001</td><td>Aguascalientes</td></tr>\n",
              "\t<tr><td>2013</td><td>CONAVI</td><td>01</td><td>001</td><td>Vivienda nueva    </td><td>2.6 o menos</td><td>Mujer </td><td>30 a 59   </td><td>370</td><td>20601625.98</td><td>01001</td><td>Aguascalientes</td></tr>\n",
              "\t<tr><td>2013</td><td>CONAVI</td><td>01</td><td>001</td><td>Vivienda nueva    </td><td>2.6 o menos</td><td>Mujer </td><td>60 o más  </td><td>  1</td><td>   38039.41</td><td>01001</td><td>Aguascalientes</td></tr>\n",
              "\t<tr><td>2013</td><td>CONAVI</td><td>01</td><td>001</td><td>Vivienda nueva    </td><td>4.01 a 6.00</td><td>Hombre</td><td>29 o menos</td><td>  2</td><td>  129934.46</td><td>01001</td><td>Aguascalientes</td></tr>\n",
              "\t<tr><td>⋮</td><td>⋮</td><td>⋮</td><td>⋮</td><td>⋮</td><td>⋮</td><td>⋮</td><td>⋮</td><td>⋮</td><td>⋮</td><td>⋮</td><td>⋮</td></tr>\n",
              "\t<tr><td>2024</td><td>SHF (FONDEO)</td><td>30</td><td>206</td><td>Mejoramientos</td><td>No disponible</td><td>Hombre       </td><td>29 o menos   </td><td> 1</td><td>      0</td><td>30206</td><td>Veracruz de Ignacio de la Llave</td></tr>\n",
              "\t<tr><td>2024</td><td>SHF (FONDEO)</td><td>30</td><td>209</td><td>Mejoramientos</td><td>No disponible</td><td>Mujer        </td><td>29 o menos   </td><td> 1</td><td>      0</td><td>30209</td><td>Veracruz de Ignacio de la Llave</td></tr>\n",
              "\t<tr><td>2024</td><td>SHF (FONDEO)</td><td>30</td><td>212</td><td>Mejoramientos</td><td>No disponible</td><td>Mujer        </td><td>29 o menos   </td><td> 1</td><td>      0</td><td>30212</td><td>Veracruz de Ignacio de la Llave</td></tr>\n",
              "\t<tr><td>2024</td><td>SHF (FONDEO)</td><td>31</td><td>000</td><td>Mejoramientos</td><td>No disponible</td><td>No disponible</td><td>No disponible</td><td> 0</td><td>2344122</td><td>31000</td><td>Yucatán                        </td></tr>\n",
              "\t<tr><td>2024</td><td>SHF (FONDEO)</td><td>31</td><td>016</td><td>Mejoramientos</td><td>No disponible</td><td>Hombre       </td><td>29 o menos   </td><td> 1</td><td>      0</td><td>31016</td><td>Yucatán                        </td></tr>\n",
              "\t<tr><td>2024</td><td>SHF (FONDEO)</td><td>31</td><td>019</td><td>Mejoramientos</td><td>No disponible</td><td>Mujer        </td><td>29 o menos   </td><td> 1</td><td>      0</td><td>31019</td><td>Yucatán                        </td></tr>\n",
              "\t<tr><td>2024</td><td>SHF (FONDEO)</td><td>31</td><td>032</td><td>Mejoramientos</td><td>No disponible</td><td>Mujer        </td><td>29 o menos   </td><td> 1</td><td>      0</td><td>31032</td><td>Yucatán                        </td></tr>\n",
              "\t<tr><td>2024</td><td>SHF (FONDEO)</td><td>31</td><td>041</td><td>Mejoramientos</td><td>No disponible</td><td>Hombre       </td><td>29 o menos   </td><td> 1</td><td>      0</td><td>31041</td><td>Yucatán                        </td></tr>\n",
              "\t<tr><td>2024</td><td>SHF (FONDEO)</td><td>31</td><td>041</td><td>Mejoramientos</td><td>No disponible</td><td>Mujer        </td><td>29 o menos   </td><td> 8</td><td>      0</td><td>31041</td><td>Yucatán                        </td></tr>\n",
              "\t<tr><td>2024</td><td>SHF (FONDEO)</td><td>31</td><td>050</td><td>Mejoramientos</td><td>No disponible</td><td>Hombre       </td><td>29 o menos   </td><td> 3</td><td>      0</td><td>31050</td><td>Yucatán                        </td></tr>\n",
              "\t<tr><td>2024</td><td>SHF (FONDEO)</td><td>31</td><td>050</td><td>Mejoramientos</td><td>No disponible</td><td>Mujer        </td><td>29 o menos   </td><td>64</td><td>      0</td><td>31050</td><td>Yucatán                        </td></tr>\n",
              "\t<tr><td>2024</td><td>SHF (FONDEO)</td><td>31</td><td>056</td><td>Mejoramientos</td><td>No disponible</td><td>Mujer        </td><td>29 o menos   </td><td> 1</td><td>      0</td><td>31056</td><td>Yucatán                        </td></tr>\n",
              "\t<tr><td>2024</td><td>SHF (FONDEO)</td><td>31</td><td>058</td><td>Mejoramientos</td><td>No disponible</td><td>Hombre       </td><td>29 o menos   </td><td> 1</td><td>      0</td><td>31058</td><td>Yucatán                        </td></tr>\n",
              "\t<tr><td>2024</td><td>SHF (FONDEO)</td><td>31</td><td>059</td><td>Mejoramientos</td><td>No disponible</td><td>Hombre       </td><td>29 o menos   </td><td> 1</td><td>      0</td><td>31059</td><td>Yucatán                        </td></tr>\n",
              "\t<tr><td>2024</td><td>SHF (FONDEO)</td><td>31</td><td>075</td><td>Mejoramientos</td><td>No disponible</td><td>Mujer        </td><td>29 o menos   </td><td> 1</td><td>      0</td><td>31075</td><td>Yucatán                        </td></tr>\n",
              "\t<tr><td>2024</td><td>SHF (FONDEO)</td><td>31</td><td>079</td><td>Mejoramientos</td><td>No disponible</td><td>Mujer        </td><td>29 o menos   </td><td> 1</td><td>      0</td><td>31079</td><td>Yucatán                        </td></tr>\n",
              "\t<tr><td>2024</td><td>SHF (FONDEO)</td><td>31</td><td>080</td><td>Mejoramientos</td><td>No disponible</td><td>Mujer        </td><td>29 o menos   </td><td> 1</td><td>      0</td><td>31080</td><td>Yucatán                        </td></tr>\n",
              "\t<tr><td>2024</td><td>SHF (FONDEO)</td><td>31</td><td>089</td><td>Mejoramientos</td><td>No disponible</td><td>Hombre       </td><td>29 o menos   </td><td> 1</td><td>      0</td><td>31089</td><td>Yucatán                        </td></tr>\n",
              "\t<tr><td>2024</td><td>SHF (FONDEO)</td><td>31</td><td>089</td><td>Mejoramientos</td><td>No disponible</td><td>Mujer        </td><td>29 o menos   </td><td> 1</td><td>      0</td><td>31089</td><td>Yucatán                        </td></tr>\n",
              "\t<tr><td>2024</td><td>SHF (FONDEO)</td><td>31</td><td>092</td><td>Mejoramientos</td><td>No disponible</td><td>Mujer        </td><td>29 o menos   </td><td> 1</td><td>      0</td><td>31092</td><td>Yucatán                        </td></tr>\n",
              "\t<tr><td>2024</td><td>SHF (FONDEO)</td><td>31</td><td>101</td><td>Mejoramientos</td><td>No disponible</td><td>Hombre       </td><td>29 o menos   </td><td> 1</td><td>      0</td><td>31101</td><td>Yucatán                        </td></tr>\n",
              "\t<tr><td>2024</td><td>SHF (FONDEO)</td><td>31</td><td>101</td><td>Mejoramientos</td><td>No disponible</td><td>Mujer        </td><td>29 o menos   </td><td> 7</td><td>      0</td><td>31101</td><td>Yucatán                        </td></tr>\n",
              "\t<tr><td>2024</td><td>SHF (FONDEO)</td><td>32</td><td>000</td><td>Mejoramientos</td><td>No disponible</td><td>No disponible</td><td>No disponible</td><td> 0</td><td> 478670</td><td>32000</td><td>Zacatecas                      </td></tr>\n",
              "\t<tr><td>2024</td><td>SHF (FONDEO)</td><td>32</td><td>010</td><td>Mejoramientos</td><td>No disponible</td><td>Hombre       </td><td>29 o menos   </td><td> 2</td><td>      0</td><td>32010</td><td>Zacatecas                      </td></tr>\n",
              "\t<tr><td>2024</td><td>SHF (FONDEO)</td><td>32</td><td>017</td><td>Mejoramientos</td><td>No disponible</td><td>Hombre       </td><td>29 o menos   </td><td> 3</td><td>      0</td><td>32017</td><td>Zacatecas                      </td></tr>\n",
              "\t<tr><td>2024</td><td>SHF (FONDEO)</td><td>32</td><td>017</td><td>Mejoramientos</td><td>No disponible</td><td>Mujer        </td><td>29 o menos   </td><td> 4</td><td>      0</td><td>32017</td><td>Zacatecas                      </td></tr>\n",
              "\t<tr><td>2024</td><td>SHF (FONDEO)</td><td>32</td><td>024</td><td>Mejoramientos</td><td>No disponible</td><td>Hombre       </td><td>29 o menos   </td><td> 1</td><td>      0</td><td>32024</td><td>Zacatecas                      </td></tr>\n",
              "\t<tr><td>2024</td><td>SHF (FONDEO)</td><td>32</td><td>032</td><td>Mejoramientos</td><td>No disponible</td><td>Hombre       </td><td>29 o menos   </td><td> 1</td><td>      0</td><td>32032</td><td>Zacatecas                      </td></tr>\n",
              "\t<tr><td>2024</td><td>SHF (FONDEO)</td><td>32</td><td>050</td><td>Mejoramientos</td><td>No disponible</td><td>Mujer        </td><td>29 o menos   </td><td> 1</td><td>      0</td><td>32050</td><td>Zacatecas                      </td></tr>\n",
              "\t<tr><td>2024</td><td>SHF (FONDEO)</td><td>32</td><td>056</td><td>Mejoramientos</td><td>No disponible</td><td>Mujer        </td><td>29 o menos   </td><td> 2</td><td>      0</td><td>32056</td><td>Zacatecas                      </td></tr>\n",
              "</tbody>\n",
              "</table>\n"
            ],
            "text/markdown": "\nA data.frame: 665194 × 12\n\n| año &lt;int&gt; | organismo &lt;chr&gt; | cve_ent &lt;chr&gt; | cve_mun &lt;chr&gt; | destino &lt;chr&gt; | nivel_salarial &lt;chr&gt; | sexo &lt;chr&gt; | edad &lt;chr&gt; | creditos &lt;int&gt; | monto &lt;dbl&gt; | cvegeo &lt;chr&gt; | estado &lt;chr&gt; |\n|---|---|---|---|---|---|---|---|---|---|---|---|\n| 2013 | CONAVI | 01 | 001 | Mejoramientos      | 2.61 a 4.00 | Hombre | 30 a 59    |   2 |    22400.00 | 01001 | Aguascalientes |\n| 2013 | CONAVI | 01 | 001 | Mejoramientos      | 2.61 a 4.00 | Mujer  | 29 o menos |   1 |     4800.00 | 01001 | Aguascalientes |\n| 2013 | CONAVI | 01 | 001 | Mejoramientos      | 2.61 a 4.00 | Mujer  | 30 a 59    |   2 |    22400.00 | 01001 | Aguascalientes |\n| 2013 | CONAVI | 01 | 001 | Mejoramientos      | 2.6 o menos | Hombre | 30 a 59    |   1 |     6000.00 | 01001 | Aguascalientes |\n| 2013 | CONAVI | 01 | 001 | Mejoramientos      | 2.6 o menos | Mujer  | 30 a 59    |   1 |     6000.00 | 01001 | Aguascalientes |\n| 2013 | CONAVI | 01 | 001 | Mejoramientos      | 4.01 a 6.00 | Hombre | 29 o menos |   1 |     8000.00 | 01001 | Aguascalientes |\n| 2013 | CONAVI | 01 | 001 | Vivienda existente | 2.61 a 4.00 | Hombre | 29 o menos |   3 |   188995.56 | 01001 | Aguascalientes |\n| 2013 | CONAVI | 01 | 001 | Vivienda existente | 2.61 a 4.00 | Hombre | 30 a 59    |   8 |   503988.16 | 01001 | Aguascalientes |\n| 2013 | CONAVI | 01 | 001 | Vivienda existente | 2.61 a 4.00 | Hombre | 60 o más   |   1 |    62998.52 | 01001 | Aguascalientes |\n| 2013 | CONAVI | 01 | 001 | Vivienda existente | 2.61 a 4.00 | Mujer  | 29 o menos |   1 |    62998.52 | 01001 | Aguascalientes |\n| 2013 | CONAVI | 01 | 001 | Vivienda existente | 2.61 a 4.00 | Mujer  | 30 a 59    |  14 |   881979.29 | 01001 | Aguascalientes |\n| 2013 | CONAVI | 01 | 001 | Vivienda existente | 2.61 a 4.00 | Mujer  | 60 o más   |   1 |    62998.52 | 01001 | Aguascalientes |\n| 2013 | CONAVI | 01 | 001 | Vivienda existente | 2.6 o menos | Hombre | 29 o menos |  68 |  3886774.11 | 01001 | Aguascalientes |\n| 2013 | CONAVI | 01 | 001 | Vivienda existente | 2.6 o menos | Hombre | 30 a 59    |  70 |  3837700.43 | 01001 | Aguascalientes |\n| 2013 | CONAVI | 01 | 001 | Vivienda existente | 2.6 o menos | Mujer  | 29 o menos |  26 |  1353007.07 | 01001 | Aguascalientes |\n| 2013 | CONAVI | 01 | 001 | Vivienda existente | 2.6 o menos | Mujer  | 30 a 59    |  51 |  2951706.99 | 01001 | Aguascalientes |\n| 2013 | CONAVI | 01 | 001 | Vivienda existente | 4.01 a 6.00 | Hombre | 29 o menos |   1 |    62998.52 | 01001 | Aguascalientes |\n| 2013 | CONAVI | 01 | 001 | Vivienda existente | 4.01 a 6.00 | Hombre | 30 a 59    |   6 |   377991.12 | 01001 | Aguascalientes |\n| 2013 | CONAVI | 01 | 001 | Vivienda existente | 4.01 a 6.00 | Mujer  | 29 o menos |   2 |   125997.04 | 01001 | Aguascalientes |\n| 2013 | CONAVI | 01 | 001 | Vivienda existente | 4.01 a 6.00 | Mujer  | 30 a 59    |   1 |    62998.52 | 01001 | Aguascalientes |\n| 2013 | CONAVI | 01 | 001 | Vivienda nueva     | 2.61 a 4.00 | Hombre | 29 o menos |   3 |   188995.56 | 01001 | Aguascalientes |\n| 2013 | CONAVI | 01 | 001 | Vivienda nueva     | 2.61 a 4.00 | Hombre | 30 a 59    |   4 |   259868.92 | 01001 | Aguascalientes |\n| 2013 | CONAVI | 01 | 001 | Vivienda nueva     | 2.61 a 4.00 | Mujer  | 30 a 59    |   1 |    64967.23 | 01001 | Aguascalientes |\n| 2013 | CONAVI | 01 | 001 | Vivienda nueva     | 2.6 o menos | Hombre | 29 o menos | 389 | 21091120.64 | 01001 | Aguascalientes |\n| 2013 | CONAVI | 01 | 001 | Vivienda nueva     | 2.6 o menos | Hombre | 30 a 59    | 395 | 22052448.38 | 01001 | Aguascalientes |\n| 2013 | CONAVI | 01 | 001 | Vivienda nueva     | 2.6 o menos | Hombre | 60 o más   |   1 |    32431.99 | 01001 | Aguascalientes |\n| 2013 | CONAVI | 01 | 001 | Vivienda nueva     | 2.6 o menos | Mujer  | 29 o menos | 232 | 12514432.08 | 01001 | Aguascalientes |\n| 2013 | CONAVI | 01 | 001 | Vivienda nueva     | 2.6 o menos | Mujer  | 30 a 59    | 370 | 20601625.98 | 01001 | Aguascalientes |\n| 2013 | CONAVI | 01 | 001 | Vivienda nueva     | 2.6 o menos | Mujer  | 60 o más   |   1 |    38039.41 | 01001 | Aguascalientes |\n| 2013 | CONAVI | 01 | 001 | Vivienda nueva     | 4.01 a 6.00 | Hombre | 29 o menos |   2 |   129934.46 | 01001 | Aguascalientes |\n| ⋮ | ⋮ | ⋮ | ⋮ | ⋮ | ⋮ | ⋮ | ⋮ | ⋮ | ⋮ | ⋮ | ⋮ |\n| 2024 | SHF (FONDEO) | 30 | 206 | Mejoramientos | No disponible | Hombre        | 29 o menos    |  1 |       0 | 30206 | Veracruz de Ignacio de la Llave |\n| 2024 | SHF (FONDEO) | 30 | 209 | Mejoramientos | No disponible | Mujer         | 29 o menos    |  1 |       0 | 30209 | Veracruz de Ignacio de la Llave |\n| 2024 | SHF (FONDEO) | 30 | 212 | Mejoramientos | No disponible | Mujer         | 29 o menos    |  1 |       0 | 30212 | Veracruz de Ignacio de la Llave |\n| 2024 | SHF (FONDEO) | 31 | 000 | Mejoramientos | No disponible | No disponible | No disponible |  0 | 2344122 | 31000 | Yucatán                         |\n| 2024 | SHF (FONDEO) | 31 | 016 | Mejoramientos | No disponible | Hombre        | 29 o menos    |  1 |       0 | 31016 | Yucatán                         |\n| 2024 | SHF (FONDEO) | 31 | 019 | Mejoramientos | No disponible | Mujer         | 29 o menos    |  1 |       0 | 31019 | Yucatán                         |\n| 2024 | SHF (FONDEO) | 31 | 032 | Mejoramientos | No disponible | Mujer         | 29 o menos    |  1 |       0 | 31032 | Yucatán                         |\n| 2024 | SHF (FONDEO) | 31 | 041 | Mejoramientos | No disponible | Hombre        | 29 o menos    |  1 |       0 | 31041 | Yucatán                         |\n| 2024 | SHF (FONDEO) | 31 | 041 | Mejoramientos | No disponible | Mujer         | 29 o menos    |  8 |       0 | 31041 | Yucatán                         |\n| 2024 | SHF (FONDEO) | 31 | 050 | Mejoramientos | No disponible | Hombre        | 29 o menos    |  3 |       0 | 31050 | Yucatán                         |\n| 2024 | SHF (FONDEO) | 31 | 050 | Mejoramientos | No disponible | Mujer         | 29 o menos    | 64 |       0 | 31050 | Yucatán                         |\n| 2024 | SHF (FONDEO) | 31 | 056 | Mejoramientos | No disponible | Mujer         | 29 o menos    |  1 |       0 | 31056 | Yucatán                         |\n| 2024 | SHF (FONDEO) | 31 | 058 | Mejoramientos | No disponible | Hombre        | 29 o menos    |  1 |       0 | 31058 | Yucatán                         |\n| 2024 | SHF (FONDEO) | 31 | 059 | Mejoramientos | No disponible | Hombre        | 29 o menos    |  1 |       0 | 31059 | Yucatán                         |\n| 2024 | SHF (FONDEO) | 31 | 075 | Mejoramientos | No disponible | Mujer         | 29 o menos    |  1 |       0 | 31075 | Yucatán                         |\n| 2024 | SHF (FONDEO) | 31 | 079 | Mejoramientos | No disponible | Mujer         | 29 o menos    |  1 |       0 | 31079 | Yucatán                         |\n| 2024 | SHF (FONDEO) | 31 | 080 | Mejoramientos | No disponible | Mujer         | 29 o menos    |  1 |       0 | 31080 | Yucatán                         |\n| 2024 | SHF (FONDEO) | 31 | 089 | Mejoramientos | No disponible | Hombre        | 29 o menos    |  1 |       0 | 31089 | Yucatán                         |\n| 2024 | SHF (FONDEO) | 31 | 089 | Mejoramientos | No disponible | Mujer         | 29 o menos    |  1 |       0 | 31089 | Yucatán                         |\n| 2024 | SHF (FONDEO) | 31 | 092 | Mejoramientos | No disponible | Mujer         | 29 o menos    |  1 |       0 | 31092 | Yucatán                         |\n| 2024 | SHF (FONDEO) | 31 | 101 | Mejoramientos | No disponible | Hombre        | 29 o menos    |  1 |       0 | 31101 | Yucatán                         |\n| 2024 | SHF (FONDEO) | 31 | 101 | Mejoramientos | No disponible | Mujer         | 29 o menos    |  7 |       0 | 31101 | Yucatán                         |\n| 2024 | SHF (FONDEO) | 32 | 000 | Mejoramientos | No disponible | No disponible | No disponible |  0 |  478670 | 32000 | Zacatecas                       |\n| 2024 | SHF (FONDEO) | 32 | 010 | Mejoramientos | No disponible | Hombre        | 29 o menos    |  2 |       0 | 32010 | Zacatecas                       |\n| 2024 | SHF (FONDEO) | 32 | 017 | Mejoramientos | No disponible | Hombre        | 29 o menos    |  3 |       0 | 32017 | Zacatecas                       |\n| 2024 | SHF (FONDEO) | 32 | 017 | Mejoramientos | No disponible | Mujer         | 29 o menos    |  4 |       0 | 32017 | Zacatecas                       |\n| 2024 | SHF (FONDEO) | 32 | 024 | Mejoramientos | No disponible | Hombre        | 29 o menos    |  1 |       0 | 32024 | Zacatecas                       |\n| 2024 | SHF (FONDEO) | 32 | 032 | Mejoramientos | No disponible | Hombre        | 29 o menos    |  1 |       0 | 32032 | Zacatecas                       |\n| 2024 | SHF (FONDEO) | 32 | 050 | Mejoramientos | No disponible | Mujer         | 29 o menos    |  1 |       0 | 32050 | Zacatecas                       |\n| 2024 | SHF (FONDEO) | 32 | 056 | Mejoramientos | No disponible | Mujer         | 29 o menos    |  2 |       0 | 32056 | Zacatecas                       |\n\n",
            "text/latex": "A data.frame: 665194 × 12\n\\begin{tabular}{llllllllllll}\n año & organismo & cve\\_ent & cve\\_mun & destino & nivel\\_salarial & sexo & edad & creditos & monto & cvegeo & estado\\\\\n <int> & <chr> & <chr> & <chr> & <chr> & <chr> & <chr> & <chr> & <int> & <dbl> & <chr> & <chr>\\\\\n\\hline\n\t 2013 & CONAVI & 01 & 001 & Mejoramientos      & 2.61 a 4.00 & Hombre & 30 a 59    &   2 &    22400.00 & 01001 & Aguascalientes\\\\\n\t 2013 & CONAVI & 01 & 001 & Mejoramientos      & 2.61 a 4.00 & Mujer  & 29 o menos &   1 &     4800.00 & 01001 & Aguascalientes\\\\\n\t 2013 & CONAVI & 01 & 001 & Mejoramientos      & 2.61 a 4.00 & Mujer  & 30 a 59    &   2 &    22400.00 & 01001 & Aguascalientes\\\\\n\t 2013 & CONAVI & 01 & 001 & Mejoramientos      & 2.6 o menos & Hombre & 30 a 59    &   1 &     6000.00 & 01001 & Aguascalientes\\\\\n\t 2013 & CONAVI & 01 & 001 & Mejoramientos      & 2.6 o menos & Mujer  & 30 a 59    &   1 &     6000.00 & 01001 & Aguascalientes\\\\\n\t 2013 & CONAVI & 01 & 001 & Mejoramientos      & 4.01 a 6.00 & Hombre & 29 o menos &   1 &     8000.00 & 01001 & Aguascalientes\\\\\n\t 2013 & CONAVI & 01 & 001 & Vivienda existente & 2.61 a 4.00 & Hombre & 29 o menos &   3 &   188995.56 & 01001 & Aguascalientes\\\\\n\t 2013 & CONAVI & 01 & 001 & Vivienda existente & 2.61 a 4.00 & Hombre & 30 a 59    &   8 &   503988.16 & 01001 & Aguascalientes\\\\\n\t 2013 & CONAVI & 01 & 001 & Vivienda existente & 2.61 a 4.00 & Hombre & 60 o más   &   1 &    62998.52 & 01001 & Aguascalientes\\\\\n\t 2013 & CONAVI & 01 & 001 & Vivienda existente & 2.61 a 4.00 & Mujer  & 29 o menos &   1 &    62998.52 & 01001 & Aguascalientes\\\\\n\t 2013 & CONAVI & 01 & 001 & Vivienda existente & 2.61 a 4.00 & Mujer  & 30 a 59    &  14 &   881979.29 & 01001 & Aguascalientes\\\\\n\t 2013 & CONAVI & 01 & 001 & Vivienda existente & 2.61 a 4.00 & Mujer  & 60 o más   &   1 &    62998.52 & 01001 & Aguascalientes\\\\\n\t 2013 & CONAVI & 01 & 001 & Vivienda existente & 2.6 o menos & Hombre & 29 o menos &  68 &  3886774.11 & 01001 & Aguascalientes\\\\\n\t 2013 & CONAVI & 01 & 001 & Vivienda existente & 2.6 o menos & Hombre & 30 a 59    &  70 &  3837700.43 & 01001 & Aguascalientes\\\\\n\t 2013 & CONAVI & 01 & 001 & Vivienda existente & 2.6 o menos & Mujer  & 29 o menos &  26 &  1353007.07 & 01001 & Aguascalientes\\\\\n\t 2013 & CONAVI & 01 & 001 & Vivienda existente & 2.6 o menos & Mujer  & 30 a 59    &  51 &  2951706.99 & 01001 & Aguascalientes\\\\\n\t 2013 & CONAVI & 01 & 001 & Vivienda existente & 4.01 a 6.00 & Hombre & 29 o menos &   1 &    62998.52 & 01001 & Aguascalientes\\\\\n\t 2013 & CONAVI & 01 & 001 & Vivienda existente & 4.01 a 6.00 & Hombre & 30 a 59    &   6 &   377991.12 & 01001 & Aguascalientes\\\\\n\t 2013 & CONAVI & 01 & 001 & Vivienda existente & 4.01 a 6.00 & Mujer  & 29 o menos &   2 &   125997.04 & 01001 & Aguascalientes\\\\\n\t 2013 & CONAVI & 01 & 001 & Vivienda existente & 4.01 a 6.00 & Mujer  & 30 a 59    &   1 &    62998.52 & 01001 & Aguascalientes\\\\\n\t 2013 & CONAVI & 01 & 001 & Vivienda nueva     & 2.61 a 4.00 & Hombre & 29 o menos &   3 &   188995.56 & 01001 & Aguascalientes\\\\\n\t 2013 & CONAVI & 01 & 001 & Vivienda nueva     & 2.61 a 4.00 & Hombre & 30 a 59    &   4 &   259868.92 & 01001 & Aguascalientes\\\\\n\t 2013 & CONAVI & 01 & 001 & Vivienda nueva     & 2.61 a 4.00 & Mujer  & 30 a 59    &   1 &    64967.23 & 01001 & Aguascalientes\\\\\n\t 2013 & CONAVI & 01 & 001 & Vivienda nueva     & 2.6 o menos & Hombre & 29 o menos & 389 & 21091120.64 & 01001 & Aguascalientes\\\\\n\t 2013 & CONAVI & 01 & 001 & Vivienda nueva     & 2.6 o menos & Hombre & 30 a 59    & 395 & 22052448.38 & 01001 & Aguascalientes\\\\\n\t 2013 & CONAVI & 01 & 001 & Vivienda nueva     & 2.6 o menos & Hombre & 60 o más   &   1 &    32431.99 & 01001 & Aguascalientes\\\\\n\t 2013 & CONAVI & 01 & 001 & Vivienda nueva     & 2.6 o menos & Mujer  & 29 o menos & 232 & 12514432.08 & 01001 & Aguascalientes\\\\\n\t 2013 & CONAVI & 01 & 001 & Vivienda nueva     & 2.6 o menos & Mujer  & 30 a 59    & 370 & 20601625.98 & 01001 & Aguascalientes\\\\\n\t 2013 & CONAVI & 01 & 001 & Vivienda nueva     & 2.6 o menos & Mujer  & 60 o más   &   1 &    38039.41 & 01001 & Aguascalientes\\\\\n\t 2013 & CONAVI & 01 & 001 & Vivienda nueva     & 4.01 a 6.00 & Hombre & 29 o menos &   2 &   129934.46 & 01001 & Aguascalientes\\\\\n\t ⋮ & ⋮ & ⋮ & ⋮ & ⋮ & ⋮ & ⋮ & ⋮ & ⋮ & ⋮ & ⋮ & ⋮\\\\\n\t 2024 & SHF (FONDEO) & 30 & 206 & Mejoramientos & No disponible & Hombre        & 29 o menos    &  1 &       0 & 30206 & Veracruz de Ignacio de la Llave\\\\\n\t 2024 & SHF (FONDEO) & 30 & 209 & Mejoramientos & No disponible & Mujer         & 29 o menos    &  1 &       0 & 30209 & Veracruz de Ignacio de la Llave\\\\\n\t 2024 & SHF (FONDEO) & 30 & 212 & Mejoramientos & No disponible & Mujer         & 29 o menos    &  1 &       0 & 30212 & Veracruz de Ignacio de la Llave\\\\\n\t 2024 & SHF (FONDEO) & 31 & 000 & Mejoramientos & No disponible & No disponible & No disponible &  0 & 2344122 & 31000 & Yucatán                        \\\\\n\t 2024 & SHF (FONDEO) & 31 & 016 & Mejoramientos & No disponible & Hombre        & 29 o menos    &  1 &       0 & 31016 & Yucatán                        \\\\\n\t 2024 & SHF (FONDEO) & 31 & 019 & Mejoramientos & No disponible & Mujer         & 29 o menos    &  1 &       0 & 31019 & Yucatán                        \\\\\n\t 2024 & SHF (FONDEO) & 31 & 032 & Mejoramientos & No disponible & Mujer         & 29 o menos    &  1 &       0 & 31032 & Yucatán                        \\\\\n\t 2024 & SHF (FONDEO) & 31 & 041 & Mejoramientos & No disponible & Hombre        & 29 o menos    &  1 &       0 & 31041 & Yucatán                        \\\\\n\t 2024 & SHF (FONDEO) & 31 & 041 & Mejoramientos & No disponible & Mujer         & 29 o menos    &  8 &       0 & 31041 & Yucatán                        \\\\\n\t 2024 & SHF (FONDEO) & 31 & 050 & Mejoramientos & No disponible & Hombre        & 29 o menos    &  3 &       0 & 31050 & Yucatán                        \\\\\n\t 2024 & SHF (FONDEO) & 31 & 050 & Mejoramientos & No disponible & Mujer         & 29 o menos    & 64 &       0 & 31050 & Yucatán                        \\\\\n\t 2024 & SHF (FONDEO) & 31 & 056 & Mejoramientos & No disponible & Mujer         & 29 o menos    &  1 &       0 & 31056 & Yucatán                        \\\\\n\t 2024 & SHF (FONDEO) & 31 & 058 & Mejoramientos & No disponible & Hombre        & 29 o menos    &  1 &       0 & 31058 & Yucatán                        \\\\\n\t 2024 & SHF (FONDEO) & 31 & 059 & Mejoramientos & No disponible & Hombre        & 29 o menos    &  1 &       0 & 31059 & Yucatán                        \\\\\n\t 2024 & SHF (FONDEO) & 31 & 075 & Mejoramientos & No disponible & Mujer         & 29 o menos    &  1 &       0 & 31075 & Yucatán                        \\\\\n\t 2024 & SHF (FONDEO) & 31 & 079 & Mejoramientos & No disponible & Mujer         & 29 o menos    &  1 &       0 & 31079 & Yucatán                        \\\\\n\t 2024 & SHF (FONDEO) & 31 & 080 & Mejoramientos & No disponible & Mujer         & 29 o menos    &  1 &       0 & 31080 & Yucatán                        \\\\\n\t 2024 & SHF (FONDEO) & 31 & 089 & Mejoramientos & No disponible & Hombre        & 29 o menos    &  1 &       0 & 31089 & Yucatán                        \\\\\n\t 2024 & SHF (FONDEO) & 31 & 089 & Mejoramientos & No disponible & Mujer         & 29 o menos    &  1 &       0 & 31089 & Yucatán                        \\\\\n\t 2024 & SHF (FONDEO) & 31 & 092 & Mejoramientos & No disponible & Mujer         & 29 o menos    &  1 &       0 & 31092 & Yucatán                        \\\\\n\t 2024 & SHF (FONDEO) & 31 & 101 & Mejoramientos & No disponible & Hombre        & 29 o menos    &  1 &       0 & 31101 & Yucatán                        \\\\\n\t 2024 & SHF (FONDEO) & 31 & 101 & Mejoramientos & No disponible & Mujer         & 29 o menos    &  7 &       0 & 31101 & Yucatán                        \\\\\n\t 2024 & SHF (FONDEO) & 32 & 000 & Mejoramientos & No disponible & No disponible & No disponible &  0 &  478670 & 32000 & Zacatecas                      \\\\\n\t 2024 & SHF (FONDEO) & 32 & 010 & Mejoramientos & No disponible & Hombre        & 29 o menos    &  2 &       0 & 32010 & Zacatecas                      \\\\\n\t 2024 & SHF (FONDEO) & 32 & 017 & Mejoramientos & No disponible & Hombre        & 29 o menos    &  3 &       0 & 32017 & Zacatecas                      \\\\\n\t 2024 & SHF (FONDEO) & 32 & 017 & Mejoramientos & No disponible & Mujer         & 29 o menos    &  4 &       0 & 32017 & Zacatecas                      \\\\\n\t 2024 & SHF (FONDEO) & 32 & 024 & Mejoramientos & No disponible & Hombre        & 29 o menos    &  1 &       0 & 32024 & Zacatecas                      \\\\\n\t 2024 & SHF (FONDEO) & 32 & 032 & Mejoramientos & No disponible & Hombre        & 29 o menos    &  1 &       0 & 32032 & Zacatecas                      \\\\\n\t 2024 & SHF (FONDEO) & 32 & 050 & Mejoramientos & No disponible & Mujer         & 29 o menos    &  1 &       0 & 32050 & Zacatecas                      \\\\\n\t 2024 & SHF (FONDEO) & 32 & 056 & Mejoramientos & No disponible & Mujer         & 29 o menos    &  2 &       0 & 32056 & Zacatecas                      \\\\\n\\end{tabular}\n",
            "text/plain": [
              "       año  organismo    cve_ent cve_mun destino            nivel_salarial\n",
              "1      2013 CONAVI       01      001     Mejoramientos      2.61 a 4.00   \n",
              "2      2013 CONAVI       01      001     Mejoramientos      2.61 a 4.00   \n",
              "3      2013 CONAVI       01      001     Mejoramientos      2.61 a 4.00   \n",
              "4      2013 CONAVI       01      001     Mejoramientos      2.6 o menos   \n",
              "5      2013 CONAVI       01      001     Mejoramientos      2.6 o menos   \n",
              "6      2013 CONAVI       01      001     Mejoramientos      4.01 a 6.00   \n",
              "7      2013 CONAVI       01      001     Vivienda existente 2.61 a 4.00   \n",
              "8      2013 CONAVI       01      001     Vivienda existente 2.61 a 4.00   \n",
              "9      2013 CONAVI       01      001     Vivienda existente 2.61 a 4.00   \n",
              "10     2013 CONAVI       01      001     Vivienda existente 2.61 a 4.00   \n",
              "11     2013 CONAVI       01      001     Vivienda existente 2.61 a 4.00   \n",
              "12     2013 CONAVI       01      001     Vivienda existente 2.61 a 4.00   \n",
              "13     2013 CONAVI       01      001     Vivienda existente 2.6 o menos   \n",
              "14     2013 CONAVI       01      001     Vivienda existente 2.6 o menos   \n",
              "15     2013 CONAVI       01      001     Vivienda existente 2.6 o menos   \n",
              "16     2013 CONAVI       01      001     Vivienda existente 2.6 o menos   \n",
              "17     2013 CONAVI       01      001     Vivienda existente 4.01 a 6.00   \n",
              "18     2013 CONAVI       01      001     Vivienda existente 4.01 a 6.00   \n",
              "19     2013 CONAVI       01      001     Vivienda existente 4.01 a 6.00   \n",
              "20     2013 CONAVI       01      001     Vivienda existente 4.01 a 6.00   \n",
              "21     2013 CONAVI       01      001     Vivienda nueva     2.61 a 4.00   \n",
              "22     2013 CONAVI       01      001     Vivienda nueva     2.61 a 4.00   \n",
              "23     2013 CONAVI       01      001     Vivienda nueva     2.61 a 4.00   \n",
              "24     2013 CONAVI       01      001     Vivienda nueva     2.6 o menos   \n",
              "25     2013 CONAVI       01      001     Vivienda nueva     2.6 o menos   \n",
              "26     2013 CONAVI       01      001     Vivienda nueva     2.6 o menos   \n",
              "27     2013 CONAVI       01      001     Vivienda nueva     2.6 o menos   \n",
              "28     2013 CONAVI       01      001     Vivienda nueva     2.6 o menos   \n",
              "29     2013 CONAVI       01      001     Vivienda nueva     2.6 o menos   \n",
              "30     2013 CONAVI       01      001     Vivienda nueva     4.01 a 6.00   \n",
              "⋮      ⋮    ⋮            ⋮       ⋮       ⋮                  ⋮             \n",
              "665165 2024 SHF (FONDEO) 30      206     Mejoramientos      No disponible \n",
              "665166 2024 SHF (FONDEO) 30      209     Mejoramientos      No disponible \n",
              "665167 2024 SHF (FONDEO) 30      212     Mejoramientos      No disponible \n",
              "665168 2024 SHF (FONDEO) 31      000     Mejoramientos      No disponible \n",
              "665169 2024 SHF (FONDEO) 31      016     Mejoramientos      No disponible \n",
              "665170 2024 SHF (FONDEO) 31      019     Mejoramientos      No disponible \n",
              "665171 2024 SHF (FONDEO) 31      032     Mejoramientos      No disponible \n",
              "665172 2024 SHF (FONDEO) 31      041     Mejoramientos      No disponible \n",
              "665173 2024 SHF (FONDEO) 31      041     Mejoramientos      No disponible \n",
              "665174 2024 SHF (FONDEO) 31      050     Mejoramientos      No disponible \n",
              "665175 2024 SHF (FONDEO) 31      050     Mejoramientos      No disponible \n",
              "665176 2024 SHF (FONDEO) 31      056     Mejoramientos      No disponible \n",
              "665177 2024 SHF (FONDEO) 31      058     Mejoramientos      No disponible \n",
              "665178 2024 SHF (FONDEO) 31      059     Mejoramientos      No disponible \n",
              "665179 2024 SHF (FONDEO) 31      075     Mejoramientos      No disponible \n",
              "665180 2024 SHF (FONDEO) 31      079     Mejoramientos      No disponible \n",
              "665181 2024 SHF (FONDEO) 31      080     Mejoramientos      No disponible \n",
              "665182 2024 SHF (FONDEO) 31      089     Mejoramientos      No disponible \n",
              "665183 2024 SHF (FONDEO) 31      089     Mejoramientos      No disponible \n",
              "665184 2024 SHF (FONDEO) 31      092     Mejoramientos      No disponible \n",
              "665185 2024 SHF (FONDEO) 31      101     Mejoramientos      No disponible \n",
              "665186 2024 SHF (FONDEO) 31      101     Mejoramientos      No disponible \n",
              "665187 2024 SHF (FONDEO) 32      000     Mejoramientos      No disponible \n",
              "665188 2024 SHF (FONDEO) 32      010     Mejoramientos      No disponible \n",
              "665189 2024 SHF (FONDEO) 32      017     Mejoramientos      No disponible \n",
              "665190 2024 SHF (FONDEO) 32      017     Mejoramientos      No disponible \n",
              "665191 2024 SHF (FONDEO) 32      024     Mejoramientos      No disponible \n",
              "665192 2024 SHF (FONDEO) 32      032     Mejoramientos      No disponible \n",
              "665193 2024 SHF (FONDEO) 32      050     Mejoramientos      No disponible \n",
              "665194 2024 SHF (FONDEO) 32      056     Mejoramientos      No disponible \n",
              "       sexo          edad          creditos monto       cvegeo\n",
              "1      Hombre        30 a 59         2         22400.00 01001 \n",
              "2      Mujer         29 o menos      1          4800.00 01001 \n",
              "3      Mujer         30 a 59         2         22400.00 01001 \n",
              "4      Hombre        30 a 59         1          6000.00 01001 \n",
              "5      Mujer         30 a 59         1          6000.00 01001 \n",
              "6      Hombre        29 o menos      1          8000.00 01001 \n",
              "7      Hombre        29 o menos      3        188995.56 01001 \n",
              "8      Hombre        30 a 59         8        503988.16 01001 \n",
              "9      Hombre        60 o más        1         62998.52 01001 \n",
              "10     Mujer         29 o menos      1         62998.52 01001 \n",
              "11     Mujer         30 a 59        14        881979.29 01001 \n",
              "12     Mujer         60 o más        1         62998.52 01001 \n",
              "13     Hombre        29 o menos     68       3886774.11 01001 \n",
              "14     Hombre        30 a 59        70       3837700.43 01001 \n",
              "15     Mujer         29 o menos     26       1353007.07 01001 \n",
              "16     Mujer         30 a 59        51       2951706.99 01001 \n",
              "17     Hombre        29 o menos      1         62998.52 01001 \n",
              "18     Hombre        30 a 59         6        377991.12 01001 \n",
              "19     Mujer         29 o menos      2        125997.04 01001 \n",
              "20     Mujer         30 a 59         1         62998.52 01001 \n",
              "21     Hombre        29 o menos      3        188995.56 01001 \n",
              "22     Hombre        30 a 59         4        259868.92 01001 \n",
              "23     Mujer         30 a 59         1         64967.23 01001 \n",
              "24     Hombre        29 o menos    389      21091120.64 01001 \n",
              "25     Hombre        30 a 59       395      22052448.38 01001 \n",
              "26     Hombre        60 o más        1         32431.99 01001 \n",
              "27     Mujer         29 o menos    232      12514432.08 01001 \n",
              "28     Mujer         30 a 59       370      20601625.98 01001 \n",
              "29     Mujer         60 o más        1         38039.41 01001 \n",
              "30     Hombre        29 o menos      2        129934.46 01001 \n",
              "⋮      ⋮             ⋮             ⋮        ⋮           ⋮     \n",
              "665165 Hombre        29 o menos     1             0     30206 \n",
              "665166 Mujer         29 o menos     1             0     30209 \n",
              "665167 Mujer         29 o menos     1             0     30212 \n",
              "665168 No disponible No disponible  0       2344122     31000 \n",
              "665169 Hombre        29 o menos     1             0     31016 \n",
              "665170 Mujer         29 o menos     1             0     31019 \n",
              "665171 Mujer         29 o menos     1             0     31032 \n",
              "665172 Hombre        29 o menos     1             0     31041 \n",
              "665173 Mujer         29 o menos     8             0     31041 \n",
              "665174 Hombre        29 o menos     3             0     31050 \n",
              "665175 Mujer         29 o menos    64             0     31050 \n",
              "665176 Mujer         29 o menos     1             0     31056 \n",
              "665177 Hombre        29 o menos     1             0     31058 \n",
              "665178 Hombre        29 o menos     1             0     31059 \n",
              "665179 Mujer         29 o menos     1             0     31075 \n",
              "665180 Mujer         29 o menos     1             0     31079 \n",
              "665181 Mujer         29 o menos     1             0     31080 \n",
              "665182 Hombre        29 o menos     1             0     31089 \n",
              "665183 Mujer         29 o menos     1             0     31089 \n",
              "665184 Mujer         29 o menos     1             0     31092 \n",
              "665185 Hombre        29 o menos     1             0     31101 \n",
              "665186 Mujer         29 o menos     7             0     31101 \n",
              "665187 No disponible No disponible  0        478670     32000 \n",
              "665188 Hombre        29 o menos     2             0     32010 \n",
              "665189 Hombre        29 o menos     3             0     32017 \n",
              "665190 Mujer         29 o menos     4             0     32017 \n",
              "665191 Hombre        29 o menos     1             0     32024 \n",
              "665192 Hombre        29 o menos     1             0     32032 \n",
              "665193 Mujer         29 o menos     1             0     32050 \n",
              "665194 Mujer         29 o menos     2             0     32056 \n",
              "       estado                         \n",
              "1      Aguascalientes                 \n",
              "2      Aguascalientes                 \n",
              "3      Aguascalientes                 \n",
              "4      Aguascalientes                 \n",
              "5      Aguascalientes                 \n",
              "6      Aguascalientes                 \n",
              "7      Aguascalientes                 \n",
              "8      Aguascalientes                 \n",
              "9      Aguascalientes                 \n",
              "10     Aguascalientes                 \n",
              "11     Aguascalientes                 \n",
              "12     Aguascalientes                 \n",
              "13     Aguascalientes                 \n",
              "14     Aguascalientes                 \n",
              "15     Aguascalientes                 \n",
              "16     Aguascalientes                 \n",
              "17     Aguascalientes                 \n",
              "18     Aguascalientes                 \n",
              "19     Aguascalientes                 \n",
              "20     Aguascalientes                 \n",
              "21     Aguascalientes                 \n",
              "22     Aguascalientes                 \n",
              "23     Aguascalientes                 \n",
              "24     Aguascalientes                 \n",
              "25     Aguascalientes                 \n",
              "26     Aguascalientes                 \n",
              "27     Aguascalientes                 \n",
              "28     Aguascalientes                 \n",
              "29     Aguascalientes                 \n",
              "30     Aguascalientes                 \n",
              "⋮      ⋮                              \n",
              "665165 Veracruz de Ignacio de la Llave\n",
              "665166 Veracruz de Ignacio de la Llave\n",
              "665167 Veracruz de Ignacio de la Llave\n",
              "665168 Yucatán                        \n",
              "665169 Yucatán                        \n",
              "665170 Yucatán                        \n",
              "665171 Yucatán                        \n",
              "665172 Yucatán                        \n",
              "665173 Yucatán                        \n",
              "665174 Yucatán                        \n",
              "665175 Yucatán                        \n",
              "665176 Yucatán                        \n",
              "665177 Yucatán                        \n",
              "665178 Yucatán                        \n",
              "665179 Yucatán                        \n",
              "665180 Yucatán                        \n",
              "665181 Yucatán                        \n",
              "665182 Yucatán                        \n",
              "665183 Yucatán                        \n",
              "665184 Yucatán                        \n",
              "665185 Yucatán                        \n",
              "665186 Yucatán                        \n",
              "665187 Zacatecas                      \n",
              "665188 Zacatecas                      \n",
              "665189 Zacatecas                      \n",
              "665190 Zacatecas                      \n",
              "665191 Zacatecas                      \n",
              "665192 Zacatecas                      \n",
              "665193 Zacatecas                      \n",
              "665194 Zacatecas                      "
            ]
          },
          "metadata": {}
        }
      ]
    },
    {
      "cell_type": "code",
      "source": [
        "unique(data$cve_ent)"
      ],
      "metadata": {
        "colab": {
          "base_uri": "https://localhost:8080/",
          "height": 52
        },
        "id": "xec99v2cUvZc",
        "outputId": "284fa7be-bd3b-4507-db9d-c3cb9d3e138d"
      },
      "id": "xec99v2cUvZc",
      "execution_count": 266,
      "outputs": [
        {
          "output_type": "display_data",
          "data": {
            "text/html": [
              "<style>\n",
              ".list-inline {list-style: none; margin:0; padding: 0}\n",
              ".list-inline>li {display: inline-block}\n",
              ".list-inline>li:not(:last-child)::after {content: \"\\00b7\"; padding: 0 .5ex}\n",
              "</style>\n",
              "<ol class=list-inline><li>'01'</li><li>'02'</li><li>'03'</li><li>'04'</li><li>'05'</li><li>'06'</li><li>'07'</li><li>'08'</li><li>'09'</li><li>'10'</li><li>'11'</li><li>'12'</li><li>'13'</li><li>'14'</li><li>'15'</li><li>'16'</li><li>'17'</li><li>'18'</li><li>'19'</li><li>'20'</li><li>'21'</li><li>'22'</li><li>'23'</li><li>'24'</li><li>'25'</li><li>'26'</li><li>'27'</li><li>'28'</li><li>'29'</li><li>'30'</li><li>'31'</li><li>'32'</li><li>'00'</li></ol>\n"
            ],
            "text/markdown": "1. '01'\n2. '02'\n3. '03'\n4. '04'\n5. '05'\n6. '06'\n7. '07'\n8. '08'\n9. '09'\n10. '10'\n11. '11'\n12. '12'\n13. '13'\n14. '14'\n15. '15'\n16. '16'\n17. '17'\n18. '18'\n19. '19'\n20. '20'\n21. '21'\n22. '22'\n23. '23'\n24. '24'\n25. '25'\n26. '26'\n27. '27'\n28. '28'\n29. '29'\n30. '30'\n31. '31'\n32. '32'\n33. '00'\n\n\n",
            "text/latex": "\\begin{enumerate*}\n\\item '01'\n\\item '02'\n\\item '03'\n\\item '04'\n\\item '05'\n\\item '06'\n\\item '07'\n\\item '08'\n\\item '09'\n\\item '10'\n\\item '11'\n\\item '12'\n\\item '13'\n\\item '14'\n\\item '15'\n\\item '16'\n\\item '17'\n\\item '18'\n\\item '19'\n\\item '20'\n\\item '21'\n\\item '22'\n\\item '23'\n\\item '24'\n\\item '25'\n\\item '26'\n\\item '27'\n\\item '28'\n\\item '29'\n\\item '30'\n\\item '31'\n\\item '32'\n\\item '00'\n\\end{enumerate*}\n",
            "text/plain": [
              " [1] \"01\" \"02\" \"03\" \"04\" \"05\" \"06\" \"07\" \"08\" \"09\" \"10\" \"11\" \"12\" \"13\" \"14\" \"15\"\n",
              "[16] \"16\" \"17\" \"18\" \"19\" \"20\" \"21\" \"22\" \"23\" \"24\" \"25\" \"26\" \"27\" \"28\" \"29\" \"30\"\n",
              "[31] \"31\" \"32\" \"00\""
            ]
          },
          "metadata": {}
        }
      ]
    },
    {
      "cell_type": "markdown",
      "source": [
        "# Mapas"
      ],
      "metadata": {
        "id": "5pdWM_68QDrV"
      },
      "id": "5pdWM_68QDrV"
    },
    {
      "cell_type": "markdown",
      "source": [
        "## General"
      ],
      "metadata": {
        "id": "nmj9mRPpdzk1"
      },
      "id": "nmj9mRPpdzk1"
    },
    {
      "cell_type": "code",
      "source": [
        "gral<-data%>%\n",
        "  filter(año!=2024)%>%\n",
        "  group_by(año,cvegeo,estado)%>%\n",
        "  summarise(acciones=sum(creditos),\n",
        "monto=sum(monto)\n",
        ")%>%\n",
        "  ungroup()\n",
        "gral"
      ],
      "metadata": {
        "colab": {
          "base_uri": "https://localhost:8080/",
          "height": 1000
        },
        "id": "KKb_ZTwKby8j",
        "outputId": "2aff14de-2257-487e-de86-f9b22533c7a9"
      },
      "id": "KKb_ZTwKby8j",
      "execution_count": 267,
      "outputs": [
        {
          "output_type": "stream",
          "name": "stderr",
          "text": [
            "\u001b[1m\u001b[22m`summarise()` has grouped output by 'año', 'cvegeo'. You can override using the\n",
            "`.groups` argument.\n"
          ]
        },
        {
          "output_type": "display_data",
          "data": {
            "text/html": [
              "<table class=\"dataframe\">\n",
              "<caption>A tibble: 20990 × 5</caption>\n",
              "<thead>\n",
              "\t<tr><th scope=col>año</th><th scope=col>cvegeo</th><th scope=col>estado</th><th scope=col>acciones</th><th scope=col>monto</th></tr>\n",
              "\t<tr><th scope=col>&lt;int&gt;</th><th scope=col>&lt;chr&gt;</th><th scope=col>&lt;chr&gt;</th><th scope=col>&lt;int&gt;</th><th scope=col>&lt;dbl&gt;</th></tr>\n",
              "</thead>\n",
              "<tbody>\n",
              "\t<tr><td>2013</td><td>00000</td><td>NA                 </td><td> 9448</td><td>1.318571e+10</td></tr>\n",
              "\t<tr><td>2013</td><td>01000</td><td>Aguascalientes     </td><td>    3</td><td>0.000000e+00</td></tr>\n",
              "\t<tr><td>2013</td><td>01001</td><td>Aguascalientes     </td><td>12719</td><td>1.835800e+09</td></tr>\n",
              "\t<tr><td>2013</td><td>01002</td><td>Aguascalientes     </td><td>  211</td><td>3.811157e+06</td></tr>\n",
              "\t<tr><td>2013</td><td>01003</td><td>Aguascalientes     </td><td>   96</td><td>8.186564e+06</td></tr>\n",
              "\t<tr><td>2013</td><td>01004</td><td>Aguascalientes     </td><td>  130</td><td>1.810920e+06</td></tr>\n",
              "\t<tr><td>2013</td><td>01005</td><td>Aguascalientes     </td><td> 1389</td><td>2.629460e+08</td></tr>\n",
              "\t<tr><td>2013</td><td>01006</td><td>Aguascalientes     </td><td>  320</td><td>5.532643e+07</td></tr>\n",
              "\t<tr><td>2013</td><td>01007</td><td>Aguascalientes     </td><td>  273</td><td>2.889642e+07</td></tr>\n",
              "\t<tr><td>2013</td><td>01008</td><td>Aguascalientes     </td><td>   23</td><td>3.189300e+04</td></tr>\n",
              "\t<tr><td>2013</td><td>01009</td><td>Aguascalientes     </td><td>   93</td><td>1.031738e+06</td></tr>\n",
              "\t<tr><td>2013</td><td>01010</td><td>Aguascalientes     </td><td>  155</td><td>5.092918e+05</td></tr>\n",
              "\t<tr><td>2013</td><td>01011</td><td>Aguascalientes     </td><td> 1493</td><td>2.580119e+08</td></tr>\n",
              "\t<tr><td>2013</td><td>02000</td><td>Baja California    </td><td>  112</td><td>0.000000e+00</td></tr>\n",
              "\t<tr><td>2013</td><td>02001</td><td>Baja California    </td><td> 5135</td><td>5.542266e+08</td></tr>\n",
              "\t<tr><td>2013</td><td>02002</td><td>Baja California    </td><td>14471</td><td>1.774594e+09</td></tr>\n",
              "\t<tr><td>2013</td><td>02003</td><td>Baja California    </td><td>  737</td><td>1.050912e+08</td></tr>\n",
              "\t<tr><td>2013</td><td>02004</td><td>Baja California    </td><td>26427</td><td>3.173855e+09</td></tr>\n",
              "\t<tr><td>2013</td><td>02005</td><td>Baja California    </td><td>  713</td><td>5.036880e+07</td></tr>\n",
              "\t<tr><td>2013</td><td>03000</td><td>Baja California Sur</td><td>    6</td><td>0.000000e+00</td></tr>\n",
              "\t<tr><td>2013</td><td>03001</td><td>Baja California Sur</td><td>  393</td><td>8.673112e+07</td></tr>\n",
              "\t<tr><td>2013</td><td>03002</td><td>Baja California Sur</td><td>  317</td><td>4.182017e+07</td></tr>\n",
              "\t<tr><td>2013</td><td>03003</td><td>Baja California Sur</td><td> 4308</td><td>8.989583e+08</td></tr>\n",
              "\t<tr><td>2013</td><td>03008</td><td>Baja California Sur</td><td> 8630</td><td>5.777440e+08</td></tr>\n",
              "\t<tr><td>2013</td><td>03009</td><td>Baja California Sur</td><td>   49</td><td>9.248371e+06</td></tr>\n",
              "\t<tr><td>2013</td><td>04000</td><td>Campeche           </td><td>   22</td><td>0.000000e+00</td></tr>\n",
              "\t<tr><td>2013</td><td>04001</td><td>Campeche           </td><td>  419</td><td>2.000642e+07</td></tr>\n",
              "\t<tr><td>2013</td><td>04002</td><td>Campeche           </td><td> 4518</td><td>3.718782e+08</td></tr>\n",
              "\t<tr><td>2013</td><td>04003</td><td>Campeche           </td><td> 1981</td><td>2.728844e+08</td></tr>\n",
              "\t<tr><td>2013</td><td>04004</td><td>Campeche           </td><td>  723</td><td>2.730351e+07</td></tr>\n",
              "\t<tr><td>⋮</td><td>⋮</td><td>⋮</td><td>⋮</td><td>⋮</td></tr>\n",
              "\t<tr><td>2023</td><td>32013</td><td>Zacatecas</td><td>   7</td><td>  2135669.9</td></tr>\n",
              "\t<tr><td>2023</td><td>32016</td><td>Zacatecas</td><td>   5</td><td>        0.0</td></tr>\n",
              "\t<tr><td>2023</td><td>32017</td><td>Zacatecas</td><td>1591</td><td>777030890.9</td></tr>\n",
              "\t<tr><td>2023</td><td>32019</td><td>Zacatecas</td><td>   1</td><td>   471457.1</td></tr>\n",
              "\t<tr><td>2023</td><td>32020</td><td>Zacatecas</td><td>  17</td><td>  9109774.8</td></tr>\n",
              "\t<tr><td>2023</td><td>32022</td><td>Zacatecas</td><td>   1</td><td>        0.0</td></tr>\n",
              "\t<tr><td>2023</td><td>32024</td><td>Zacatecas</td><td>  32</td><td> 17428069.1</td></tr>\n",
              "\t<tr><td>2023</td><td>32025</td><td>Zacatecas</td><td>   9</td><td>  1855442.5</td></tr>\n",
              "\t<tr><td>2023</td><td>32027</td><td>Zacatecas</td><td>   1</td><td>        0.0</td></tr>\n",
              "\t<tr><td>2023</td><td>32029</td><td>Zacatecas</td><td>   5</td><td>  1947811.0</td></tr>\n",
              "\t<tr><td>2023</td><td>32032</td><td>Zacatecas</td><td>  20</td><td>  2284126.3</td></tr>\n",
              "\t<tr><td>2023</td><td>32034</td><td>Zacatecas</td><td>   3</td><td>   139109.0</td></tr>\n",
              "\t<tr><td>2023</td><td>32035</td><td>Zacatecas</td><td>   4</td><td>        0.0</td></tr>\n",
              "\t<tr><td>2023</td><td>32036</td><td>Zacatecas</td><td>  37</td><td> 15391074.8</td></tr>\n",
              "\t<tr><td>2023</td><td>32037</td><td>Zacatecas</td><td>  17</td><td>   139109.0</td></tr>\n",
              "\t<tr><td>2023</td><td>32038</td><td>Zacatecas</td><td>  16</td><td>  5010075.5</td></tr>\n",
              "\t<tr><td>2023</td><td>32039</td><td>Zacatecas</td><td>  49</td><td> 12914345.0</td></tr>\n",
              "\t<tr><td>2023</td><td>32042</td><td>Zacatecas</td><td>  62</td><td>  4640362.9</td></tr>\n",
              "\t<tr><td>2023</td><td>32044</td><td>Zacatecas</td><td>   2</td><td>  1385448.5</td></tr>\n",
              "\t<tr><td>2023</td><td>32045</td><td>Zacatecas</td><td>   1</td><td>   129870.0</td></tr>\n",
              "\t<tr><td>2023</td><td>32048</td><td>Zacatecas</td><td>   3</td><td>  2062269.8</td></tr>\n",
              "\t<tr><td>2023</td><td>32049</td><td>Zacatecas</td><td>   3</td><td>  2456684.4</td></tr>\n",
              "\t<tr><td>2023</td><td>32050</td><td>Zacatecas</td><td>   6</td><td>        0.0</td></tr>\n",
              "\t<tr><td>2023</td><td>32051</td><td>Zacatecas</td><td>   8</td><td>        0.0</td></tr>\n",
              "\t<tr><td>2023</td><td>32052</td><td>Zacatecas</td><td>   6</td><td>  1810127.7</td></tr>\n",
              "\t<tr><td>2023</td><td>32053</td><td>Zacatecas</td><td>   3</td><td>   560000.0</td></tr>\n",
              "\t<tr><td>2023</td><td>32054</td><td>Zacatecas</td><td>   1</td><td>        0.0</td></tr>\n",
              "\t<tr><td>2023</td><td>32055</td><td>Zacatecas</td><td>   9</td><td>  3246647.6</td></tr>\n",
              "\t<tr><td>2023</td><td>32056</td><td>Zacatecas</td><td> 952</td><td>509465058.7</td></tr>\n",
              "\t<tr><td>2023</td><td>32057</td><td>Zacatecas</td><td>  26</td><td>    21234.0</td></tr>\n",
              "</tbody>\n",
              "</table>\n"
            ],
            "text/markdown": "\nA tibble: 20990 × 5\n\n| año &lt;int&gt; | cvegeo &lt;chr&gt; | estado &lt;chr&gt; | acciones &lt;int&gt; | monto &lt;dbl&gt; |\n|---|---|---|---|---|\n| 2013 | 00000 | NA                  |  9448 | 1.318571e+10 |\n| 2013 | 01000 | Aguascalientes      |     3 | 0.000000e+00 |\n| 2013 | 01001 | Aguascalientes      | 12719 | 1.835800e+09 |\n| 2013 | 01002 | Aguascalientes      |   211 | 3.811157e+06 |\n| 2013 | 01003 | Aguascalientes      |    96 | 8.186564e+06 |\n| 2013 | 01004 | Aguascalientes      |   130 | 1.810920e+06 |\n| 2013 | 01005 | Aguascalientes      |  1389 | 2.629460e+08 |\n| 2013 | 01006 | Aguascalientes      |   320 | 5.532643e+07 |\n| 2013 | 01007 | Aguascalientes      |   273 | 2.889642e+07 |\n| 2013 | 01008 | Aguascalientes      |    23 | 3.189300e+04 |\n| 2013 | 01009 | Aguascalientes      |    93 | 1.031738e+06 |\n| 2013 | 01010 | Aguascalientes      |   155 | 5.092918e+05 |\n| 2013 | 01011 | Aguascalientes      |  1493 | 2.580119e+08 |\n| 2013 | 02000 | Baja California     |   112 | 0.000000e+00 |\n| 2013 | 02001 | Baja California     |  5135 | 5.542266e+08 |\n| 2013 | 02002 | Baja California     | 14471 | 1.774594e+09 |\n| 2013 | 02003 | Baja California     |   737 | 1.050912e+08 |\n| 2013 | 02004 | Baja California     | 26427 | 3.173855e+09 |\n| 2013 | 02005 | Baja California     |   713 | 5.036880e+07 |\n| 2013 | 03000 | Baja California Sur |     6 | 0.000000e+00 |\n| 2013 | 03001 | Baja California Sur |   393 | 8.673112e+07 |\n| 2013 | 03002 | Baja California Sur |   317 | 4.182017e+07 |\n| 2013 | 03003 | Baja California Sur |  4308 | 8.989583e+08 |\n| 2013 | 03008 | Baja California Sur |  8630 | 5.777440e+08 |\n| 2013 | 03009 | Baja California Sur |    49 | 9.248371e+06 |\n| 2013 | 04000 | Campeche            |    22 | 0.000000e+00 |\n| 2013 | 04001 | Campeche            |   419 | 2.000642e+07 |\n| 2013 | 04002 | Campeche            |  4518 | 3.718782e+08 |\n| 2013 | 04003 | Campeche            |  1981 | 2.728844e+08 |\n| 2013 | 04004 | Campeche            |   723 | 2.730351e+07 |\n| ⋮ | ⋮ | ⋮ | ⋮ | ⋮ |\n| 2023 | 32013 | Zacatecas |    7 |   2135669.9 |\n| 2023 | 32016 | Zacatecas |    5 |         0.0 |\n| 2023 | 32017 | Zacatecas | 1591 | 777030890.9 |\n| 2023 | 32019 | Zacatecas |    1 |    471457.1 |\n| 2023 | 32020 | Zacatecas |   17 |   9109774.8 |\n| 2023 | 32022 | Zacatecas |    1 |         0.0 |\n| 2023 | 32024 | Zacatecas |   32 |  17428069.1 |\n| 2023 | 32025 | Zacatecas |    9 |   1855442.5 |\n| 2023 | 32027 | Zacatecas |    1 |         0.0 |\n| 2023 | 32029 | Zacatecas |    5 |   1947811.0 |\n| 2023 | 32032 | Zacatecas |   20 |   2284126.3 |\n| 2023 | 32034 | Zacatecas |    3 |    139109.0 |\n| 2023 | 32035 | Zacatecas |    4 |         0.0 |\n| 2023 | 32036 | Zacatecas |   37 |  15391074.8 |\n| 2023 | 32037 | Zacatecas |   17 |    139109.0 |\n| 2023 | 32038 | Zacatecas |   16 |   5010075.5 |\n| 2023 | 32039 | Zacatecas |   49 |  12914345.0 |\n| 2023 | 32042 | Zacatecas |   62 |   4640362.9 |\n| 2023 | 32044 | Zacatecas |    2 |   1385448.5 |\n| 2023 | 32045 | Zacatecas |    1 |    129870.0 |\n| 2023 | 32048 | Zacatecas |    3 |   2062269.8 |\n| 2023 | 32049 | Zacatecas |    3 |   2456684.4 |\n| 2023 | 32050 | Zacatecas |    6 |         0.0 |\n| 2023 | 32051 | Zacatecas |    8 |         0.0 |\n| 2023 | 32052 | Zacatecas |    6 |   1810127.7 |\n| 2023 | 32053 | Zacatecas |    3 |    560000.0 |\n| 2023 | 32054 | Zacatecas |    1 |         0.0 |\n| 2023 | 32055 | Zacatecas |    9 |   3246647.6 |\n| 2023 | 32056 | Zacatecas |  952 | 509465058.7 |\n| 2023 | 32057 | Zacatecas |   26 |     21234.0 |\n\n",
            "text/latex": "A tibble: 20990 × 5\n\\begin{tabular}{lllll}\n año & cvegeo & estado & acciones & monto\\\\\n <int> & <chr> & <chr> & <int> & <dbl>\\\\\n\\hline\n\t 2013 & 00000 & NA                  &  9448 & 1.318571e+10\\\\\n\t 2013 & 01000 & Aguascalientes      &     3 & 0.000000e+00\\\\\n\t 2013 & 01001 & Aguascalientes      & 12719 & 1.835800e+09\\\\\n\t 2013 & 01002 & Aguascalientes      &   211 & 3.811157e+06\\\\\n\t 2013 & 01003 & Aguascalientes      &    96 & 8.186564e+06\\\\\n\t 2013 & 01004 & Aguascalientes      &   130 & 1.810920e+06\\\\\n\t 2013 & 01005 & Aguascalientes      &  1389 & 2.629460e+08\\\\\n\t 2013 & 01006 & Aguascalientes      &   320 & 5.532643e+07\\\\\n\t 2013 & 01007 & Aguascalientes      &   273 & 2.889642e+07\\\\\n\t 2013 & 01008 & Aguascalientes      &    23 & 3.189300e+04\\\\\n\t 2013 & 01009 & Aguascalientes      &    93 & 1.031738e+06\\\\\n\t 2013 & 01010 & Aguascalientes      &   155 & 5.092918e+05\\\\\n\t 2013 & 01011 & Aguascalientes      &  1493 & 2.580119e+08\\\\\n\t 2013 & 02000 & Baja California     &   112 & 0.000000e+00\\\\\n\t 2013 & 02001 & Baja California     &  5135 & 5.542266e+08\\\\\n\t 2013 & 02002 & Baja California     & 14471 & 1.774594e+09\\\\\n\t 2013 & 02003 & Baja California     &   737 & 1.050912e+08\\\\\n\t 2013 & 02004 & Baja California     & 26427 & 3.173855e+09\\\\\n\t 2013 & 02005 & Baja California     &   713 & 5.036880e+07\\\\\n\t 2013 & 03000 & Baja California Sur &     6 & 0.000000e+00\\\\\n\t 2013 & 03001 & Baja California Sur &   393 & 8.673112e+07\\\\\n\t 2013 & 03002 & Baja California Sur &   317 & 4.182017e+07\\\\\n\t 2013 & 03003 & Baja California Sur &  4308 & 8.989583e+08\\\\\n\t 2013 & 03008 & Baja California Sur &  8630 & 5.777440e+08\\\\\n\t 2013 & 03009 & Baja California Sur &    49 & 9.248371e+06\\\\\n\t 2013 & 04000 & Campeche            &    22 & 0.000000e+00\\\\\n\t 2013 & 04001 & Campeche            &   419 & 2.000642e+07\\\\\n\t 2013 & 04002 & Campeche            &  4518 & 3.718782e+08\\\\\n\t 2013 & 04003 & Campeche            &  1981 & 2.728844e+08\\\\\n\t 2013 & 04004 & Campeche            &   723 & 2.730351e+07\\\\\n\t ⋮ & ⋮ & ⋮ & ⋮ & ⋮\\\\\n\t 2023 & 32013 & Zacatecas &    7 &   2135669.9\\\\\n\t 2023 & 32016 & Zacatecas &    5 &         0.0\\\\\n\t 2023 & 32017 & Zacatecas & 1591 & 777030890.9\\\\\n\t 2023 & 32019 & Zacatecas &    1 &    471457.1\\\\\n\t 2023 & 32020 & Zacatecas &   17 &   9109774.8\\\\\n\t 2023 & 32022 & Zacatecas &    1 &         0.0\\\\\n\t 2023 & 32024 & Zacatecas &   32 &  17428069.1\\\\\n\t 2023 & 32025 & Zacatecas &    9 &   1855442.5\\\\\n\t 2023 & 32027 & Zacatecas &    1 &         0.0\\\\\n\t 2023 & 32029 & Zacatecas &    5 &   1947811.0\\\\\n\t 2023 & 32032 & Zacatecas &   20 &   2284126.3\\\\\n\t 2023 & 32034 & Zacatecas &    3 &    139109.0\\\\\n\t 2023 & 32035 & Zacatecas &    4 &         0.0\\\\\n\t 2023 & 32036 & Zacatecas &   37 &  15391074.8\\\\\n\t 2023 & 32037 & Zacatecas &   17 &    139109.0\\\\\n\t 2023 & 32038 & Zacatecas &   16 &   5010075.5\\\\\n\t 2023 & 32039 & Zacatecas &   49 &  12914345.0\\\\\n\t 2023 & 32042 & Zacatecas &   62 &   4640362.9\\\\\n\t 2023 & 32044 & Zacatecas &    2 &   1385448.5\\\\\n\t 2023 & 32045 & Zacatecas &    1 &    129870.0\\\\\n\t 2023 & 32048 & Zacatecas &    3 &   2062269.8\\\\\n\t 2023 & 32049 & Zacatecas &    3 &   2456684.4\\\\\n\t 2023 & 32050 & Zacatecas &    6 &         0.0\\\\\n\t 2023 & 32051 & Zacatecas &    8 &         0.0\\\\\n\t 2023 & 32052 & Zacatecas &    6 &   1810127.7\\\\\n\t 2023 & 32053 & Zacatecas &    3 &    560000.0\\\\\n\t 2023 & 32054 & Zacatecas &    1 &         0.0\\\\\n\t 2023 & 32055 & Zacatecas &    9 &   3246647.6\\\\\n\t 2023 & 32056 & Zacatecas &  952 & 509465058.7\\\\\n\t 2023 & 32057 & Zacatecas &   26 &     21234.0\\\\\n\\end{tabular}\n",
            "text/plain": [
              "      año  cvegeo estado              acciones monto       \n",
              "1     2013 00000  NA                   9448    1.318571e+10\n",
              "2     2013 01000  Aguascalientes          3    0.000000e+00\n",
              "3     2013 01001  Aguascalientes      12719    1.835800e+09\n",
              "4     2013 01002  Aguascalientes        211    3.811157e+06\n",
              "5     2013 01003  Aguascalientes         96    8.186564e+06\n",
              "6     2013 01004  Aguascalientes        130    1.810920e+06\n",
              "7     2013 01005  Aguascalientes       1389    2.629460e+08\n",
              "8     2013 01006  Aguascalientes        320    5.532643e+07\n",
              "9     2013 01007  Aguascalientes        273    2.889642e+07\n",
              "10    2013 01008  Aguascalientes         23    3.189300e+04\n",
              "11    2013 01009  Aguascalientes         93    1.031738e+06\n",
              "12    2013 01010  Aguascalientes        155    5.092918e+05\n",
              "13    2013 01011  Aguascalientes       1493    2.580119e+08\n",
              "14    2013 02000  Baja California       112    0.000000e+00\n",
              "15    2013 02001  Baja California      5135    5.542266e+08\n",
              "16    2013 02002  Baja California     14471    1.774594e+09\n",
              "17    2013 02003  Baja California       737    1.050912e+08\n",
              "18    2013 02004  Baja California     26427    3.173855e+09\n",
              "19    2013 02005  Baja California       713    5.036880e+07\n",
              "20    2013 03000  Baja California Sur     6    0.000000e+00\n",
              "21    2013 03001  Baja California Sur   393    8.673112e+07\n",
              "22    2013 03002  Baja California Sur   317    4.182017e+07\n",
              "23    2013 03003  Baja California Sur  4308    8.989583e+08\n",
              "24    2013 03008  Baja California Sur  8630    5.777440e+08\n",
              "25    2013 03009  Baja California Sur    49    9.248371e+06\n",
              "26    2013 04000  Campeche               22    0.000000e+00\n",
              "27    2013 04001  Campeche              419    2.000642e+07\n",
              "28    2013 04002  Campeche             4518    3.718782e+08\n",
              "29    2013 04003  Campeche             1981    2.728844e+08\n",
              "30    2013 04004  Campeche              723    2.730351e+07\n",
              "⋮     ⋮    ⋮      ⋮                   ⋮        ⋮           \n",
              "20961 2023 32013  Zacatecas              7       2135669.9 \n",
              "20962 2023 32016  Zacatecas              5             0.0 \n",
              "20963 2023 32017  Zacatecas           1591     777030890.9 \n",
              "20964 2023 32019  Zacatecas              1        471457.1 \n",
              "20965 2023 32020  Zacatecas             17       9109774.8 \n",
              "20966 2023 32022  Zacatecas              1             0.0 \n",
              "20967 2023 32024  Zacatecas             32      17428069.1 \n",
              "20968 2023 32025  Zacatecas              9       1855442.5 \n",
              "20969 2023 32027  Zacatecas              1             0.0 \n",
              "20970 2023 32029  Zacatecas              5       1947811.0 \n",
              "20971 2023 32032  Zacatecas             20       2284126.3 \n",
              "20972 2023 32034  Zacatecas              3        139109.0 \n",
              "20973 2023 32035  Zacatecas              4             0.0 \n",
              "20974 2023 32036  Zacatecas             37      15391074.8 \n",
              "20975 2023 32037  Zacatecas             17        139109.0 \n",
              "20976 2023 32038  Zacatecas             16       5010075.5 \n",
              "20977 2023 32039  Zacatecas             49      12914345.0 \n",
              "20978 2023 32042  Zacatecas             62       4640362.9 \n",
              "20979 2023 32044  Zacatecas              2       1385448.5 \n",
              "20980 2023 32045  Zacatecas              1        129870.0 \n",
              "20981 2023 32048  Zacatecas              3       2062269.8 \n",
              "20982 2023 32049  Zacatecas              3       2456684.4 \n",
              "20983 2023 32050  Zacatecas              6             0.0 \n",
              "20984 2023 32051  Zacatecas              8             0.0 \n",
              "20985 2023 32052  Zacatecas              6       1810127.7 \n",
              "20986 2023 32053  Zacatecas              3        560000.0 \n",
              "20987 2023 32054  Zacatecas              1             0.0 \n",
              "20988 2023 32055  Zacatecas              9       3246647.6 \n",
              "20989 2023 32056  Zacatecas            952     509465058.7 \n",
              "20990 2023 32057  Zacatecas             26         21234.0 "
            ]
          },
          "metadata": {}
        }
      ]
    },
    {
      "cell_type": "code",
      "source": [
        "mapgral<-crea_mapa(gral, paleta, \"Financiamientos ONAVIS, 2013-2023\",estados)\n",
        "\n",
        "ggsave(paste0(\"map_general.png\"), plot = mapgral, width = 6, height = 4, dpi = 300)"
      ],
      "metadata": {
        "colab": {
          "base_uri": "https://localhost:8080/"
        },
        "id": "9GKvawYkb7fW",
        "outputId": "27588441-f6e3-4bdb-dafb-82cc0ebc3bb4"
      },
      "id": "9GKvawYkb7fW",
      "execution_count": 268,
      "outputs": [
        {
          "output_type": "stream",
          "name": "stderr",
          "text": [
            "\u001b[1m\u001b[22m`summarise()` has grouped output by 'periodo'. You can override using the\n",
            "`.groups` argument.\n"
          ]
        }
      ]
    },
    {
      "cell_type": "code",
      "source": [
        "mapgral"
      ],
      "metadata": {
        "colab": {
          "base_uri": "https://localhost:8080/",
          "height": 437
        },
        "id": "PASo82vjm_yf",
        "outputId": "c81b3819-de38-4dc1-f204-4beef0c446dc"
      },
      "id": "PASo82vjm_yf",
      "execution_count": 269,
      "outputs": [
        {
          "output_type": "display_data",
          "data": {
            "text/plain": [
              "plot without title"
            ],
            "image/png": "[encoded data removed]"
          },
          "metadata": {
            "image/png": {
              "width": 420,
              "height": 420
            }
          }
        }
      ]
    },
    {
      "cell_type": "markdown",
      "source": [
        "## Por organismo"
      ],
      "metadata": {
        "id": "aOxJDUIhdvLL"
      },
      "id": "aOxJDUIhdvLL"
    },
    {
      "cell_type": "code",
      "source": [
        "datamapa<-data%>%\n",
        "  filter(año!=2024)%>%\n",
        "  group_by(año,organismo,cvegeo,estado)%>%\n",
        "  summarise(acciones=sum(creditos),\n",
        "monto=sum(monto)\n",
        ")%>%\n",
        "  ungroup()"
      ],
      "metadata": {
        "colab": {
          "base_uri": "https://localhost:8080/"
        },
        "id": "a7xHt9q8QFAT",
        "outputId": "342d8a53-1e2c-4422-e977-4fe951b46acd"
      },
      "id": "a7xHt9q8QFAT",
      "execution_count": 270,
      "outputs": [
        {
          "output_type": "stream",
          "name": "stderr",
          "text": [
            "\u001b[1m\u001b[22m`summarise()` has grouped output by 'año', 'organismo', 'cvegeo'. You can\n",
            "override using the `.groups` argument.\n"
          ]
        }
      ]
    },
    {
      "cell_type": "code",
      "source": [
        "#Lista de organismos\n",
        "lista<-unique(datamapa$organismo)\n",
        "lista"
      ],
      "metadata": {
        "colab": {
          "base_uri": "https://localhost:8080/",
          "height": 34
        },
        "id": "3tJQeRRLREkI",
        "outputId": "717cf2af-75fd-4f13-99bd-46b83e216b5f"
      },
      "id": "3tJQeRRLREkI",
      "execution_count": 271,
      "outputs": [
        {
          "output_type": "display_data",
          "data": {
            "text/html": [
              "<style>\n",
              ".list-inline {list-style: none; margin:0; padding: 0}\n",
              ".list-inline>li {display: inline-block}\n",
              ".list-inline>li:not(:last-child)::after {content: \"\\00b7\"; padding: 0 .5ex}\n",
              "</style>\n",
              "<ol class=list-inline><li>'CONAVI'</li><li>'FOVISSSTE'</li><li>'INFONAVIT'</li><li>'SHF (FONDEO)'</li><li>'INSUS'</li></ol>\n"
            ],
            "text/markdown": "1. 'CONAVI'\n2. 'FOVISSSTE'\n3. 'INFONAVIT'\n4. 'SHF (FONDEO)'\n5. 'INSUS'\n\n\n",
            "text/latex": "\\begin{enumerate*}\n\\item 'CONAVI'\n\\item 'FOVISSSTE'\n\\item 'INFONAVIT'\n\\item 'SHF (FONDEO)'\n\\item 'INSUS'\n\\end{enumerate*}\n",
            "text/plain": [
              "[1] \"CONAVI\"       \"FOVISSSTE\"    \"INFONAVIT\"    \"SHF (FONDEO)\" \"INSUS\"       "
            ]
          },
          "metadata": {}
        }
      ]
    },
    {
      "cell_type": "code",
      "source": [
        "lista<-unique(datamapa$organismo)\n",
        "titulo <- \"Fin\"\n",
        "\n",
        "for (org in lista) {\n",
        "  # filtro\n",
        "  df_organismo <- datamapa %>%\n",
        "    filter(org == organismo)\n",
        "\n",
        "  # Llama a al función.\n",
        "  mapa <- crea_mapa(df_organismo, paleta, org, estados)\n",
        "\n",
        "  # Salva el mapa.\n",
        "  ggsave(paste0(\"map_\", org, \".png\"), plot = mapa, width = 11, height = 8.5, dpi = 100)\n",
        "}\n"
      ],
      "metadata": {
        "colab": {
          "base_uri": "https://localhost:8080/"
        },
        "id": "SaLcCxiySfvc",
        "outputId": "c32c4259-3eff-4c7a-893f-78ed728f9433"
      },
      "id": "SaLcCxiySfvc",
      "execution_count": 272,
      "outputs": [
        {
          "output_type": "stream",
          "name": "stderr",
          "text": [
            "\u001b[1m\u001b[22m`summarise()` has grouped output by 'periodo'. You can override using the\n",
            "`.groups` argument.\n",
            "\u001b[1m\u001b[22m`summarise()` has grouped output by 'periodo'. You can override using the\n",
            "`.groups` argument.\n",
            "\u001b[1m\u001b[22m`summarise()` has grouped output by 'periodo'. You can override using the\n",
            "`.groups` argument.\n",
            "\u001b[1m\u001b[22m`summarise()` has grouped output by 'periodo'. You can override using the\n",
            "`.groups` argument.\n",
            "\u001b[1m\u001b[22m`summarise()` has grouped output by 'periodo'. You can override using the\n",
            "`.groups` argument.\n"
          ]
        }
      ]
    },
    {
      "cell_type": "markdown",
      "source": [
        "## Evolución en el tiempo"
      ],
      "metadata": {
        "id": "tAHyIDOr76Fg"
      },
      "id": "tAHyIDOr76Fg"
    },
    {
      "cell_type": "code",
      "source": [
        "  data %>%\n",
        "    filter(año != 2024, organismo == \"INSUS\") %>%\n",
        "    group_by(año) %>%\n",
        "    summarise(acciones = sum(creditos), monto = sum(monto)) %>%\n",
        "    ungroup()"
      ],
      "metadata": {
        "colab": {
          "base_uri": "https://localhost:8080/",
          "height": 255
        },
        "id": "ggPIqJwuIqG8",
        "outputId": "036cc3d0-7610-4ad1-944e-d7fb77eeed33"
      },
      "id": "ggPIqJwuIqG8",
      "execution_count": 273,
      "outputs": [
        {
          "output_type": "display_data",
          "data": {
            "text/html": [
              "<table class=\"dataframe\">\n",
              "<caption>A tibble: 5 × 3</caption>\n",
              "<thead>\n",
              "\t<tr><th scope=col>año</th><th scope=col>acciones</th><th scope=col>monto</th></tr>\n",
              "\t<tr><th scope=col>&lt;int&gt;</th><th scope=col>&lt;int&gt;</th><th scope=col>&lt;dbl&gt;</th></tr>\n",
              "</thead>\n",
              "<tbody>\n",
              "\t<tr><td>2019</td><td>7014</td><td>82766331</td></tr>\n",
              "\t<tr><td>2020</td><td>6889</td><td>82582074</td></tr>\n",
              "\t<tr><td>2021</td><td>5497</td><td>65961065</td></tr>\n",
              "\t<tr><td>2022</td><td>5092</td><td>68729185</td></tr>\n",
              "\t<tr><td>2023</td><td>5379</td><td>72596258</td></tr>\n",
              "</tbody>\n",
              "</table>\n"
            ],
            "text/markdown": "\nA tibble: 5 × 3\n\n| año &lt;int&gt; | acciones &lt;int&gt; | monto &lt;dbl&gt; |\n|---|---|---|\n| 2019 | 7014 | 82766331 |\n| 2020 | 6889 | 82582074 |\n| 2021 | 5497 | 65961065 |\n| 2022 | 5092 | 68729185 |\n| 2023 | 5379 | 72596258 |\n\n",
            "text/latex": "A tibble: 5 × 3\n\\begin{tabular}{lll}\n año & acciones & monto\\\\\n <int> & <int> & <dbl>\\\\\n\\hline\n\t 2019 & 7014 & 82766331\\\\\n\t 2020 & 6889 & 82582074\\\\\n\t 2021 & 5497 & 65961065\\\\\n\t 2022 & 5092 & 68729185\\\\\n\t 2023 & 5379 & 72596258\\\\\n\\end{tabular}\n",
            "text/plain": [
              "  año  acciones monto   \n",
              "1 2019 7014     82766331\n",
              "2 2020 6889     82582074\n",
              "3 2021 5497     65961065\n",
              "4 2022 5092     68729185\n",
              "5 2023 5379     72596258"
            ]
          },
          "metadata": {}
        }
      ]
    },
    {
      "cell_type": "code",
      "source": [
        "  data %>%\n",
        "    filter(año != 2024, organismo == \"INSUS\") %>%\n",
        "    group_by(año) %>%\n",
        "    summarise(acciones = sum(creditos), monto = sum(monto)) %>%  # Convert monto to millions\n",
        "    ungroup()%>%\n",
        "    actualiza_precios(inpc)%>%\n",
        "    select(año,acciones,monto_actualizado)\n",
        ""
      ],
      "metadata": {
        "colab": {
          "base_uri": "https://localhost:8080/",
          "height": 255
        },
        "id": "467IVUOPPzJ0",
        "outputId": "728d5fbb-be65-471c-ae1d-d616481c6336"
      },
      "id": "467IVUOPPzJ0",
      "execution_count": 274,
      "outputs": [
        {
          "output_type": "display_data",
          "data": {
            "text/html": [
              "<table class=\"dataframe\">\n",
              "<caption>A tibble: 5 × 3</caption>\n",
              "<thead>\n",
              "\t<tr><th scope=col>año</th><th scope=col>acciones</th><th scope=col>monto_actualizado</th></tr>\n",
              "\t<tr><th scope=col>&lt;int&gt;</th><th scope=col>&lt;int&gt;</th><th scope=col>&lt;dbl&gt;</th></tr>\n",
              "</thead>\n",
              "<tbody>\n",
              "\t<tr><td>2019</td><td>7014</td><td>66235324</td></tr>\n",
              "\t<tr><td>2020</td><td>6889</td><td>68169686</td></tr>\n",
              "\t<tr><td>2021</td><td>5497</td><td>58454221</td></tr>\n",
              "\t<tr><td>2022</td><td>5092</td><td>65668451</td></tr>\n",
              "\t<tr><td>2023</td><td>5379</td><td>72596258</td></tr>\n",
              "</tbody>\n",
              "</table>\n"
            ],
            "text/markdown": "\nA tibble: 5 × 3\n\n| año &lt;int&gt; | acciones &lt;int&gt; | monto_actualizado &lt;dbl&gt; |\n|---|---|---|\n| 2019 | 7014 | 66235324 |\n| 2020 | 6889 | 68169686 |\n| 2021 | 5497 | 58454221 |\n| 2022 | 5092 | 65668451 |\n| 2023 | 5379 | 72596258 |\n\n",
            "text/latex": "A tibble: 5 × 3\n\\begin{tabular}{lll}\n año & acciones & monto\\_actualizado\\\\\n <int> & <int> & <dbl>\\\\\n\\hline\n\t 2019 & 7014 & 66235324\\\\\n\t 2020 & 6889 & 68169686\\\\\n\t 2021 & 5497 & 58454221\\\\\n\t 2022 & 5092 & 65668451\\\\\n\t 2023 & 5379 & 72596258\\\\\n\\end{tabular}\n",
            "text/plain": [
              "  año  acciones monto_actualizado\n",
              "1 2019 7014     66235324         \n",
              "2 2020 6889     68169686         \n",
              "3 2021 5497     58454221         \n",
              "4 2022 5092     65668451         \n",
              "5 2023 5379     72596258         "
            ]
          },
          "metadata": {}
        }
      ]
    },
    {
      "cell_type": "code",
      "source": [
        "library(tidyverse)\n",
        "library(ggrepel)\n",
        "\n",
        "# Función para gráfica de línea de acciones y monto\n",
        "grafevolacc <- function(df, org, variable_name) {\n",
        "  data <- df %>%\n",
        "    filter(año != 2024, organismo == org) %>%\n",
        "    group_by(año) %>%\n",
        "    summarise(acciones = sum(creditos), monto = sum(monto)) %>%\n",
        "    ungroup() %>%\n",
        "    actualiza_precios(inpc) %>%\n",
        "    mutate(monto_actualizado = monto_actualizado / 1000000) %>%\n",
        "    select(año, acciones, monto_actualizado) %>%\n",
        "    rename(monto = monto_actualizado) %>%\n",
        "    pivot_longer(cols = c(acciones, monto), names_to = \"variable\", values_to = \"value\") %>%\n",
        "    filter(variable == variable_name)\n",
        "\n",
        "  # Puntos de inicio y fin\n",
        "  first_last_points <- data %>%\n",
        "    filter(año == min(año) | año == max(año))\n",
        "\n",
        "  #\n",
        "  p <- ggplot(data, aes(x = año, y = value, group = variable)) +\n",
        "    geom_line(aes(color = variable), size = 2) +\n",
        "    geom_point(data = first_last_points, size = 3) #Puntos solo para inicio y fin\n",
        "\n",
        "  # Si es INSUS no se presenta línea horizontal\n",
        "  if (org != \"INSUS\") {\n",
        "    p <- p + geom_vline(xintercept = 2018, color = \"black\", linetype = \"dashed\", size = 1)\n",
        "  }\n",
        "\n",
        "\n",
        "  p <- p +\n",
        "    geom_text_repel(data = first_last_points, aes(label = scales::label_comma()(value)), nudge_y = 0.05 * max(data$value), size = 5) +\n",
        "    scale_color_manual(values = set_names(c(\"#235b4e\", \"#bc955c\"), c(\"acciones\", \"monto\"))) +\n",
        "    theme_minimal() +\n",
        "    labs(x = \"Año\", y = variable_name, title = paste(\"Evolución de \", variable_name, \"de \", org)) +\n",
        "    scale_x_continuous(breaks = function(x) unique(floor(pretty(x))), labels = scales::label_number(auto = TRUE)) +\n",
        "    scale_y_continuous(labels = scales::label_comma()) +\n",
        "    theme(\n",
        "      plot.title = element_text(hjust = 0, size = 20, face = \"bold\"),\n",
        "      plot.subtitle = element_text(hjust = 0, size = 15, face = \"italic\"),\n",
        "      plot.caption = element_text(hjust = 0, size = 10),\n",
        "      legend.position = \"none\",\n",
        "      axis.ticks = element_blank(),\n",
        "      axis.title = element_text(size = 15),\n",
        "      axis.text.x = element_text(size = 12, angle = 90, hjust = 0.95, vjust = 0.2),\n",
        "      axis.text.y = element_text(size = 12)\n",
        "    )\n",
        "\n",
        "  return(p)\n",
        "}\n"
      ],
      "metadata": {
        "id": "AUEralnOcd4o"
      },
      "id": "AUEralnOcd4o",
      "execution_count": 275,
      "outputs": []
    },
    {
      "cell_type": "code",
      "source": [
        "#Lista de plots\n",
        "plot_list <- list()\n",
        "\n",
        "# Loop\n",
        "for (org in lista) {\n",
        "  for (var in c(\"acciones\", \"monto\")) {\n",
        "    # Función de gráfica\n",
        "    plot <- grafevolacc(data, org, var)\n",
        "    # Añadir plot a la lista\n",
        "    plot_name <- paste(org, var, sep = \"_\")\n",
        "    plot_list[[plot_name]] <- plot\n",
        "  }\n",
        "}\n",
        "\n",
        "for (name in names(plot_list)) {\n",
        "  ggsave(paste0(name, \".png\"), plot_list[[name]], width = 10, height = 6, bg=\"white\", dpi=100)\n",
        "}\n",
        "\n",
        "# Nombres de los gráficos\n",
        "names(plot_list)"
      ],
      "metadata": {
        "colab": {
          "base_uri": "https://localhost:8080/",
          "height": 52
        },
        "id": "ydNpdnWvFmE_",
        "outputId": "ebcf6554-f595-46e8-85b1-a2874a5e571b"
      },
      "id": "ydNpdnWvFmE_",
      "execution_count": 276,
      "outputs": [
        {
          "output_type": "display_data",
          "data": {
            "text/html": [
              "<style>\n",
              ".list-inline {list-style: none; margin:0; padding: 0}\n",
              ".list-inline>li {display: inline-block}\n",
              ".list-inline>li:not(:last-child)::after {content: \"\\00b7\"; padding: 0 .5ex}\n",
              "</style>\n",
              "<ol class=list-inline><li>'CONAVI_acciones'</li><li>'CONAVI_monto'</li><li>'FOVISSSTE_acciones'</li><li>'FOVISSSTE_monto'</li><li>'INFONAVIT_acciones'</li><li>'INFONAVIT_monto'</li><li>'SHF (FONDEO)_acciones'</li><li>'SHF (FONDEO)_monto'</li><li>'INSUS_acciones'</li><li>'INSUS_monto'</li></ol>\n"
            ],
            "text/markdown": "1. 'CONAVI_acciones'\n2. 'CONAVI_monto'\n3. 'FOVISSSTE_acciones'\n4. 'FOVISSSTE_monto'\n5. 'INFONAVIT_acciones'\n6. 'INFONAVIT_monto'\n7. 'SHF (FONDEO)_acciones'\n8. 'SHF (FONDEO)_monto'\n9. 'INSUS_acciones'\n10. 'INSUS_monto'\n\n\n",
            "text/latex": "\\begin{enumerate*}\n\\item 'CONAVI\\_acciones'\n\\item 'CONAVI\\_monto'\n\\item 'FOVISSSTE\\_acciones'\n\\item 'FOVISSSTE\\_monto'\n\\item 'INFONAVIT\\_acciones'\n\\item 'INFONAVIT\\_monto'\n\\item 'SHF (FONDEO)\\_acciones'\n\\item 'SHF (FONDEO)\\_monto'\n\\item 'INSUS\\_acciones'\n\\item 'INSUS\\_monto'\n\\end{enumerate*}\n",
            "text/plain": [
              " [1] \"CONAVI_acciones\"       \"CONAVI_monto\"          \"FOVISSSTE_acciones\"   \n",
              " [4] \"FOVISSSTE_monto\"       \"INFONAVIT_acciones\"    \"INFONAVIT_monto\"      \n",
              " [7] \"SHF (FONDEO)_acciones\" \"SHF (FONDEO)_monto\"    \"INSUS_acciones\"       \n",
              "[10] \"INSUS_monto\"          "
            ]
          },
          "metadata": {}
        }
      ]
    },
    {
      "cell_type": "code",
      "source": [
        "data%>%\n",
        "  filter(organismo==\"INFONAVIT\")%>%\n",
        "  filter(año!=2024)%>%\n",
        "group_by(año)%>%\n",
        "      summarise(acciones = sum(creditos), monto = sum(monto)) %>%\n",
        "    ungroup() %>%\n",
        "    actualiza_precios(inpc) %>%\n",
        "    mutate(monto_actualizado = monto_actualizado) %>%\n",
        "    select(año, acciones, monto_actualizado)%>%\n",
        "    mutate(monto_prom=monto_actualizado/acciones)%>%\n",
        "    crea_tabla(\"Monto promedio\",\"Pesos a precios de 2023\",nota=\"\",\"monto_prom_info.png\")"
      ],
      "metadata": {
        "colab": {
          "base_uri": "https://localhost:8080/",
          "height": 491
        },
        "id": "ToOk8wNXelIq",
        "outputId": "0e12f894-3267-4e63-e776-0b0fd42f1904"
      },
      "id": "ToOk8wNXelIq",
      "execution_count": 278,
      "outputs": [
        {
          "output_type": "stream",
          "name": "stderr",
          "text": [
            "`google-chrome` and `chromium-browser` were not found. Try setting the `CHROMOTE_CHROME` environment variable to the executable of a Chromium-based browser, such as Google Chrome, Chromium or Brave or adding one of these executables to your PATH.\n",
            "\n"
          ]
        },
        {
          "output_type": "error",
          "ename": "ERROR",
          "evalue": "Error in initialize(...): Invalid path to Chrome\n",
          "traceback": [
            "Error in initialize(...): Invalid path to Chrome\nTraceback:\n",
            "1. data %>% filter(organismo == \"INFONAVIT\") %>% filter(año != \n .     2024) %>% group_by(año) %>% summarise(acciones = sum(creditos), \n .     monto = sum(monto)) %>% ungroup() %>% actualiza_precios(inpc) %>% \n .     mutate(monto_actualizado = monto_actualizado) %>% select(año, \n .     acciones, monto_actualizado) %>% mutate(monto_prom = monto_actualizado/acciones) %>% \n .     crea_tabla(\"Monto promedio\", \"Pesos a precios de 2023\", nota = \"\", \n .         \"monto_prom_info.png\")",
            "2. crea_tabla(., \"Monto promedio\", \"Pesos a precios de 2023\", nota = \"\", \n .     \"monto_prom_info.png\")",
            "3. gtsave(gt_table, filename = nombre_archivo)   # at line 53 of file <text>",
            "4. gt_save_webshot(data = data, filename, path, ...)",
            "5. webshot2::webshot(url = paste0(\"file:///\", tempfile_), file = filename, \n .     selector = selector, zoom = zoom, expand = expand, ...)",
            "6. default_chromote_object()",
            "7. set_default_chromote_object(Chromote$new())",
            "8. Chromote$new()",
            "9. initialize(...)",
            "10. Chrome$new()",
            "11. initialize(...)",
            "12. stop(\"Invalid path to Chrome\")"
          ]
        }
      ]
    }
  ],
  "metadata": {
    "colab": {
      "provenance": [],
      "include_colab_link": true
    },
    "kernelspec": {
      "display_name": "R",
      "language": "R",
      "name": "ir"
    },
    "language_info": {
      "codemirror_mode": {
        "name": "ipython",
        "version": 2
      },
      "file_extension": ".py",
      "mimetype": "text/x-python",
      "name": "python",
      "nbconvert_exporter": "python",
      "pygments_lexer": "ipython2",
      "version": "2.7.6"
    }
  },
  "nbformat": 4,
  "nbformat_minor": 5
}